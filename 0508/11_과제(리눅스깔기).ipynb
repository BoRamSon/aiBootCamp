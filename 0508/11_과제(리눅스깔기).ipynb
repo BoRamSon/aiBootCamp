{
 "cells": [
  {
   "cell_type": "markdown",
   "metadata": {},
   "source": [
    "## 1. VMware Fusion 무료 다운로드 (상업적 용도 사용 불가)\n"
   ]
  },
  {
   "cell_type": "markdown",
   "metadata": {},
   "source": [
    "## 2. 여기서 arm기반 server용 Linux를 다운로드 받아줍니다.\n",
    "https://cdimage.ubuntu.com/releases/22.04.5/release/\n"
   ]
  },
  {
   "cell_type": "markdown",
   "metadata": {},
   "source": [
    "## 3. VMware에 ISO 이미지 파일을 넣고, Create a New Virtual Machine"
   ]
  },
  {
   "cell_type": "markdown",
   "metadata": {},
   "source": [
    "## 4. server를 정상적으로 설치 완료한 후 ubuntu-desktop으로 전환하기\n",
    "\n",
    "- sudo apt update\n",
    "- sudo apt upgrade\n",
    "- sudo apt install ubuntu-desktop -y\n"
   ]
  }
 ],
 "metadata": {
  "language_info": {
   "name": "python"
  }
 },
 "nbformat": 4,
 "nbformat_minor": 2
}
