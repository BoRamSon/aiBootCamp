{
 "cells": [
  {
   "cell_type": "markdown",
   "metadata": {},
   "source": [
    "# 🟩 Comprehension\n",
    "\n",
    "스택하고 힙을 시스템이 프로세스한테 할당한다.\n",
    "스택에서는 변수 자신이 저장된다.\n",
    "\n",
    "힙에는 데이터가 저장된다. 저장된 주소를 볍ㄴ수한테 전달한다.\n",
    "\n",
    "- a(100번지) ====> (1,2,3,4,5,6,7,8,9,10)\n",
    "- b = a    # 동일한 데이터 공간을 공유한다.\n",
    "-   ㄴ b(100번지)\n",
    "- b라는 메모리 공간을 스택에 만들고 a의 값 (데이터가 있는 곳의 주소)를 복사한다. 소프트카피, 얕은카피라고 부른다.\n",
    "\n",
    "- 소프트카피의 목적\n",
    "  - 서로 같은 메모리 사용\n",
    "  - 메모리 정약\n",
    "  - 쓸데없는 복사과정 (오버헤드)\n",
    "\n",
    "- 하드카피(깊은 카피)\n",
    "  - 서로 다른 메모리 사용\n",
    "  -  직접 만들어 쓰던가 직접 구현하던가\n",
    "  - deepcopy 모듈을 사용하거나\n",
    "  - comprehension을 사용한다."
   ]
  },
  {
   "cell_type": "code",
   "execution_count": 5,
   "metadata": {},
   "outputs": [
    {
     "name": "stdout",
     "output_type": "stream",
     "text": [
      "[1, 2, -3, 4, 5, 6, 7, 8, 9, 10]\n",
      "[1, 2, -3, 4, 5, 6, 7, 8, 9, 10]\n"
     ]
    }
   ],
   "source": [
    "a = [1,2,3,4,5,6,7,8,9,10]\n",
    "\n",
    "b = a\n",
    "\n",
    "a[2] = -3 \n",
    "\n",
    "print(a)\n",
    "print(b)\n",
    "\n",
    "# 둘이 같을까? 틀릴까?\n",
    "\n"
   ]
  },
  {
   "cell_type": "code",
   "execution_count": 3,
   "metadata": {},
   "outputs": [
    {
     "name": "stdout",
     "output_type": "stream",
     "text": [
      "(1, 2, 3, 4, 5, 6, 7, 8, 9, 10)\n",
      "[1, 2, 3, 99, 5, 6, 7, 8, 9, 10]\n"
     ]
    }
   ],
   "source": [
    "# 🟡 사용자가 구현한 하드카피 상황\n",
    "\n",
    "a = (1,2,3,4,5,6,7,8,9,10)\n",
    "\n",
    "b = []\n",
    "\n",
    "for item in a:\n",
    "  b.append(item)\n",
    "\n",
    "b[3] = 99\n",
    "\n",
    "print(a)\n",
    "print(b)\n"
   ]
  },
  {
   "cell_type": "markdown",
   "metadata": {},
   "source": [
    "## 🟢 Comprehension - 하트카피 상황 - 리스트 복사 시"
   ]
  },
  {
   "cell_type": "code",
   "execution_count": 7,
   "metadata": {},
   "outputs": [
    {
     "name": "stdout",
     "output_type": "stream",
     "text": [
      "a =  (1, 2, 3, 4, 5, 6, 7, 8, 9, 10)\n",
      "c =  [1, 2, 3, 4, 5, 55, 7, 8, 9, 10]\n",
      "d =  [2, 4, 6, 8, 10, 12, 14, 16, 18, 20]\n"
     ]
    }
   ],
   "source": [
    "# 🟢 Comprehension - 하트카피 상황 - 리스트 복사 시\n",
    "# [표현식 for 항목 in 이터러블(리스트형변수) if 조건(변수명>0)]\n",
    "\n",
    "a = (1,2,3,4,5,6,7,8,9,10)\n",
    "\n",
    "c = [item for item in a]\n",
    "\n",
    "c[5] = 55\n",
    "print(\"a = \", a)\n",
    "print(\"c = \", c)\n",
    "\n",
    "\n",
    "# [표현식 for 항목 in 이터러블(리스트형변수) if 조건(변수명>0)]\n",
    "d = [item*2 for item in a]\n",
    "print('d = ', d)"
   ]
  },
  {
   "cell_type": "markdown",
   "metadata": {},
   "source": [
    "## 🟢 Comprehension - 조건도 넣을 수 있다."
   ]
  },
  {
   "cell_type": "code",
   "execution_count": 8,
   "metadata": {},
   "outputs": [
    {
     "name": "stdout",
     "output_type": "stream",
     "text": [
      "[1, 3, 5, 7, 9]\n"
     ]
    }
   ],
   "source": [
    "# [표현식 for 항목 in 이터러블(리스트형변수) if 조건(변수명>0)]\n",
    "\n",
    "oddList = [x for x in a if x % 2 == 1]\n",
    "print(oddList)"
   ]
  },
  {
   "cell_type": "code",
   "execution_count": 9,
   "metadata": {},
   "outputs": [
    {
     "name": "stdout",
     "output_type": "stream",
     "text": [
      "['rain', 'desk', 'hospital', 'building', 'java', 'python', 'cloud', 'rainbow', 'assembly', 'javascript', 'html', 'css']\n"
     ]
    }
   ],
   "source": [
    "# 🟡 comprehension의 hard copy 속성을 이용한 사용\n",
    "\n",
    "# [표현식 for 항목 in 이터러블(리스트형변수) if 조건(변수명>0)]\n",
    "\n",
    "\n",
    "# [ 표현식            # 3. 리스트에 담길 값(또는 표현식) / 대상(변수)이 최종적으로 계산되는 식\n",
    "#   for 변수 in iterable  # 1. 반복문  \n",
    "#   if 조건 ]             # 2. (선택) 필터링 조건 \n",
    "\n",
    "\n",
    "wordList = ['rain', 'desk', 'hospital', 'building', 'java', 'python', 'cloud', 'rainbow', 'assembly', 'javascript', 'html', 'css']\n",
    "\n",
    "wordList2 = [w for w in wordList]\n",
    "print(wordList2)\n",
    "\n"
   ]
  },
  {
   "cell_type": "code",
   "execution_count": 10,
   "metadata": {},
   "outputs": [
    {
     "name": "stdout",
     "output_type": "stream",
     "text": [
      "['RAIN', 'DESK', 'HOSPITAL', 'BUILDING', 'JAVA', 'PYTHON', 'CLOUD', 'RAINBOW', 'ASSEMBLY', 'JAVASCRIPT', 'HTML', 'CSS']\n"
     ]
    }
   ],
   "source": [
    "# 🟡 복사하면서 대문자로 바꾸고 싶다.\n",
    "\n",
    "wordList3 = [w.upper() for w in wordList]\n",
    "print(wordList3)\n"
   ]
  },
  {
   "cell_type": "code",
   "execution_count": 13,
   "metadata": {},
   "outputs": [
    {
     "name": "stdout",
     "output_type": "stream",
     "text": [
      "[('rain', 4), ('desk', 4), ('hospital', 8), ('building', 8), ('java', 4), ('python', 6), ('cloud', 5), ('rainbow', 7), ('assembly', 8), ('javascript', 10), ('html', 4), ('css', 3)]\n",
      "[('rain', 4, 'RAIN'), ('desk', 4, 'DESK'), ('hospital', 8, 'HOSPITAL'), ('building', 8, 'BUILDING'), ('java', 4, 'JAVA'), ('python', 6, 'PYTHON'), ('cloud', 5, 'CLOUD'), ('rainbow', 7, 'RAINBOW'), ('assembly', 8, 'ASSEMBLY'), ('javascript', 10, 'JAVASCRIPT'), ('html', 4, 'HTML'), ('css', 3, 'CSS')]\n"
     ]
    }
   ],
   "source": [
    "# 🟡 단어와 단어 길이를 짝궁으로 바꾸고 싶습니다. (만만한 tuple을 사용할 수 있다.)\n",
    "\n",
    "wordList4 = [(w,len(w)) for w in wordList]\n",
    "print(wordList4)\n",
    "\n",
    "# 🟡 tuple 내부에 더 추가해서 할 수도 있습니다.\n",
    "wordList5 = [(w,len(w), w.upper()) for w in wordList]\n",
    "print(wordList5)"
   ]
  },
  {
   "cell_type": "code",
   "execution_count": 14,
   "metadata": {},
   "outputs": [
    {
     "name": "stdout",
     "output_type": "stream",
     "text": [
      "['hospital', 'building', 'python', 'cloud', 'rainbow', 'assembly', 'javascript']\n"
     ]
    }
   ],
   "source": [
    "# 🟡 length가 5글자 이상인 것에 대한 \n",
    "\n",
    "wordList6 = [w for w in wordList if len(w)>=5]\n",
    "print(wordList6)"
   ]
  },
  {
   "cell_type": "markdown",
   "metadata": {},
   "source": [
    "\n",
    "---\n",
    "## 🟢 예제"
   ]
  },
  {
   "cell_type": "markdown",
   "metadata": {},
   "source": []
  },
  {
   "cell_type": "code",
   "execution_count": 17,
   "metadata": {},
   "outputs": [
    {
     "name": "stdout",
     "output_type": "stream",
     "text": [
      "['java']\n",
      "['rain', 'desk', 'java', 'cloud', 'html', 'css']\n"
     ]
    }
   ],
   "source": [
    "\n",
    "wordsList = ['rain', 'desk', 'hospital', 'building', 'java', 'python', 'cloud', 'rainbow', 'assembly', 'javascript', 'html', 'css']\n",
    "\n",
    "# 1. java 라는 단어를 추출한다.\n",
    "# printing_java = [w for w in wordsList if w=='java']\n",
    "printing_java = [w for w in wordsList if 'java' in w]  # \n",
    "print(printing_java)\n",
    "\n",
    "\n",
    "# 2. 단어중에 길이가 5개보다 작은 단어만 추출하시오!\n",
    "small_then_five = [w for w in wordsList if len(w)<=5]\n",
    "print(small_then_five)\n",
    "\n",
    "\n",
    "\n"
   ]
  }
 ],
 "metadata": {
  "kernelspec": {
   "display_name": "aiBootCamp",
   "language": "python",
   "name": "python3"
  },
  "language_info": {
   "codemirror_mode": {
    "name": "ipython",
    "version": 3
   },
   "file_extension": ".py",
   "mimetype": "text/x-python",
   "name": "python",
   "nbconvert_exporter": "python",
   "pygments_lexer": "ipython3",
   "version": "3.10.16"
  }
 },
 "nbformat": 4,
 "nbformat_minor": 2
}
