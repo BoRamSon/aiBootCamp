{
 "cells": [
  {
   "cell_type": "markdown",
   "metadata": {},
   "source": [
    "# 🟩 자료형 - set() \n",
    "(주로 중복제거 함수인 마냥 사용이 됩니다.)"
   ]
  },
  {
   "cell_type": "markdown",
   "metadata": {},
   "source": [
    "- 중복 x / 순서 x  \n",
    "- 파이썬의 데이터 타입 중 하나로, 중복을 허용하지 않고 순서가 없는 데이터의 집합입니다.  \n",
    "- 세트는 중괄호 {}를 사용하여 생성하며, 리스트나 튜플과는 다르게 인덱싱이 불가능합니다.  \n",
    "- 세트는 주로 중복된 데이터를 제거하거나, 집합 연산(합집합, 교집합, 차집합 등)을 수행할 때 사용됩니다.  \n",
    "\n",
    "- set의 경우에는 int, str 모두에 사용할 수 있나요???\n",
    "  - = Python의 set은 int, str 등 해시 가능(hashable)한 모든 자료형에 사용할 수 있습니다.\n",
    "  - hashable한게 뭐에요?\n",
    "    - 한 번 정해지면 값이 바뀌지 않는 객체를 말합니다.\n",
    "      - 이런 객체는 고유한 hash값이 있어서, 빠르게 찾을 수 있습니다.\n",
    "      - set이나 dict는 내부적으로 hash 값을 이용해서 값을 저장하거나 검색합니다.\n"
   ]
  },
  {
   "cell_type": "code",
   "execution_count": null,
   "metadata": {},
   "outputs": [],
   "source": [
    "# int 사용\n",
    "s1 = set([1, 2, 3, 4, 5, 6, 3, 4])\n",
    "print(s1)  # 중복 제거 → {1, 2, 3, 4, 5, 6}\n",
    "\n",
    "# str 사용\n",
    "s2 = set([\"apple\", \"banana\", \"apple\", \"orange\"])\n",
    "print(s2)  # 중복 제거 → {'apple', 'banana', 'orange'}"
   ]
  },
  {
   "cell_type": "markdown",
   "metadata": {},
   "source": [
    "## 🔥 그런데 정말 중요한 이해가 있습니다.\n",
    "\n",
    "✔️ 가능한 경우 (int, str, tuple 등)\n",
    "```python\n",
    "s = set()\n",
    "s.add(10)       # OK\n",
    "s.add(\"hello\")  # OK\n",
    "10이나 \"hello\"는 한 번 저장하면 절대 값이 안 바뀜.\n",
    "```\n",
    "\n",
    "그래서 Python은 \"이 값의 hash는 항상 같다\"고 믿고 내부 구조에 저장함.\n",
    "\n",
    "안되는 것 것은 다음과 같습니다.\n",
    "\n",
    "| 자료형       | hashable 여부 | 설명                                |\n",
    "|--------------|----------------|-------------------------------------|\n",
    "| `int`        | ✅ 가능         | 정수, 불변                          |\n",
    "| `float`      | ✅ 가능         | 실수, 불변                          |\n",
    "| `str`        | ✅ 가능         | 문자열, 불변                        |\n",
    "| `bool`       | ✅ 가능         | True, False                         |\n",
    "| `tuple`      | ✅ 조건부 가능   | 내부에 mutable 없을 때만 가능        |\n",
    "| `frozenset`  | ✅ 가능         | set의 불변 버전                     |\n",
    "| `list`       | ❌ 불가능       | 가변 자료형                         |\n",
    "| `dict`       | ❌ 불가능       | 키-값 구조, 가변                    |\n",
    "| `set`        | ❌ 불가능       | 중복 없는 집합, 가변                |\n"
   ]
  },
  {
   "cell_type": "markdown",
   "metadata": {},
   "source": [
    "### 🟡 set으로 만들어서 수정을 못하기 때문에 '형전환'을 해줘야 합니다."
   ]
  },
  {
   "cell_type": "code",
   "execution_count": 2,
   "metadata": {},
   "outputs": [
    {
     "name": "stdout",
     "output_type": "stream",
     "text": [
      "{1, 2, 3, 4, 5, 6}\n",
      "<class 'list'> [1, 2, 3, 4, 5, 6]\n",
      "{'banana', 'apple', 'orange'}\n",
      "('banana', 'apple', 'orange')\n"
     ]
    }
   ],
   "source": [
    "# int 사용\n",
    "s1 = set([1, 2, 3, 4, 5, 6, 3, 4])\n",
    "print(s1)  # 중복 제거 → {1, 2, 3, 4, 5, 6}\n",
    "\n",
    "# 형변환\n",
    "s11 = list(s1)\n",
    "print(type(s11), s11)  # 리스트로 변환 → [1, 2, 3, 4, 5, 6]\n",
    "\n",
    "# str 사용\n",
    "s2 = set([\"apple\", \"banana\", \"apple\", \"orange\"])\n",
    "print(s2)  # 중복 제거 → {'apple', 'banana', 'orange'}\n",
    "\n",
    "# 형변환\n",
    "s22 = tuple(s2)\n",
    "print(s22)  # 튜플로 변환 → ('apple', 'banana', 'orange')"
   ]
  },
  {
   "cell_type": "markdown",
   "metadata": {},
   "source": [
    "### 🟡 교집합, 차집합, 합집합"
   ]
  },
  {
   "cell_type": "code",
   "execution_count": 4,
   "metadata": {},
   "outputs": [
    {
     "name": "stdout",
     "output_type": "stream",
     "text": [
      "{1, 2, 3, 4, 5, 6}\n",
      "<class 'list'> [1, 2, 3, 4, 5, 6]\n",
      "{'orange', 'banana', 'apple'}\n",
      "('orange', 'banana', 'apple')\n",
      "-------- 교집합 --------\n",
      "{1, 2, 3, 4, 5, 6}\n",
      "-------- 합집합 --------\n",
      "{1, 2, 3, 4, 5, 6}\n",
      "-------- 차집합 --------\n",
      "set()\n"
     ]
    }
   ],
   "source": [
    "# int 사용\n",
    "s1 = set([1, 2, 3, 4, 5, 6, 3, 4])\n",
    "print(s1)  # 중복 제거 → {1, 2, 3, 4, 5, 6}\n",
    "\n",
    "# 형변환\n",
    "s11 = list(s1)\n",
    "print(type(s11), s11)  # 리스트로 변환 → [1, 2, 3, 4, 5, 6]\n",
    "\n",
    "# str 사용\n",
    "s2 = set([\"apple\", \"banana\", \"apple\", \"orange\"])\n",
    "print(s2)  # 중복 제거 → {'apple', 'banana', 'orange'}\n",
    "\n",
    "# 형변환\n",
    "s22 = tuple(s2)\n",
    "print(s22)  # 튜플로 변환 → ('apple', 'banana', 'orange')\n",
    "\n",
    "\n",
    "# ==========================================================\n",
    "\n",
    "\n",
    "# 교집합 \n",
    "print('-------- 교집합 --------')\n",
    "s3 = s1.intersection(s11)\n",
    "print(s3)\n",
    "\n",
    "# 합집합\n",
    "print('-------- 합집합 --------')\n",
    "s3 = s1.union(s11)\n",
    "print(s3)\n",
    "\n",
    "# 차집합\n",
    "print('-------- 차집합 --------')\n",
    "s3 = s1.difference(s11)\n",
    "print(s3)"
   ]
  }
 ],
 "metadata": {
  "kernelspec": {
   "display_name": "aiBootCamp",
   "language": "python",
   "name": "python3"
  },
  "language_info": {
   "codemirror_mode": {
    "name": "ipython",
    "version": 3
   },
   "file_extension": ".py",
   "mimetype": "text/x-python",
   "name": "python",
   "nbconvert_exporter": "python",
   "pygments_lexer": "ipython3",
   "version": "3.10.16"
  }
 },
 "nbformat": 4,
 "nbformat_minor": 2
}
