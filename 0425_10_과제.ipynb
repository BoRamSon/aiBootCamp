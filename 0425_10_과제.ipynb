{
 "cells": [
  {
   "cell_type": "markdown",
   "metadata": {},
   "source": [
    "## 🟢 4월 25일 수업 끝나고 과제\n",
    "숫자를 10개 입력받아서 각각 짝수와 홀수의 합과 평균을 구하는 프로그램을 작성하세요!\n"
   ]
  },
  {
   "cell_type": "code",
   "execution_count": null,
   "metadata": {},
   "outputs": [
    {
     "name": "stdout",
     "output_type": "stream",
     "text": [
      "짝수의 합 : 30\n",
      "홀수의 합 : 25\n",
      "짝수의 평균 : 6.0\n",
      "홀수의 평균 : 5.0\n"
     ]
    }
   ],
   "source": [
    "# --------------------------------------------\n",
    "# 입력\n",
    "input_list = []\n",
    "# input_list = [1,2,3,4,5,6,7,8,9,10]  # test\n",
    "\n",
    "for i in range(1,11):\n",
    "  self_input = int(input('입력해주세요 :'))\n",
    "  input_list.append(self_input)\n",
    "\n",
    "# --------------------------------------------\n",
    "# 계산\n",
    "even_num = []\n",
    "odd_num = []\n",
    "\n",
    "# print(input_list)  # test\n",
    "\n",
    "for i in input_list:\n",
    "  if i % 2 == 0:\n",
    "    even_num.append(i)\n",
    "  if i % 2 != 0:\n",
    "    odd_num.append(i)\n",
    "\n",
    "sum_even_num = sum(even_num)\n",
    "average_even_num = sum(even_num) / len(even_num)\n",
    "\n",
    "sum_odd_num = sum(odd_num)\n",
    "average_odd_num = sum(odd_num) / len(odd_num)\n",
    "\n",
    "# -----------------------------------------------\n",
    "# 출력\n",
    "print(f'짝수의 합 : {sum_even_num}')\n",
    "print(f'홀수의 합 : {sum_odd_num}')\n",
    "\n",
    "print(f'짝수의 평균 : {average_even_num}')\n",
    "print(f'홀수의 평균 : {average_odd_num}')\n"
   ]
  },
  {
   "cell_type": "markdown",
   "metadata": {},
   "source": [
    "\n",
    "---\n",
    "## 🟢 같이 풀어보기"
   ]
  },
  {
   "cell_type": "code",
   "execution_count": null,
   "metadata": {},
   "outputs": [],
   "source": [
    "# 과제가 10개를 입력받기\n",
    "# 입력 : num\n",
    "# 출력 : 짝수 합계와 홀수 합계\n",
    "# 카운트 변수 : i (0, 10)까지 카운트를 하자\n",
    "\n",
    "even_sum = 0\n",
    "odd_sum = 0\n",
    "\n",
    "for i in range(0, 10):\n",
    "  sum = int(input(\"정수를 넣으시오! : \"))\n",
    "  if sum % 2 == 0:\n",
    "    even_sum += sum\n",
    "  else:\n",
    "    odd_sum + sum\n",
    "\n",
    "print('짝수의 합계 : {}', even_sum)\n",
    "print('홀수의 합계 : {}', odd_sum)"
   ]
  }
 ],
 "metadata": {
  "kernelspec": {
   "display_name": "aiBootCamp",
   "language": "python",
   "name": "python3"
  },
  "language_info": {
   "codemirror_mode": {
    "name": "ipython",
    "version": 3
   },
   "file_extension": ".py",
   "mimetype": "text/x-python",
   "name": "python",
   "nbconvert_exporter": "python",
   "pygments_lexer": "ipython3",
   "version": "3.10.16"
  }
 },
 "nbformat": 4,
 "nbformat_minor": 2
}
