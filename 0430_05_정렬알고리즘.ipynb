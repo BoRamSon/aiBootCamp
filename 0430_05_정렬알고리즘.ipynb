{
 "cells": [
  {
   "cell_type": "markdown",
   "metadata": {},
   "source": [
    "# 🟩 정렬 알고리즘"
   ]
  },
  {
   "cell_type": "markdown",
   "metadata": {},
   "source": [
    "- 데이터베이스를 사용하는 순간 데이터베이스 쿼리에서 검색과 정렬을 지원\n",
    "- 데이터베이스를 사용하지 못하는 상황에 파일을 써야한다면 직접 구현 필요\n",
    "\n",
    "- 오름차순 정렬 = 올라가면서 정렬(작은 것부터 큰 것 순으로)\n",
    "- 내림차순 정렬 = 내려가면서 정렬(큰 것부터 작은 것 순으로)\n",
    "\n",
    "- select 정렬\n",
    "- bubble 정렬\n",
    "- quick 정렬(엄청 빠름)\n"
   ]
  },
  {
   "cell_type": "markdown",
   "metadata": {},
   "source": [
    "| 정렬 알고리즘 | 특징                                   | 시간 복잡도 (최악) |\n",
    "|---------------|----------------------------------------|--------------------|\n",
    "| 버블 정렬     | 인접한 요소를 비교하여 큰 값을 뒤로 이동 | O(n²)              |\n",
    "| 선택 정렬     | 가장 작은 값을 선택해 앞으로 이동       | O(n²)              |\n",
    "| 삽입 정렬     | 앞에서부터 정렬된 위치에 삽입           | O(n²)              |\n",
    "| 퀵 정렬       | 피벗 기준으로 분할 정렬                 | O(n²), 평균 O(n log n) |\n",
    "| 병합 정렬     | 데이터를 반으로 나누고 합쳐 정렬        | O(n log n)         |\n",
    "| 힙 정렬       | 힙 구조로 최소/최댓값 우선 추출         | O(n log n)         |\n"
   ]
  },
  {
   "cell_type": "markdown",
   "metadata": {},
   "source": [
    "\n",
    "---\n",
    "## 🟢 bubble 정렬\n",
    "- 작동 방식: 인접한 두 값을 비교해서 더 큰 값을 오른쪽으로 보냄 (큰 수가 \"버블\"처럼 끝으로 감).\n",
    "- 반복 횟수: 리스트 크기만큼 반복.\n",
    "- 장점: 구현이 매우 쉬움.\n",
    "- 단점: 매우 느림. 거의 모든 경우에 비효율적.\n",
    "\n",
    "#### 🟡 쉽게 이해하기\n",
    "numbers = [5, 3, 8, 1, 2]\n",
    "단순하게 주어진 list의 0번째 요소와 1번째 요소를 비교하고 큰 수를 뒤로 보낸다.\n",
    "그것을 1번째 요소와 2번째 요소, 2번째 요소와 3번째 요소를 지속적으로 반복하면서 오름차순 정렬이 됩니다."
   ]
  },
  {
   "cell_type": "code",
   "execution_count": null,
   "metadata": {},
   "outputs": [],
   "source": [
    "def bubble_sort(arr):\n",
    "    # 배열 길이만큼 반복\n",
    "    for i in range(len(arr)):\n",
    "        # 마지막 i개는 정렬되었으므로 비교할 필요 없음\n",
    "        for j in range(len(arr) - 1 - i):\n",
    "            # 지금 처음으로 0번째 요소와 1번째 요소를 비교하여\n",
    "            # 다음은 1번째 요소와 2번쨰 요소를 지속적으로 반복하겠죠??? \n",
    "            print(f\"----------------------\\n{arr[j]}와 {arr[j+1]}를 비교합니다.\")\n",
    "            if arr[j] > arr[j + 1]:\n",
    "                # 인접 요소가 크면 큰 것을 뒤로 보내면서 위치 바꿈 (오름차순 정렬)\n",
    "                print(f\"{arr[j]}와 {arr[j+1]}의 위치를 서로 바꿀게요!\\n----------------------\")\n",
    "                arr[j], arr[j + 1] = arr[j + 1], arr[j]\n",
    "\n",
    "# 예제\n",
    "numbers = [5, 3, 8, 1, 2]\n",
    "bubble_sort(numbers)\n",
    "print(numbers)  # [1, 2, 3, 5, 8]\n"
   ]
  },
  {
   "cell_type": "markdown",
   "metadata": {},
   "source": [
    "\n",
    "---\n",
    "## 🟢 select 정렬\n",
    "- 작동 방식: 전체 데이터 중에서 가장 작은(또는 큰) 데이터를 골라서 맨 앞(또는 맨 뒤)과 교환.\n",
    "- 비교 횟수: 항상 n²번 비교.\n",
    "- 장점: 메모리를 추가로 거의 사용하지 않음.\n",
    "- 단점: 매우 느림. 실제로 거의 사용되지 않음.\n",
    "\n",
    "\n",
    "#### 🟡 쉽게 이해하기\n",
    "0번째 요소를 두고, 해당 요소의 오른쪽으로 모든 리스트를 확인해서 0번째 요소보다 작은 수라면 바꾸고, 또 다시 찾아서 더 작은 수가 있으면 또 바꾸고, 또 다시 찾아서 더 작은 수가 있으면 또 바꾸는 방식으로 가장 작은 수가 맨 앞으로 옵니다.\n",
    "이렇게 반복하면서 오름차순으로 정렬이 됩니다."
   ]
  },
  {
   "cell_type": "code",
   "execution_count": null,
   "metadata": {},
   "outputs": [],
   "source": [
    "# chatGPT가 준 예제인데 이해가 잘 되지 않았습니다.\n",
    "\n",
    "def selection_sort(arr):\n",
    "    for i in range(len(arr)):\n",
    "        min_idx = i\n",
    "        # i 이후 요소 중 가장 작은 인덱스를 찾음\n",
    "        for j in range(i + 1, len(arr)):\n",
    "            if arr[j] < arr[min_idx]:\n",
    "                print(f\"가장 작은 값은 \")\n",
    "                min_idx = j\n",
    "                \n",
    "        # 현재 위치와 가장 작은 값을 바꿈\n",
    "        arr[i], arr[min_idx] = arr[min_idx], arr[i]\n",
    "        # 🔥🔥🔥🔥🔥 바꾸고 난 다음의 리스트가 for j 문에 적용되고 계속 실행되면서 가장 작은 값이 앞에 오게 되는 것입니다.\n",
    "\n",
    "# 예제\n",
    "numbers = [64, 25, 12, 22, 11]\n",
    "selection_sort(numbers)\n",
    "print(numbers)  # [11, 12, 22, 25, 64]\n"
   ]
  },
  {
   "cell_type": "code",
   "execution_count": null,
   "metadata": {},
   "outputs": [],
   "source": [
    "a_list = [5, 3, 2, 4, 1, 8, 7, 10]\n",
    "\n",
    "def selectSort(list):\n",
    "    b_list = [s for s in list]  # ✅ 원본 리스트를 복사 (얕은 복사 X, 하드 카피)\n",
    "                                # → 정렬 결과가 원본에 영향을 주지 않도록\n",
    "                                # b_list는 원본과 동일한 값으로 시작\n",
    "\n",
    "    for i in range(0, len(b_list) - 1):  # ✅ 맨 끝 전까지만 반복 (총 n-1회)\n",
    "                # ❓ 왜 맨 끝 전까지만 반복하는가?\n",
    "                # = 만약 길이가 5라면 마지막 자리(4번째)는 남은 하나밖에 없으니 정렬이 자동으로 확정됩니다!\n",
    "\n",
    "        for j in range(i + 1, len(b_list)):  # ✅ i번째 다음 요소를 j로 지속적으로 넣으면서 i 다음 요소부터 끝까지 비교\n",
    "            if b_list[i] > b_list[j]:        # ✅ i 위치 값보다 더 작은 값이 있으면\n",
    "            \n",
    "                # ✅ 값을 서로 바꿈 (스왑)\n",
    "                b_list[i], b_list[j] = b_list[j], b_list[i]\n",
    "                # 🔥🔥🔥🔥🔥 바꾸고 난 다음의 리스트가 for j 문에 적용되고 계속 실행되면서 가장 작은 값이 앞에 오게 되는 것입니다.\n",
    "\n",
    "    return b_list  # ✅ 정렬된 리스트를 반환\n",
    "\n",
    "\n",
    "\n",
    "\n",
    "# 함수 호출: selectSort로 정렬된 새 리스트를 반환\n",
    "b_list = selectSort(a_list)\n",
    "\n",
    "print(a_list)  # ✅ 원본 a_list 출력 → [5, 3, 2, 4, 1, 8, 7, 10]\n",
    "print(b_list)  # ✅ 정렬 결과 출력   → [1, 2, 3, 4, 5, 7, 8, 10]\n"
   ]
  },
  {
   "cell_type": "markdown",
   "metadata": {},
   "source": [
    "### 🟡 sorted 함수를 직접 제작"
   ]
  },
  {
   "cell_type": "code",
   "execution_count": null,
   "metadata": {},
   "outputs": [],
   "source": [
    "\n",
    "def mySorted(list , key , reverse = False) :\n",
    "    modify_list = [ item for item in list ]\n",
    "    if reverse == False :\n",
    "        for i in range(0,len(modify_list)-1) :\n",
    "            for j in range(i+1,len(modify_list)) :\n",
    "                if key(modify_list[i]) > key(modify_list[j]) :\n",
    "                    modify_list[i] , modify_list[j] = modify_list[j] , modify_list[i]\n",
    "        return modify_list\n",
    "    \n",
    "    elif reverse == True :\n",
    "        for i in range(0,len(modify_list)-1) :\n",
    "            for j in range(i+1,len(modify_list)) :\n",
    "                if key(modify_list[i]) < key(modify_list[j]) :\n",
    "                    modify_list[i] , modify_list[j] = modify_list[j] , modify_list[i]\n",
    "        return modify_list\n",
    "\n",
    "a = [\n",
    "    {\"name\" : \"C\" , \"age\" : 16},\n",
    "    {\"name\" : \"T\" , \"age\" : 14},\n",
    "    {\"name\" : \"A\" , \"age\" : 22},\n",
    "    {\"name\" : \"E\" , \"age\" : 17},\n",
    "    {\"name\" : \"Z\" , \"age\" : 20}\n",
    "     ]\n",
    "\n",
    "print(mySorted(a,lambda x : x[\"name\"] , True))\n",
    "print(mySorted(a,lambda x : x[\"age\"]))"
   ]
  }
 ],
 "metadata": {
  "kernelspec": {
   "display_name": "aiBootCamp",
   "language": "python",
   "name": "python3"
  },
  "language_info": {
   "codemirror_mode": {
    "name": "ipython",
    "version": 3
   },
   "file_extension": ".py",
   "mimetype": "text/x-python",
   "name": "python",
   "nbconvert_exporter": "python",
   "pygments_lexer": "ipython3",
   "version": "3.10.16"
  }
 },
 "nbformat": 4,
 "nbformat_minor": 2
}
