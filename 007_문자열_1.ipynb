{
 "cells": [
  {
   "cell_type": "markdown",
   "metadata": {},
   "source": [
    "# 🟩 index "
   ]
  },
  {
   "cell_type": "code",
   "execution_count": 2,
   "metadata": {},
   "outputs": [
    {
     "name": "stdout",
     "output_type": "stream",
     "text": [
      "Python String\n",
      "hello\n",
      "\n",
      "동해물과 백두산이 \n",
      "마르고 닳도록 \n",
      "하느님이 보우하사 \n",
      "우리나라 만세\n",
      "\n"
     ]
    }
   ],
   "source": [
    "s = 'Python String'\n",
    "s2 = 'hello'\n",
    "s3 = '''\n",
    "동해물과 백두산이 \n",
    "마르고 닳도록 \n",
    "하느님이 보우하사 \n",
    "우리나라 만세\n",
    "'''\n",
    "\n",
    "print(s)\n",
    "print(s2)\n",
    "print(s3)"
   ]
  },
  {
   "cell_type": "markdown",
   "metadata": {},
   "source": [
    "0번부터 시작해서 0,1,2,3....\n",
    "\n",
    "\n"
   ]
  },
  {
   "cell_type": "code",
   "execution_count": null,
   "metadata": {},
   "outputs": [],
   "source": [
    "print( s[0] )\n",
    "print( s[1] )\n",
    "print( s[2] )\n",
    "print( s[20] )  #IndexError Index out of range"
   ]
  },
  {
   "cell_type": "markdown",
   "metadata": {},
   "source": [
    "# 🟩 slicing\n",
    "\n",
    "[시작 : 종료 : 증감치]\n",
    "시작 위치 부터 증감치 만큼 증가 또는 감소하면서 종료보다 하나 작게 "
   ]
  },
  {
   "cell_type": "code",
   "execution_count": null,
   "metadata": {},
   "outputs": [
    {
     "name": "stdout",
     "output_type": "stream",
     "text": [
      "Pyt\n"
     ]
    }
   ],
   "source": [
    "print(s[0:3]) #0,1,2개만 출력\n",
    "print(s[0:6]) #0,1,2,3,4,5, Python, 증감치를 생략하면 +1 생각한다.\n",
    "print(s[0:6:2]) #0,1,2개만 출력\n",
    "\n",
    "print(s[7:0]) # 7번방부터 마지막까지\n",
    "\n",
    "print(s[len(s) -1:0:-1])\n",
    "print(s[len(s) -1:-1:-1]) # 파이썬 버전에 따라서 에러메세지가 뜨기도 하고, 지금처럼 아무것도 출력이 \n",
    "print(s[len(s) -1::-1]) # 정답이다.\n",
    "print(s[::-1]) # 생략하면 알아서 처리한다.  - 역순으로 출력한다"
   ]
  }
 ],
 "metadata": {
  "kernelspec": {
   "display_name": "learnAI",
   "language": "python",
   "name": "python3"
  },
  "language_info": {
   "codemirror_mode": {
    "name": "ipython",
    "version": 3
   },
   "file_extension": ".py",
   "mimetype": "text/x-python",
   "name": "python",
   "nbconvert_exporter": "python",
   "pygments_lexer": "ipython3",
   "version": "3.10.16"
  }
 },
 "nbformat": 4,
 "nbformat_minor": 2
}
