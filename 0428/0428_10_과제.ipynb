{
 "cells": [
  {
   "cell_type": "markdown",
   "metadata": {},
   "source": [
    "# 🟩 2025년 4월 28일 수업을 마치며 과제"
   ]
  },
  {
   "cell_type": "markdown",
   "metadata": {},
   "source": [
    "## 🟢 문제\n",
    "\n",
    "- 과제1. 정수를 받아가서 짝수이면 True / 짝수가 아니면 False를 반환하는 함수\n",
    "\n",
    "- 과제2. 4년마다 윤년인데,   (4로 나누어 떨어지면 윤년입니다.)\n",
    "  - 100년에 한번씩은 윤년이 아닙니다.\n",
    "  - 400년에 한번씩 윤년이다.\n",
    "  - 함수를 만들어서 연도를 주면 윤년일 경우 True / 윤년이 아니면 False를 반환해라."
   ]
  },
  {
   "cell_type": "code",
   "execution_count": 5,
   "metadata": {},
   "outputs": [
    {
     "name": "stdout",
     "output_type": "stream",
     "text": [
      "True\n",
      "False\n",
      "True\n"
     ]
    }
   ],
   "source": [
    "# 과제1. 정수를 받아가서 짝수이면 True / 짝수가 아니면 False를 반환하는 함수\n",
    "\n",
    "def even_num(num):\n",
    "  if num % 2 == 0:\n",
    "    return True\n",
    "  else:\n",
    "    return False\n",
    "\n",
    "\n",
    "print(even_num(2))\n",
    "print(even_num(3))\n",
    "print(even_num(4))"
   ]
  },
  {
   "cell_type": "code",
   "execution_count": 12,
   "metadata": {},
   "outputs": [
    {
     "name": "stdout",
     "output_type": "stream",
     "text": [
      "True\n",
      "True\n",
      "\n",
      "False\n",
      "False\n",
      "\n",
      "True\n",
      "True\n"
     ]
    }
   ],
   "source": [
    "# - 과제2. 4년마다 윤년인데,   (4로 나누어 떨어지면 윤년입니다.)\n",
    "  # - 100년에 한번씩은 윤년이 아닙니다.\n",
    "  # - 400년에 한번씩 윤년이다.\n",
    "  # - 함수를 만들어서 연도를 주면 윤년일 경우 True / 윤년이 아니면 False를 반환해라.\n",
    "\n",
    "def leap_year(year):\n",
    "  if year % 400 == 0:\n",
    "    return True\n",
    "  elif year % 100 == 0:\n",
    "    return False\n",
    "  elif year % 4 == 0:\n",
    "    return True\n",
    "  else:\n",
    "    return False\n",
    "\n",
    "print(leap_year(2024))\n",
    "print(leap_year(2028))\n",
    "print()\n",
    "print(leap_year(1900))\n",
    "print(leap_year(2100))\n",
    "print()\n",
    "print(leap_year(1600))\n",
    "print(leap_year(2000))"
   ]
  }
 ],
 "metadata": {
  "kernelspec": {
   "display_name": "aiBootCamp",
   "language": "python",
   "name": "python3"
  },
  "language_info": {
   "codemirror_mode": {
    "name": "ipython",
    "version": 3
   },
   "file_extension": ".py",
   "mimetype": "text/x-python",
   "name": "python",
   "nbconvert_exporter": "python",
   "pygments_lexer": "ipython3",
   "version": "3.10.16"
  }
 },
 "nbformat": 4,
 "nbformat_minor": 2
}
