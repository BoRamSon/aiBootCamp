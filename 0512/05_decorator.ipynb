{
 "cells": [
  {
   "cell_type": "markdown",
   "id": "700a1d7d",
   "metadata": {},
   "source": [
    "# 🟩 decorator (@)"
   ]
  },
  {
   "cell_type": "markdown",
   "id": "15774fba",
   "metadata": {},
   "source": [
    "- staticmethod에서 썼던 것과 같이 @로 시작합니다.\n",
    "- 함수의 전후 동작을 감싸서 함수 가로채기를 해서 뭔가 작업을 처리하고 원래 함수를 호출한다.\n",
    "- 데코레이터는 함수 안에 또 함수를 만든다. (중첩함수)\n",
    "- 매개변수로 받아가서 중첩함숭 안에서 받아간 함수를 호출한다.\n",
    "- 파이썬에서는 주로 웹에서 많이 사용한다.\n",
    "- 반드시 로그온을 해야 접근이 가능한 함수를 만들고 싶다.\n",
    "- 함수를 중간에 가로패서 싱행시간 체크를 할 수 있다.\n",
    "\n",
    "```python\n",
    "\n",
    "```"
   ]
  },
  {
   "cell_type": "code",
   "execution_count": null,
   "id": "fb56fd30",
   "metadata": {},
   "outputs": [
    {
     "name": "stdout",
     "output_type": "stream",
     "text": [
      "함수호출 전\n",
      "hello\n",
      "함수호출 후\n"
     ]
    }
   ],
   "source": [
    "def decorator1(func):   # 매개변수는 중첩함수 안에서 호출될 함수\n",
    "  def wrapper():\n",
    "    print('함수호출 전')\n",
    "    func()\n",
    "    print('함수호출 후')\n",
    "  return wrapper   # 중첩함수의 참조를 반환해야 한다.\n",
    "\n",
    "@decorator1   # 아래 hello 실행하면 decorator1이 납치한다. (무슨 원리인지 모르겠다.)\n",
    "def hello():\n",
    "  print('hello')\n",
    "\n",
    "hello()\n",
    "# decorator1에게 납치당함\n",
    "# -> wrapper -> func()를 통해 함수 호출\n"
   ]
  },
  {
   "cell_type": "code",
   "execution_count": null,
   "id": "08bb72d8",
   "metadata": {},
   "outputs": [
    {
     "name": "stdout",
     "output_type": "stream",
     "text": [
      "합계: 49999995000001\n",
      "sigma | 실행시간: 0.3119540214538574초\n"
     ]
    }
   ],
   "source": [
    "import time\n",
    "\n",
    "def time_decorator(callback):\n",
    "  def innerfunction():\n",
    "    start = time.time()\n",
    "    callback()\n",
    "    end = time.time()\n",
    "    print(f\"{callback.__name__} | 실행시간: {end-start}초\")\n",
    "  return innerfunction\n",
    "\n",
    "@time_decorator\n",
    "def sigma():\n",
    "  s = 1\n",
    "  for i in range (1, 10000000):\n",
    "    s += i\n",
    "  print(\"합계:\", s)\n",
    "\n",
    "sigma()\n",
    "\n"
   ]
  },
  {
   "cell_type": "code",
   "execution_count": null,
   "id": "614300b1",
   "metadata": {},
   "outputs": [
    {
     "name": "stdout",
     "output_type": "stream",
     "text": [
      "12\n"
     ]
    }
   ],
   "source": [
    "# 매개변수있고 변환값 있는 경우의 데코레이터 만들기\n",
    "# callback - 뒤에서 호출한다\n",
    "# 보통 호출자가 시스템이다. 직접 호출 못하고 데코레이터한테 사용자 함수를 전달한다.\n",
    "def mydecorator(callback):\n",
    "  # 호출될 함수가 어떤 매개변수를 갖고 있는지 알 수 없을 경우에 \n",
    "  # tuple타입 하나 dict타입 하나 \n",
    "  def wrapper(*args, **kwargs):         # ✏️ 3. (따라서 add = wrapper가 됨) add 함수가 callback으로 작동\n",
    "    result = callback(*args, **kwargs)  # ✏️ 4. 매개변수는 어떤 타입을 넣어도 상관이 없습니다.\n",
    "    return result\n",
    "  return wrapper  # ✏️ 2. mydecorator()는 wrapper()를 리턴함 / 이 순간 내부 함수 호출\n",
    "\n",
    "\n",
    "@mydecorator    # ✏️ 1. add 함수가 매개변수(callback)에 들어감 / 즉 실행 시 가로채서 자기의 매개변수에 넣습니다.\n",
    "def add(x, y):  # ✏️\n",
    "  return x + y  # ✏️\n",
    "\n",
    "print(add(5, 7))"
   ]
  },
  {
   "cell_type": "markdown",
   "id": "5fe8f268",
   "metadata": {},
   "source": [
    "\n",
    "---\n",
    "## 🟢 문제\n",
    "\n",
    "- 데코레이터 만들기 문제 - 로그 내보내기\n",
    "- @mylog\n",
    "- 함수를 sigma 매개변수 s = sigma2(10)\n",
    "- 출력\n",
    "  - [LOG] 함수이름 : sigma2\n",
    "  - [LOG] 입력값 : args = (10), kwargs = {}\n",
    "  - [LOG] 반환값 : 55\n"
   ]
  },
  {
   "cell_type": "markdown",
   "id": "7caf7060",
   "metadata": {},
   "source": [
    "#### 🟡 직접 풀어보기\n",
    "\n",
    "```python\n",
    "\n",
    "```"
   ]
  },
  {
   "cell_type": "code",
   "execution_count": null,
   "id": "5041529b",
   "metadata": {},
   "outputs": [
    {
     "name": "stdout",
     "output_type": "stream",
     "text": [
      "55\n"
     ]
    }
   ],
   "source": [
    "def mylog(callback):\n",
    "  def wrapper(*args, **kargs):\n",
    "    result = callback(*args, **kargs)\n",
    "    return result\n",
    "  return wrapper\n",
    "\n",
    "@mylog\n",
    "def sigma2(x):\n",
    "  target = 0\n",
    "  for i in range(1, x+1):\n",
    "    target += i\n",
    "  return target\n",
    "\n",
    "print(sigma2(10))\n"
   ]
  },
  {
   "cell_type": "markdown",
   "id": "401fcc4b",
   "metadata": {},
   "source": [
    "#### 🟡 같이 풀어보기\n",
    "\n",
    "```python\n",
    "\n",
    "```"
   ]
  },
  {
   "cell_type": "code",
   "execution_count": null,
   "id": "81422635",
   "metadata": {},
   "outputs": [
    {
     "name": "stdout",
     "output_type": "stream",
     "text": [
      "[LOG] 함수이름: sigma2\n",
      "[LOG] 입력값: args (100,) kargs {}\n",
      "[LOG] 반환값: 5050\n",
      "5050\n",
      "[LOG] 함수이름: sigma2\n",
      "[LOG] 입력값: args (10,) kargs {}\n",
      "[LOG] 반환값: 55\n",
      "55\n",
      "[LOG] 함수이름: sub\n",
      "[LOG] 입력값: args (3, 4) kargs {}\n",
      "[LOG] 반환값: -1\n",
      "-1\n"
     ]
    }
   ],
   "source": [
    "def mylog(callback):\n",
    "  def wrapper(*args, **kargs):\n",
    "    result = callback(*args, **kargs)\n",
    "    print(f\"[LOG] 함수이름: {callback.__name__}\")  # 🔥 이렇게 해서 callback으로 들어온 함수의 명칭을 알 수 있습니다.\n",
    "    print(f\"[LOG] 입력값: args {args} kargs {kargs}\")\n",
    "    print(f\"[LOG] 반환값: {result}\")\n",
    "    return result  # 반드시 반환을 해야한다.\n",
    "  return wrapper\n",
    "\n",
    "@mylog\n",
    "def sigma2(x):\n",
    "  target = 0\n",
    "  for i in range(1, x+1):\n",
    "    target += i\n",
    "  return target\n",
    "\n",
    "print(sigma2(100))\n",
    "print(sigma2(10))\n",
    "\n",
    "\n",
    "# 계속 쓸 수 있습니다. \n",
    "@mylog\n",
    "def sub(a, b):\n",
    "  return a-b    \n",
    "print(sub(3, 4))\n",
    "\n",
    "# 결과\n",
    "# [LOG] 함수이름: sub\n",
    "# [LOG] 입력값: args (3, 4) kargs {}\n",
    "# [LOG] 반환값: -1\n",
    "# -1\n",
    "\n",
    "# = 이렇게 반복적인 작업들에 공통적으로 들어가는 것에 decorator를 씌워놓으면 알아서 가로채가서 고정적인 정보들을 출력해주는 것을 볼 수 있습니다.\n"
   ]
  }
 ],
 "metadata": {
  "kernelspec": {
   "display_name": "aiBootCamp",
   "language": "python",
   "name": "python3"
  },
  "language_info": {
   "codemirror_mode": {
    "name": "ipython",
    "version": 3
   },
   "file_extension": ".py",
   "mimetype": "text/x-python",
   "name": "python",
   "nbconvert_exporter": "python",
   "pygments_lexer": "ipython3",
   "version": "3.10.16"
  }
 },
 "nbformat": 4,
 "nbformat_minor": 5
}
