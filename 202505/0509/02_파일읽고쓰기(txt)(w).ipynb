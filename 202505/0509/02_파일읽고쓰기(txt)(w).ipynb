{
 "cells": [
  {
   "cell_type": "markdown",
   "metadata": {},
   "source": [
    "# 🟩 파일 읽고 쓰기 / open()\n",
    "(jupyter에서 하는 것이 더 좋을 것입니다.)\n",
    "\n",
    "https://wikidocs.net/26\n",
    "\n",
    "- 컴퓨터는 모든 것을 파일로 봅니다. 키보드나 마우스도 파일입니다.\n",
    "- 회귀선을 그을 때, 계산을 통해 최적을 찾는데, 이 때 그래픽카드로 계산을 하게 되는데, 애초에 그래픽카드(hardware)부터 공부를 해야합니다."
   ]
  },
  {
   "cell_type": "markdown",
   "metadata": {},
   "source": [
    "- 파이썬의 입출력의 기본은 파일 입출력입니다.\n",
    "- c언어가 처음응로 모든 장비의 입출력 기본을 파일입출력으로 한 이후 나온 언어들은 C규칙을 따른다.\n",
    "- 파일은 여러개가 있어서 특정파일과 연결하는 작업이 필요하다.\n",
    "\n",
    "```python\n",
    "f = open(\"데이터파일.txt\", 'w') # 반환대상은 파일 객체\n",
    "f.write(\"Hello\")  # 파일 쓰기 / 출력이 파일로 된다.\n",
    "f .close()\n",
    "```\n",
    "- 첫번째 매개변수\n",
    "  - 파라미터는 경로를 포함한 파일명이다.\n",
    "\n",
    "- 두번째 매개변수 \n",
    "  - w는 write용으로 파일을 만들겠다는 의미이다.\n",
    "  - 만일 파일이 없으면 새로 만든다. 기존에 파일이 존재하면 내용을 모두 지운다.\n",
    "\n",
    "- 동일 프로세스에서 파일을 연달아서 못 열어요. 열고 닫고, 열고 닫고는 계속 할 수 있지만...\n",
    "- 프로그램이 가동되면 프로세스 \n",
    "\n",
    "\n"
   ]
  },
  {
   "cell_type": "markdown",
   "metadata": {},
   "source": [
    "## 🟢 Practice 1 - 쓰기(w)\n",
    "\n",
    "\n",
    "```python\n",
    "\n",
    "```"
   ]
  },
  {
   "cell_type": "code",
   "execution_count": null,
   "metadata": {},
   "outputs": [
    {
     "name": "stdout",
     "output_type": "stream",
     "text": [
      "False\n",
      "True\n"
     ]
    }
   ],
   "source": [
    "# newfile.py\n",
    "# project file / newfile.py 폴더와 파일을 하나 만들어주세요! (저는 안 만들게요!)\n",
    "\n",
    "\n",
    "f = open(\"데이터파일.txt\", 'w')   # 이 파일을 실행하면 해당 이름으로 파일을 생성합니다.\n",
    "print(f.closed)  # False (아직 닫히지 않음)\n",
    "\n",
    "f.write(\"Hello\")  # 출력이 파일로 된다.\n",
    "\n",
    "f.close()\n",
    "print(f.closed)  # True (닫힘)\n"
   ]
  },
  {
   "cell_type": "markdown",
   "metadata": {},
   "source": [
    "### 🟡 터미널 명령어\n",
    "- 🔥 dir을 통해서 파일을 찾을 수 있다.\n",
    "- dir *.txt -  확장자가 txt란 파일 목록만 확인\n",
    "- type 파일명 파일 내용 확인하기\n",
    "\n",
    "\n",
    "\n",
    "### 🟡 text파일과 binary파일 2종류가 있습니다.\n",
    "\n",
    "#### 🔵 text 파일 -> 저장 시 가공\n",
    "  - ..\n",
    "\n",
    "\n",
    "#### 🔵 binary 파일 -> 주기억장치 내용을 가공하지 않고 그대로 저장한다.\n",
    "  - ex) 이미지, 동영상, 엑셀 프로그램, pdf 등등\n",
    "  - 내부 구조가 일정하지 않고 다 다르기 때문에 별도의 특정 프로그램이 있어야 문서를 열 수 있습니다.\n",
    "\n",
    "\n",
    "\n",
    "### 🟡 파일 경로에 대해서\n",
    "- 파일의 경로에 Linux는 OS /(슬래시)를 사용한다.\n",
    "- 파일의 경로에 Windows는 OS \\(역슬래시, 한글폰트의 경우 원화표시)를 사용한다.\n",
    "  - c:\\temp\\test   c:탭emp탭est   특수문자로 인식하기 때문에\n",
    "  - c:\\\\temp\\\\test   r\"c:탭temp탭test\"   이렇게 역슬래시를 2개 붙여줘야합니다. \n",
    "  - rstring은 문자열 앞에 r을 붙이면 excape키(\\)를 무력화 시킨다.\n",
    "\n",
    "\n",
    "\n",
    "### 🟡 '절대적 경로' / '상대적 경로' 개념\n",
    "\n",
    "절대적 경로와 상대적 경로가 있는데요~\n",
    "\n",
    "#### 절대적 경로\n",
    "  - 루트부터 시작한다. \n",
    "  - c:\\\\test\\\\test\n",
    "  - 이건 사용하는게 위험하다. 파일이 바뀌면 위험해진다.\n",
    "  - 특별한 경우를 제외하고 잘 안쓰는 것이 좋습니다. 그래서 가급적 쓰지 말자.\n",
    "\n",
    "#### 상대적 경로\n",
    "  - 현재 프로그램이 가동중인 폴더 기준으로 \n",
    "  - . : 내 폴더\n",
    "  - .. : 부모 폴더\n",
    "  - \"./test.txt\"  와  \"test.txt\" 는 동일한 의미\n",
    "  - \"../test.txt\" 현재 이 폴더보다 하나 위로 올라가서 파일을 만들어라\n",
    "\n",
    "#### 리눅스와 윈도우의 파일명 차이\n",
    "  - 리눅스는 폴더나 파일에 공백 안되고, 대소문자를 구분한다.\n",
    "  - 파일 확장자가 의미 없음.\n",
    "  - 윈도우는 폴더나 파일에 공백가능, 대소문자 구분 안함\n",
    "  - 윈도우 OS에서 TEST -> test 로 바꿔도 보이기는 하지만 인식을 못한다.\n",
    "    - 대소문자 바꾼 것을 인식을 시키려면 TEST -> 1 -> test 이런 식으로 바꿔야 인식이 됩니다.\n",
    "  - C: D: 같은 드라이브명은 windows만 있는 것이며, 리눅스에는 없습니다.\n",
    "\n",
    "\n"
   ]
  },
  {
   "cell_type": "markdown",
   "metadata": {},
   "source": [
    "## 🟢 Practice 2 - 쓰기(w)\n",
    "\n",
    "```python\n",
    "\n",
    "```"
   ]
  },
  {
   "cell_type": "code",
   "execution_count": null,
   "metadata": {},
   "outputs": [
    {
     "name": "stdout",
     "output_type": "stream",
     "text": [
      "작업완료\n"
     ]
    }
   ],
   "source": [
    "f = open(\"데이터파일2.txt\", \"w\")    # 이 파일을 쓰기 모드(w)로 엽니다. 파일이 없으면 새로 생성되고, 있으면 기존 내용을 모두 지웁니다.\n",
    "                                 # 이때, open 함수는 파일 객체(file object)를 반환하며, 그걸 변수 f에 저장합니다.\n",
    "\n",
    "for i in range(1, 11):           # 1부터 10까지 숫자 i를 하나씩 반복합니다.\n",
    "  print(f\"i={i}\", file=f)        # print 함수는 기본적으로 화면(모니터)에 출력하지만,\n",
    "                                 # file이라는 키워드 파라미터에 파일 객체 f를 주면, \n",
    "                                 # 화면이 아니라 해당 파일(f)에 내용을 출력하게 됩니다.\n",
    "                                 # 즉, 파일에 \"i=1\", \"i=2\", ..., \"i=10\" 이 한 줄씩 저장됩니다.\n",
    "\n",
    "f.close()                        # 파일을 닫습니다. 파일을 닫지 않으면, 데이터가 완전히 저장되지 않거나 파일이 손상될 수 있습니다.\n",
    "                                 # 괄호()를 꼭 붙여서 함수를 호출해야 실제로 닫힙니다.\n",
    "                                 # print 함수의 기본 출력장치가 모니터인데 file이라는 파라미터에 \n",
    "                                 # file 객체를 주면 화면에 출력이 안되고 파일로 출력한다.\n",
    "\n",
    "print('작업완료')                  # 이 줄은 화면에 출력됩니다. 파일과는 관계없으며, 작업이 끝났다는 표시입니다.\n",
    "\n"
   ]
  },
  {
   "cell_type": "markdown",
   "metadata": {},
   "source": [
    "## 🟢 Practice 3 - 쓰기(w)\n",
    "\n",
    "```python\n",
    "\n",
    "```"
   ]
  },
  {
   "cell_type": "code",
   "execution_count": null,
   "metadata": {},
   "outputs": [
    {
     "name": "stdout",
     "output_type": "stream",
     "text": [
      "작업완료\n"
     ]
    }
   ],
   "source": [
    "f = open(\"데이터파일3.txt\",'w')\n",
    "for i in range(1, 11):\n",
    "    s = \"i = %d\" % (i)  # 파이썬 2부터 있던 코드\n",
    "    f.write(s)\n",
    "\n",
    "f.close()   \n",
    "\n",
    "print('작업완료')"
   ]
  },
  {
   "cell_type": "markdown",
   "metadata": {},
   "source": [
    "## 🟢 Practice 4 - 쓰기(w)\n",
    "\n",
    "```python\n",
    "\n",
    "```"
   ]
  },
  {
   "cell_type": "code",
   "execution_count": 9,
   "metadata": {},
   "outputs": [
    {
     "name": "stdout",
     "output_type": "stream",
     "text": [
      "작업완료\n"
     ]
    }
   ],
   "source": [
    "f = open(\"데이터파일4.txt\",'w')\n",
    "for i in range(1, 11):\n",
    "    s = \"i = %d\" % (i)  # 파이썬 2부터 있던 코드\n",
    "    f.writelines(s)\n",
    "\n",
    "f.close()   \n",
    "\n",
    "print('작업완료')"
   ]
  }
 ],
 "metadata": {
  "kernelspec": {
   "display_name": "aiBootCamp",
   "language": "python",
   "name": "python3"
  },
  "language_info": {
   "codemirror_mode": {
    "name": "ipython",
    "version": 3
   },
   "file_extension": ".py",
   "mimetype": "text/x-python",
   "name": "python",
   "nbconvert_exporter": "python",
   "pygments_lexer": "ipython3",
   "version": "3.10.16"
  }
 },
 "nbformat": 4,
 "nbformat_minor": 2
}
