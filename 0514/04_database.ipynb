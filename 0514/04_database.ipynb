{
 "cells": [
  {
   "cell_type": "markdown",
   "metadata": {},
   "source": [
    "# 🟩 Database"
   ]
  },
  {
   "cell_type": "markdown",
   "metadata": {},
   "source": [
    "### 🟡 파일 데이터 일관성 문제\n",
    "\n",
    "#### 공무원 개인정보가 있다고 가정해보자.\n",
    "부서명이 바뀌어서 부서명을 바꿔야 한다.\n",
    "\n",
    "| id | 이름 | 부서명 |\n",
    "|-----|-----|-----|\n",
    "| ste | 홍길동 | 행정부 |    \n",
    "| ... | ... | ... |   \n",
    "\n",
    "이 상태에서 부서명을 바꿔야 한다... 수백명이 있을텐데... 이걸 어떻게 바꿔야할까???\n",
    "\n",
    "| id | 이름 | 부서명 |\n",
    "|-----|-----|-----|\n",
    "| ste | 홍길동 | 행정안전부 |    \n",
    "| ... | ... | ... |    \n",
    "\n",
    "<br>\n",
    "\n",
    "### 🟡 관계형 데이터 베이스\n",
    "\n",
    "- 테이블 구조로 저장합니다.\n",
    "- 이것을 RDBMS 라고 한다.\n",
    "- oracle이 제일 유명하고 먼저 만들었으며, 대용량 데이터베이스 시스템\n",
    "\n",
    "<br>\n",
    "\n",
    "### 🟡 MySQL 다운로드\n",
    "1. https://dev.mysql.com/downloads/mysql/\n",
    "1. Windows에서 zip 파일로 다운로드 받습니다.\n",
    "  - zip 파일로 받는 이유는 설정을 모두 커스텀합니다.\n",
    "  - 나중에 여러 버전을 관리할 수 있습니다.\n",
    "1. https://dev.mysql.com/downloads/workbench/\n",
    "  - DB 서버에 접근하려면 DB클라이언트가 필요하다. (GUI가 필요한 느낌)\n",
    "\n",
    "\n",
    "\n",
    "<br>\n",
    "\n",
    "### 🟡 on the web vscode\n",
    "\n",
    "- setting okay\n",
    "\n",
    "```markdown\n",
    " *  Executing task: /nix/store/z22vf2bh22lwm36cmh5n0q0jm889ydqx-npm-install  \n",
    "\n",
    "\n",
    "added 13 packages, and audited 14 packages in 2s\n",
    "\n",
    "1 package is looking for funding\n",
    "  run `npm fund` for details\n",
    "\n",
    "found 0 vulnerabilities\n",
    " *  Terminal will be reused by tasks, press any key to close it. \n",
    "```\n"
   ]
  }
 ],
 "metadata": {
  "language_info": {
   "name": "python"
  }
 },
 "nbformat": 4,
 "nbformat_minor": 2
}
