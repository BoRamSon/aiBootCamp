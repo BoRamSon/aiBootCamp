{
 "cells": [
  {
   "cell_type": "markdown",
   "metadata": {},
   "source": [
    "# 🟩 class 더 이해하기"
   ]
  },
  {
   "cell_type": "markdown",
   "metadata": {},
   "source": [
    "- 5명이 소속된 스타트업 회사가 있다고 해보자! (class)\n",
    "  - 그 회사 안에서 돈도 주고, 사람 일도 시키고, 계산도 하고, 영업도 하고, 하는 모든 것들을 묶어놓은 것이라고 보면 됩니다.\n",
    "\n",
    "  - 사원이 1만명이 되었다... (회사가 커져서 class를 더 분리한다.)\n",
    "    - 회사를 쪼개고, 각 회사에 사람과 돈과 일을 준다.\n"
   ]
  }
 ],
 "metadata": {
  "kernelspec": {
   "display_name": "aiBootCamp",
   "language": "python",
   "name": "python3"
  },
  "language_info": {
   "name": "python",
   "version": "3.10.16"
  }
 },
 "nbformat": 4,
 "nbformat_minor": 2
}
