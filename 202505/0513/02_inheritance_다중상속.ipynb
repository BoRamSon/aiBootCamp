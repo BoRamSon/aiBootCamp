{
 "cells": [
  {
   "cell_type": "markdown",
   "id": "4ac4fcf4",
   "metadata": {},
   "source": [
    "# 🟩 Inheritance - 다중 상속"
   ]
  },
  {
   "cell_type": "markdown",
   "id": "82a9dd0d",
   "metadata": {},
   "source": [
    "- 파이썬은 다중 상속을 허용한다.\n",
    "- 클래스를 동시에 여러개 상속받는 경우 A -> B -> C \n",
    "- 중첩상속 - 모든 언어가 이 구조는 허용한다.\n",
    "-  A    B\n",
    "-    C    부모 클래스가 A,B인 경우 2개 이상의 클래스를 상속받는 경우를 다중상속 이라고 함\n",
    "\n",
    "-  A  ->  B  -->  D\n",
    "-  A  ->  C  -->  D\n",
    "\n",
    "- Java는 단일 상속만 가능!!!"
   ]
  },
  {
   "cell_type": "code",
   "execution_count": 3,
   "id": "3b93f16a",
   "metadata": {},
   "outputs": [
    {
     "name": "stdout",
     "output_type": "stream",
     "text": [
      "날 수 있다\n",
      "수영할 수 있다\n",
      "꽥꽥\n",
      "두다리로 걷는다.\n",
      "(<class '__main__.Duck'>, <class '__main__.Flyable'>, <class '__main__.Swimmable'>, <class 'object'>)\n"
     ]
    }
   ],
   "source": [
    "class Flyable:\n",
    "  def fly(self):\n",
    "    print(\"날 수 있다\")\n",
    "  \n",
    "  def walk(self):      # 🔍 test : 똑같은 함수를 만든다.\n",
    "    print('두다리로 걷는다.')\n",
    "\n",
    "class Swimmable:\n",
    "  def swim(self):\n",
    "    print(\"수영할 수 있다\")\n",
    "  \n",
    "  def walk(self):       # 🔍 test : 똑같은 함수를 만든다.\n",
    "    print('***** 두다리로 걷는다.')\n",
    "\n",
    "class Duck(Flyable, Swimmable):  # 다중상속\n",
    "  def quack(self):\n",
    "    print('꽥꽥')\n",
    "\n",
    "d1 = Duck()  # Duck 하나로만 \n",
    "d1.fly()\n",
    "d1.swim()\n",
    "d1.quack()\n",
    "\n",
    "d1.walk()   # 🔍 test : Duck의 매개변수 부모 순서가 먼저인 함수를 먼저 호출해서 가져옵니다.\n",
    "\n",
    "\n",
    "# 시스템이 제공하는 내장변수 중에 __mro__ 가 있는데. \n",
    "# __mro__ : 상속받은 관계에 따라서 작동한다. \n",
    "  # - (<class '__main__.Duck'>, <class '__main__.Flyable'>, <class '__main__.Swimmable'>, <class 'object'>)\n",
    "  # - 먼저 Duck이 최우선이라는 의미이다.\n",
    "print(Duck.__mro__)  # 클래스 멤버변수로 제공한다."
   ]
  },
  {
   "cell_type": "markdown",
   "id": "27f84c2d",
   "metadata": {},
   "source": [
    "### 🟡  \\__mro__ 내장변수\n",
    "- 시스템이 제공하는 내장변수 중에 \\__mro__ 가 있는데. \n",
    "- \\__mro__ : 상속받은 관계에 따라서 작동한다. \n",
    "   - (<class '__main__.Duck'>, <class '__main__.Flyable'>, <class '__main__.Swimmable'>, <class 'object'>)\n",
    "     - 먼저 Duck이 최우선이라는 의미이다."
   ]
  }
 ],
 "metadata": {
  "kernelspec": {
   "display_name": "aiBootCamp",
   "language": "python",
   "name": "python3"
  },
  "language_info": {
   "codemirror_mode": {
    "name": "ipython",
    "version": 3
   },
   "file_extension": ".py",
   "mimetype": "text/x-python",
   "name": "python",
   "nbconvert_exporter": "python",
   "pygments_lexer": "ipython3",
   "version": "3.10.16"
  }
 },
 "nbformat": 4,
 "nbformat_minor": 5
}
