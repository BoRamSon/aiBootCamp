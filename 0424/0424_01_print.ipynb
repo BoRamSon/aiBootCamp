{
 "cells": [
  {
   "cell_type": "markdown",
   "metadata": {},
   "source": [
    "# 🟩 AI개발자 양성 관련 배우기 시작~!!!"
   ]
  },
  {
   "cell_type": "markdown",
   "metadata": {},
   "source": [
    "\n",
    "---\n",
    " \n",
    "# 🟩 print"
   ]
  },
  {
   "cell_type": "code",
   "execution_count": null,
   "metadata": {},
   "outputs": [
    {
     "name": "stdout",
     "output_type": "stream",
     "text": [
      "출력을 하고자 할 때 사용한다. 출력이 잘 되는 것을 볼 수 있습니다.\n"
     ]
    }
   ],
   "source": [
    "print(\"출력을 하고자 할 때 사용한다. 출력이 잘 되는 것을 볼 수 있습니다.\")\n"
   ]
  },
  {
   "cell_type": "markdown",
   "metadata": {},
   "source": [
    "\n",
    "---\n",
    "\n",
    "## 🟢 print - seperator\n"
   ]
  },
  {
   "cell_type": "code",
   "execution_count": null,
   "metadata": {},
   "outputs": [
    {
     "name": "stdout",
     "output_type": "stream",
     "text": [
      "red*green*blueyellow,cyan,magent\n"
     ]
    }
   ],
   "source": [
    "# seperator를 사용해봅시다!!!!\n",
    "\n",
    "print(\"red\", \"green\", \"blue\", sep=\"*\")\n",
    "print(\"yellow\", \"cyan\", \"magent\", sep=\",\")"
   ]
  },
  {
   "cell_type": "code",
   "execution_count": null,
   "metadata": {},
   "outputs": [
    {
     "name": "stdout",
     "output_type": "stream",
     "text": [
      "red\tgreen\tblueyellow,cyan,magent\n"
     ]
    }
   ],
   "source": [
    "# 이렇게도 사용할 수 있습니다.\n",
    "\n",
    "print(\"red\", \"green\", \"blue\", sep=\"\\t\", end=\"\")\n",
    "print(\"yellow\", \"cyan\", \"magent\", sep=\",\")"
   ]
  }
 ],
 "metadata": {
  "kernelspec": {
   "display_name": "learnAI",
   "language": "python",
   "name": "python3"
  },
  "language_info": {
   "codemirror_mode": {
    "name": "ipython",
    "version": 3
   },
   "file_extension": ".py",
   "mimetype": "text/x-python",
   "name": "python",
   "nbconvert_exporter": "python",
   "pygments_lexer": "ipython3",
   "version": "3.10.16"
  }
 },
 "nbformat": 4,
 "nbformat_minor": 2
}
