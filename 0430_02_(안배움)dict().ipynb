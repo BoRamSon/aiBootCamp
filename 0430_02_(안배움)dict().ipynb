{
 "cells": [
  {
   "cell_type": "markdown",
   "metadata": {},
   "source": [
    "# 🟩 dict()"
   ]
  },
  {
   "cell_type": "markdown",
   "metadata": {},
   "source": [
    "### 🟡 정의\n",
    "\n",
    "\n",
    "\n",
    "### 🟡 형태\n",
    "```python\n",
    "dict([key_value_pairs])\n",
    "\n",
    "```\n",
    "- key_value_pairs는 (key, value) 쌍들의 iterable이어야 합니다.\n",
    "- 또는 키워드 인자 형식으로도 사용할 수 있습니다.\n",
    "\n",
    "\n",
    "\n",
    "### 🟡 특징\n",
    "\n"
   ]
  },
  {
   "cell_type": "code",
   "execution_count": null,
   "metadata": {},
   "outputs": [],
   "source": [
    "# 🟡 튜플 리스트 → 딕셔너리\n",
    "\n",
    "pairs = [('name', 'Alice'), ('age', 30)]\n",
    "d = dict(pairs)\n",
    "print(d)\n",
    "# {'name': 'Alice', 'age': 30}\n"
   ]
  },
  {
   "cell_type": "code",
   "execution_count": null,
   "metadata": {},
   "outputs": [],
   "source": [
    "# 🟡 키워드 인자 사용\n",
    "\n",
    "d = dict(name='Bob', age=25)\n",
    "print(d)\n",
    "# {'name': 'Bob', 'age': 25}\n"
   ]
  },
  {
   "cell_type": "code",
   "execution_count": null,
   "metadata": {},
   "outputs": [],
   "source": [
    "# 🟡 zip()을 활용\n",
    "\n",
    "keys = ['name', 'age']\n",
    "values = ['Charlie', 28]\n",
    "d = dict(zip(keys, values))\n",
    "print(d)\n",
    "# {'name': 'Charlie', 'age': 28}\n"
   ]
  }
 ],
 "metadata": {
  "kernelspec": {
   "display_name": "aiBootCamp",
   "language": "python",
   "name": "python3"
  },
  "language_info": {
   "name": "python",
   "version": "3.10.16"
  }
 },
 "nbformat": 4,
 "nbformat_minor": 2
}
