{
 "cells": [
  {
   "cell_type": "markdown",
   "id": "bbc3d219",
   "metadata": {},
   "source": [
    "# 🟩 5월 10일 토요일 수업 중 과제\n",
    "\n",
    "- 자유롭게 음료 자판기를 구현해보세요.\n",
    "- 오전 9시부터 오후 3시까지 완성하여 제출하기 (점심시간 1시간 제외)\n"
   ]
  },
  {
   "cell_type": "markdown",
   "id": "78df68d1",
   "metadata": {},
   "source": [
    "## <조건을 생각해보자>\n",
    "\n",
    "1. constants - 필요한 내용들을 입력한다.\n",
    "1. menu_screen - 메뉴를 보여준다.\n",
    "\n",
    "1. input_money - 돈을 넣습니다.\n",
    "   - validation: 입력값을 검증한다.\n",
    "\n",
    "1. input - 메뉴를 고른다.\n",
    "   - validation: 입력값을 검증한다.\n",
    "\n",
    "1. 메뉴의 수량을 입력한다.\n",
    "   - validation: 입력값을 검증한다.\n",
    "\n",
    "1. decided - 이용자를 데이터를 결정합니다.\n",
    "1. calculator - 넣은 금액으로 구매가 가능한지 확인합니다.\n",
    "   - 구매가 가능하다면 출력합니다.\n",
    "   - 구매가 불가능하다면 return (종료) 시켜버립니다.\n",
    "\n",
    "1. output_data - 구매 가능 시 출력합니다.\n",
    "\n",
    "---\n",
    "\n",
    "1. 구매 못하면 당연히 update는 없고 재고만 출력한다.\n",
    "1. (구매했을 때) convert된 data에 '재고'를 update 해줘야합니다.\n",
    "\n",
    "1. 추가하기: output_inventory (그냥 마지막에 현황을 파악할 수 있도록 출력해줍니다.)\n",
    "\n",
    "1. 추가하기: manager class 만들기 (실시간 업데이트는 이 곳에서 하기)\n",
    "   - 여기서 매출 관리를 합니다.\n",
    "   - 여기서 재고 관리를 합니다.\n",
    "\n"
   ]
  },
  {
   "cell_type": "markdown",
   "id": "99dab34a",
   "metadata": {},
   "source": [
    "## 📂 폴더 구성\n",
    "\n",
    "📂 **vanding_machine**  \n",
    "├── 📄 vanding_machine_stock.csv  \n",
    "├── 📄 convert_data_csv.py  \n",
    "├── 📄 vanding_machine_constants.py  \n",
    "├── 📄 vanding_machine_vaildate.py  \n",
    "├── 📄 vanding_machine_func.py  \n",
    "└── 📄 vanding_machine_manager.py  \n",
    "\n",
    "### Github Repository\n",
    "\n",
    "[Github - BoRamSon - VendingMachine](https://github.com/BoRamSon/aiBootCamp/tree/001_pyhon_basic/0510/vending_machine)\n"
   ]
  },
  {
   "cell_type": "markdown",
   "id": "2c373103",
   "metadata": {},
   "source": [
    "## 🔥 자판기 문제 회고\n",
    "\n",
    "#### 🟡 아직... 미완성 부분\n",
    "\n",
    "1. csv 파일에서 데이터를 open으로 불러왔는데... 이게(받은 변수) 계속 업데이트 되면서 지속적으로 사용이 과연 될까??? 되는 걸로 알고 있는데.. 모르겠다. 내가 한 방법이 맞을까요?\n",
    "\n",
    "   - = 확인해보니 잘 되고 있습니다.\n",
    "\n",
    "2. 재고 업데이트 해주기 (완료)\n",
    "\n",
    "3. 제품을 구매해서 현재 재고는 이만큼 남았다고 출력을 해줘야합니다. (완료)\n",
    "\n",
    "4. manager.py에서도 얼마나 판매했는지에 대한 매출이 얼마인지도 넣어봅시다. (미완성)\n",
    "\n",
    "#### 🟡 아직도 모자란 것 (미완선)\n",
    "\n",
    "- 🔥 validation에서 수량을 재고만큼 선택했는지 예외처리하는 것이 빠졌다!!!! (구현 안함)\n",
    "- 🔥 몇개를 팔았는지도 안 알려줬다. (구현 안함)\n",
    "\n",
    "#### 🟡 일단 내가 원하는만큼 완성은 시켰지만, 뒤늦게 깨달아서 고치지 않은 것\n",
    "\n",
    "- 애초에 CSV 데이터 파일을 가져와서 내가 필요한 정보들과 함께 dict list를 만들었어야 한다. 몇개를 팔았는지 update 해놓고 싶은데 그게 안된다. 지금 하기에는... 너무 손댈 곳이 많다.\n",
    "\n",
    "#### 🟡 완벽하지 않은 코딩을 끝내고 느낀 점\n",
    "\n",
    "- 순서도도 그리지 않고, 애초부터 창작으로 바로 코딩에 들어가버렸다.\n",
    "- 내 생각대로 구현을 했음에도 불구하고,\n",
    "- 내가 생각하지 못했던 기능들을 다른 사람에게 듣고 일부분을 수정하려니 수정을 못하고 놓치면서 에러 잡는데 시간을 뻈기기도 했다.\n",
    "- 다음부터는 정말 체계적으로 생각하고 코딩을 해야겠다. 지금까지 배운 것들을 총 동원해서 해야겠다.\n",
    "\n"
   ]
  },
  {
   "cell_type": "markdown",
   "id": "8771f9e6",
   "metadata": {},
   "source": [
    "\n",
    "---\n",
    "## 🟢 코드들"
   ]
  },
  {
   "cell_type": "code",
   "execution_count": null,
   "id": "9e29090b",
   "metadata": {},
   "outputs": [
    {
     "name": "stdout",
     "output_type": "stream",
     "text": [
      "[{'num': '1', 'menu': '콜라', 'price': '1000', 'stock': '10'}, {'num': '2', 'menu': '제로콜라', 'price': '1100', 'stock': '12'}, {'num': '3', 'menu': '스프라이트', 'price': '1000', 'stock': '14'}, {'num': '4', 'menu': '제로스프라이트', 'price': '1100', 'stock': '13'}, {'num': '5', 'menu': '믹스커피', 'price': '200', 'stock': '13'}, {'num': '6', 'menu': '블랙커피', 'price': '200', 'stock': '13'}, {'num': '7', 'menu': '원두커피', 'price': '2000', 'stock': '11'}, {'num': '8', 'menu': '레쓰비', 'price': '800', 'stock': '10'}, {'num': '9', 'menu': '포카리스웨트', 'price': '1000', 'stock': '9'}]\n"
     ]
    }
   ],
   "source": [
    "class ConvertData:\n",
    "  def __init__(self):\n",
    "    self.get_datas = []\n",
    "    self.data_dict_list = []\n",
    "\n",
    "  def start(self):\n",
    "    self.get_csv()\n",
    "    self.make_dict_list()\n",
    "    print(self.data_dict_list)\n",
    "    return self.data_dict_list\n",
    "\n",
    "  def get_csv(self):\n",
    "    with open('vanding_machine/vanding_machine_stock.csv', 'r') as f:\n",
    "      lines = f.readlines()\n",
    "      self.get_datas = lines\n",
    "      return lines\n",
    "    \n",
    "  def make_dict_list(self):\n",
    "    for i in self.get_datas:\n",
    "      data_dict = {}\n",
    "      seperator = i.split(',')\n",
    "      data_dict['num'] = seperator[0]\n",
    "      data_dict['menu'] = seperator[1]\n",
    "      data_dict['price'] = seperator[2]\n",
    "      data_dict['stock'] = seperator[3].strip()\n",
    "      self.data_dict_list.append(data_dict)\n",
    "    self.data_dict_list.pop(0)\n",
    "\n",
    "\n",
    "if __name__ == '__main__':\n",
    "  c = ConvertData()\n",
    "  c.start()\n"
   ]
  }
 ],
 "metadata": {
  "kernelspec": {
   "display_name": "aiBootCamp",
   "language": "python",
   "name": "python3"
  },
  "language_info": {
   "codemirror_mode": {
    "name": "ipython",
    "version": 3
   },
   "file_extension": ".py",
   "mimetype": "text/x-python",
   "name": "python",
   "nbconvert_exporter": "python",
   "pygments_lexer": "ipython3",
   "version": "3.10.16"
  }
 },
 "nbformat": 4,
 "nbformat_minor": 5
}
