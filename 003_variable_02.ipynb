{
 "cells": [
  {
   "cell_type": "markdown",
   "metadata": {},
   "source": [
    "# 🟩 변수 (variable) 02\n",
    "\n",
    "2025년 04월 24일"
   ]
  },
  {
   "cell_type": "markdown",
   "metadata": {},
   "source": [
    "### 🟡 성적처리 프로그램 만들어보기\n",
    "\n",
    "- 용어\n",
    "\n",
    "  - 스크립트\n",
    "    - 별도의 번역기가 없이 어딘가 낑겨서 돌아가는 번역기를 사용하는 언어에 붙이는  총칭\n",
    "    - 쉘스크립트, 자바스크립트, VB스크립트\n",
    "\n",
    "  - 인터프리터\n",
    "    - 한줄씩 읽어서 번역을 해서 바로 실행한다.\n",
    "    - 보통 교육용 언어에 많이 사용 되었었다.\n",
    "    - 변수나 함수 등을 미리 만들지 않고 사용이 가능하다.\n",
    "    - 에러메세지가 다양하지 않아서 시간이 가도 디버깅 속도가 빨라지지 않는다.\n",
    "    - 파이썬, 자바스크립트 등이 대표적이다.\n",
    "    - (사물 인터넷)\n",
    "\n",
    "  - 컴파일러\n",
    "    - 전체 소스를 번역해서 목적(Object)파일을 만든다.\n",
    "    - 에러가 없어야 실행이 된다.\n",
    "    - 에러메세지가 정말 다양해서 하다보면 디버깅이 빨리 된다.\n",
    "    - 변수나 함수를 미리 만들어놔야 한다."
   ]
  },
  {
   "cell_type": "code",
   "execution_count": null,
   "metadata": {},
   "outputs": [
    {
     "name": "stdout",
     "output_type": "stream",
     "text": [
      "30\n",
      "10.0\n"
     ]
    }
   ],
   "source": [
    "# 예제 - 성적 프로그램 만들기\n",
    "\n",
    "# 이름, 국어, 영어, 수학 성적을 입력 받아 총점과 평균을 구하여 출력\n",
    "\n",
    "# 입력 : 이름(문자열), 국어, 영서, 수학\n",
    "# 출력 : 이름, 총점, 평균\n",
    "\n",
    "# 입력\n",
    "student_name = input(\"이름을 입력하세요 : \")\n",
    "\n",
    "grade_list = []\n",
    "\n",
    "korean_language_grade = grade_list.append(int(input(\"국어 성적을 입력해주세요. : \")))\n",
    "print(f\"국어 점수는 {korean_language_grade}점\")\n",
    "\n",
    "english_language_grade = grade_list.append(int(input(\"영어 성적을 입력해주세요. : \")))\n",
    "print(f\"영어 점수는 {english_language_grade}점\")\n",
    "\n",
    "mathematical_grade = grade_list.append(int(input(\"수학 성적을 입력해주세요. : \")))\n",
    "print(f\"수학 점수는 {mathematical_grade}점\")\n",
    "\n",
    "# 출력\n",
    "print(student_name)\n",
    "\n",
    "grade_total = sum(grade_list)\n",
    "print(f\"총 점수는 {grade_total}점\")\n",
    "\n",
    "grade_average = sum(grade_list) / len(grade_list)\n",
    "print(f\"평균 점수는 {grade_average}점\")\n",
    "\n",
    "# 🔥 강사님이 하던 방식!!!!! (평균 하나 구하는 것도 참 어렵구나)\n",
    "grade_average2 = grade_total//3\n",
    "\n",
    "\n",
    "\n",
    "\n",
    "\n"
   ]
  },
  {
   "cell_type": "code",
   "execution_count": null,
   "metadata": {},
   "outputs": [
    {
     "ename": "TypeError",
     "evalue": "can only concatenate str (not \"int\") to str",
     "output_type": "error",
     "traceback": [
      "\u001b[0;31m---------------------------------------------------------------------------\u001b[0m",
      "\u001b[0;31mTypeError\u001b[0m                                 Traceback (most recent call last)",
      "Cell \u001b[0;32mIn[9], line 16\u001b[0m\n\u001b[1;32m     12\u001b[0m work_time \u001b[38;5;241m=\u001b[39m \u001b[38;5;28mint\u001b[39m(\u001b[38;5;28minput\u001b[39m(\u001b[38;5;124m\"\u001b[39m\u001b[38;5;124m근무 시간을 입력하세요. :\u001b[39m\u001b[38;5;124m\"\u001b[39m))\n\u001b[1;32m     14\u001b[0m week_pay \u001b[38;5;241m=\u001b[39m per_price \u001b[38;5;241m*\u001b[39m work_time\n\u001b[0;32m---> 16\u001b[0m \u001b[38;5;28mprint\u001b[39m(\u001b[43memployee_name\u001b[49m\u001b[43m \u001b[49m\u001b[38;5;241;43m+\u001b[39;49m\u001b[43m \u001b[49m\u001b[38;5;124;43m\"\u001b[39;49m\u001b[38;5;124;43m님의 급여는\u001b[39;49m\u001b[38;5;124;43m\"\u001b[39;49m\u001b[43m \u001b[49m\u001b[38;5;241;43m+\u001b[39;49m\u001b[43m \u001b[49m\u001b[43mweek_pay\u001b[49m \u001b[38;5;241m+\u001b[39m \u001b[38;5;124m\"\u001b[39m\u001b[38;5;124m입니다.\u001b[39m\u001b[38;5;124m\"\u001b[39m)\n",
      "\u001b[0;31mTypeError\u001b[0m: can only concatenate str (not \"int\") to str"
     ]
    }
   ],
   "source": [
    "# 예제 - 주급 계산 (응용)\n",
    "\n",
    "# 이름, 시간당 급여액, 근무시간\n",
    "\n",
    "# 입력 : 이름, 급여액, 근무시간\n",
    "# 출력 : 총 급여액, \n",
    "\n",
    "employee_name = input(\"이름을 입력하세요. : \")\n",
    "\n",
    "per_price = int(input(\"시간당 급여액을 입력하세요. : \"))\n",
    "\n",
    "work_time = int(input(\"근무 시간을 입력하세요. :\"))\n",
    "\n",
    "week_pay = per_price * work_time\n",
    "\n",
    "# print(employee_name + \"님의 급여는\" + week_pay + \"입니다.\")\n",
    "# week_pay에서 에러남\n",
    "# = 이유는 week_pay가 숫자이기 때문이다. 그래서 문자로 바꿔줘야 한다.\n",
    "print(employee_name + \"님의 급여는\" + str(week_pay) + \"입니다.\")\n"
   ]
  },
  {
   "cell_type": "markdown",
   "metadata": {},
   "source": [
    "### 문제 1 \n",
    "m를 km와 m로 전환하기\n",
    "2300미터는 2km와 300m 입니다.\n",
    "미터를 입력받아서 각각 km와 m로 전환해서 출력하세요.\n",
    "(힌트 - 몫 구하는 연산자 //  ,  나머지를 구하는 연산자 % )\n"
   ]
  },
  {
   "cell_type": "markdown",
   "metadata": {},
   "source": [
    "### 문제 2\n",
    "사다리꼴 면적 구하기\n",
    "사다리꼴 면적 : (윗변 + 아랫변) * 높이 / 2\n"
   ]
  },
  {
   "cell_type": "markdown",
   "metadata": {},
   "source": [
    "### 문제 3\n",
    "철수가 식료품점에 가서 과일을 샀다 사과와 배를 샀는데 사과는 1개에 5,000원이고 배는 10,000원이다.\n",
    "각각 사과와 배의 개수를 입력받아서 총 금액을 구하는 프로그램을 작성하시오."
   ]
  }
 ],
 "metadata": {
  "kernelspec": {
   "display_name": "learnAI",
   "language": "python",
   "name": "python3"
  },
  "language_info": {
   "codemirror_mode": {
    "name": "ipython",
    "version": 3
   },
   "file_extension": ".py",
   "mimetype": "text/x-python",
   "name": "python",
   "nbconvert_exporter": "python",
   "pygments_lexer": "ipython3",
   "version": "3.10.16"
  }
 },
 "nbformat": 4,
 "nbformat_minor": 2
}
