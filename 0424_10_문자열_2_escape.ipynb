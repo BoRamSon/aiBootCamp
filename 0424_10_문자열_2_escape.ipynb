{
 "cells": [
  {
   "cell_type": "code",
   "execution_count": null,
   "metadata": {},
   "outputs": [],
   "source": [
    "# 🟩 이스케이프 문자"
   ]
  },
  {
   "cell_type": "code",
   "execution_count": null,
   "metadata": {},
   "outputs": [
    {
     "name": "stdout",
     "output_type": "stream",
     "text": [
      "Ilke star.\n",
      "red star \n",
      "bluestar.\n",
      "apple\t pear\t cherry \t banana\n"
     ]
    }
   ],
   "source": [
    "# escape 문자 \\n - 줄바꿈\n",
    "s = 'Ilke star.\\nred star \\nbluestar.'\n",
    "print(s)\n",
    "s = 'apple\\t pear\\t cherry \\t banana'\n",
    "print(s)\n",
    "\n"
   ]
  },
  {
   "cell_type": "code",
   "execution_count": null,
   "metadata": {},
   "outputs": [],
   "source": [
    "# 🟡 escape 기능을 무렵화하고자 한다.\n",
    "\n",
    "# 1) // \n",
    "# 2) r = 문자열 앞에 r을 붙인다.\n"
   ]
  },
  {
   "cell_type": "code",
   "execution_count": null,
   "metadata": {},
   "outputs": [],
   "source": [
    "# 🟡 문장 안에 '나';가 있을 때 처리 방식\n",
    "\n",
    "s = 'I like \\'stepany\\'' \n",
    "s = \"I like \\\"stepany\\\"\" \n",
    "\n",
    "# 다른 언어의 경우는 문자는 '', 문자열은 \" \" 이렇게 합니다.\n"
   ]
  },
  {
   "cell_type": "code",
   "execution_count": 3,
   "metadata": {},
   "outputs": [
    {
     "name": "stdout",
     "output_type": "stream",
     "text": [
      "역슬래시(\\)는 특별한 기능을 갖는 문자이다.\n"
     ]
    }
   ],
   "source": [
    "# 🟡 때로는 역슬래시를 직접 출력하고 싶을 경우가 있을 수 있다.\n",
    "\n",
    "s = \"역슬래시(\\\\)는 특별한 기능을 갖는 문자이다.\"  # 2개를 사용해주면 1개만 나옴\n",
    "print(s)"
   ]
  }
 ],
 "metadata": {
  "kernelspec": {
   "display_name": "learnAI",
   "language": "python",
   "name": "python3"
  },
  "language_info": {
   "codemirror_mode": {
    "name": "ipython",
    "version": 3
   },
   "file_extension": ".py",
   "mimetype": "text/x-python",
   "name": "python",
   "nbconvert_exporter": "python",
   "pygments_lexer": "ipython3",
   "version": "3.10.16"
  }
 },
 "nbformat": 4,
 "nbformat_minor": 2
}
