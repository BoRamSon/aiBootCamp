{
 "cells": [
  {
   "cell_type": "markdown",
   "metadata": {},
   "source": [
    "## 🟩 문제"
   ]
  },
  {
   "cell_type": "markdown",
   "metadata": {},
   "source": [
    "\n",
    "---\n",
    "## 🟢 문제 2\n",
    "\n",
    "- 리스트를 받아가서 리스트 안에 중복된 데이터를 제거하고 중복되지 않는 데이터 리스트만 반환하는 함수 만들기\n",
    "\n",
    "```python\n",
    "\n",
    "```"
   ]
  },
  {
   "cell_type": "code",
   "execution_count": null,
   "metadata": {},
   "outputs": [
    {
     "data": {
      "text/plain": [
       "{1, 2, 3, 4, 5, 6, 7, 8, 9, 12, 18, 22}"
      ]
     },
     "execution_count": 3,
     "metadata": {},
     "output_type": "execute_result"
    }
   ],
   "source": [
    "test_list = [1,2,2,3,3,4,4,5,5,6,6,7,7,8,8,9,9,12,12,18,18,22,22]\n",
    "\n",
    "def remove_duplicate():\n",
    "  return set(test_list)\n",
    "\n",
    "remove_duplicate()\n"
   ]
  },
  {
   "cell_type": "markdown",
   "metadata": {},
   "source": [
    "#### 혼자 하기 실패"
   ]
  },
  {
   "cell_type": "code",
   "execution_count": null,
   "metadata": {},
   "outputs": [
    {
     "data": {
      "text/plain": [
       "[0, 1, 2, 2, 3, 3, 4, 4]"
      ]
     },
     "execution_count": 1,
     "metadata": {},
     "output_type": "execute_result"
    }
   ],
   "source": [
    "# 실패"
   ]
  },
  {
   "cell_type": "markdown",
   "metadata": {},
   "source": [
    "### 🟡 같이 풀어보기 (in을 쓰면 이렇게 간단하게 할 수 있었습니다.)"
   ]
  },
  {
   "cell_type": "code",
   "execution_count": null,
   "metadata": {},
   "outputs": [],
   "source": [
    "def duplicate_remove(aList):\n",
    "    temp = []\n",
    "    for i in aList:\n",
    "        if i not in temp:  # temp안에 존재안할 때\n",
    "            temp.append(i)\n",
    "    return temp     \n",
    "\n",
    "a = [4,3,5,8,1,2,56,4,1,2,8]\n",
    "b = duplicate_remove(a)\n",
    "print(b)"
   ]
  },
  {
   "cell_type": "markdown",
   "metadata": {},
   "source": [
    "\n",
    "---\n",
    "## 🟢 문제 3\n",
    "\n",
    "- myint 함수 숫자로 입력한 문자열을 받아가서 정수로 바꾸어서 반환하기.\n",
    "  - 122을 넣었을 경우에는 123을 반환하고, 123A 라는 잘 못된 데이터를 입력하면 -1을 반환하자."
   ]
  },
  {
   "cell_type": "code",
   "execution_count": null,
   "metadata": {},
   "outputs": [
    {
     "data": {
      "text/plain": [
       "123"
      ]
     },
     "execution_count": 9,
     "metadata": {},
     "output_type": "execute_result"
    }
   ],
   "source": [
    "test_string = '123'\n",
    "\n",
    "def convert_int(input_number):\n",
    "  try:\n",
    "    int(input_number)\n",
    "  except:\n",
    "    return -1\n",
    "  else:  \n",
    "    return int(input_number)\n",
    "\n",
    "convert_int(test_string)"
   ]
  },
  {
   "cell_type": "markdown",
   "metadata": {},
   "source": [
    "### 🟡 같이 풀어보기"
   ]
  },
  {
   "cell_type": "code",
   "execution_count": null,
   "metadata": {},
   "outputs": [
    {
     "name": "stdout",
     "output_type": "stream",
     "text": [
      "468\n"
     ]
    }
   ],
   "source": [
    "# ord를 통해서 유니코드 사용하여 풀어보기\n",
    "\n",
    "def myint(s):\n",
    "  sum = 0    # 123  1 2  =>  1*10 + 2 => 123 => 12*10+3\n",
    "  for c in s:\n",
    "    if ord(c) < ord('0') or ord(c) > ord('9'):  # 즉, 숫자 '0'부터 '9'까지의 유니코드(ASCII 코드)는 48~57입니다.\n",
    "      return -1\n",
    "    sum = sum * 10 + ord(c)-ord('0')   # 문자1 -> 숫자 1로 빠구려먼 '1'-'0'\n",
    "  return sum\n",
    "\n",
    "print(myint('123') + myint('345'))"
   ]
  },
  {
   "cell_type": "markdown",
   "metadata": {},
   "source": [
    "\n",
    "---\n",
    "## 🟢 문제 4\n",
    "- 문장을 받아가서 문자열 뒤집어서 보내는 함수 \n",
    "- hint: reverse"
   ]
  },
  {
   "cell_type": "markdown",
   "metadata": {},
   "source": [
    "#### 혼자하기 실패\n",
    "- 이건 \"뒤집기\"가 아니라 알파벳을 내림차순 정렬하는 코드입니다."
   ]
  },
  {
   "cell_type": "code",
   "execution_count": null,
   "metadata": {},
   "outputs": [
    {
     "data": {
      "text/plain": [
       "'g,f,e,d,c,b,a'"
      ]
     },
     "execution_count": 3,
     "metadata": {},
     "output_type": "execute_result"
    }
   ],
   "source": [
    "# 🟡 잘 못된 코드입니다.\n",
    "\n",
    "# try_string = 'abcgdef'\n",
    "\n",
    "# def turn_over_string(try_string):\n",
    "#   turn_over = sorted(try_string, reverse=True)\n",
    "#   join_turn_over = ','.join(turn_over)\n",
    "#   # for i in join_turn_over:\n",
    "#   #   result = ''\n",
    "#   #   if i == ',':\n",
    "#   return join_turn_over\n",
    "\n",
    "# turn_over_string(try_string)"
   ]
  },
  {
   "cell_type": "code",
   "execution_count": null,
   "metadata": {},
   "outputs": [
    {
     "data": {
      "text/plain": [
       "'gfedcba'"
      ]
     },
     "execution_count": 4,
     "metadata": {},
     "output_type": "execute_result"
    }
   ],
   "source": [
    "# 🟡 .reverse()는 **리스트(list)**에서만 사용할 수 있는 **\"원본 리스트 자체를 뒤집는 메서드\"**입니다.\n",
    "\n",
    "try_string = 'abcdefg'\n",
    "\n",
    "def turn_over_string(try_string):\n",
    "  turn_over = list(try_string)  # 문자열 → 리스트\n",
    "  turn_over.reverse()           # 리스트 뒤집기\n",
    "  join_turn_over = ''.join(turn_over)  # 다시 문자열로 합치기\n",
    "  return join_turn_over\n",
    "\n",
    "turn_over_string(try_string)"
   ]
  },
  {
   "cell_type": "markdown",
   "metadata": {},
   "source": [
    "### 🟡 맞다 까먹고 있었다. slicing이 존재했다."
   ]
  },
  {
   "cell_type": "code",
   "execution_count": 2,
   "metadata": {},
   "outputs": [
    {
     "data": {
      "text/plain": [
       "'gfedcba'"
      ]
     },
     "execution_count": 2,
     "metadata": {},
     "output_type": "execute_result"
    }
   ],
   "source": [
    "try_string = 'abcdefg'\n",
    "\n",
    "try_string[::-1]\n"
   ]
  },
  {
   "cell_type": "markdown",
   "metadata": {},
   "source": [
    "### 🟡 같이 풀어보기"
   ]
  },
  {
   "cell_type": "code",
   "execution_count": null,
   "metadata": {},
   "outputs": [],
   "source": [
    "def reverse(s):\n",
    "  result=\"\";\n",
    "  for i in range(len(s)-1, -1, -1):\n",
    "      result += s[i] \n",
    "  return result \n",
    "\n",
    "print( reverse(\"korea\"))"
   ]
  }
 ],
 "metadata": {
  "kernelspec": {
   "display_name": "aiBootCamp",
   "language": "python",
   "name": "python3"
  },
  "language_info": {
   "codemirror_mode": {
    "name": "ipython",
    "version": 3
   },
   "file_extension": ".py",
   "mimetype": "text/x-python",
   "name": "python",
   "nbconvert_exporter": "python",
   "pygments_lexer": "ipython3",
   "version": "3.10.16"
  }
 },
 "nbformat": 4,
 "nbformat_minor": 2
}
