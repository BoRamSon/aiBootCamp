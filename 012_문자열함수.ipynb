{
 "cells": [
  {
   "cell_type": "markdown",
   "metadata": {},
   "source": [
    "# 🟩 문자열 메서드 내 함수들"
   ]
  },
  {
   "cell_type": "code",
   "execution_count": 1,
   "metadata": {},
   "outputs": [
    {
     "name": "stdout",
     "output_type": "stream",
     "text": [
      "2\n"
     ]
    }
   ],
   "source": [
    "s = \"hobby\"\n",
    "print(s.count(\"b\"))\n",
    "\n",
    "\n",
    "\n"
   ]
  },
  {
   "cell_type": "code",
   "execution_count": null,
   "metadata": {},
   "outputs": [],
   "source": [
    "pos1 = s.find(\"star\") # 0번째 방부터 찾기\n",
    "print(pos1)\n",
    "\n",
    "pos2 = s.find(\"star\", pos1+1) # 1번째 방부터 찾기\n",
    "print(pos2)\n",
    "\n",
    "pos3 = s.find(\"star\", pos1+2)\n",
    "print(pos3)\n",
    "\n",
    "pos4 = s.find(\"star\", pos1+3)\n",
    "print(pos4)\n",
    "\n",
    "pos1 = s.index(\"love\") # 단어가 없으면 예외가 발생한다.\n",
    "print(pos1)\n",
    "\n"
   ]
  },
  {
   "cell_type": "markdown",
   "metadata": {},
   "source": [
    "\n",
    "---\n",
    "## 🟢 join\n",
    "```python\n",
    "s = \",\".join([\"cherry\", \"banana\", \"pear\", \"grape\"])\n",
    "print(s)\n",
    "```\n",
    "\n",
    "## 🟢 split\n",
    "```python\n",
    "word = s.split(\",\")  # 콤마로 분해해서 리스트로 만듬\n",
    "print(word)\n",
    "```"
   ]
  },
  {
   "cell_type": "code",
   "execution_count": null,
   "metadata": {},
   "outputs": [
    {
     "name": "stdout",
     "output_type": "stream",
     "text": [
      "cherry,banana,pear,grape\n",
      "['cherry', 'banana', 'pear', 'grape']\n"
     ]
    }
   ],
   "source": [
    "\n",
    "# join\n",
    "s = \",\".join([\"cherry\", \"banana\", \"pear\", \"grape\"])\n",
    "print(s)\n",
    "\n",
    "# split\n",
    "word = s.split(\",\")  # 콤마로 분해해서 리스트로 만듬\n",
    "print(word)"
   ]
  },
  {
   "cell_type": "markdown",
   "metadata": {},
   "source": [
    "\n",
    "---\n",
    "## 🟢 대문자, 소문자 변경"
   ]
  },
  {
   "cell_type": "code",
   "execution_count": null,
   "metadata": {},
   "outputs": [
    {
     "name": "stdout",
     "output_type": "stream",
     "text": [
      "HI\n",
      "hi\n"
     ]
    }
   ],
   "source": [
    "# 🟢 대문자 변경\n",
    "\n",
    "print(\"hi\".upper()) # upper는 바뀐 값을 반환.. 원래 값은 안바뀜\n",
    "\n",
    "s = \"hello\"\n",
    "print(s.upper())\n",
    "\n",
    "\n",
    "\n",
    "# 🟢 소문자 변경\n",
    "\n",
    "print(\"Hi\".lower())\n",
    "\n",
    "\n"
   ]
  },
  {
   "cell_type": "markdown",
   "metadata": {},
   "source": [
    "\n",
    "---\n",
    "## 🟢 strip"
   ]
  },
  {
   "cell_type": "code",
   "execution_count": null,
   "metadata": {},
   "outputs": [
    {
     "name": "stdout",
     "output_type": "stream",
     "text": [
      "*       hi      *\n",
      "*hi      *\n",
      "*       hi*\n"
     ]
    }
   ],
   "source": [
    "# 🟢 strip - 가울데 말고, lstrip, rstrip 함수를 사용하여 시작과 끝의 공백을 제거한다.\n",
    "\n",
    "test_strip = \"       hi      \"\n",
    "print(\"*\" + test_strip + \"*\")\n",
    "print(\"*\" + test_strip.lstrip() + \"*\")\n",
    "print(\"*\" + test_strip.rstrip() + \"*\")"
   ]
  },
  {
   "cell_type": "markdown",
   "metadata": {},
   "source": [
    "\n",
    "---\n",
    "## 🟢 True, False"
   ]
  },
  {
   "cell_type": "code",
   "execution_count": 6,
   "metadata": {},
   "outputs": [
    {
     "name": "stdout",
     "output_type": "stream",
     "text": [
      "True\n",
      "False\n",
      "False\n",
      "True\n"
     ]
    }
   ],
   "source": [
    "print(\"python\".isalpha())\n",
    "print(\"python1\".isalpha())\n",
    "\n",
    "print(\"python\".isdigit())\n",
    "print(\"123\".isdigit())"
   ]
  }
 ],
 "metadata": {
  "kernelspec": {
   "display_name": "aiBootCamp",
   "language": "python",
   "name": "python3"
  },
  "language_info": {
   "codemirror_mode": {
    "name": "ipython",
    "version": 3
   },
   "file_extension": ".py",
   "mimetype": "text/x-python",
   "name": "python",
   "nbconvert_exporter": "python",
   "pygments_lexer": "ipython3",
   "version": "3.10.16"
  }
 },
 "nbformat": 4,
 "nbformat_minor": 2
}
