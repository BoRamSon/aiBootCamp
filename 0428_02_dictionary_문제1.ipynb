{
 "cells": [
  {
   "cell_type": "markdown",
   "metadata": {},
   "source": [
    "# 🟩 갑자기 주시는 dic을 위한 문제"
   ]
  },
  {
   "cell_type": "markdown",
   "metadata": {},
   "source": [
    "주급계산 이름, 근무시간, 시간당급여액 - 5명에 대해서\n",
    "\n",
    "홍길동 40 10000\n",
    "임꺽정 30 20000\n",
    "장길산 20 20000\n",
    "홍경래 10 15000\n",
    "이징옥 20 30000"
   ]
  },
  {
   "cell_type": "code",
   "execution_count": null,
   "metadata": {},
   "outputs": [
    {
     "name": "stdout",
     "output_type": "stream",
     "text": [
      "'홍길동'님의 주급은 400000입니다.\n",
      "'임꺽정'님의 주급은 600000입니다.\n",
      "'장길산'님의 주급은 400000입니다.\n",
      "'홍경래'님의 주급은 150000입니다.\n",
      "'이징옥'님의 주급은 600000입니다.\n"
     ]
    }
   ],
   "source": [
    " \n",
    "\n",
    "   # 🔴 그리고 애초에 dic type으로 입력 받는 것을 했어야 한다.\n",
    "workers = [\n",
    "    {'name': '홍길동', 'work_time': 40, 'per_wage': 10000}, \n",
    "    {'name': '임꺽정', 'work_time': 30, 'per_wage': 20000},\n",
    "    {'name': '장길산', 'work_time': 20, 'per_wage': 20000},\n",
    "    {'name': '홍경래', 'work_time': 10, 'per_wage': 15000},\n",
    "    {'name': '이징옥', 'work_time': 20, 'per_wage': 30000},\n",
    "]\n",
    "\n",
    "# 🟡 내 생각대로 한 문제... dictionary를 실제로 많이 써보지 않았습니다.\n",
    "# 이렇게 .을 통해 사용하면 되는 줄 알았지만 아니였씁니다.\n",
    "# for i in workers:\n",
    "#   weekly_pay = i.work_time * i.per_wage\n",
    "#   print(f\"{i.name}님의 주급은 {weekly_pay}입니다.\")\n",
    "\n",
    "# for i in workers:\n",
    "#   weekly_pay = i['work_time'] * i['per_wage']\n",
    "#   print(f'{i['name']}님의 주급은 {weekly_pay}입니다.')\n",
    "  # 🟡 문제 : 발생 더블따옴표와 싱글따옴표 같이 써지면 안되는 문제\n",
    "\n",
    "\n",
    "for i in workers:\n",
    "  weekly_pay = i['work_time'] * i['per_wage']\n",
    "  print(f\"\\'{i['name']}\\'님의 주급은 {weekly_pay}입니다.\")\n",
    "\n",
    "\n"
   ]
  },
  {
   "cell_type": "markdown",
   "metadata": {},
   "source": [
    "\n",
    "---\n",
    "---\n",
    "## 🟢 같이 풀어보기 1 (list로만 풀어보기)"
   ]
  },
  {
   "cell_type": "code",
   "execution_count": null,
   "metadata": {},
   "outputs": [
    {
     "name": "stdout",
     "output_type": "stream",
     "text": [
      "홀깅동 10 1000 10000\n"
     ]
    }
   ],
   "source": [
    "# 리스트로만 가지고 풀어보기\n",
    "\n",
    "# 입력\n",
    "nameList = []\n",
    "workTimeList = []\n",
    "perPayList = []\n",
    "payList = []\n",
    "\n",
    "for i in range(0, 5):\n",
    "  name = input('이름 :')\n",
    "  workTime = int(input('일한 시간 :'))\n",
    "  perPay = int(input('시간당 급여 :'))\n",
    "\n",
    "  nameList.append(name)\n",
    "  workTimeList.append(workTime)\n",
    "  perPayList.append(perPay)\n",
    "\n",
    "\n",
    "# 계산\n",
    "for i in range(0, 5):\n",
    "  total = workTimeList[i] * perPayList[i]\n",
    "  payList.append(total)\n",
    "\n",
    "\n",
    "# 출력이다!!!\n",
    "# range를 이럴 때 쓰다니\n",
    "for i in range(0, 5):\n",
    "  print(f'{nameList[i]} {workTimeList[i]} {perPayList[i]} {payList[i]}')\n",
    "  # 이렇게 풀지 생각도 못했다.\n",
    "\n",
    "\n",
    "\n",
    "\n"
   ]
  },
  {
   "cell_type": "markdown",
   "metadata": {},
   "source": [
    "\n",
    "---\n",
    "## 🟢 ✏️ 내가 스스로 푼 dic type으로 공부하기"
   ]
  },
  {
   "cell_type": "code",
   "execution_count": null,
   "metadata": {},
   "outputs": [],
   "source": [
    "workers = []\n",
    "\n",
    "for i in range(0, 2):\n",
    "    name = input('이름: ')\n",
    "    work_time = int(input('일한 시간: '))\n",
    "    per_pay = int(input('시간당 급여: '))\n",
    "    \n",
    "    # 🔥 딕셔너리 형태로 데이터를 저장\n",
    "    # 아~ 딕셔너리는 괄호안에 그대로 {}를 통해 넣는구나!!!!\n",
    "    workers.append({'name': name, 'work_time': work_time, 'per_pay': per_pay})\n",
    "\n",
    "\n",
    "for i in workers:\n",
    "  weekly_pay = i['work_time'] * i['per_wage']\n",
    "  print(f\"\\'{i['name']}\\'님의 주급은 {weekly_pay}입니다.\")\n",
    "\n",
    "\n",
    "\n",
    "\n",
    "\n",
    "\n",
    "    "
   ]
  },
  {
   "cell_type": "markdown",
   "metadata": {},
   "source": [
    "\n",
    "---\n",
    "## 🟢 같이 풀어보기 2 (dictionary를 통해 풀어보기!)"
   ]
  },
  {
   "cell_type": "code",
   "execution_count": null,
   "metadata": {},
   "outputs": [
    {
     "name": "stdout",
     "output_type": "stream",
     "text": [
      "홍길동님의 주급은 시급 10000원 * 40시간 = 총 400000원 입니다.\n",
      "임꺽정님의 주급은 시급 20000원 * 30시간 = 총 600000원 입니다.\n",
      "장길산님의 주급은 시급 20000원 * 20시간 = 총 400000원 입니다.\n"
     ]
    }
   ],
   "source": [
    "worker = {}\n",
    "\n",
    "personList = [\n",
    "  {'name': '홍길동', 'work_time': 40, 'per_pay': 10000}, \n",
    "  {'name': '임꺽정', 'work_time': 30, 'per_pay': 20000},\n",
    "  {'name': '장길산', 'work_time': 20, 'per_pay': 20000}\n",
    "]\n",
    "\n",
    "for worker in personList:\n",
    "  worker['pay'] = worker['work_time'] * worker['per_pay']\n",
    "\n",
    "for worker in personList:\n",
    "  print(f\"{worker['name']}님의 주급은 시급 {worker['per_pay']}원 * {worker['work_time']}시간 = 총 {worker['pay']}원 입니다.\")"
   ]
  },
  {
   "cell_type": "code",
   "execution_count": null,
   "metadata": {},
   "outputs": [
    {
     "name": "stdout",
     "output_type": "stream",
     "text": [
      "홍길동님의 주급은 시급 10000원 * 10시간 = 총 100000원 입니다.\n",
      "김수진님의 주급은 시급 20000원 * 20시간 = 총 400000원 입니다.\n"
     ]
    }
   ],
   "source": [
    "work_people = []\n",
    "worker = []\n",
    "\n",
    "# 입력\n",
    "for i in range(0, 2):\n",
    "    name = input('이름: ')\n",
    "    work_time = int(input('일한 시간: '))\n",
    "    per_pay = int(input('시간당 급여: '))\n",
    "    \n",
    "    work_people.append({'name': name, 'work_time': work_time, 'per_pay': per_pay})\n",
    "\n",
    "\n",
    "\n",
    "\n",
    "# 계산\n",
    "for worker in work_people:\n",
    "  worker['pay'] = worker['work_time'] * worker['per_pay']\n",
    "  # ❓ 궁금증 : 어떻게 worker['pay'] 이게 worker에 들어가게 되는걸까요???\n",
    "\n",
    "# 출력\n",
    "for worker in work_people:\n",
    "  print(f\"{worker['name']}님의 주급은 시급 {worker['per_pay']}원 * {worker['work_time']}시간 = 총 {worker['pay']}원 입니다.\")\n",
    "\n",
    "\n",
    "\n",
    "\n",
    "\n",
    "\n",
    "    "
   ]
  }
 ],
 "metadata": {
  "kernelspec": {
   "display_name": "aiBootCamp",
   "language": "python",
   "name": "python3"
  },
  "language_info": {
   "codemirror_mode": {
    "name": "ipython",
    "version": 3
   },
   "file_extension": ".py",
   "mimetype": "text/x-python",
   "name": "python",
   "nbconvert_exporter": "python",
   "pygments_lexer": "ipython3",
   "version": "3.10.16"
  }
 },
 "nbformat": 4,
 "nbformat_minor": 2
}
