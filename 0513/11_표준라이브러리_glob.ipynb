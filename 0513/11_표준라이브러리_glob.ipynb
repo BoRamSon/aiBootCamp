{
 "cells": [
  {
   "cell_type": "markdown",
   "id": "309cb21a",
   "metadata": {},
   "source": [
    "# 🟩 표준라이브러리 (glob)\n",
    "\n",
    "- 파일 시스템 경로에서 특정 패턴에 일치하는 파일 및 디렉터리를 찾아주는 표준 라이브러리\n",
    "- glob는 경로에 있는 파일 목록을 리스트 형태로 반환합니다.\n",
    "- 파일 이름을 필터링할 때 와일드카드 문자를 사용합니다.\n",
    "\n",
    "\n",
    "| 와일드카드 | 설명                 | 예시                                                        |\n",
    "| ----- | ------------------ | --------------------------------------------------------- |\n",
    "| `*`   | 모든 문자 (0개 이상)      | `\"*.txt\"` → 모든 텍스트 파일                                     |\n",
    "| `?`   | 임의의 한 문자           | `\"file?.py\"` → `file1.py`, `fileA.py` 등                   |\n",
    "| `[]`  | 대괄호 안의 문자 중 하나와 일치 | `\"file[1-3].txt\"` → `file1.txt`, `file2.txt`, `file3 txt` |\n"
   ]
  },
  {
   "cell_type": "code",
   "execution_count": 3,
   "id": "428fd0c9",
   "metadata": {},
   "outputs": [],
   "source": [
    "# windows\n",
    "\n",
    "import glob\n",
    "\n",
    "filelist = glob.glob(\"c:/*\")\n"
   ]
  },
  {
   "cell_type": "code",
   "execution_count": 4,
   "id": "94c95b59",
   "metadata": {},
   "outputs": [
    {
     "name": "stdout",
     "output_type": "stream",
     "text": [
      "['/home', '/usr', '/bin', '/sbin', '/etc', '/var', '/Library', '/System', '/private', '/Users', '/Applications', '/opt', '/dev', '/Volumes', '/tmp', '/cores']\n"
     ]
    }
   ],
   "source": [
    "# mac\n",
    "\n",
    "import glob\n",
    "\n",
    "filelist = glob.glob(\"/*\")  # /Applications, /System, /Users, /Volumes 등\n",
    "print(filelist)\n"
   ]
  },
  {
   "cell_type": "code",
   "execution_count": 5,
   "id": "ed438824",
   "metadata": {},
   "outputs": [
    {
     "name": "stdout",
     "output_type": "stream",
     "text": [
      "['/Users/hacker/Music', '/Users/hacker/VMware Windows11 Installation', '/Users/hacker/ppp', '/Users/hacker/Pictures', '/Users/hacker/Desktop', '/Users/hacker/Library', '/Users/hacker/ssh(file)', '/Users/hacker/Public', '/Users/hacker/Virtual Machines.localized', '/Users/hacker/Movies', '/Users/hacker/Applications', '/Users/hacker/Documents', '/Users/hacker/Downloads']\n"
     ]
    }
   ],
   "source": [
    "# mac\n",
    "\n",
    "import glob\n",
    "import os\n",
    "\n",
    "# 사용자 홈 디렉터리 경로\n",
    "home_path = os.path.expanduser(\"~\")\n",
    "filelist = glob.glob(home_path + \"/*\")\n",
    "print(filelist)\n"
   ]
  },
  {
   "cell_type": "markdown",
   "id": "ac883935",
   "metadata": {},
   "source": [
    "| OS          | 예시 경로                     |\n",
    "| ----------- | ------------------------- |\n",
    "| Windows     | `\"c:/*\"`                  |\n",
    "| macOS/Linux | `\"/*\"`, `\"~/Downloads/*\"` |\n"
   ]
  }
 ],
 "metadata": {
  "kernelspec": {
   "display_name": "aiBootCamp",
   "language": "python",
   "name": "python3"
  },
  "language_info": {
   "codemirror_mode": {
    "name": "ipython",
    "version": 3
   },
   "file_extension": ".py",
   "mimetype": "text/x-python",
   "name": "python",
   "nbconvert_exporter": "python",
   "pygments_lexer": "ipython3",
   "version": "3.10.16"
  }
 },
 "nbformat": 4,
 "nbformat_minor": 5
}
