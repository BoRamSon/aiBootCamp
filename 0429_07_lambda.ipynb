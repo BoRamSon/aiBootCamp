{
 "cells": [
  {
   "cell_type": "markdown",
   "metadata": {},
   "source": [
    "# 🟩  lambda (람다)\n",
    "\n",
    "```python\n",
    "lambda 매개변수: 표현식\n",
    "```\n",
    "- lambda는 함수를 정의하는 키워드\n",
    "- 이름이 없는 익명 함수를 생성\n",
    "- 표현식의 결과가 곧 반환값(return)\n",
    "- 한줄짜리 함수를 의미하며 함수를 쓰고 버림(일회용 함수)\n",
    "- 특징\n",
    "  - 일회용 함수이기 때문에 메모리 효율성이 높아짐\n",
    "  - 파이썬에서 람다는 2줄 이상 코드 작성할 수 없음 - 1줄 밖에 작성할 수 없음(현재 버전)"
   ]
  },
  {
   "cell_type": "code",
   "execution_count": null,
   "metadata": {},
   "outputs": [],
   "source": [
    "# 🟢 대표적인 예시\n",
    "\n",
    "# 🟡 일반 함수\n",
    "def add(x, y):\n",
    "    return x + y\n",
    "\n",
    "# 🟡 람다 함수\n",
    "add_lambda = lambda x, y: x + y       # 이렇게 flat하게 만들었습니다.\n",
    "\n",
    "print(add(3, 4))         # 7\n",
    "print(add_lambda(3, 4))  # 7\n"
   ]
  },
  {
   "cell_type": "markdown",
   "metadata": {},
   "source": [
    "## 🟢 함수는 그 자체가 '주소' 이다\n",
    "- 변수에 함수가 있는 곳의 '주소' 를 저장할 수 있음\n",
    "- 변수에 저장을 하면 그 주소가 있기 때문에 연결됨"
   ]
  },
  {
   "cell_type": "code",
   "execution_count": null,
   "metadata": {},
   "outputs": [],
   "source": [
    "def add(a = 0 , b = 0 , c = 0) :\n",
    "    return a + b + c\n",
    "myadd = add             # myadd 라는 변수에 add 라는 함수 주소를 입력하고  \n",
    "print(myadd(3,4,5))     # myadd 변수를 이용해서 add 라를 함수를 실행할 수 있음"
   ]
  },
  {
   "cell_type": "markdown",
   "metadata": {},
   "source": [
    "## 🟢 함수의 매개변수로 함수를 줄 수 있음"
   ]
  },
  {
   "cell_type": "code",
   "execution_count": null,
   "metadata": {},
   "outputs": [
    {
     "name": "stdout",
     "output_type": "stream",
     "text": [
      "4 5 9\n",
      "4 5 -1\n"
     ]
    }
   ],
   "source": [
    "# 1. 고차 함수: 함수를 인자로 받을 수 있는 함수 정의\n",
    "def myfunc(x, y, callback):  # 세 번째 매개변수는 '함수(콜백 함수)'를 전달받음\n",
    "    result = callback(x, y)  # 전달받은 함수를 실행해서 결과를 result에 저장\n",
    "    print(x, y, result)      # x, y, 계산 결과 출력\n",
    "\n",
    "# 2. 일반 함수 정의 (두 수를 더함)\n",
    "def add(x, y):\n",
    "    return x + y\n",
    "\n",
    "# 3. 함수 호출 - add 함수를 콜백으로 전달\n",
    "myfunc(4, 5, add)  # 4 + 5 → 9 출력\n",
    "\n",
    "# 4. 🔥🔥🔥🔥🔥 람다 함수를 직접 전달 (함수 정의 없이 즉석에서 뺄셈 기능 정의)\n",
    "myfunc(4, 5, lambda x, y: x - y)  # 4 - 5 → -1 출력   # 결과 : 4 5 -1\n"
   ]
  },
  {
   "cell_type": "code",
   "execution_count": null,
   "metadata": {},
   "outputs": [],
   "source": [
    "# 람다 함수 여러 개를 리스트로 저장\n",
    "fuc_list = [\n",
    "    lambda x, y: x - y,  # 0번 인덱스: 뺄셈 함수\n",
    "    lambda x, y: x + y,  # 1번 인덱스: 덧셈 함수\n",
    "    lambda x, y: x * y,  # 2번 인덱스: 곱셈 함수\n",
    "    lambda x, y: x / y   # 3번 인덱스: 나눗셈 함수\n",
    "]\n",
    "\n",
    "# 리스트에 저장된 함수를 반복 실행\n",
    "for f in fuc_list:       # 리스트의 각 함수(f)를 꺼내서\n",
    "    print(f(9, 7))       # f(9, 7)을 실행 → 각각 뺄셈, 덧셈, 곱셈, 나눗셈 결과 출력\n"
   ]
  }
 ],
 "metadata": {
  "kernelspec": {
   "display_name": "aiBootCamp",
   "language": "python",
   "name": "python3"
  },
  "language_info": {
   "codemirror_mode": {
    "name": "ipython",
    "version": 3
   },
   "file_extension": ".py",
   "mimetype": "text/x-python",
   "name": "python",
   "nbconvert_exporter": "python",
   "pygments_lexer": "ipython3",
   "version": "3.10.16"
  }
 },
 "nbformat": 4,
 "nbformat_minor": 2
}
