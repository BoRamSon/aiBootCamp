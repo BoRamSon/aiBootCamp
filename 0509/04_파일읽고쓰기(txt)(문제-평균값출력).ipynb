{
 "cells": [
  {
   "cell_type": "markdown",
   "metadata": {},
   "source": [
    "# 🟩 문제 - 특정 파일을 읽어서 평균값 출력하기\n",
    "\n",
    "- 읽어야할 데이터 파일 내부에는 \n",
    "  > (txt 파일 내용)  \n",
    "    10  \n",
    "    20  \n",
    "    30  \n",
    "    40  \n",
    "    50  \n",
    "    4  \n",
    "    5  \n",
    "    11  \n",
    "    12  \n",
    "    14  \n",
    "    27  \n",
    "  - 이렇게 값이 들어있습니다.\n",
    "\n",
    "- 이걸 읽어서 평균을 구하시오!"
   ]
  },
  {
   "cell_type": "code",
   "execution_count": 22,
   "metadata": {},
   "outputs": [
    {
     "name": "stdout",
     "output_type": "stream",
     "text": [
      "10\n",
      "을 리스트에 넣었습니다.\n",
      "20\n",
      "을 리스트에 넣었습니다.\n",
      "30\n",
      "을 리스트에 넣었습니다.\n",
      "40\n",
      "을 리스트에 넣었습니다.\n",
      "50\n",
      "을 리스트에 넣었습니다.\n",
      "4\n",
      "을 리스트에 넣었습니다.\n",
      "5\n",
      "을 리스트에 넣었습니다.\n",
      "11\n",
      "을 리스트에 넣었습니다.\n",
      "12\n",
      "을 리스트에 넣었습니다.\n",
      "14\n",
      "을 리스트에 넣었습니다.\n",
      "27을 리스트에 넣었습니다.\n"
     ]
    },
    {
     "ename": "TypeError",
     "evalue": "'int' object is not callable",
     "output_type": "error",
     "traceback": [
      "\u001b[0;31m---------------------------------------------------------------------------\u001b[0m",
      "\u001b[0;31mTypeError\u001b[0m                                 Traceback (most recent call last)",
      "Cell \u001b[0;32mIn[22], line 18\u001b[0m\n\u001b[1;32m     13\u001b[0m f\u001b[38;5;241m.\u001b[39mclose()\n\u001b[1;32m     15\u001b[0m \u001b[38;5;66;03m# for i in average_target:\u001b[39;00m\n\u001b[1;32m     16\u001b[0m \u001b[38;5;66;03m#   print(type(i))\u001b[39;00m\n\u001b[0;32m---> 18\u001b[0m average_result \u001b[38;5;241m=\u001b[39m \u001b[38;5;28;43msum\u001b[39;49m\u001b[43m(\u001b[49m\u001b[43maverage_target\u001b[49m\u001b[43m)\u001b[49m \u001b[38;5;241m/\u001b[39m \u001b[38;5;28mlen\u001b[39m(average_target)\n\u001b[1;32m     20\u001b[0m \u001b[38;5;28mprint\u001b[39m(\u001b[38;5;124mf\u001b[39m\u001b[38;5;124m\"\u001b[39m\u001b[38;5;124m평균 결과 : \u001b[39m\u001b[38;5;132;01m{\u001b[39;00maverage_result\u001b[38;5;132;01m}\u001b[39;00m\u001b[38;5;124m\"\u001b[39m)\n",
      "\u001b[0;31mTypeError\u001b[0m: 'int' object is not callable"
     ]
    }
   ],
   "source": [
    "average_target =  []   # list 변수 \n",
    "\n",
    "\n",
    "f = open(\"datas/데이터파일5(문제).txt\", 'r')\n",
    "line = f.readline() \n",
    "# print(line)\n",
    "\n",
    "while line !=\"\":      # readline만 사용할 때에는 이렇게 반복문으로 출력한다.\n",
    "  # print(type(line)) \n",
    "  average_target.append(int(line))\n",
    "  print(f\"{line}을 리스트에 넣었습니다.\")\n",
    "  line = f.readline()\n",
    "f.close()\n",
    "\n",
    "# for i in average_target:\n",
    "#   print(type(i))\n",
    "\n",
    "average_result = sum(average_target) / len(average_target)\n",
    "\n",
    "print(f\"평균 결과 : {average_result}\")\n",
    "\n"
   ]
  },
  {
   "cell_type": "code",
   "execution_count": 24,
   "metadata": {},
   "outputs": [
    {
     "name": "stdout",
     "output_type": "stream",
     "text": [
      "10\n",
      "을 리스트에 넣었습니다.\n",
      "20\n",
      "을 리스트에 넣었습니다.\n",
      "30\n",
      "을 리스트에 넣었습니다.\n",
      "40\n",
      "을 리스트에 넣었습니다.\n",
      "50\n",
      "을 리스트에 넣었습니다.\n",
      "4\n",
      "을 리스트에 넣었습니다.\n",
      "5\n",
      "을 리스트에 넣었습니다.\n",
      "11\n",
      "을 리스트에 넣었습니다.\n",
      "12\n",
      "을 리스트에 넣었습니다.\n",
      "14\n",
      "을 리스트에 넣었습니다.\n",
      "27을 리스트에 넣었습니다.\n"
     ]
    },
    {
     "ename": "TypeError",
     "evalue": "'int' object is not callable",
     "output_type": "error",
     "traceback": [
      "\u001b[0;31m---------------------------------------------------------------------------\u001b[0m",
      "\u001b[0;31mTypeError\u001b[0m                                 Traceback (most recent call last)",
      "Cell \u001b[0;32mIn[24], line 27\u001b[0m\n\u001b[1;32m     25\u001b[0m r \u001b[38;5;241m=\u001b[39m ReadFileAndPrint()\n\u001b[1;32m     26\u001b[0m r\u001b[38;5;241m.\u001b[39mread_file()\n\u001b[0;32m---> 27\u001b[0m \u001b[43mr\u001b[49m\u001b[38;5;241;43m.\u001b[39;49m\u001b[43mcalcul_average\u001b[49m\u001b[43m(\u001b[49m\u001b[43m)\u001b[49m\n\u001b[1;32m     28\u001b[0m r\u001b[38;5;241m.\u001b[39moutput()\n",
      "Cell \u001b[0;32mIn[24], line 18\u001b[0m, in \u001b[0;36mReadFileAndPrint.calcul_average\u001b[0;34m(self)\u001b[0m\n\u001b[1;32m     17\u001b[0m \u001b[38;5;28;01mdef\u001b[39;00m\u001b[38;5;250m \u001b[39m\u001b[38;5;21mcalcul_average\u001b[39m(\u001b[38;5;28mself\u001b[39m):\n\u001b[0;32m---> 18\u001b[0m   average_result \u001b[38;5;241m=\u001b[39m \u001b[38;5;28;43msum\u001b[39;49m\u001b[43m(\u001b[49m\u001b[38;5;28;43mself\u001b[39;49m\u001b[38;5;241;43m.\u001b[39;49m\u001b[43maverage_target\u001b[49m\u001b[43m)\u001b[49m \u001b[38;5;241m/\u001b[39m \u001b[38;5;28mlen\u001b[39m(\u001b[38;5;28mself\u001b[39m\u001b[38;5;241m.\u001b[39maverage_target)\n\u001b[1;32m     19\u001b[0m   \u001b[38;5;28;01mreturn\u001b[39;00m average_result\n",
      "\u001b[0;31mTypeError\u001b[0m: 'int' object is not callable"
     ]
    }
   ],
   "source": [
    "class ReadFileAndPrint:\n",
    "  def __init__(self):\n",
    "    self.average_target =  []  # list 변수 \n",
    "    # self.read_file()\n",
    "    # self.calcul_average()\n",
    "    # self.output()\n",
    "\n",
    "  def read_file(self):\n",
    "    f = open(\"datas/데이터파일5(문제).txt\", 'r')\n",
    "    line = f.readline() \n",
    "    while line !=\"\":\n",
    "      self.average_target.append(int(line))\n",
    "      print(f\"{line}을 리스트에 넣었습니다.\")\n",
    "      line = f.readline()\n",
    "    f.close()\n",
    "\n",
    "  def calcul_average(self):\n",
    "    average_result = sum(self.average_target) / len(self.average_target)\n",
    "    return average_result\n",
    "\n",
    "  def output(self):\n",
    "    print(f\"평균 결과 : {self.calcul_average()}\")\n",
    "  \n",
    "\n",
    "r = ReadFileAndPrint()\n",
    "r.read_file()\n",
    "r.calcul_average()\n",
    "r.output()\n",
    "\n",
    "\n",
    "\n"
   ]
  },
  {
   "cell_type": "markdown",
   "metadata": {},
   "source": [
    "### 🟡 같이 풀어보기\n",
    "\n",
    "- 🔥 데이터가 어떻게 가져와 지는지 확인을 해야합니다."
   ]
  },
  {
   "cell_type": "code",
   "execution_count": 23,
   "metadata": {},
   "outputs": [
    {
     "name": "stdout",
     "output_type": "stream",
     "text": [
      "['10\\n', '20\\n', '30\\n', '40\\n', '50\\n', '4\\n', '5\\n', '11\\n', '12\\n', '14\\n', '27']\n",
      "10\n",
      "20\n",
      "30\n",
      "40\n",
      "50\n",
      "4\n",
      "5\n",
      "11\n",
      "12\n",
      "14\n",
      "27\n",
      "평균은 20.272727272727273입니다.\n"
     ]
    }
   ],
   "source": [
    "\n",
    "f = open(\"datas/데이터파일5(문제).txt\", 'r')\n",
    "lines = f.readlines()  # lines 입니다.\n",
    "print(lines)\n",
    "# 출력 결과: ['10\\n', '20\\n', '30\\n', '40\\n', '50\\n', '4\\n', '5\\n', '11\\n', '12\\n', '14\\n', '27']\n",
    "# 여기서 \\n 줄바꿈 기호를 없애줘야합니다.\n",
    "\n",
    "# 일단 결과를 가져와서\n",
    "calsul_sum = 0\n",
    "\n",
    "for line in lines:\n",
    "  if \"\\n\" in line:\n",
    "    line = line[:len(line)-1]  # 🔥 뒤에서 2자리를 없애줬습니다.\n",
    "  print(line)\n",
    "  calsul_sum += int(line)\n",
    "\n",
    "f.close()\n",
    "\n",
    "print(f\"평균은 {calsul_sum / len(lines)}입니다.\")\n"
   ]
  },
  {
   "cell_type": "markdown",
   "metadata": {},
   "source": [
    "\n",
    "---\n",
    "## 🟢 보통 어떨 때 쓸 수 있을지\n",
    "- log 파일이나 각종 장비에서 내보내주는 파일들이 txt로 나옵니다. 이것을 잘 읽어 들여서 처리해야함.\n",
    "\n"
   ]
  }
 ],
 "metadata": {
  "kernelspec": {
   "display_name": "aiBootCamp",
   "language": "python",
   "name": "python3"
  },
  "language_info": {
   "codemirror_mode": {
    "name": "ipython",
    "version": 3
   },
   "file_extension": ".py",
   "mimetype": "text/x-python",
   "name": "python",
   "nbconvert_exporter": "python",
   "pygments_lexer": "ipython3",
   "version": "3.10.16"
  }
 },
 "nbformat": 4,
 "nbformat_minor": 2
}
