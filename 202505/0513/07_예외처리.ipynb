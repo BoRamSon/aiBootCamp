{
 "cells": [
  {
   "cell_type": "markdown",
   "id": "bc48fffe",
   "metadata": {},
   "source": [
    "# 🟩 예외처리 (try-except-filnally)"
   ]
  },
  {
   "cell_type": "markdown",
   "id": "9cf73285",
   "metadata": {},
   "source": [
    "- 주로 파일, 데이터베이스, 네트워크 처리 등에 많이 사용합니다.\n",
    "- 파일, 데이터베이스, 네트워크 연경 ... 오류발생 close"
   ]
  },
  {
   "cell_type": "markdown",
   "id": "370e08e6",
   "metadata": {},
   "source": [
    "## 🟢 try-except-filnally\n",
    "\n",
    "```python\n",
    "\n",
    "```"
   ]
  },
  {
   "cell_type": "code",
   "execution_count": null,
   "id": "f8a59e9c",
   "metadata": {},
   "outputs": [],
   "source": [
    "try:\n",
    "  x = int(input('정수 : '))\n",
    "  y = int(input('정수 : '))\n",
    "\n",
    "  z = x/y\n",
    "  print(f\"x = {x} | y = {y} | z = {z}\")\n",
    "\n",
    "except ZeroDivisionError as e:   # 내장 예외(Built-in Exceptions)\n",
    "  # print(e)   # 에러메세지를 가져온다.\n",
    "  print('0으로 나눌 수 없습니다.')\n",
    "\n",
    "finally:\n",
    "  print(\"이 부분은 에러가 생기든 말든 반드시 실행되야하는 구역입니다.\")\n"
   ]
  },
  {
   "cell_type": "markdown",
   "id": "6936fee4",
   "metadata": {},
   "source": [
    "### 🟡 내장 예외(Built-in Exceptions)\n",
    "\n",
    "| 예외명                   | 언제 발생하는가                        |\n",
    "| --------------------- | ------------------------------- |\n",
    "| `ZeroDivisionError`   | 숫자를 0으로 나눌 때                    |\n",
    "| `ValueError`          | 잘못된 값 사용 (예: `int(\"abc\")`)      |\n",
    "| `TypeError`           | 잘못된 타입 사용 (예: 문자열 + 숫자)         |\n",
    "| `IndexError`          | 리스트/튜플의 잘못된 인덱스 접근              |\n",
    "| `KeyError`            | 딕셔너리에 없는 키 접근                   |\n",
    "| `NameError`           | 존재하지 않는 변수 참조                   |\n",
    "| `AttributeError`      | 없는 속성이나 메서드에 접근                 |\n",
    "| `ImportError`         | 모듈 import 실패                    |\n",
    "| `ModuleNotFoundError` | 모듈을 찾을 수 없을 때                   |\n",
    "| `FileNotFoundError`   | 파일이 없을 때                        |\n",
    "| `IOError`             | 입출력 에러 발생 (파일 등)                |\n",
    "| `StopIteration`       | 반복을 멈추는 시점에서 발생 (iterator 사용 시) |\n",
    "| `RuntimeError`        | 명확하지 않은 런타임 에러                  |\n",
    "| `OverflowError`       | 숫자 연산 결과가 너무 클 때                |\n",
    "| `MemoryError`         | 메모리 부족할 때                       |\n",
    "| `IndentationError`    | 들여쓰기 오류                         |\n",
    "| `SyntaxError`         | 문법 오류                           |\n",
    "| `RecursionError`      | 재귀 함수 호출이 너무 깊을 때               |\n"
   ]
  },
  {
   "cell_type": "markdown",
   "id": "a370c10b",
   "metadata": {},
   "source": [
    "## 🟢 예제1 - 파일 처리 에러 \n",
    "\n",
    "```python\n",
    "\n",
    "```"
   ]
  },
  {
   "cell_type": "code",
   "execution_count": null,
   "id": "30d52a4b",
   "metadata": {},
   "outputs": [],
   "source": [
    "try:\n",
    "  f = open(\"file1.txt\", \"r\")\n",
    "  lines = f.readlines()\n",
    "  for line in lines:\n",
    "    print(line)\n",
    "\n",
    "except FileExistsError as e:\n",
    "  print(e)\n",
    "\n",
    "finally:\n",
    "  f.close()"
   ]
  },
  {
   "cell_type": "markdown",
   "id": "c2929aa2",
   "metadata": {},
   "source": [
    "## 🟢 예제2 - except Exception as e:\n",
    "\n",
    "```python\n",
    "\n",
    "```"
   ]
  },
  {
   "cell_type": "code",
   "execution_count": null,
   "id": "5559cdc0",
   "metadata": {},
   "outputs": [],
   "source": [
    "try:\n",
    "  a = [1,2,3,4,5]\n",
    "  b = a[5]\n",
    "\n",
    "except ZeroDivisionError as e:\n",
    "  print(e)\n",
    "\n",
    "except IndexError as e:\n",
    "  print(e)\n",
    "\n",
    "except Exception as e:   # 폭포수(casecading) \n",
    "  print(e)\n"
   ]
  },
  {
   "cell_type": "markdown",
   "id": "2824afc7",
   "metadata": {},
   "source": [
    "#### ⚫️ 폭포수(Cascading) 예외 처리란?\n",
    "\n",
    "```python\n",
    "try:\n",
    "    # 어떤 코드\n",
    "except ValueError:\n",
    "    print(\"값 오류 발생\")\n",
    "except Exception:\n",
    "    print(\"일반 예외\")\n",
    "```\n",
    "\n",
    "- 먼저 ValueError를 잡으려고 시도\n",
    "\n",
    "- 안 맞으면 그 다음 Exception에서 잡음\n",
    "\n",
    "  그래서 Exception은 맨 아래에 둬야 함  \n",
    "  → 아니면 나머지 예외는 전부 Exception에서 다 잡혀서  \n",
    "  개별 예외 처리할 기회를 잃음."
   ]
  },
  {
   "cell_type": "markdown",
   "id": "6cda2c0c",
   "metadata": {},
   "source": [
    "## 🟢 raise \"예외문구\" (강제로 예외를 발생시켜줌)"
   ]
  },
  {
   "cell_type": "markdown",
   "id": "f86ab1fd",
   "metadata": {},
   "source": [
    "- 원래 함수 종료 구문은 return 하는 일이 많다.\n",
    "- return은 객체지향 이전부터 존재함\n",
    "- 생성자에 오류가 발생했을 때 "
   ]
  },
  {
   "cell_type": "code",
   "execution_count": 4,
   "id": "ceed51e3",
   "metadata": {},
   "outputs": [
    {
     "name": "stdout",
     "output_type": "stream",
     "text": [
      "__init__() should return None, not 'bool'\n"
     ]
    }
   ],
   "source": [
    "class Test:\n",
    "  def __init__(self):\n",
    "    return True   # 🔥 생성자에 return을 사용할 수 없습니다.\n",
    "    # raise Exception(\"객체 생성오류\")\n",
    "  \n",
    "  def drive(self):\n",
    "    print('부릉부릉')\n",
    "\n",
    "try:\n",
    "  t1 = Test()\n",
    "  t1.drive()\n",
    "except Exception as e:\n",
    "  print(e)\n",
    "\n",
    "  "
   ]
  }
 ],
 "metadata": {
  "kernelspec": {
   "display_name": "aiBootCamp",
   "language": "python",
   "name": "python3"
  },
  "language_info": {
   "codemirror_mode": {
    "name": "ipython",
    "version": 3
   },
   "file_extension": ".py",
   "mimetype": "text/x-python",
   "name": "python",
   "nbconvert_exporter": "python",
   "pygments_lexer": "ipython3",
   "version": "3.10.16"
  }
 },
 "nbformat": 4,
 "nbformat_minor": 5
}
