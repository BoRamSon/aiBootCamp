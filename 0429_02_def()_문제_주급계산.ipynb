{
 "cells": [
  {
   "cell_type": "markdown",
   "metadata": {},
   "source": [
    "# 🟩 def() - 쉬운문제 풀어보기"
   ]
  },
  {
   "cell_type": "markdown",
   "metadata": {},
   "source": [
    "## 🟢 문제 1\n",
    "\n",
    "- 주급 계산 - 함수를 사용해서 코드 작성 (강사님 작성)\n",
    "- 함수 안의 코드는 기본적으로 15 ~ 20 줄 이내에서 작성해야하는 것이 좋음 / 아무리 많아도 A4 용지 한장은 넘지 않게 해야함\n",
    "- 필요하다면 최대한 함수를 쪼개는 것이 좋음\n",
    "\n",
    "- dictionary type과 def를 사용하는 것이 좋다고 판단됨\n",
    "\n",
    "<br><br><br>\n",
    "\n",
    "\n",
    "- <진짜 문제>\n",
    "  주급계산 이름, 근무시간, 시간당급여액 - ex) 5명에 대해서\n",
    "\n",
    "  name:  /   work_time:   /   per_wage:   \n",
    "  홍길동 40 10000  \n",
    "  임꺽정 30 20000  \n",
    "  장길산 20 20000   \n",
    "  홍경래 10 15000  \n",
    "  이징옥 20 30000  "
   ]
  },
  {
   "cell_type": "code",
   "execution_count": null,
   "metadata": {},
   "outputs": [
    {
     "name": "stdout",
     "output_type": "stream",
     "text": [
      "홍길동님의 시급은 10000이며, 일한 시간은 40입니다. 따라서 주급은 총 400000입니다.\n",
      "임꺽정님의 시급은 20000이며, 일한 시간은 30입니다. 따라서 주급은 총 600000입니다.\n",
      "장길산님의 시급은 20000이며, 일한 시간은 20입니다. 따라서 주급은 총 400000입니다.\n"
     ]
    }
   ],
   "source": [
    "\n",
    "def calcul_weekly_pay(name, per_wage, work_time):\n",
    "  week_pay = per_wage * work_time\n",
    "  return print(f\"{name}님의 시급은 {per_wage}이며, 일한 시간은 {work_time}입니다. 따라서 주급은 총 {week_pay}입니다.\")\n",
    "\n",
    "\n",
    "workers = [{'name': '홍길동', 'per_wage': 10000, 'work_time': 40}, \n",
    "            {'name': '임꺽정', 'per_wage': 20000, 'work_time': 30},\n",
    "            {'name': '장길산', 'per_wage': 20000, 'work_time': 20}]\n",
    "\n",
    "for i in workers:\n",
    "  calcul_weekly_pay(i['name'], i['per_wage'], i['work_time'])"
   ]
  },
  {
   "cell_type": "code",
   "execution_count": null,
   "metadata": {},
   "outputs": [
    {
     "name": "stdout",
     "output_type": "stream",
     "text": [
      "dwqd님의 시급은 10000이며, 일한 시간은 10입니다. 따라서 주급은 총 100000입니다.\n",
      "jiojsdqw님의 시급은 10000이며, 일한 시간은 20입니다. 따라서 주급은 총 200000입니다.\n"
     ]
    }
   ],
   "source": [
    "# --------------------------------------------------------------\n",
    "# 입력\n",
    "workers2 = []\n",
    "\n",
    "def input_worker_list():\n",
    "  name = input('이름을 입력해주세요! :')\n",
    "  per_wage = int(input('시급을 입력해주세요! :'))\n",
    "  work_time = int(input('일한 시간을 입력해주세요! :'))\n",
    "\n",
    "  workers2.append({'name': name, 'per_wage': per_wage, 'work_time': work_time})\n",
    "\n",
    "\n",
    "# 입력받았다고 쳐주는 데이터를 이렇게 만들어줬습니다.\n",
    "# workers2 = [{'name': '홍길동', 'per_wage': 10000, 'work_time': 40}, \n",
    "#             {'name': '임꺽정', 'per_wage': 20000, 'work_time': 30},\n",
    "#             {'name': '장길산', 'per_wage': 20000, 'work_time': 20}]\n",
    "\n",
    "\n",
    "\n",
    "# --------------------------------------------------------------\n",
    "# 계산\n",
    "def calcul_weekly_pay2(name, per_wage, work_time):\n",
    "  week_pay2 = int(per_wage) * int(work_time)\n",
    "  return print(f\"{name}님의 시급은 {per_wage}이며, 일한 시간은 {work_time}입니다. 따라서 주급은 총 {week_pay2}입니다.\")\n",
    "\n",
    "\n",
    "\n",
    "# --------------------------------------------------------------\n",
    "# 출력\n",
    "\n",
    "# 🔥🔥🔥🔥🔥 이렇게 하면 하나 입력하고, 하나 출력하는 방식으로 만들어줄 수 있겠습니다.\n",
    "for i in range(0, 2):\n",
    "  input_worker_list()\n",
    "  calcul_weekly_pay2(workers2[i]['name'], workers2[i]['per_wage'], workers2[i]['work_time'])\n",
    "\n",
    "  "
   ]
  },
  {
   "cell_type": "markdown",
   "metadata": {},
   "source": [
    "## 🟢 문제 1 - 같이 풀어보기"
   ]
  },
  {
   "cell_type": "code",
   "execution_count": null,
   "metadata": {},
   "outputs": [],
   "source": [
    "worker_list = [\n",
    "                {\"name\" : \"홍길동\" , \"work_time\" : 30 , \"per_pay\" : 20000} ,              #공용변수로 존재 , 테스트용 데이터 선 입력\n",
    "                {\"name\" : \"고길동\" , \"work_time\" : 20 , \"per_pay\" : 30000} ,\n",
    "                {\"name\" : \"김길동\" , \"work_time\" : 50 , \"per_pay\" : 20000}\n",
    "               ]\n",
    "\n",
    "\n",
    "\n",
    "def append() : #데이터 추가 함수 작성\n",
    "    worker = {}\n",
    "    worker[\"name\"]      =     input(\"이름 : \")\n",
    "    worker[\"work_time\"] = int(input(\"근무 시간 : \"))\n",
    "    worker[\"per_pay\"]   = int(input(\"시간 당 급여액 : \"))\n",
    "    worker[\"pay\"]       = 0     # 주급 계산을 위해서 입력\n",
    "    \n",
    "    worker_list.append(worker)  # 목록에 추가하기\n",
    "\n",
    "def process(worker) :       # 주급 계산 함수 (dic 타입 데이터를 가져와서 반환하는 방법) , 매개변수로 값을 받아오면 외부로 전달 안되는 것이 원칙\n",
    "    worker[\"pay\"] = worker[\"work_time\"] * worker[\"per_pay\"]\n",
    "    \n",
    "def process_main() :        # process 함수는 한 명분에 대한 처리 함수이기에 별도로 함수를 만들어 리스트 내의 전체 계산을 위한 함수를 별도 작성\n",
    "    for w in worker_list :\n",
    "        process(w)\n",
    "\n",
    "def output() :\n",
    "    for w in worker_list :\n",
    "        print(f\"{w[\"name\"]}\" , end=\"\\t\")\n",
    "        print(f\"{w[\"work_time\"]}\" , end=\"\\t\")\n",
    "        print(f\"{w[\"per_pay\"]}\" , end=\"\\t\")\n",
    "        print(f\"{w[\"pay\"]}\" , end=\"\\t\")\n",
    "        print() # 줄바꿈 코드\n",
    "\n",
    "def main_menu() :\n",
    "    while(True) :              # while(True) : 무한 루프 코드 - 종료를 하지 않는다. 종료를 원하면 break 문을 쓰거나 return 구문을 사용\n",
    "        print(\"[1] 추가\")       # return - 함수를 종료하면서 함수의 작업 내용을 함수 외부로 전달함\n",
    "        print(\"[2] 출력\")       # return 을 쓰고 값을 안주면 그냥 함수가 종료됨(함수 종료를 의미함)\n",
    "        print(\"[3] 계산\")\n",
    "        print(\"[0] 종료\")               \n",
    "        sel = input(\"선택 : \")\n",
    "        if sel   == \"1\" :       # 사용자가 1 을 입력했을 때\n",
    "            append()            # 데이터 추가 함수 호출\n",
    "        elif sel == \"2\" :       # 사용자가 2 를 입력했을 때\n",
    "            output()            # 출력 함수 호출\n",
    "        elif sel == \"3\" :       # 사용자가 3 을 입력했을 때\n",
    "            process_main()      # 계산 함수 호출\n",
    "        elif sel == \"0\" :       # 사용자가 0 을 입력했을 때\n",
    "            print(\"프로그램을 종료합니다.\")\n",
    "            return              # 함수 자체를 종료\n",
    "        else :\n",
    "            print(\"잘못 선택하셨습니다.\")   # 입력 오류 체크\n",
    "\n",
    "\n",
    "main_menu()"
   ]
  }
 ],
 "metadata": {
  "kernelspec": {
   "display_name": "aiBootCamp",
   "language": "python",
   "name": "python3"
  },
  "language_info": {
   "codemirror_mode": {
    "name": "ipython",
    "version": 3
   },
   "file_extension": ".py",
   "mimetype": "text/x-python",
   "name": "python",
   "nbconvert_exporter": "python",
   "pygments_lexer": "ipython3",
   "version": "3.10.16"
  }
 },
 "nbformat": 4,
 "nbformat_minor": 2
}
