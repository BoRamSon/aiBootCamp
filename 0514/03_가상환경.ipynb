{
 "cells": [
  {
   "cell_type": "markdown",
   "metadata": {},
   "source": [
    "# 🟩 가상환경 (anaconda)"
   ]
  },
  {
   "cell_type": "markdown",
   "metadata": {},
   "source": [
    "## 🟢 conda 가상 환경 만들기\n",
    "- 강화학습 : 게임에 적용되는 머신러닝 알고리즘 (파이썬 3.9이하만)\n",
    "- 동일 컴퓨터에 별도의 실행환경을 만들어서 거기에 변도의 라이브러리를 설치해야 한다.\n",
    "- 동일 컴퓨터의 여러 버전의 파이썬과 라이브러리를 사용할 수 있다.\n",
    "- 프로젝트별로 별도의 환경을 만들 수 있다.\n",
    "\n",
    "- 의존성 관리 => 예를 들어서 머신러닝(scik-learn)이 알고리즘은 numpy나 pandas가 동시에 필요하며 서로 버전도 맞아야 합니다.\n",
    "\n",
    "- conda create --name 가상환경명 python=3.8\n",
    "- conda create --myenv1 python=3.8\n",
    "\n",
    "- 윈도우와 리눅스는 가상환경 설치 방법 자체가 다릅니다."
   ]
  },
  {
   "cell_type": "markdown",
   "metadata": {},
   "source": [
    "## 🟢 venv 가상 환경 만들기 (for Web VSCode)\n",
    "(conda는 웹상에 가볍게 사용하기 어렵기 때문에 venv 환경을 가져야합니다.)\n",
    "\n",
    "- .idx 폴더  ->  dev.nix  ->   pkgs.python38Full  (파이썬 버전 3.8로 바꾸기)  ->  reroad\n",
    "  ```python\n",
    "  packages = [\n",
    "    pkgs.python38Full\n",
    "    pkgs.python311Packages.pip\n",
    "  ];\n",
    "  ```\n",
    "  - 이렇게 하고 다시 리빌딩하게 되면 나의 메인폴더?(메인 환경에 )\n",
    "  - \n",
    "  - Web에서는  \n",
    "\n",
    "- 가상환경을 모아놓을 'virtual_env' 폴더를 만든다.\n",
    "\n",
    "- python3 -m venv <가상환경_이름>\n",
    "  - python3 -m venv aiBootCamp1\n",
    "\n",
    "- source <가상환경_이름>/bin/activate\n",
    "  - source aiBootCamp1/bin/activate\n",
    "\n",
    "- 설치 경로 확인\n",
    "  - /home/******/******/aiBootCamp1/lib/python3.8/site-packages/pip (python 3.8)\n",
    "  - 3.8 버전을 베이스 가상환경이 잘 설치된 것을 확인할 수 있다.\n",
    "\n",
    "\n"
   ]
  }
 ],
 "metadata": {
  "kernelspec": {
   "display_name": ".venv",
   "language": "python",
   "name": "python3"
  },
  "language_info": {
   "name": "python",
   "version": "3.8.19"
  }
 },
 "nbformat": 4,
 "nbformat_minor": 2
}
