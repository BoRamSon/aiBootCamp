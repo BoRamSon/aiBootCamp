{
 "cells": [
  {
   "cell_type": "markdown",
   "metadata": {},
   "source": [
    "# 🟩 while"
   ]
  },
  {
   "cell_type": "markdown",
   "metadata": {},
   "source": [
    "\n",
    "- 조건에 의해서 특정 조건을 만족할 때만 수행을 한다.  \n",
    "- 때로는 🔥 단 한번도 수행이 안될 가능성이 있을 때 사용하면 좋다.  \n",
    "- for문 대신에 쓸 수 있다.\n",
    "\n",
    "- 형태  \n",
    "  ```python\n",
    "  while 조건식;\n",
    "    ...\n",
    "    ...\n",
    "    ...\n",
    "  ```\n",
    "\n",
    "\n",
    "- 조건식의 결과가 true일 때 실행한다.\n",
    "\n",
    "- 사용하는 경우\n",
    "  - 에러체크할 때\n",
    "  - 숫자를 입력해야 하는데 문자를 입력했을 때\n",
    "  - DB처리나 파일처리 같은 경우에 유용했었음\n",
    "  - 그러나 파이썬의 경우에는 for문만으로도 수행이 가능해서 while문의 역할이 축소 된다."
   ]
  },
  {
   "cell_type": "code",
   "execution_count": 1,
   "metadata": {},
   "outputs": [
    {
     "name": "stdout",
     "output_type": "stream",
     "text": [
      "1\n",
      "2\n",
      "3\n",
      "4\n",
      "5\n",
      "6\n",
      "7\n",
      "8\n",
      "9\n",
      "10\n"
     ]
    }
   ],
   "source": [
    "i = 1\n",
    "while i <= 10:\n",
    "  print(i)\n",
    "  i += 1   # while문은 마지막 문장은 조건이 false가 되는 상황을 만들게 하는 것이 좋다."
   ]
  },
  {
   "cell_type": "code",
   "execution_count": null,
   "metadata": {},
   "outputs": [
    {
     "name": "stdout",
     "output_type": "stream",
     "text": [
      "숫자만 입력하세요. 0~9\n",
      "숫자만 입력하세요. 0~9\n",
      "숫자만 입력하세요. 0~9\n",
      "숫자만 입력하세요. 0~9\n",
      "숫자만 입력하세요. 0~9\n",
      "숫자만 입력하세요. 0~9\n"
     ]
    }
   ],
   "source": [
    "num = input('숫자로 입력해주세요 : ')\n",
    "\n",
    "while ord(num) < 48 or ord(num) > 57:  # 모든 문자를 숫자로서 생각해서 validation 하기\n",
    "  print('숫자만 입력하세요. 0~9')\n",
    "  num = input('숫자로 입력해주세요 : ')\n",
    "  \n",
    "\n",
    "\n"
   ]
  },
  {
   "cell_type": "markdown",
   "metadata": {},
   "source": [
    "\n",
    "---\n",
    "## 🟢 예제\n",
    "\n",
    "1 + 2 + 3 + 4 + 5 .....  언제 1000을 넘을까 1000을 넘는 n을 구하려고 한다.  \n",
    "for문은 부적합하다."
   ]
  },
  {
   "cell_type": "code",
   "execution_count": null,
   "metadata": {},
   "outputs": [
    {
     "name": "stdout",
     "output_type": "stream",
     "text": [
      "45\n"
     ]
    }
   ],
   "source": [
    "\n",
    "sum = 0  # 초기 합계를 0으로 설정\n",
    "i = 0    # 초기 변수 i를 0으로 설정\n",
    "\n",
    "while sum < 10:  # 합계가 10보다 작은 동안 반복\n",
    "    i += 1       # i를 1씩 증가\n",
    "    sum = sum + i  # sum에 i를 더함\n",
    "\n",
    "print(i)  # 최종적으로 i 값을 출력\n"
   ]
  }
 ],
 "metadata": {
  "kernelspec": {
   "display_name": "aiBootCamp",
   "language": "python",
   "name": "python3"
  },
  "language_info": {
   "codemirror_mode": {
    "name": "ipython",
    "version": 3
   },
   "file_extension": ".py",
   "mimetype": "text/x-python",
   "name": "python",
   "nbconvert_exporter": "python",
   "pygments_lexer": "ipython3",
   "version": "3.10.16"
  }
 },
 "nbformat": 4,
 "nbformat_minor": 2
}
