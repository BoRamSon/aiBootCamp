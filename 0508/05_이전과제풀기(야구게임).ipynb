{
 "cells": [
  {
   "cell_type": "markdown",
   "metadata": {},
   "source": [
    "## 🟢 이전 과제 (5월 2일) 야구게임 class로 만들어서 풀기\n",
    "\n",
    "- module 형태로 만들기 위해서 별도의 폴더와 py파일을 통해 진핸하였습니다.\n",
    "  - baseball 폴더 참조\n"
   ]
  }
 ],
 "metadata": {
  "language_info": {
   "name": "python"
  }
 },
 "nbformat": 4,
 "nbformat_minor": 2
}
