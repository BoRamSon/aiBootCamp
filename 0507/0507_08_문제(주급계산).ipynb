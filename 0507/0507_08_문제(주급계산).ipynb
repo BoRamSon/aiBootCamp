{
 "cells": [
  {
   "cell_type": "markdown",
   "metadata": {},
   "source": [
    "# 🟩 문제 (주급계산)"
   ]
  },
  {
   "cell_type": "code",
   "execution_count": null,
   "metadata": {},
   "outputs": [
    {
     "name": "stdout",
     "output_type": "stream",
     "text": [
      "[1] 추가\n",
      "[2] 계산\n",
      "[3] 출력\n",
      "[0] 종료\n",
      "[1] 추가\n",
      "[2] 계산\n",
      "[3] 출력\n",
      "[0] 종료\n",
      "홍길동\t30\t20000\t600000\t\n",
      "고길동\t20\t30000\t600000\t\n",
      "김길동\t50\t20000\t1000000\t\n",
      "[1] 추가\n",
      "[2] 계산\n",
      "[3] 출력\n",
      "[0] 종료\n",
      "프로그램을 종료합니다.\n"
     ]
    }
   ],
   "source": [
    "\n",
    "class WeekPayCalculator:\n",
    "  def __init__(self):\n",
    "    # self.worker_list = []   # 원래 빈 값으로 만든 상태에서 input을 받아서 사용한다.\n",
    "    self.worker_list = [  \n",
    "      {\"name\" : \"홍길동\" , \"work_time\" : 30 , \"per_pay\" : 20000},\n",
    "      {\"name\" : \"고길동\" , \"work_time\" : 20 , \"per_pay\" : 30000},\n",
    "      {\"name\" : \"김길동\" , \"work_time\" : 50 , \"per_pay\" : 20000}\n",
    "    ]\n",
    "\n",
    "  def input_data(self):\n",
    "      worker = {}\n",
    "      worker[\"name\"]      =     input(\"이름 : \")\n",
    "      worker[\"work_time\"] = int(input(\"근무 시간 : \"))\n",
    "      worker[\"per_pay\"]   = int(input(\"시간 당 급여액 : \"))\n",
    "      self.worker_list.append(worker) \n",
    "\n",
    "  def calcul_data(self) : \n",
    "    for w in self.worker_list:\n",
    "      w[\"pay\"] = w[\"work_time\"] * w[\"per_pay\"]\n",
    "\n",
    "  def output(self) :\n",
    "    for w in self.worker_list:\n",
    "      print(f\"{w['name']}\" , end=\"\\t\")\n",
    "      print(f\"{w['work_time']}\" , end=\"\\t\")\n",
    "      print(f\"{w['per_pay']}\" , end=\"\\t\")\n",
    "      print(f\"{w['pay']}\" , end=\"\\t\")\n",
    "      print()\n",
    "\n",
    "  def main_menu(self) :\n",
    "    while(True) :              \n",
    "      print(\"[1] 추가\")       \n",
    "      print(\"[2] 계산\")       \n",
    "      print(\"[3] 출력\")\n",
    "      print(\"[0] 종료\")               \n",
    "      sel = input(\"선택 : \")\n",
    "      if sel   == \"1\" :       \n",
    "          self.input_data()            \n",
    "      elif sel == \"2\" :       \n",
    "          self.calcul_data()      \n",
    "      elif sel == \"3\" :       \n",
    "          self.output()            \n",
    "      elif sel == \"0\" :       \n",
    "          print(\"프로그램을 종료합니다.\")\n",
    "          return              \n",
    "      else :\n",
    "          print(\"❌ 잘못 선택하셨습니다. 다시 입력해주세요.\")   # 입력 오류 체크\n",
    "\n",
    "c1 = WeekPayCalculator()\n",
    "c1.main_menu()"
   ]
  },
  {
   "cell_type": "markdown",
   "metadata": {},
   "source": [
    "### 🟡 같이 풀어보기 (한명의 주급만 처리하기)\n",
    "```python\n",
    "\n",
    "```"
   ]
  },
  {
   "cell_type": "code",
   "execution_count": null,
   "metadata": {},
   "outputs": [
    {
     "name": "stdout",
     "output_type": "stream",
     "text": [
      "이름: 홍길동 | 근무한 시간: 20 | 시급: 10000 | 주급: 200000\n"
     ]
    }
   ],
   "source": [
    "class WeekPay1():\n",
    "  def __init__(self, name='', work_time = 20, per_pay = 10000):\n",
    "    self.name = name\n",
    "    self.work_time = work_time\n",
    "    self.per_pay = per_pay\n",
    "    self.process()\n",
    "\n",
    "  def process(self):\n",
    "    self.pay = self.work_time * self.per_pay\n",
    "\n",
    "  def output(self):\n",
    "    print(f\"이름: {self.name} | 근무한 시간: {self.work_time} | 시급: {self.per_pay} | 주급: {self.pay}\")\n",
    "\n",
    "\n",
    "c2 = WeekPay1('홍길동')\n",
    "c2.output()"
   ]
  },
  {
   "cell_type": "markdown",
   "metadata": {},
   "source": [
    "### 🟡 같이 풀어보기 (여러명의 주급만 처리하기)\n",
    "- data transfer object\n",
    "\n",
    "```python\n",
    "\n",
    "```"
   ]
  },
  {
   "cell_type": "code",
   "execution_count": null,
   "metadata": {},
   "outputs": [
    {
     "name": "stdout",
     "output_type": "stream",
     "text": [
      "이름: 홍길동 | 근무한 시간: 20 | 시급: 20000 | 주급: 400000\n",
      "이름: 고길동 | 근무한 시간: 10 | 시급: 50000 | 주급: 500000\n",
      "이름: 김길동 | 근무한 시간: 30 | 시급: 40000 | 주급: 1200000\n",
      "이름: 이길동 | 근무한 시간: 40 | 시급: 20000 | 주급: 800000\n",
      "이름: 장길동 | 근무한 시간: 20 | 시급: 20000 | 주급: 400000\n"
     ]
    }
   ],
   "source": [
    "class WeekPay2():\n",
    "  def __init__(self, name='', work_time = 20, per_pay = 10000):\n",
    "    self.name = name\n",
    "    self.work_time = work_time\n",
    "    self.per_pay = per_pay\n",
    "    self.process()\n",
    "\n",
    "  def process(self):\n",
    "    self.pay = self.work_time * self.per_pay\n",
    "\n",
    "  def output(self):\n",
    "    print(f\"이름: {self.name} | 근무한 시간: {self.work_time} | 시급: {self.per_pay} | 주급: {self.pay}\")\n",
    "\n",
    "# c2 = WeekPay2('홍길동')\n",
    "# c2.output()\n",
    "\n",
    "\n",
    "# 🟡 1. 이것을 또 다른 class로 만들어서 여러개를 처리하는 것으로 만들 수 있습니다.\n",
    "# 자주 사용하는 클래스의 구조가 있습니다.\n",
    "# worker_list = [\n",
    "#   WeekPay2('홍길동', 20, 20000),\n",
    "#   WeekPay2('고길동', 10, 50000),\n",
    "#   WeekPay2('김길동', 30, 40000),\n",
    "#   WeekPay2('이길동', 40, 20000),\n",
    "#   WeekPay2('장길동', 20, 20000)\n",
    "# ]\n",
    "\n",
    "# for w in worker_list:\n",
    "#   w.output()\n",
    "\n",
    "\n",
    "# 🟡 2. 이전 클래스를 활용해서 여러명을 처리하는 class를 만들어보겠습니다.\n",
    "class WeekPayManager:\n",
    "  def __init__(self):\n",
    "    self.worker_list = [\n",
    "      WeekPay2('홍길동', 20, 20000),\n",
    "      WeekPay2('고길동', 10, 50000),\n",
    "      WeekPay2('김길동', 30, 40000),\n",
    "      WeekPay2('이길동', 40, 20000),\n",
    "      WeekPay2('장길동', 20, 20000)\n",
    "    ]\n",
    "\n",
    "  def output(self):\n",
    "    for w in self.worker_list:\n",
    "      # 1) 여기에 WeekPay2('홍길동', 20, 20000) 클래스 자체가 들어와버립니다.\n",
    "      # 2) 그러면서 w가 output\n",
    "      w.output() \n",
    "\n",
    "\n",
    "c3 = WeekPayManager()\n",
    "c3.output()\n"
   ]
  }
 ],
 "metadata": {
  "kernelspec": {
   "display_name": "aiBootCamp",
   "language": "python",
   "name": "python3"
  },
  "language_info": {
   "codemirror_mode": {
    "name": "ipython",
    "version": 3
   },
   "file_extension": ".py",
   "mimetype": "text/x-python",
   "name": "python",
   "nbconvert_exporter": "python",
   "pygments_lexer": "ipython3",
   "version": "3.10.16"
  }
 },
 "nbformat": 4,
 "nbformat_minor": 2
}
