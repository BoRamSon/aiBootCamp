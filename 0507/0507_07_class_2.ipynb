{
 "cells": [
  {
   "cell_type": "markdown",
   "metadata": {},
   "source": [
    "# 🟩 class 2"
   ]
  },
  {
   "cell_type": "code",
   "execution_count": null,
   "metadata": {},
   "outputs": [
    {
     "name": "stdout",
     "output_type": "stream",
     "text": [
      "장길산 13 ['010-0000-0003']\n",
      "김종서 13 ['010-0000-0004']\n"
     ]
    }
   ],
   "source": [
    "class Person:\n",
    "  # 이 공간은 클래스 공간이다. 크래스 정의할 때 딱 한번 싱행된다.\n",
    "  # 객체 만들 때마다 실행되지 않는다. 그래서 list타입이나 dict타입 등을 함부러 여기에 선언하면 안된다.\n",
    "  \n",
    "  # ❌ 잘 못된 변수 설정 (공통변수 선언하는 곳)\n",
    "  # name = '홍길동'\n",
    "  # age = '12'\n",
    "  # phone = ['010-0000-0001', '010-0000-0002']   # 공통공간...\n",
    "\n",
    "  # ✅ 잘 된 예시 - 파이썬은 생성자에 변수 만들기\n",
    "  def __init__(self):\n",
    "    self.name = ''\n",
    "    self.age = 0\n",
    "    self.phone = []\n",
    "\n",
    "  # 이 함수는 생성자의 변수 내용을 변경하고 있습니다.\n",
    "  def append(self, name = '임꺽정', age = 13, phone='010-0000-0001'):\n",
    "    self.name = name\n",
    "    self.age = age\n",
    "    self.phone.append(phone)\n",
    "  \n",
    "  def output(self):\n",
    "    print(self.name, self.age, self.phone)\n",
    "\n",
    "p1 = Person()\n",
    "p1.append('장길산', 11, '010-0000-0003')\n",
    "\n",
    "p2 = Person()\n",
    "p2.append('김종서', 13, '010-0000-0004')\n",
    "\n",
    "p1.output()\n",
    "p2.output()"
   ]
  }
 ],
 "metadata": {
  "kernelspec": {
   "display_name": "aiBootCamp",
   "language": "python",
   "name": "python3"
  },
  "language_info": {
   "codemirror_mode": {
    "name": "ipython",
    "version": 3
   },
   "file_extension": ".py",
   "mimetype": "text/x-python",
   "name": "python",
   "nbconvert_exporter": "python",
   "pygments_lexer": "ipython3",
   "version": "3.10.16"
  }
 },
 "nbformat": 4,
 "nbformat_minor": 2
}
