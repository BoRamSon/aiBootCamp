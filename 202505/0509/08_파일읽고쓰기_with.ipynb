{
 "cells": [
  {
   "cell_type": "markdown",
   "id": "5f810b84",
   "metadata": {},
   "source": [
    "# 🟩 with 구문\n",
    "\n",
    "- 그저 close를 안하는 것 때문에 생겼다고 생각하자.\n",
    "- with 구문 안에 넣으면, 일이 끝나면 자동으로 닫아준다.\n",
    "- 파이썬 버전이 낮을 경우에 거듭해서 파일을 여는 것은 안된다.\n"
   ]
  },
  {
   "cell_type": "code",
   "execution_count": 3,
   "id": "f66a4d86",
   "metadata": {},
   "outputs": [
    {
     "name": "stdout",
     "output_type": "stream",
     "text": [
      "['mpg,cylinders,displacement,horsepower,weight,acceleration,model_year,origin,name\\n', '18.0,8,307.0,130.0,3504,12.0,70,usa,chevrolet chevelle malibu\\n', '15.0,8,350.0,165.0,3693,11.5,70,usa,buick skylark 320\\n']\n",
      "['mpg,cylinders,displacement,horsepower,weight,acceleration,model_year,origin,name\\n', '18.0,8,307.0,130.0,3504,12.0,70,usa,chevrolet chevelle malibu\\n', '15.0,8,350.0,165.0,3693,11.5,70,usa,buick skylark 320\\n']\n"
     ]
    }
   ],
   "source": [
    "f = open('datas/mpg.csv', 'r')\n",
    "lines = f.readlines()\n",
    "print(lines[:3])\n",
    "\n",
    "# 원래 안 닫고 열면 에러가 나야하는데.... 나지 않습니다.\n",
    "f = open('datas/mpg.csv', 'r')\n",
    "lines = f.readlines()\n",
    "print(lines[:3])\n",
    "\n"
   ]
  },
  {
   "cell_type": "code",
   "execution_count": 4,
   "id": "42b1a4a1",
   "metadata": {},
   "outputs": [
    {
     "name": "stdout",
     "output_type": "stream",
     "text": [
      "['mpg,cylinders,displacement,horsepower,weight,acceleration,model_year,origin,name\\n', '18.0,8,307.0,130.0,3504,12.0,70,usa,chevrolet chevelle malibu\\n', '15.0,8,350.0,165.0,3693,11.5,70,usa,buick skylark 320\\n']\n"
     ]
    }
   ],
   "source": [
    "with open('datas/mpg.csv', 'r') as f:  \n",
    "  lines = f.readlines()\n",
    "  print(lines[:3])\n",
    "\n"
   ]
  }
 ],
 "metadata": {
  "kernelspec": {
   "display_name": "aiBootCamp",
   "language": "python",
   "name": "python3"
  },
  "language_info": {
   "codemirror_mode": {
    "name": "ipython",
    "version": 3
   },
   "file_extension": ".py",
   "mimetype": "text/x-python",
   "name": "python",
   "nbconvert_exporter": "python",
   "pygments_lexer": "ipython3",
   "version": "3.10.16"
  }
 },
 "nbformat": 4,
 "nbformat_minor": 5
}
