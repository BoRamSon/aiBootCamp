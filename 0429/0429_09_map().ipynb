{
 "cells": [
  {
   "cell_type": "markdown",
   "metadata": {},
   "source": [
    "# 🟩 map()"
   ]
  },
  {
   "cell_type": "markdown",
   "metadata": {},
   "source": [
    "\n",
    "## 🟢 `map()` 기본 개념\n",
    "\n",
    "### 🟡 정의\n",
    "- **함수**와 **이터러블 객체**를 받아 각 요소에 함수를 적용한 결과를 반환하는 함수\n",
    "- **지연 평가(Lazy Evaluation)**: 즉시 계산하지 않고 필요 시 결과 생성\n",
    "\n",
    "### 🟡 기본 구조 (형태)\n",
    "```python\n",
    "map_obj = map(function, iterable[, iterable2, ...])\n",
    "```\n",
    "- function: 각 요소에 적용할 함수\n",
    "- iterable: 함수를 적용할 반복 가능한 객체 (리스트, 튜플 등)\n",
    "- map()은 이터레이터 를 반환, 그래서 list(), tuple()로 변환해야 실제 값 확인 가능\n",
    "\n",
    "### 🟡 특징\n",
    "\n",
    "\n",
    "### 🟡 작동방식\n",
    "- filter하고 비슷하게 생겼다고 하는 것은 틀린 것이지만, 이해하기에는 비슷하다고 이해합시다. 하지만 map은 그저 주어진 동작을 수행하고 return 합니다. \n"
   ]
  },
  {
   "cell_type": "markdown",
   "metadata": {},
   "source": [
    "---\n",
    "## 🟢 예제"
   ]
  },
  {
   "cell_type": "code",
   "execution_count": null,
   "metadata": {},
   "outputs": [
    {
     "name": "stdout",
     "output_type": "stream",
     "text": [
      "[2, 3, 4]\n"
     ]
    }
   ],
   "source": [
    "# 이렇게 별도의 함수를 가져다 씁니다.\n",
    "def add_one(x):\n",
    "    return x + 1\n",
    "\n",
    "result1 = map(add_one, [1, 2, 3])\n",
    "\n",
    "# map()은 이터레이터 를 반환, 그래서 list(), tuple()로 변환해야 실제 값 확인 가능\n",
    "print(list(result1)) # 결과 : [2, 3, 4]"
   ]
  },
  {
   "cell_type": "code",
   "execution_count": 1,
   "metadata": {},
   "outputs": [
    {
     "name": "stdout",
     "output_type": "stream",
     "text": [
      "10\n",
      "20\n",
      "30\n",
      "40\n",
      "50\n"
     ]
    }
   ],
   "source": [
    "# iterable한 리스트의 요소를 곱하기\n",
    "a = [1,2,3,4,5]\n",
    "for i in map(lambda x : x * 10 , a) :\n",
    "    print(i)"
   ]
  },
  {
   "cell_type": "code",
   "execution_count": null,
   "metadata": {},
   "outputs": [
    {
     "name": "stdout",
     "output_type": "stream",
     "text": [
      "[11, 22]\n"
     ]
    }
   ],
   "source": [
    "# iterable한 두 리스트의 요소를 더하기\n",
    "a = [10, 20]\n",
    "b = [1, 2]\n",
    "result2 = map(lambda x, y: x + y, a, b)\n",
    "\n",
    "# map()은 이터레이터 를 반환, 그래서 list(), tuple()로 변환해야 실제 값 확인 가능\n",
    "print(list(result2))  # [11, 22]"
   ]
  },
  {
   "cell_type": "code",
   "execution_count": null,
   "metadata": {},
   "outputs": [
    {
     "name": "stdout",
     "output_type": "stream",
     "text": [
      "[11, 22]\n",
      "[]\n"
     ]
    }
   ],
   "source": [
    "# 이렇게 한줄로 만들어버릴 수 있습니다.\n",
    "# 🔥 지연 평가(Lazy Evaluation)에 대해서 파악해봅시다.\n",
    "\n",
    "result3 = map(lambda x, y: x + y, [10, 20], [1, 2])\n",
    "\n",
    "# map()은 이터레이터 를 반환, 그래서 list(), tuple()로 변환해야 실제 값 확인 가능\n",
    "print(list(result3))  # [11, 22]\n",
    "print(list(result3))  # 🔥 요소가 사라져버림... 필요할 때 나타났다가 소모되어버림"
   ]
  },
  {
   "cell_type": "code",
   "execution_count": null,
   "metadata": {},
   "outputs": [
    {
     "name": "stdout",
     "output_type": "stream",
     "text": [
      "[11, 22]\n",
      "[11, 22]\n"
     ]
    }
   ],
   "source": [
    "# 🔥 지연 평가(Lazy Evaluation)를 고치기 위한 list()감싸기\n",
    "\n",
    "# 여기에서 list()로 map을 감싸버렸습니다.\n",
    "result4 = list(map(lambda x, y: x + y, [10, 20], [1, 2]))\n",
    "\n",
    "# 별도로 list나 tuple로 변환해줄 필요도 없고, 사라질 걱정을 하지 않아도 됨\n",
    "print(result4)  # [11, 22]\n",
    "print(result4)  # 🔥 요소가 사라지지 않음"
   ]
  },
  {
   "cell_type": "code",
   "execution_count": 3,
   "metadata": {},
   "outputs": [
    {
     "name": "stdout",
     "output_type": "stream",
     "text": [
      "{'name': '홍길동', 'age': 39, 'phone': '010-0000-0001'}\n",
      "{'name': '정발산', 'age': 75, 'phone': '010-0000-0005'}\n",
      "{'name': '강감찬', 'age': 59, 'phone': '010-0000-0003'}\n",
      "{'name': '이순신', 'age': 35, 'phone': '010-0000-0002'}\n",
      "{'name': '김종서', 'age': 32, 'phone': '010-0000-0008'}\n",
      "{'name': '장영실', 'age': 71, 'phone': '010-0000-0006'}\n",
      "{'name': '서희', 'age': 80, 'phone': '010-0000-0001'}\n",
      "{'name': '곽재우', 'age': 46, 'phone': '010-0000-0009'}\n"
     ]
    }
   ],
   "source": [
    "person_list = [\n",
    "    {\"name\" : \"홍길동\" , \"age\" : 34 , \"phone\" : \"010-0000-0001\"},\n",
    "    {\"name\" : \"정발산\" , \"age\" : 70 , \"phone\" : \"010-0000-0005\"},\n",
    "    {\"name\" : \"강감찬\" , \"age\" : 54 , \"phone\" : \"010-0000-0003\"},\n",
    "    {\"name\" : \"이순신\" , \"age\" : 30 , \"phone\" : \"010-0000-0002\"},\n",
    "    {\"name\" : \"김종서\" , \"age\" : 27 , \"phone\" : \"010-0000-0008\"},\n",
    "    {\"name\" : \"장영실\" , \"age\" : 66 , \"phone\" : \"010-0000-0006\"},\n",
    "    {\"name\" : \"서희\"   , \"age\" : 75 , \"phone\" : \"010-0000-0001\"},\n",
    "    {\"name\" : \"곽재우\" , \"age\" : 41 , \"phone\" : \"010-0000-0009\"}\n",
    "]\n",
    "\n",
    "def myfunc_3(x) :\n",
    "    x[\"age\"] = x[\"age\"] + 5\n",
    "    return x\n",
    "\n",
    "# map 사용 시 함수를 사용하지 않으면 객체가 나오지 않음\n",
    "for per in map(myfunc_3, person_list) :\n",
    "    print(per)"
   ]
  },
  {
   "cell_type": "markdown",
   "metadata": {},
   "source": [
    "\n",
    "---\n",
    "## 🟢 map과의 비교\n",
    "\n",
    "| 항목             | `map()`                                    | `filter()`                                       |\n",
    "|------------------|---------------------------------------------|--------------------------------------------------|\n",
    "| **목적**         | 모든 요소에 함수를 적용해 **변형**          | 조건을 만족하는 요소만 **선택(필터링)**         |\n",
    "| **결과**         | 모든 요소가 **변형된 값**으로 반환됨        | 조건을 만족한 일부 요소만 반환됨                |\n",
    "| **함수 반환값**  | 새 값 (`x * 2`, `x.upper()` 등)             | `True` 또는 `False`                             |\n",
    "| **함수의 용도**  | 데이터를 **변형(transform)**                | 데이터를 **선별(select)**                        |\n",
    "| **반환 객체**    | `map` 객체 (반복자)                         | `filter` 객체 (반복자)                          |\n",
    "| **예시**         | `map(lambda x: x * 2, [1, 2, 3])` → `[2, 4, 6]` | `filter(lambda x: x % 2 == 0, [1, 2, 3])` → `[2]` |\n"
   ]
  }
 ],
 "metadata": {
  "kernelspec": {
   "display_name": "learnAI",
   "language": "python",
   "name": "python3"
  },
  "language_info": {
   "codemirror_mode": {
    "name": "ipython",
    "version": 3
   },
   "file_extension": ".py",
   "mimetype": "text/x-python",
   "name": "python",
   "nbconvert_exporter": "python",
   "pygments_lexer": "ipython3",
   "version": "3.10.16"
  }
 },
 "nbformat": 4,
 "nbformat_minor": 2
}
