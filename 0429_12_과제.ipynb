{
 "cells": [
  {
   "cell_type": "markdown",
   "metadata": {},
   "source": [
    "# 🟩 4월 29일 과제"
   ]
  },
  {
   "cell_type": "markdown",
   "metadata": {},
   "source": [
    "- words = [\"assembly\" , \"java\" , \"rain\" , \"notebook\" , \"north\" , \"south\" , \"hospital\" , \"programming\" , \"house\" ,\"hour\"]\n",
    "\n",
    "- [1] filter 함수를 사용하여 글자수가 6 글자 이상인 단어만 출력하기 (컴프리헨션 X)\n",
    "- [2] map 함수를 사용해서 글자를 대문자로 바꾸어서 출력 (컴프리헨션 X)\n",
    "- [3] sorted 함수를 사용해서 단어들의 길이순으로 오름차순으로 정렬하여 출력하기\n",
    "- [4] sorted 함수를 사용해서 알파벳 순으로 내림차순으로 정렬하여 출력하기\n",
    "- [5] 단어 중에 o 가 포함되는 단어가 모두 몇개인지 카운트하기 ( 힌트 , filter 를 사용 )"
   ]
  },
  {
   "cell_type": "code",
   "execution_count": 8,
   "metadata": {},
   "outputs": [
    {
     "name": "stdout",
     "output_type": "stream",
     "text": [
      "filter 함수를 이용하여 6글자 이상인 것만 출력하기 = assembly\n",
      "filter 함수를 이용하여 6글자 이상인 것만 출력하기 = notebook\n",
      "filter 함수를 이용하여 6글자 이상인 것만 출력하기 = hospital\n",
      "filter 함수를 이용하여 6글자 이상인 것만 출력하기 = programming\n",
      "map 함수를 활용하여 모두 대문자로 바꿔버리기 = ASSEMBLY\n",
      "map 함수를 활용하여 모두 대문자로 바꿔버리기 = JAVA\n",
      "map 함수를 활용하여 모두 대문자로 바꿔버리기 = RAIN\n",
      "map 함수를 활용하여 모두 대문자로 바꿔버리기 = NOTEBOOK\n",
      "map 함수를 활용하여 모두 대문자로 바꿔버리기 = NORTH\n",
      "map 함수를 활용하여 모두 대문자로 바꿔버리기 = SOUTH\n",
      "map 함수를 활용하여 모두 대문자로 바꿔버리기 = HOSPITAL\n",
      "map 함수를 활용하여 모두 대문자로 바꿔버리기 = PROGRAMMING\n",
      "map 함수를 활용하여 모두 대문자로 바꿔버리기 = HOUSE\n",
      "map 함수를 활용하여 모두 대문자로 바꿔버리기 = HOUR\n",
      "['java', 'rain', 'hour', 'north', 'south', 'house', 'assembly', 'notebook', 'hospital', 'programming']\n",
      "['south', 'rain', 'programming', 'notebook', 'north', 'java', 'house', 'hour', 'hospital', 'assembly']\n",
      "o가 포함되는 단어는 모두 몇개인가? = 7\n"
     ]
    }
   ],
   "source": [
    "words = [\"assembly\" , \"java\" , \"rain\" , \"notebook\" , \"north\" , \"south\" , \"hospital\" , \"programming\" , \"house\" ,\"hour\"]\n",
    "\n",
    "\n",
    "# 1. filter 함수를 사용하여 글자수가 6 글자 이상인 단어만 출력하기 (컴프리헨션 X)\n",
    "for i in filter(lambda is_six_text : len(is_six_text) >= 6, words):\n",
    "  print(f\"filter 함수를 이용하여 6글자 이상인 것만 출력하기 = {i}\")\n",
    "\n",
    "\n",
    "# 2. map 함수를 사용해서 글자를 대문자로 바꾸어서 출력 (컴프리헨션 X)\n",
    "# for i in map(lambda convert_upper : upper(convert_upper), words):\n",
    "for i in map(lambda convert_upper : convert_upper.upper(), words):\n",
    "  print(f\"map 함수를 활용하여 모두 대문자로 바꿔버리기 = {i}\")\n",
    "\n",
    "\n",
    "# 3. sorted 함수를 사용해서 단어들의 길이순으로 오름차순으로 정렬하여 출력하기\n",
    "sorted_words_list = sorted(words, key=len)\n",
    "print(sorted_words_list)\n",
    "\n",
    "\n",
    "# 4. sorted 함수를 사용해서 알파벳 순으로 내림차순으로 정렬하여 출력하기\n",
    "sorted_words_list2 = sorted(words, reverse=True)\n",
    "print(sorted_words_list2)\n",
    "\n",
    "\n",
    "# 5. 단어 중에 o 가 포함되는 단어가 모두 몇개인지 카운트하기 ( 힌트 , filter 를 사용 )\n",
    "o_variable = list(filter(lambda text : 'o' in text, words))\n",
    "print(f\"o가 포함되는 단어는 모두 몇개인가? = {len(o_variable)}\")\n"
   ]
  }
 ],
 "metadata": {
  "kernelspec": {
   "display_name": "aiBootCamp",
   "language": "python",
   "name": "python3"
  },
  "language_info": {
   "codemirror_mode": {
    "name": "ipython",
    "version": 3
   },
   "file_extension": ".py",
   "mimetype": "text/x-python",
   "name": "python",
   "nbconvert_exporter": "python",
   "pygments_lexer": "ipython3",
   "version": "3.10.16"
  }
 },
 "nbformat": 4,
 "nbformat_minor": 2
}
