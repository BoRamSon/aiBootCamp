{
 "cells": [
  {
   "cell_type": "markdown",
   "id": "89eee660",
   "metadata": {},
   "source": [
    "# 🟩 module"
   ]
  },
  {
   "cell_type": "markdown",
   "id": "bfdcad82",
   "metadata": {},
   "source": [
    "\n",
    "\n",
    "\n",
    "```python\n",
    "\n",
    "```"
   ]
  },
  {
   "cell_type": "code",
   "execution_count": null,
   "id": "34ac6528",
   "metadata": {},
   "outputs": [
    {
     "name": "stdout",
     "output_type": "stream",
     "text": [
      "\n",
      "name = 조승연 | age = 10\n"
     ]
    }
   ],
   "source": [
    "# 🔥🔥🔥🔥🔥 mod1.py라는 파일을 하나 만들었다고 가정합니다.\n",
    "\n",
    "def add(x, y):\n",
    "  return x + y\n",
    "\n",
    "def sub(x, y):\n",
    "  return x - y\n",
    "\n",
    "\n",
    "class Person:\n",
    "  def __init__(self, name='', age=0):\n",
    "    self.name = name\n",
    "    self.age = age\n",
    "\n",
    "  def print(self):\n",
    "    print(f\"name = {self.name} | age = {self.age}\")\n",
    "\n",
    "print( add(3,4) )\n",
    "print( sub(3,4) )\n",
    "\n",
    "p = Person('조승연', 10)\n",
    "p.print()"
   ]
  },
  {
   "cell_type": "code",
   "execution_count": null,
   "id": "1d2e5d9e",
   "metadata": {},
   "outputs": [
    {
     "name": "stdout",
     "output_type": "stream",
     "text": [
      "7\n",
      "-1\n",
      "7\n",
      "-1\n",
      "name = 윤하 | age = 44\n"
     ]
    }
   ],
   "source": [
    "# 🔥🔥🔥🔥🔥 다른 파일 useModule1.py 라는 파일을 또 하나 만듭니다.\n",
    "# ✅ import mod1 #import 해줍니다.\n",
    "# (여기는 jupyter라서 안 만들겠습니다..)\n",
    "\n",
    "# print( mod1.add(3, 4))  # ✅ 원래는 import 문으로 이렇게 써야합니다.\n",
    "print( add(3, 4))\n",
    "# print( mod1.sub(3, 4))  # ✅ 원래는 import 문으로 이렇게 써야합니다.\n",
    "print( sub(3, 4))\n",
    "\n",
    "\n",
    "# -----------------------------------------------\n",
    "# 모듈은 내부에 내장변수로 __name__이라는 변수가 있다.\n",
    "# 이 변수는 이 파일이 직접 실행될 때는 __main__으로 오고 \n",
    "# import되어서 실행될 때는 파일명(mod1)으로 온다.\n",
    "# print('모듈명 : ', __name__)\n",
    "if __name__ == '__main__':\n",
    "  print( add(3,4) )\n",
    "  print( sub(3,4) )\n",
    "\n",
    "# p2 = mod1.Person('윤하', 44) # ✅ 원래는 import 문으로 이렇게 써야합니다.\n",
    "p2 = Person('윤하', 44) \n",
    "p2.print()"
   ]
  },
  {
   "cell_type": "code",
   "execution_count": null,
   "id": "72174730",
   "metadata": {},
   "outputs": [],
   "source": [
    "# 🔥🔥🔥🔥🔥 import문에 alias를 통해 다른 이름으로 부를 수 있다.  as md\n",
    "# import mod1 as md    # 모듈명이 길 경우 aliasing 다른 이름으로 부를 수 있다.\n",
    "\n",
    "# print( ✅md.add(3, 4))  # ✅ 원래는 import 문으로 이렇게 써야합니다.\n",
    "print( add(3, 4))\n",
    "# print( ✅md.sub(3, 4))  # ✅ 원래는 import 문으로 이렇게 써야합니다.\n",
    "print( sub(3, 4))\n",
    "\n",
    "# p2 = ✅md.Person('윤하', 44) # ✅ 원래는 import 문으로 이렇게 써야합니다.\n",
    "p2 = Person('윤하', 44)\n",
    "p2.print()"
   ]
  },
  {
   "cell_type": "code",
   "execution_count": null,
   "id": "34474ac2",
   "metadata": {},
   "outputs": [],
   "source": [
    "# 🔥🔥🔥🔥🔥 파일명을 쓰기 싫고 마치 내 함수처럼 쓰고 싶다면\n",
    "# form mod1 import add, sub   # ✅ 이렇게 작성을 해줍니다.\n",
    "print( add(3, 4))  # ✅ 이대로 쓸 수 있습니다.\n",
    "print( sub(3, 4))  # ✅ 이대로 쓸 수 있습니다.\n",
    "\n",
    "p3 = Person('조이', 24)\n",
    "p3.print()"
   ]
  },
  {
   "cell_type": "markdown",
   "id": "87bf66f3",
   "metadata": {},
   "source": [
    "\n",
    "---\n",
    "### 🟡 numpy 맛보기"
   ]
  },
  {
   "cell_type": "code",
   "execution_count": null,
   "id": "f193e232",
   "metadata": {},
   "outputs": [
    {
     "name": "stdout",
     "output_type": "stream",
     "text": [
      "[1, 2, 3, 4, 5, 6, 7, 8, 9, 10]\n",
      "[2, 4, 6, 8, 10, 12, 14, 16, 18, 20]\n",
      "[1, 2, 3, 4, 5, 6, 7, 8, 9, 10, 2, 4, 6, 8, 10, 12, 14, 16, 18, 20]\n",
      "---------------------------------\n",
      "[ 1  2  3  4  5  6  7  8  9 10]\n",
      "[ 2  4  6  8 10 12 14 16 18 20]\n",
      "[ 3  6  9 12 15 18 21 24 27 30]\n"
     ]
    }
   ],
   "source": [
    "# 수학라이브러리 -> 머신러닝의 경우 무조건 numpy 타입으로 전환해야 한다.\n",
    "import numpy as np \n",
    "\n",
    "a = [1,2,3,4,5,6,7,8,9,10]\n",
    "b = [x * 2 for x in a]\n",
    "c = a+b  # 배열을 합쳐버린다.\n",
    "\n",
    "print(a)\n",
    "print(b)\n",
    "print(c)   # 배열을 합쳐버린다.\n",
    "\n",
    "print('---------------------------------')\n",
    "\n",
    "\n",
    "a1 = np.array(a)\n",
    "b1 = 2 * a1\n",
    "c1 = a1 + b1  # 서로의 인덱스자리마다 더하기를 시행합니다.\n",
    "print(a1)\n",
    "print(b1)\n",
    "print(c1) # 서로의 인덱스자리마다 더하기를 시행합니다.\n",
    "\n"
   ]
  },
  {
   "cell_type": "markdown",
   "id": "9170037f",
   "metadata": {},
   "source": [
    "- 스칼라 연산 \n",
    "  - 1:1 연산, 대부분은 프로그래밍 언어가 이걸 지원\n",
    "  - 다:다 연산은 for문을 써서 해야했다.\n",
    "\n",
    "- 통계분석용 언어들은 수학에 가깝게 벡터연산을 지원한다.\n",
    "- 벡터연산 - 다대다 연산을 한다. R, python의 numpy, pandas 라이브러리들이 벡터연산을 지원한다."
   ]
  }
 ],
 "metadata": {
  "kernelspec": {
   "display_name": "aiBootCamp",
   "language": "python",
   "name": "python3"
  },
  "language_info": {
   "codemirror_mode": {
    "name": "ipython",
    "version": 3
   },
   "file_extension": ".py",
   "mimetype": "text/x-python",
   "name": "python",
   "nbconvert_exporter": "python",
   "pygments_lexer": "ipython3",
   "version": "3.10.13"
  }
 },
 "nbformat": 4,
 "nbformat_minor": 5
}
