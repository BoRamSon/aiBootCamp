{
 "cells": [
  {
   "cell_type": "markdown",
   "metadata": {},
   "source": [
    "\n",
    "---\n",
    "### 🟢 요소 삭제(remove)"
   ]
  },
  {
   "cell_type": "code",
   "execution_count": null,
   "metadata": {},
   "outputs": [],
   "source": [
    "# (잘 사용하지 않음) delete - 요소(element) 삭제\n",
    "\n",
    "testDelList = [0,1,2,3,4,5] \n",
    "\n",
    "del testDelList[0]  # Delete first element\n",
    "print(\"After delete first element:\", testDelList)\n",
    "\n",
    "# with slicing\n",
    "del testDelList[4:] # 4번쨰 이후로 모두 삭제하라!\n"
   ]
  },
  {
   "cell_type": "markdown",
   "metadata": {},
   "source": [
    "\n",
    "---\n",
    "### 🟢 요소 정렬(sort)\n",
    "\n",
    "#### sort, reversed"
   ]
  },
  {
   "cell_type": "code",
   "execution_count": null,
   "metadata": {},
   "outputs": [],
   "source": [
    "testSortList = [4,3,7,5,56,3,2,1,0,12,9]\n",
    "\n",
    "# 정렬\n",
    "testSortList.sort() # 오름차순 정렬\n",
    "print(\"After sort:\", testSortList)\n",
    "\n",
    "testSortList.sort(reverse=True) # 내림차순 정렬\n",
    "print(\"After reverse sort:\", testSortList)\n",
    "\n"
   ]
  },
  {
   "cell_type": "markdown",
   "metadata": {},
   "source": [
    "\n",
    "---\n",
    "### 🟢 요소 추가(append, insert)"
   ]
  },
  {
   "cell_type": "code",
   "execution_count": 1,
   "metadata": {},
   "outputs": [
    {
     "name": "stdout",
     "output_type": "stream",
     "text": [
      "After append: [1, '바보', 3, '멍청이', 5, '말미잘', '똥개', 6]\n",
      "After insert 0번째에 '0'넣기: [0, 1, '바보', 3, '멍청이', 5, '말미잘', '똥개', 6]\n"
     ]
    }
   ],
   "source": [
    "# 🟢 append, insert - 요소(element) 추가\n",
    "\n",
    "tesAddtList = [1, '바보', 3, '멍청이', 5, '말미잘', '똥개',]\n",
    "\n",
    "tesAddtList.append(6)        # Add element at end\n",
    "print(\"After append:\", tesAddtList)\n",
    "\n",
    "tesAddtList.insert(0, 0)    # Insert at specific position\n",
    "print(\"After insert 0번째에 '0'넣기:\", tesAddtList)\n",
    "\n",
    "tesAddtList.insert(len(tesAddtList), 'append와 동일')  \n",
    "    # ㄴ Insert at end  (마치 append와 같은 느낌을 줍니다.)"
   ]
  },
  {
   "cell_type": "markdown",
   "metadata": {},
   "source": [
    "\n",
    "---\n",
    "### 🟢 요소 삭제 (remove)"
   ]
  },
  {
   "cell_type": "code",
   "execution_count": null,
   "metadata": {},
   "outputs": [],
   "source": [
    "# 🟢 요소(element)를 찾아서 삭제\n",
    "\n",
    "testRemove = [1, '바보', 3, '멍청이', 5, '말미잘', '똥개',]\n",
    "\n",
    "# 🟡 remove = 진짜 해당 그 값만을 삭제해버립니다. 그래서 리스트값이 뭐가 있는지 알아야합니다.\n",
    "testRemove.remove('멍청이')       # Remove first occurrence of value\n",
    "print(\"After remove:\", testRemove)\n"
   ]
  },
  {
   "cell_type": "markdown",
   "metadata": {},
   "source": [
    "### 🟢 요소 삭제 (pop)\n",
    "\n",
    "##### ❓ pop이 왜 있는가?\n",
    "- stack, que 자료구조를 많이 사용합니다.\n",
    "  - stack : Last In First Out\n",
    "  - que : First In First Out\n",
    "\n",
    " = stack에서 pop이 '마지막 것'을 꺼내서 없애는 구조입니다. stack 떄문에 있는 것이다.\n"
   ]
  },
  {
   "cell_type": "code",
   "execution_count": null,
   "metadata": {},
   "outputs": [
    {
     "name": "stdout",
     "output_type": "stream",
     "text": [
      "After pop: [1, '바보', 3, '멍청이', 5, '말미잘']\n"
     ]
    },
    {
     "data": {
      "text/plain": [
       "3"
      ]
     },
     "execution_count": 2,
     "metadata": {},
     "output_type": "execute_result"
    }
   ],
   "source": [
    "\n",
    "testPopList = [1, '바보', 3, '멍청이', 5, '말미잘', '똥개',]\n",
    "\n",
    "# 🟡 pop    (인덱스 값을 지정해서 삭제할 수 있는 존재 / 값이 없으면 마지막 요소 제거)\n",
    "popped = testPopList.pop()  # Remove and return last element\n",
    "\n",
    "# 이 코드에서 사용된 pop()은 리스트(list)의 메서드로, \n",
    "# 리스트의 마지막 요소를 꺼내서 제거하고, 그 값을 **반환(return)**하여 popped 변수에 저장.\n",
    "print(\"After pop:\", testPopList)\n",
    "\n",
    "\n",
    "# 🟡 pop - 이렇게 index를 지정해서 삭제하고 그 값을 return 할 수도 있습니다.\n",
    "testPopList.pop(2)         # Remove element at index 2\n",
    "\n",
    "\n",
    "# 🟡 계속 제거해서 버려버리기\n",
    "print(testPopList.pop())\n",
    "print(testPopList)\n",
    "print(testPopList.pop())\n",
    "print(testPopList)\n",
    "print(testPopList.pop())\n",
    "print(testPopList)\n",
    "print(testPopList.pop())\n",
    "print(testPopList)"
   ]
  }
 ],
 "metadata": {
  "kernelspec": {
   "display_name": "aiBootCamp",
   "language": "python",
   "name": "python3"
  },
  "language_info": {
   "codemirror_mode": {
    "name": "ipython",
    "version": 3
   },
   "file_extension": ".py",
   "mimetype": "text/x-python",
   "name": "python",
   "nbconvert_exporter": "python",
   "pygments_lexer": "ipython3",
   "version": "3.10.16"
  }
 },
 "nbformat": 4,
 "nbformat_minor": 2
}
