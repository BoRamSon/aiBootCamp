{
 "cells": [
  {
   "cell_type": "markdown",
   "metadata": {},
   "source": [
    "# 🟩 파이썬 정규표현식 (Regular Expressions)\n",
    "# < 이해하려는 예제 >"
   ]
  },
  {
   "cell_type": "code",
   "execution_count": null,
   "metadata": {},
   "outputs": [
    {
     "name": "stdout",
     "output_type": "stream",
     "text": [
      "------- 대소문자 구분있는 검색 -----------\n",
      "<re.Match object; span=(7, 13), match='Python'>\n",
      "\"group()\"을 사용한 경우 깔끔한 출력 = Python\n",
      "------- 대소문자 구분 없애기 위한 플래그 사용 -----------\n",
      "(대소문자 구분 없음) <re.Match object; span=(7, 13), match='python'>\n",
      "(대소문자 구분 없음) \"group()\"을 사용한 경우 깔끔한 출력 = python\n",
      "------- search로 숫자 찾기  -----------\n",
      "search로 흝어진 숫자 찾기 = 234\n"
     ]
    }
   ],
   "source": [
    "# 1. 특정 문자열 검색\n",
    "# 특정 단어나 문장을 찾는 데 사용됩니다.\n",
    "\n",
    "# 🔥 검색에 match와 search가 있습니다. match의 경우 특정 문자로 시작하는지 확인하는 것이 아니라면 search를 사용합니다.\n",
    "\n",
    "import re\n",
    "\n",
    "print('------- 대소문자 구분있는 검색 -----------')\n",
    "text = \"I love Python programming.\"\n",
    "# (대소문자가 구분되고 있습니다.)\n",
    "search_ex = re.search(r\"Python\", text) # 나는 검색하고 싶어 / python이라는 단어를 찾고 싶어 / text라는 문자열 변수에서\n",
    "print(search_ex)   # 출력: <re.Match object; span=(7, 13), match='Python'>\n",
    "print('\\\"group()\\\"을 사용한 경우 깔끔한 출력 =', search_ex.group())  # 출력: Python\n",
    "\n",
    "# -------------------------------------------------------------------------\n",
    "# custom 추가 예제\n",
    "\n",
    "# 대소문자 구분을 없애기 위한 플래그 사용 (flags=re.IGNORECASE)\n",
    "print('------- 대소문자 구분 없애기 위한 플래그 사용 -----------')\n",
    "text2 = \"I love python programming.\"\n",
    "search_ex2 = re.search(r\"Python\", text2, flags=re.IGNORECASE) \n",
    "# 나는 검색하고 싶어 / python이라는 단어를 찾고 싶어 / text라는 문자열 변수에서\n",
    "\n",
    "print('(대소문자 구분 없음)',search_ex2)   # 출력: <re.Match object; span=(7, 13), match='Python'>\n",
    "print('(대소문자 구분 없음) \\\"group()\\\"을 사용한 경우 깔끔한 출력 =', search_ex2.group())  # 출력: Python\n",
    "\n",
    "\n",
    "# 숫자를 찾아볼까요???\n",
    "print('------- search로 숫자 찾기  -----------')\n",
    "test_search = \"I love 234 python 6 programming 7.\"\n",
    "search_ex3 = re.search(r'\\d+', test_search)\n",
    "print('search로 흝어진 숫자 찾기 =',search_ex3.group()) # 출력결과 : 234\n",
    "# = 앞에서부터 맨 처음 찾아진 '하나의 이어진 숫자'만 출력\n",
    "# = search는 여러개의 숫자를 찾는데 적합하지 않습니다.\n",
    "# = 찾았다고하더라도 여러개를 memorize(RAM) 할 방법을 가지지 못한 내장함수이기 때문입니다. findall을 사용합시다.\n",
    "# 결론적으로 연속적인 패턴(이어진)에 대해서만 찾는데 유용합니다.\n",
    "\n"
   ]
  },
  {
   "cell_type": "code",
   "execution_count": 28,
   "metadata": {},
   "outputs": [
    {
     "name": "stdout",
     "output_type": "stream",
     "text": [
      "['2', '3']\n"
     ]
    }
   ],
   "source": [
    "# 2. 패턴에 따른 문자열 추출\n",
    "# 숫자, 이메일, URL 등 특정 형식을 가진 문자열을 추출하여 ㅣist 형태로 만듭니다.\n",
    "\n",
    "import re\n",
    "# 숫자 추출\n",
    "text = \"I have 2 apples and 3 oranges.\"\n",
    "          # 문자클래스 사용 및 findall을 통해 list(자료구조) 형태로 만들고 있다.\n",
    "numbers = re.findall(r\"\\d+\", text)\n",
    "print(numbers)  # 출력: ['2', '3']\n",
    "\n"
   ]
  },
  {
   "cell_type": "code",
   "execution_count": 58,
   "metadata": {},
   "outputs": [
    {
     "name": "stdout",
     "output_type": "stream",
     "text": [
      "Hello Python!\n",
      "------- 숫자문자열을 바꿀수는 없나요??? -----------\n",
      "숫자문자열 변경 시도 = I love 9 python 9 programming 9.\n",
      "------- list (,)콤마와 대괄호를 공백으로 변경도 가능한가요??? -----------\n",
      "숫자문자열 변경 시도 = 1 2 3 4 5\n"
     ]
    }
   ],
   "source": [
    "# 3. 문자열 치환\n",
    "# 특정 패턴의 문자열을 다른 문자열로 바꿉니다.\n",
    "# 이 것은 뽑아내는 것이 아닙니다. 변경만 해줍니다.\n",
    "\n",
    "text = \"Hello world!\"\n",
    "result = re.sub(r\"world\", \"Python\", text)\n",
    "print(result)  # 출력: Hello Python!\n",
    "\n",
    "print('------- 숫자문자열을 바꿀수는 없나요??? -----------')\n",
    "test_sub_text = \"I love 2 python 6 programming 7.\"\n",
    "prac_sub1 = re.sub(r'\\d+', '9', test_sub_text)\n",
    "print('숫자문자열 변경 시도 =',prac_sub1) # 출력결과 : I love 9 python 9 programming 9.\n",
    "# = 가능\n",
    "\n",
    "print('------- list (,)콤마와 대괄호를 공백으로 변경도 가능한가요??? -----------')\n",
    "test_sub_list1 = \"[1, 2, 3, 4, 5]\"\n",
    "                # <문뜩드는 생각>\n",
    "                # 하지만 이렇게 입력되지는 않을 것이라고 판단 됩니다. 입력됨녀 [\"1\", \"2\", \"3\", \"4\", \"5\"] 이런식 아닐까???\n",
    "                # 아니다. input()으로 들어오면 저렇게 들어올 것이다.\n",
    "                # 코테에서 match를 통해 bool(match('[',test_sub_list1))로 파악해줘야하겠다.\n",
    "                # 뒤에 ] 이게 누락될 수 있으니 이것도 조심해야함..\n",
    "prac_sub2 = re.sub(r'[\\[\\],]', '', test_sub_list1)\n",
    "print('숫자문자열 변경 시도 =',prac_sub2) # 출력결과 : 1 2 3 4 5\n",
    "\n",
    "\n"
   ]
  },
  {
   "cell_type": "code",
   "execution_count": null,
   "metadata": {},
   "outputs": [
    {
     "name": "stdout",
     "output_type": "stream",
     "text": [
      "[1, 2, 3, 4, 5]\n",
      "[1, 2, 3, 4, 5]\n"
     ]
    }
   ],
   "source": [
    "# [갑자기 든 생각] 문자열 리스트를 숫자 리스트로 변환하는 방법\n",
    "# string_list = ['1', '2', '3', '4', '5']\n",
    "\n",
    "# for문 / list 컴프리헨션\n",
    "string_list = ['1', '2', '3', '4', '5']\n",
    "number_list = [int(x) for x in string_list]\n",
    "print(number_list)  # 출력: [1, 2, 3, 4, 5]\n",
    "\n",
    "# [중요] map (순회하는 친구로 굉장히 많이 쓰이고 유용한 친구임)\n",
    "# 나중에 시간되면 반드시 map을 별도 파일에서 공부해야합니다.\n",
    "string_list2 = ['1', '2', '3', '4', '5']\n",
    "number_list2 = list(map(int, string_list))\n",
    "print(number_list2)  # 출력: [1, 2, 3, 4, 5]"
   ]
  },
  {
   "cell_type": "code",
   "execution_count": null,
   "metadata": {},
   "outputs": [],
   "source": [
    "# 4. 문자열 분리\n",
    "# split()은 문자열 객체(str)의 메서드로, 문자열을 지정된 구분자(separator)를 기준으로 분리하여 리스트 형태로 반환합니다. \n",
    "# 구분자를 명시하지 않으면 기본적으로 공백(스페이스, 탭, 줄바꿈 등)을 사용합니다.\n",
    "\n",
    "text = \"apple, orange; banana|grape\"\n",
    "words = re.split(r\"[,;|]\", text)\n",
    "print(words)  # 출력: ['apple', 'orange', 'banana', 'grape']\n",
    "\n",
    "# 리스트 형태로 반환하는 것을 확인\n",
    "\n"
   ]
  },
  {
   "cell_type": "code",
   "execution_count": null,
   "metadata": {},
   "outputs": [],
   "source": [
    "# 5. 문자열 시작/끝 확인\n",
    "# 문자열의 시작과 끝을 확인합니다.\n",
    "\n",
    "# 시작 확인\n",
    "text = \"Hello world!\"\n",
    "match = re.match(r\"^Hello\", text)\n",
    "print(bool(match))  # 출력: True\n",
    "\n",
    "# 끝 확인\n",
    "text = \"Hello world!\"\n",
    "match = re.search(r\"world!$\", text)\n",
    "print(bool(match))  # 출력: True\n",
    "\n"
   ]
  },
  {
   "cell_type": "code",
   "execution_count": null,
   "metadata": {},
   "outputs": [],
   "source": [
    "# 6. 문자열 유효성 검사\n",
    "# 이메일, URL, 전화번호, 패스워드 등의 형식을 검증합니다.\n",
    "\n",
    "# 이메일 유효성 검사\n",
    "email = \"example@test.com\"\n",
    "pattern = r\"^[a-zA-Z0-9._%+-]+@[a-zA-Z0-9.-]+\\.[a-zA-Z]{2,}$\"\n",
    "is_valid = bool(re.match(pattern, email))\n",
    "print(is_valid)  # 출력: True\n",
    "\n"
   ]
  },
  {
   "cell_type": "markdown",
   "metadata": {},
   "source": [
    "### ------------- 여기까지 공부함"
   ]
  },
  {
   "cell_type": "code",
   "execution_count": null,
   "metadata": {},
   "outputs": [],
   "source": [
    "# 7. 중복 문자 제거\n",
    "# 문자열 내의 연속된 중복 문자를 하나로 줄입니다.\n",
    "\n",
    "text = \"aaabbbbccdd\"\n",
    "result = re.sub(r\"(.)\\1+\", r\"\\1\", text)\n",
    "print(result)  # 출력: abcd\n",
    "\n"
   ]
  },
  {
   "cell_type": "code",
   "execution_count": null,
   "metadata": {},
   "outputs": [],
   "source": [
    "# 8. 특정 단어 찾기\n",
    "# 단어 경계를 기준으로 특정 단어를 찾습니다.\n",
    "\n",
    "text = \"Python is fun. Pythonic code is better.\"\n",
    "matches = re.findall(r\"\\bPython\\b\", text)\n",
    "print(matches)  # 출력: ['Python']\n"
   ]
  },
  {
   "cell_type": "code",
   "execution_count": null,
   "metadata": {},
   "outputs": [],
   "source": [
    "# 9. 특정 문자로 시작하거나 끝나는 단어 찾기\n",
    "# 문자가 특정 패턴으로 시작하거나 끝나는 단어를 찾습니다.\n",
    "\n",
    "# 'a'로 시작하는 단어 찾기\n",
    "text = \"apple banana apricot cherry\"\n",
    "matches = re.findall(r\"\\ba\\w*\", text)\n",
    "print(matches)  # 출력: ['apple', 'apricot']\n",
    "\n",
    "# 'e'로 끝나는 단어 찾기\n",
    "text = \"apple banana apricot cherry\"\n",
    "matches = re.findall(r\"\\w*e\\b\", text)\n",
    "print(matches)  # 출력: ['apple']"
   ]
  },
  {
   "cell_type": "code",
   "execution_count": null,
   "metadata": {},
   "outputs": [],
   "source": [
    "# 10. 숫자 사이의 연산 기호 찾기\n",
    "# 숫자와 숫자 사이의 연산자를 찾습니다.\n",
    "\n",
    "expression = \"3 + 5 - 2 * 10 / 4\"\n",
    "operators = re.findall(r\"(?<=\\d)\\s*[+\\-*/]\\s*(?=\\d)\", expression)\n",
    "print(operators)  # 출력: ['+', '-', '*', '/']"
   ]
  },
  {
   "cell_type": "code",
   "execution_count": null,
   "metadata": {},
   "outputs": [],
   "source": [
    "# 11. HTML 태그 추출 및 제거\n",
    "# HTML 태그를 검색하거나 제거합니다.\n",
    "\n",
    "html = \"<h1>Hello, world!</h1>\"\n",
    "# 태그 추출\n",
    "tags = re.findall(r\"<[^>]+>\", html)\n",
    "print(tags)  # 출력: ['<h1>', '</h1>']\n",
    "\n",
    "# 태그 제거\n",
    "text = re.sub(r\"<[^>]+>\", \"\", html)\n",
    "print(text)  # 출력: Hello, world!"
   ]
  },
  {
   "cell_type": "code",
   "execution_count": null,
   "metadata": {},
   "outputs": [],
   "source": [
    "# 12. 특정 길이의 문자열 찾기\n",
    "# 특정 길이를 가진 문자열을 찾습니다.\n",
    "\n",
    "text = \"cat bat mat hat\"\n",
    "matches = re.findall(r\"\\b\\w{3}\\b\", text)\n",
    "print(matches)  # 출력: ['cat', 'bat', 'mat', 'hat']"
   ]
  },
  {
   "cell_type": "code",
   "execution_count": null,
   "metadata": {},
   "outputs": [],
   "source": [
    "# 13. 숫자 범위 매칭\n",
    "# 숫자가 특정 범위에 있는지 확인합니다.\n",
    "\n",
    "text = \"The numbers are 45, 23, 89, and 100.\"\n",
    "matches = re.findall(r\"\\b([2-4][0-9]|50)\\b\", text)\n",
    "print(matches)  # 출력: ['45', '23']"
   ]
  },
  {
   "cell_type": "code",
   "execution_count": null,
   "metadata": {},
   "outputs": [],
   "source": [
    "# 14. 중첩된 구조 찾기\n",
    "# 중첩된 패턴을 추출합니다.\n",
    "\n",
    "text = \"(a(b)c)\"\n",
    "matches = re.findall(r\"\\(.*?\\)\", text)\n",
    "print(matches)  # 출력: ['(a(b)c)']\n",
    "\n"
   ]
  },
  {
   "cell_type": "code",
   "execution_count": null,
   "metadata": {},
   "outputs": [],
   "source": [
    "# 15. 대소문자 구분 없는 매칭\n",
    "# 대소문자에 상관없이 매칭합니다.\n",
    "\n",
    "text = \"Python is powerful.\"\n",
    "matches = re.findall(r\"python\", text, re.IGNORECASE)\n",
    "print(matches)  # 출력: ['Python']\n",
    "\n"
   ]
  },
  {
   "cell_type": "code",
   "execution_count": null,
   "metadata": {},
   "outputs": [],
   "source": [
    "# 16. 연속된 숫자 그룹 찾기\n",
    "# 숫자 그룹을 식별합니다.\n",
    "\n",
    "text = \"Call me at 1234567890 or 987654321.\"\n",
    "matches = re.findall(r\"\\d{10}\", text)\n",
    "print(matches)  # 출력: ['1234567890']"
   ]
  },
  {
   "cell_type": "code",
   "execution_count": null,
   "metadata": {},
   "outputs": [],
   "source": [
    "# 17. 특정 위치의 문자열 찾기\n",
    "# 특정 인덱스나 위치에서만 문자열을 찾습니다.\n",
    "\n",
    "text = \"abcdefg\"\n",
    "matches = re.match(r\"^abc\", text)\n",
    "print(matches.group())  # 출력: abc"
   ]
  },
  {
   "cell_type": "code",
   "execution_count": null,
   "metadata": {},
   "outputs": [],
   "source": [
    "# 18. 숫자와 문자 섞인 문자열 분리\n",
    "# 숫자와 문자가 섞인 문자열을 분리합니다.\n",
    "\n",
    "text = \"abc123def456\"\n",
    "matches = re.findall(r\"[a-z]+|\\d+\", text)\n",
    "print(matches)  # 출력: ['abc', '123', 'def', '456']\n"
   ]
  }
 ],
 "metadata": {
  "kernelspec": {
   "display_name": "learnAI",
   "language": "python",
   "name": "python3"
  },
  "language_info": {
   "codemirror_mode": {
    "name": "ipython",
    "version": 3
   },
   "file_extension": ".py",
   "mimetype": "text/x-python",
   "name": "python",
   "nbconvert_exporter": "python",
   "pygments_lexer": "ipython3",
   "version": "3.10.16"
  }
 },
 "nbformat": 4,
 "nbformat_minor": 2
}
