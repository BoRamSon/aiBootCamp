{
 "cells": [
  {
   "cell_type": "markdown",
   "metadata": {},
   "source": [
    "# 🟩 list type\n",
    "\n",
    "2025.04.24.\n",
    "\n",
    "여기에 먹히는 걸 그냥 다 사용해보려고 한다."
   ]
  },
  {
   "cell_type": "markdown",
   "metadata": {},
   "source": [
    "## 🟢 list - indexing"
   ]
  },
  {
   "cell_type": "code",
   "execution_count": 1,
   "metadata": {},
   "outputs": [
    {
     "name": "stdout",
     "output_type": "stream",
     "text": [
      "red\n",
      "green\n",
      "blue\n",
      "['red', 'green', 'blue']\n"
     ]
    }
   ],
   "source": [
    "words = ['red', 'green', 'blue'] #list 타입, 인덱시과 슬라이싱을 지원한다.\n",
    "\n",
    "print(words[0])\n",
    "print(words[1])\n",
    "print(words[2])\n",
    "print(words)\n"
   ]
  },
  {
   "cell_type": "code",
   "execution_count": null,
   "metadata": {},
   "outputs": [],
   "source": [
    "# 🟢 좌측과 우측이 바뀔 수 있다는 것에 대해서 갑자기 설명을 하심\n",
    "words5 = ['red', 'green', 'blue', 'black', 'cyan']\n",
    "\n",
    "words5[0] = \"white\"  # 뭔가 순서가 잘 못 된 것 같지만, 아니다. 대체하는 것이다.\n",
    "print(words5)\n",
    "\n"
   ]
  },
  {
   "cell_type": "markdown",
   "metadata": {},
   "source": [
    "## 🟢 list - append"
   ]
  },
  {
   "cell_type": "code",
   "execution_count": 2,
   "metadata": {},
   "outputs": [
    {
     "name": "stdout",
     "output_type": "stream",
     "text": [
      "['red', 'green', 'blue', 'black', 'cyan']\n"
     ]
    }
   ],
   "source": [
    "words2 = ['red', 'green', 'blue']\n",
    "\n",
    "words2.append('black')\n",
    "words2.append('cyan')\n",
    "print(words2)\n"
   ]
  },
  {
   "cell_type": "markdown",
   "metadata": {},
   "source": [
    "## 🟢 list - length"
   ]
  },
  {
   "cell_type": "code",
   "execution_count": null,
   "metadata": {},
   "outputs": [],
   "source": [
    "words3 = ['red', 'green', 'blue', 'black', 'cyan']\n",
    "\n",
    "print(words3)\n",
    "print(f'단어개수 {len(words3)}')\n",
    "print(f'red개수 {index(\"red\")}')\n",
    "print "
   ]
  },
  {
   "cell_type": "markdown",
   "metadata": {},
   "source": [
    "## 🟢 list - find, read"
   ]
  },
  {
   "cell_type": "code",
   "execution_count": null,
   "metadata": {},
   "outputs": [
    {
     "name": "stdout",
     "output_type": "stream",
     "text": [
      "yellow 위치는 5 번째에 존재합니다.\n",
      "['yellow', 'cyan', 'black', 'blue', 'green', 'red']\n"
     ]
    }
   ],
   "source": [
    "words4 = ['red', 'green', 'blue', 'black', 'cyan']\n",
    "\n",
    "\n",
    "# if words4.count(\"yellow\"):  # true, false\n",
    "#   print(\"yellow 위치\", words.index(\"yellow\"))\n",
    "# else:\n",
    "#   print(\"yellow는 없다.\")\n",
    "\n",
    "\n",
    "# yellow 넣어주기!!!\n",
    "# words4.append('yellow')\n",
    "\n",
    "\n",
    "# in연산자  \"내용\" in list 타입 있으면 True 없으면 False를 반환한다.\n",
    "if \"yellow\" in words4 : \n",
    "  print(\"yellow 위치는\", words4.index(\"yellow\"), '번째에 존재합니다.')\n",
    "else:\n",
    "  print(\"yellow는 없다.\")\n",
    "\n",
    "print(words4[::-1])\n"
   ]
  },
  {
   "cell_type": "markdown",
   "metadata": {},
   "source": [
    "## 🟢 replace"
   ]
  },
  {
   "cell_type": "code",
   "execution_count": null,
   "metadata": {},
   "outputs": [
    {
     "name": "stdout",
     "output_type": "stream",
     "text": [
      "White\n"
     ]
    }
   ],
   "source": [
    "test_replace = \"white\"\n",
    "# test_replace[0] = \"W\" # 문자열의 경우는 인덱싱을 통한 값 변경은 불가능하다\n",
    "\n",
    "# 🟡 가능\n",
    "# test_replace = test_replace.replace(\"w\", \"W\")\n",
    "# print(test_replace)\n",
    "\n",
    "# 🟡 가능\n",
    "test_replace2 = \"white\"\n",
    "test_replace3 = \"W\" + test_replace2[1:]\n",
    "print(test_replace3)"
   ]
  },
  {
   "cell_type": "markdown",
   "metadata": {},
   "source": [
    "## 🟢 extend\n",
    "함수 - 리스트와 리스트를 합친다."
   ]
  },
  {
   "cell_type": "code",
   "execution_count": 18,
   "metadata": {},
   "outputs": [
    {
     "name": "stdout",
     "output_type": "stream",
     "text": [
      "['red', 'green', 'blue', 'black', 'cyan', 'brown', 'violet', 'puple', 'magenta']\n"
     ]
    }
   ],
   "source": [
    "words6 = ['red', 'green', 'blue', 'black', 'cyan']\n",
    "\n",
    "words6.extend(['brown', 'violet', 'puple', 'magenta'])\n",
    "print(words6)"
   ]
  },
  {
   "cell_type": "markdown",
   "metadata": {},
   "source": [
    "### 🟡 list => str"
   ]
  },
  {
   "cell_type": "code",
   "execution_count": 19,
   "metadata": {},
   "outputs": [
    {
     "name": "stdout",
     "output_type": "stream",
     "text": [
      "red,green,blue,black,cyan\n"
     ]
    }
   ],
   "source": [
    "words7 = ['red', 'green', 'blue', 'black', 'cyan']\n",
    "\n",
    "test_ss = \",\".join(words7)\n",
    "print(test_ss)"
   ]
  },
  {
   "cell_type": "markdown",
   "metadata": {},
   "source": [
    "### 🟡 str => list"
   ]
  },
  {
   "cell_type": "code",
   "execution_count": 20,
   "metadata": {},
   "outputs": [
    {
     "name": "stdout",
     "output_type": "stream",
     "text": [
      "red, green, blue, black, cyan\n"
     ]
    }
   ],
   "source": [
    "words8 = ['red', 'green', 'blue', 'black', 'cyan']\n",
    "\n",
    "test_sss = \", \".join(words8)\n",
    "print(test_sss)"
   ]
  },
  {
   "cell_type": "markdown",
   "metadata": {},
   "source": [
    "## 🟢 slicing"
   ]
  },
  {
   "cell_type": "code",
   "execution_count": null,
   "metadata": {},
   "outputs": [
    {
     "name": "stdout",
     "output_type": "stream",
     "text": [
      "1\n",
      "[1, 3, 5, 7, 9]\n",
      "[10, 9, 8, 7, 6, 5, 4, 3, 2, 1]\n",
      "[2, 4, 6, 8, 10]\n"
     ]
    }
   ],
   "source": [
    "numbers = [1,2,3,4,5,6,7,8,9,10]\n",
    "print(numbers[0])\n",
    "print(numbers[0::2]) # 홀수번 출력\n",
    "print(numbers[::-1]) # 역\n",
    "print(numbers[1::2]) # 짝수별 출력"
   ]
  },
  {
   "cell_type": "code",
   "execution_count": null,
   "metadata": {},
   "outputs": [],
   "source": []
  },
  {
   "cell_type": "markdown",
   "metadata": {},
   "source": [
    "## 파이썬에서의 배열 (array) 이란\n",
    "- 연속된 공간으로 속도가 빠른데... 파이썬은 링크드리스트를 제공한다.\n",
    "- 링크드리스트는 매우 느린 존재이다.\n",
    "- 그래서 파이썬으로 데이터 분석을 절대 못합니다.\n",
    "- 파이썬으로 데이터 분석을 하려면 링크드리스트를 배열로 바꿔줘야 합니다. \n",
    "- numpy 와 pandas 를 사용해야합니다.\n",
    "\n"
   ]
  },
  {
   "cell_type": "markdown",
   "metadata": {},
   "source": [
    "## 🟢 리스트를 만드는 2가지 방법"
   ]
  },
  {
   "cell_type": "code",
   "execution_count": 24,
   "metadata": {},
   "outputs": [
    {
     "name": "stdout",
     "output_type": "stream",
     "text": [
      "['홍길동', '임꺽정', '장길산', '홍경래']\n",
      "['모란', '작약', '불두화', '목련']\n"
     ]
    }
   ],
   "source": [
    "names1 = []  # names = list() 동일한 문법이다.\n",
    "names1.append(\"홍길동\")\n",
    "names1.append(\"임꺽정\")\n",
    "names1.append(\"장길산\")\n",
    "names1.append(\"홍경래\")\n",
    "print(names1)\n",
    "\n",
    "names2 = list()  # names1 = [] 동일한 문법이다.\n",
    "names2.append('모란')\n",
    "names2.append('작약')\n",
    "names2.append('불두화')\n",
    "names2.append('목련')\n",
    "print(names2)"
   ]
  }
 ],
 "metadata": {
  "kernelspec": {
   "display_name": "aiBootCamp",
   "language": "python",
   "name": "python3"
  },
  "language_info": {
   "codemirror_mode": {
    "name": "ipython",
    "version": 3
   },
   "file_extension": ".py",
   "mimetype": "text/x-python",
   "name": "python",
   "nbconvert_exporter": "python",
   "pygments_lexer": "ipython3",
   "version": "3.10.16"
  }
 },
 "nbformat": 4,
 "nbformat_minor": 2
}
