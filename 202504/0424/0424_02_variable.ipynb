{
 "cells": [
  {
   "cell_type": "markdown",
   "metadata": {},
   "source": [
    "# 🟩 변수 (variable) 01"
   ]
  },
  {
   "cell_type": "markdown",
   "metadata": {},
   "source": [
    "## 🟢 변수에 대한 설명\n",
    "1. 컴퓨터의 기억장소에 이름을 부여한 것을 말한다.\n",
    "1. 컴퓨터의 기억공간에 이름을 부여하고 그 공간에 값을 저항하거나 읽어올 수 있다.\n",
    "1. 0과 1로 구성되어 있다. \n",
    "1. 사람은 숫자보다 단어를 기억하기 쉽다\n",
    "1. 우리가 직접 컴퓨터 공간을 지적하면, 그 메모리가 비어있는지 용가능한지 중요한 내용일 수도 있어서 직접적으로 기억공간에 접근할 수 없다.\n",
    "\n",
    "\n",
    "\n",
    "#### 🟡 이름을 어떻게 정하면 좋을까???\n",
    "1번지에 값 3을 넣고, 2번지에 값 4를 넣고 \n",
    "그런데 IP로만 되어있으면, 숫자를 외우기가 너무 어렵다. 그래서 도메인을 사용하는 것과 같이\n",
    "기억 공간에 이름을 붙인다. \n",
    "\n",
    "JAVA 라면 변수를 미이 선언해야한다.  >>>  int a;\n",
    "int 형의 데이터가 저장될 공간을 확보하고 이름을 a라고 해라\n",
    "보통의 인터프리터 언어는 변수를 미리 선언하지 않는다.\n",
    "필요할 떄 만들어서 쓰면 된다.\n",
    "\n",
    "1. 규칙 : \n",
    "  - 영어 대소문자\n",
    "  - _(언더바)\n",
    "  - 숫자가능(시작은 반드시 영어나 _로만 가능하다)\n",
    "\n",
    "\n",
    "##### - 예약어 사용 불가\n",
    "\n",
    "1. int = 4 #(X)\n",
    "1. ints = 4 #(O)\n",
    "\n",
    "1. 대문자까지 구분을 해야합니다.\n",
    "```python\n",
    "ex. \n",
    "  >>> friend = 10\n",
    "  >>> Friend = 1\n",
    "  >>> friend\n",
    "  10\n",
    "  >>> Friend\n",
    "  1\n",
    "```\n",
    "\n",
    "#### 🟡 암묵적인 룰\n",
    "  - 변수를 만들 때\n",
    "  - 가급적 긴단어로 어떤 값을 저장하는 건지 용도를 알려주는 것이 좋다\n",
    "  - 표기법\n",
    "    - 1) 스네이크 표기법 : student_name\n",
    "    - 2) 카멜표기법 : studentName\n",
    "    - 3) 헝가리안 표기법 : szStudentName (sz는 type으로 string이라는 의미) (현재 안씀)\n",
    "  - \n",
    "\n",
    "#### 🟡 타입에 대해서~~\n",
    "\n",
    "###### int\n",
    "int - 정수, 소수점 이하가 없는 수를 정수\n",
    "\n",
    "###### float\n",
    "우리나라 국가예산 600조를 정수를 정수로 4byte\n",
    "\n",
    "컴퓨터에 실제 음수는 없다!!!\n",
    "\n",
    "\n",
    "#### 🟡 리터럴 (literal) 이 무었인가???\n",
    "<갑 그 자체>\n",
    "5, 4.5 , \"Hello\"\n",
    "print(4*5)\n",
    "a = 4\n",
    "b = 5\n"
   ]
  },
  {
   "cell_type": "code",
   "execution_count": null,
   "metadata": {},
   "outputs": [
    {
     "name": "stdout",
     "output_type": "stream",
     "text": [
      "10 20 30\n"
     ]
    }
   ],
   "source": [
    "a = 10 #a라는 변수에 값 10을 저장(할당)하라!\n",
    "b = 20 # b라는 변수에 값 20을 저장하라!\n",
    "c = a+b # a의 값 10과 b의 값 20을 읽어와서 더한 뒤 c에 넣어라\n",
    "        # 좌변에는 변수만, 우변에는 아무거나 올 수 있다.\n",
    "        \n",
    "print(a,b,c) #a,b,c 변수의 값을 읽어서 화면에 출력하라!"
   ]
  },
  {
   "cell_type": "code",
   "execution_count": null,
   "metadata": {},
   "outputs": [
    {
     "name": "stdout",
     "output_type": "stream",
     "text": [
      "8\n"
     ]
    }
   ],
   "source": [
    "# 예제 \n",
    "\n",
    "# 값 입력하기 - 입력함수가 동시에 출력도 가능\n",
    "a = input(\"a = \")\n",
    "b = input(\"b = \")\n",
    "# c = a+b  # 🔥이렇게하면 형태를 문자열로 인식하기 때문에 그냥 서로를 이어 붙여버린 것이다.\n",
    "\n",
    "# 🔥 입력되는 문자를 숫자로 바꿔줘야합니다.\n",
    "# a = int(input(\"a = \"))\n",
    "# b = int(input(\"b = \"))\n",
    "# c = a+b\n",
    "\n",
    "# print(a,b,c)\n",
    "\n",
    "print(int(a) + int(b))"
   ]
  },
  {
   "cell_type": "code",
   "execution_count": null,
   "metadata": {},
   "outputs": [
    {
     "name": "stdout",
     "output_type": "stream",
     "text": [
      "8\n"
     ]
    }
   ],
   "source": [
    "# 예제\n",
    "\n",
    "# 사각형의 면적 구하기 (가로, 세로 입력받아서 면적을 구하고자 합니다.)\n",
    "\n",
    "# 입력데이터 : 가로, 세로\n",
    "# 계산 : 가로 x 세로\n",
    "# 출력데이터 : 면적\n",
    "    # 이 3단계를 크게 벗어나지 않겠죠???\n",
    "\n",
    "\n",
    "# <입력> (주의 : 계산이나 출력을 생각하지 말자!!!!)\n",
    "width = input(\"가로 : \")\n",
    "height = input(\"세로 : \")\n",
    "\n",
    "# <계산>\n",
    "surface = int(width) * int(height)  # 🔥int 까먹지 말자\n",
    "\n",
    "# <출력>\n",
    "print(surface)\n",
    "\n",
    "\n"
   ]
  },
  {
   "cell_type": "code",
   "execution_count": 14,
   "metadata": {},
   "outputs": [
    {
     "name": "stdout",
     "output_type": "stream",
     "text": [
      "근무시간은 20시간, 시간당 급여액 10000원, 주급은 200000원\n",
      "따라서 총 주급여액은 200000원 입니다\n"
     ]
    }
   ],
   "source": [
    "# 예제 - 주급계산 프로그램 만들기\n",
    "  # 시간당 급여액하고 근무 시간을 입력 받아서 주급을 계산하기\n",
    "\n",
    "# <입력>\n",
    "per_pay = input(\"시급 : \")\n",
    "work_time = input(\"근무시간 : \")\n",
    "\n",
    "# <계산>\n",
    "week_wage = int(per_pay) * int(work_time)  # 단순 계산\n",
    "\n",
    "# <출력>\n",
    "print(f\"근무시간은 {work_time}시간, 시간당 급여액 {per_pay}원, 주급은 {week_wage}원\")\n",
    "print(f\"따라서 총 주급여액은 {week_wage}원 입니다\")"
   ]
  },
  {
   "cell_type": "code",
   "execution_count": 2,
   "metadata": {},
   "outputs": [
    {
     "name": "stdout",
     "output_type": "stream",
     "text": [
      "4 <class 'int'>\n",
      "4.5 <class 'float'>\n"
     ]
    }
   ],
   "source": [
    "# 예제\n",
    "\n",
    "# 이름하고 주소를 입력 받아서 한 문장으로 출력하고 싶다.\n",
    "# 각 변수는 특정타입만 저장하지 않는다.\n",
    "\n",
    "a = 4\n",
    "print(a, type(a)) # type 명령어는 변수 a의 타입이 아니라 a 안에 존재하는 숫자 4가 type이 뭐냐는 것입니다.\n",
    "\n",
    "a = 4.5\n",
    "print(a, type(a))\n"
   ]
  },
  {
   "cell_type": "code",
   "execution_count": null,
   "metadata": {},
   "outputs": [],
   "source": [
    "# 예제\n",
    "\n",
    "name = input(\"당신의 이름은?\")\n",
    "adress = input(\"주소는?\")\n",
    "# print(name + \"님의 주소는\" + adress + \"입니다.\")\n",
    "print(f\"{name}님의 주소는 {adress}입니다.\")\n"
   ]
  },
  {
   "cell_type": "code",
   "execution_count": null,
   "metadata": {},
   "outputs": [],
   "source": [
    "# 예제 - \n",
    "\n",
    "# <입력>\n",
    "per_pay = input(\"시급 : \")\n",
    "work_time = input(\"근무시간 : \")\n",
    "\n",
    "# <계산>\n",
    "week_wage = int(per_pay) * int(work_time)  # 단순 계산\n",
    "\n",
    "# <출력>\n",
    "print(f\"근무시간은 {work_time}시간, 시간당 급여액 {per_pay}원, 주급은 {week_wage}원\")\n",
    "print(f\"따라서 총 주급여액은 {week_wage}원 입니다\")"
   ]
  },
  {
   "cell_type": "code",
   "execution_count": null,
   "metadata": {},
   "outputs": [],
   "source": [
    "# 예제\n",
    "\n"
   ]
  }
 ],
 "metadata": {
  "kernelspec": {
   "display_name": "learnAI",
   "language": "python",
   "name": "python3"
  },
  "language_info": {
   "codemirror_mode": {
    "name": "ipython",
    "version": 3
   },
   "file_extension": ".py",
   "mimetype": "text/x-python",
   "name": "python",
   "nbconvert_exporter": "python",
   "pygments_lexer": "ipython3",
   "version": "3.10.16"
  }
 },
 "nbformat": 4,
 "nbformat_minor": 2
}
