{
 "cells": [
  {
   "cell_type": "markdown",
   "id": "203095e3",
   "metadata": {},
   "source": [
    "# 🟩 Inheritance of Class (상속)"
   ]
  },
  {
   "cell_type": "markdown",
   "id": "098e0741",
   "metadata": {},
   "source": [
    "- 정의1 : 기존에 정의된 클래스(부모 클래스, 상위 클래스)의 기능을 그대로 물려받아, 새로운 클래스(자식 클래스, 하위 클래스)를 만들 때 사용하는 방법\n",
    "\n",
    "- 정의2 : ‘물려받다’라는 뜻으로, ‘재산을 상속받다’라고 할 때의 상속과 같은 의미이다. 클래스에도 이 개념을 적용할 수 있다. 어떤 클래스를 만들 때 다른 클래스의 기능을 물려받을 수 있게 만드는 것이다. 이번에는 상속 개념을 사용하여 우리가 만든 FourCal 클래스에 a b제곱값을 구할 수 있는 기능을 추가해 보자.\n",
    "\n"
   ]
  },
  {
   "cell_type": "markdown",
   "id": "0413ff9c",
   "metadata": {},
   "source": [
    "### 🟡 기본 이해 예제\n",
    "```python\n",
    "\n",
    "```"
   ]
  },
  {
   "cell_type": "code",
   "execution_count": null,
   "id": "3b48eb1f",
   "metadata": {},
   "outputs": [],
   "source": [
    "class Animal:\n",
    "    def speak(self):\n",
    "        print(\"소리를 낸다\")\n",
    "\n",
    "class Dog(Animal):\n",
    "    def bark(self):\n",
    "        print(\"멍멍!\")\n",
    "\n",
    "dog = Dog()\n",
    "dog.speak()  # Animal에서 상속받은 메서드\n",
    "dog.bark()   # Dog 고유 메서드\n"
   ]
  },
  {
   "cell_type": "markdown",
   "id": "dd03e43a",
   "metadata": {},
   "source": [
    "### 🟡 더 깊게 이해하기\n",
    "\n",
    "- 부모의 init 생성자를 가져올 때\n",
    "  - super().__init__(x, y) \n",
    "\n",
    "```python\n",
    "\n",
    "```"
   ]
  },
  {
   "cell_type": "code",
   "execution_count": null,
   "id": "a42aeb5d",
   "metadata": {},
   "outputs": [
    {
     "name": "stdout",
     "output_type": "stream",
     "text": [
      "Base 생성자\n",
      "x = 0 | y = 0\n",
      "Base 생성자\n",
      "x = 6 | y = 7\n",
      "Base 생성자\n",
      "Child1 생성자\n",
      "x = 1 | y = 2 | z = 3\n"
     ]
    }
   ],
   "source": [
    "class Base:   # 부모 클래스\n",
    "  def __init__(self, x=0, y=0):\n",
    "    self.x = x\n",
    "    self.y = y\n",
    "    print('Base 생성자')\n",
    "  \n",
    "  def display(self):\n",
    "    print( f\"x = {self.x} | y = {self.y}\")\n",
    "\n",
    "  def add(self):\n",
    "    return self.x + self.y\n",
    "\n",
    "  def doublex(self):\n",
    "    return self.x * 2 \n",
    "  \n",
    "  def doubley(self):\n",
    "    return self.y * 2 \n",
    "\n",
    "\n",
    "  \n",
    "class Child1(Base):   # Base \n",
    "  def __init__(self, x=0, y=0, z=0):\n",
    "    # super가 부모 객체를 가져옵니다. \n",
    "    super().__init__(x, y)  # 부모 생성자 호출! 만들어진 class 내용들을 그대로 상속 받아서 똑같이 쓸 수 있게 되는 것입니다.\n",
    "    \n",
    "    self.z = z  # 🔥 이렇게 부모에 없는 추가 기능을 만들고자 하는 경우에는 어떻게 해야할까??????\n",
    "                # 상속 받아서 고쳐쓴다. = 오버라이딩!!!\n",
    "                \n",
    "    print('Child1 생성자')\n",
    "\n",
    "    # 다른 언어의 경우에는 부모생성자 먼저 호출하고 자식생성자를 호출.\n",
    "    # 그런데 파이썬은 아닙니다.\n",
    "    # 부모생성자를 호출하는 방식으로 설계하는 것이 바람직하다.\n",
    "\n",
    "  def display(self):\n",
    "    # return super().display() # 이거는 부모클래스꺼 그대로 return 시키는 것\n",
    "    # 🔥 내가 재정의 하겠다!!! (오버라이딩)\n",
    "    print( f\"x = {self.x} | y = {self.y} | z = {self.z}\")\n",
    "\n",
    "  \n",
    "p = Base()\n",
    "p.display()\n",
    "\n",
    "p = Base(6, 7)\n",
    "p.display()\n",
    "\n",
    "c1 = Child1(1,2,3)\n",
    "c1.display()  # 🔥 오버라이딩 후에 결과값이 다름!"
   ]
  },
  {
   "cell_type": "markdown",
   "id": "49bc1cd7",
   "metadata": {},
   "source": [
    "## 🟢 메서드 오버라이딩 (Overriding)\n",
    "\n",
    "- 부모 클래스의 메서드를 자식 클래스에서 같은 이름으로 재정의하는 것. (같은 이름, 같은 매개변수 → 내용을 바꿔서 새로 정의)\n",
    "- \n",
    "```python\n",
    "\n",
    "```"
   ]
  },
  {
   "cell_type": "code",
   "execution_count": null,
   "id": "094c9b69",
   "metadata": {},
   "outputs": [],
   "source": [
    "class Animal:\n",
    "    def speak(self):\n",
    "        print(\"동물이 소리를 낸다\")\n",
    "\n",
    "class Cat(Animal):\n",
    "    def speak(self):\n",
    "        print(\"야옹야옹\")\n",
    "\n",
    "cat = Cat()\n",
    "cat.speak()  # 야옹야옹\n"
   ]
  },
  {
   "cell_type": "markdown",
   "id": "2dd8e67a",
   "metadata": {},
   "source": [
    "## 🟢 오버로딩 (Overloading)\n",
    "\n",
    "- 같은 이름의 메서드를 여러 개 정의하되, 매개변수 개수나 타입이 다르게 만드는 것\n",
    "- 부모클래스와 자식클래스 간에 벌어진다. 부모 클래스에 있는 메서드가 마음에 안들어서 고쳐쓰기를 원할 때, 부모클래스의 함수 이름과 자식클래스 함수 이름이 같으면 부모의 함수를 가려버린다.\n",
    "- double x 특정 변수에 종속되기 때문에 따로 오버라이딩을 하지 않는다."
   ]
  }
 ],
 "metadata": {
  "kernelspec": {
   "display_name": "aiBootCamp",
   "language": "python",
   "name": "python3"
  },
  "language_info": {
   "codemirror_mode": {
    "name": "ipython",
    "version": 3
   },
   "file_extension": ".py",
   "mimetype": "text/x-python",
   "name": "python",
   "nbconvert_exporter": "python",
   "pygments_lexer": "ipython3",
   "version": "3.10.16"
  }
 },
 "nbformat": 4,
 "nbformat_minor": 5
}
