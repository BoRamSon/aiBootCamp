{
 "cells": [
  {
   "cell_type": "markdown",
   "metadata": {},
   "source": [
    "# 🟩 복습2\n",
    "\n",
    "\n"
   ]
  },
  {
   "cell_type": "markdown",
   "metadata": {},
   "source": [
    "\n",
    "---\n",
    "## 🟢 이차원 배열\n",
    "이차원 : 본래 의미의 배열이 아니다.\n",
    "list if list로 표현해야 한다."
   ]
  },
  {
   "cell_type": "code",
   "execution_count": null,
   "metadata": {},
   "outputs": [
    {
     "name": "stdout",
     "output_type": "stream",
     "text": [
      "[1, 2, 3, 4, 5]\n",
      "[6, 7, 8, 9, 10]\n",
      "[11, 12, 13, 14, 15]\n",
      "\n",
      "[1, 2, 3, 4, 5]\n",
      "\n",
      "1\n"
     ]
    }
   ],
   "source": [
    "a = [[1,2,3,4,5], \n",
    "     [6,7,8,9,10], \n",
    "     [11,12,13,14,15]]\n",
    "\n",
    "# 출력해보기\n",
    "for i in a:\n",
    "  print(i)\n",
    "\n",
    "print()\n",
    "\n",
    "print(a[0])\n",
    "\n",
    "print()\n",
    "print(a[0][0])\n",
    "\n"
   ]
  }
 ],
 "metadata": {
  "kernelspec": {
   "display_name": "aiBootCamp",
   "language": "python",
   "name": "python3"
  },
  "language_info": {
   "codemirror_mode": {
    "name": "ipython",
    "version": 3
   },
   "file_extension": ".py",
   "mimetype": "text/x-python",
   "name": "python",
   "nbconvert_exporter": "python",
   "pygments_lexer": "ipython3",
   "version": "3.10.16"
  }
 },
 "nbformat": 4,
 "nbformat_minor": 2
}
