{
 "cells": [
  {
   "cell_type": "markdown",
   "id": "309cb21a",
   "metadata": {},
   "source": [
    "# 🟩 표준라이브러리 (shutil)\n",
    "\n",
    "- 딥러닝 때 shutil을 사용함"
   ]
  },
  {
   "cell_type": "code",
   "execution_count": null,
   "id": "428fd0c9",
   "metadata": {},
   "outputs": [
    {
     "data": {
      "text/plain": [
       "'./11_shutil_copy.py'"
      ]
     },
     "execution_count": 1,
     "metadata": {},
     "output_type": "execute_result"
    }
   ],
   "source": [
    "import shutil\n",
    "\n",
    "shutil.copy('./11_shutil_practice.py', './11_shutil_copy.py')\n",
    "\n",
    "# 성공하여 파일을 만들었습니다!"
   ]
  }
 ],
 "metadata": {
  "kernelspec": {
   "display_name": "aiBootCamp",
   "language": "python",
   "name": "python3"
  },
  "language_info": {
   "codemirror_mode": {
    "name": "ipython",
    "version": 3
   },
   "file_extension": ".py",
   "mimetype": "text/x-python",
   "name": "python",
   "nbconvert_exporter": "python",
   "pygments_lexer": "ipython3",
   "version": "3.10.13"
  }
 },
 "nbformat": 4,
 "nbformat_minor": 5
}
