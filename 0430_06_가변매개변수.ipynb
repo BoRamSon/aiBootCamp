{
 "cells": [
  {
   "cell_type": "markdown",
   "metadata": {},
   "source": [
    "# 🟩 가변 매개변수\n",
    "\n",
    "- 함수의 매개변수 개수가 바뀌는 경우에 사용\n",
    "- 변수 앞에 * 을 붙임(튜플 타입으로 함수에서 가져감)\n",
    "- 매개변수에 기본값을 줄 때는 변수 자체가 여러 개 만들어짐"
   ]
  },
  {
   "cell_type": "markdown",
   "metadata": {},
   "source": [
    "| 구분       | 문법       | 설명                   | 함수 내부 타입 |\n",
    "|------------|------------|------------------------|----------------|\n",
    "| 위치 인자  | `*args`    | 개수 제한 없는 인자    | `tuple`        |\n",
    "| 키워드 인자| `**kwargs` | key=value 형식 인자    | `dict`         |\n"
   ]
  },
  {
   "cell_type": "markdown",
   "metadata": {},
   "source": [
    "\n",
    "---\n",
    "## 🟢 위치인자 (*) 예제"
   ]
  },
  {
   "cell_type": "code",
   "execution_count": 1,
   "metadata": {},
   "outputs": [
    {
     "name": "stdout",
     "output_type": "stream",
     "text": [
      "<class 'tuple'>\n",
      "1\n",
      "2\n",
      "<class 'tuple'>\n",
      "1\n",
      "2\n",
      "3\n"
     ]
    }
   ],
   "source": [
    "def myadd(*args) :    # 변수 하나에 값을 여러개 전달 = 튜플 형태로 값을 전달하겠다는 의미\n",
    "  print(type(args))\n",
    "  for a in args :\n",
    "    print(a)\n",
    "\n",
    "myadd(1,2)\n",
    "myadd(1,2,3)"
   ]
  },
  {
   "cell_type": "code",
   "execution_count": null,
   "metadata": {},
   "outputs": [],
   "source": [
    "def myadd2(*data) :\n",
    "  s = 0 \n",
    "  for i in data :\n",
    "    s += i\n",
    "  return s\n",
    "\n",
    "print(myadd2(1,3,5))\n",
    "print(myadd2(1,3,5,7))\n",
    "print(myadd2(1,3,5,7,9))"
   ]
  },
  {
   "cell_type": "code",
   "execution_count": 1,
   "metadata": {},
   "outputs": [
    {
     "name": "stdout",
     "output_type": "stream",
     "text": [
      "10\n"
     ]
    }
   ],
   "source": [
    "# 보통 for문으로 한개씩 처리하던데... 그냥 고정된 것을 처리하는 가변매개변수를 확인해보고 싶어서 ChatGPT로 만들어봤습니다.\n",
    "\n",
    "def add_four_values(*args):\n",
    "    if len(args) != 4:\n",
    "        raise ValueError(\"정확히 4개의 값을 입력해야 합니다.\")\n",
    "    \n",
    "    a, b, c, d = args  # 언패킹\n",
    "    return a + b + c + d\n",
    "\n",
    "# 사용 예\n",
    "print(add_four_values(1, 2, 3, 4))   # 출력: 10\n"
   ]
  },
  {
   "cell_type": "markdown",
   "metadata": {},
   "source": [
    "\n",
    "### 🟡 혼용 시 작성 순서 -> (일반인자 , 튜플인자 , dict 인자)\n",
    "- 일반 매개변수(인자)와 튜플 매개변수(인자) 를 같이 혼용하여 사용해야 할 때는 일반 매개변수가 먼저 작성되어야 함 = 나머지 매개변수를 튜플로 받음\n",
    "- 일반 매개변수와 튜플 매개변수와 dict 매개변수를 셋다 혼용하여 서용해야 할 때는 다음과 같은 순서로 작성 -> (일반인자 , 튜플인자 , dict 인자)"
   ]
  },
  {
   "cell_type": "code",
   "execution_count": 2,
   "metadata": {},
   "outputs": [
    {
     "name": "stdout",
     "output_type": "stream",
     "text": [
      "n 1\n",
      "2\n",
      "3\n",
      "4\n",
      "5\n"
     ]
    }
   ],
   "source": [
    "def myadd3(n , *data) :\n",
    "    print(\"n\" , n)\n",
    "    for i in data :\n",
    "        print(i)\n",
    "\n",
    "myadd3(1,2,3,4,5)   # 1 까지는 일반 매개변수로 받아지고 2 , 3 , 4 , 5 는 튜플 매개변수로 받아짐"
   ]
  },
  {
   "cell_type": "markdown",
   "metadata": {},
   "source": [
    "\n",
    "---\n",
    "## 🟢 키워드 인자 (**) 예제\n",
    "- dict 타입을 매개변수로 넘길수도 있음\n",
    "- 이때는 매개변수의 전달 방식이 달라짐\n",
    "- 함수 밖에서 dict 타입을 만들어서 함수로 매개변수로 넘겨주는 방식\n",
    "- 함수 안에서는 key 값과 value 값만 매개변수로 넣어주고 함수 안에서 dict 타입으로 만들어서 출력\n",
    "- 매개변수 앞에 ** 을 붙혀서 dict 타입으로 만들어지도록 함\n",
    "\n",
    "<br>\n",
    "\n",
    "### 🟡 가변 키워드 매개변수\n",
    "\\**는 가변 키워드 매개변수 (Keyword Variable Arguments)를 의미합니다."
   ]
  },
  {
   "cell_type": "code",
   "execution_count": 3,
   "metadata": {},
   "outputs": [
    {
     "name": "stdout",
     "output_type": "stream",
     "text": [
      "{'name': '홍길동', 'age': 12}\n"
     ]
    }
   ],
   "source": [
    "def myfunc(d) :\n",
    "    print(d)\n",
    "\n",
    "person = {\"name\" : \"홍길동\" , \"age\" : 12}\n",
    "myfunc(person)"
   ]
  },
  {
   "cell_type": "code",
   "execution_count": null,
   "metadata": {},
   "outputs": [
    {
     "name": "stdout",
     "output_type": "stream",
     "text": [
      "{'name': '홍길동', 'age': 23}\n"
     ]
    }
   ],
   "source": [
    "# 함수 정의: 키워드 인자를 가변적으로 받기 위해 **d를 사용\n",
    "def myfunc2(**d):  \n",
    "    # d는 딕셔너리 형태(**)로써 key=value 구조의 인자를 모두 저장\n",
    "    print(d)  # {'name': '홍길동', 'age': 23} 형태로 출력됨\n",
    "\n",
    "# 함수 호출: 키워드 인자 방식으로 전달\n",
    "myfunc2(name=\"홍길동\", age=23)\n",
    "# => 내부적으로는 다음과 같은 딕셔너리로 해석됨: {'name': '홍길동', 'age': 23}\n",
    "# => 이 딕셔너리가 함수 안에서 변수 d에 저장되어 사용됨\n"
   ]
  },
  {
   "cell_type": "code",
   "execution_count": null,
   "metadata": {},
   "outputs": [],
   "source": [
    "# 더 쉽게 이해하기 위해서 더 많은 dict를 넣어보겠습니다.\n",
    "\n",
    "def show_info(**kwargs):\n",
    "    for key, value in kwargs.items():\n",
    "        print(f\"{key} => {value}\")\n",
    "\n",
    "show_info(name=\"철수\", age=30, job=\"개발자\")\n",
    "# 출력:\n",
    "# name => 철수\n",
    "# age => 30\n",
    "# job => 개발자\n"
   ]
  },
  {
   "cell_type": "code",
   "execution_count": null,
   "metadata": {},
   "outputs": [],
   "source": [
    "# 🔥 마지막으로 각각 넣어보았습니다.\n",
    "\n",
    "def profile(role , *skills , **details) :\n",
    "  print(\"role\" , role)\n",
    "  print(\"skills\" , skills)\n",
    "  print(\"details\" , details)\n",
    "    \n",
    "profile(\"Programmer\" , \n",
    "        \"Python\" , \"react\" , \"Deeplearning\" , \n",
    "        Salary = 100000000 , Position = \"개발자\")"
   ]
  }
 ],
 "metadata": {
  "kernelspec": {
   "display_name": "aiBootCamp",
   "language": "python",
   "name": "python3"
  },
  "language_info": {
   "codemirror_mode": {
    "name": "ipython",
    "version": 3
   },
   "file_extension": ".py",
   "mimetype": "text/x-python",
   "name": "python",
   "nbconvert_exporter": "python",
   "pygments_lexer": "ipython3",
   "version": "3.10.16"
  }
 },
 "nbformat": 4,
 "nbformat_minor": 2
}
