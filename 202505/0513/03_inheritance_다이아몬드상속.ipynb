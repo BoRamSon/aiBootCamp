{
 "cells": [
  {
   "cell_type": "markdown",
   "id": "6baf521c",
   "metadata": {},
   "source": [
    "# 🟩 inheritance - 다이아몬드 상속\n"
   ]
  },
  {
   "cell_type": "markdown",
   "id": "a392816b",
   "metadata": {},
   "source": [
    "```markdown\n",
    "- 클래스 구조:\n",
    "\n",
    "      A\n",
    "     / \\\n",
    "    B   C\n",
    "     \\ /\n",
    "      D\n",
    "\n",
    "- MRO 순서:\n",
    "     - D → B → C → A → object\n",
    "\n",
    "```\n",
    "\n",
    "- 다이아몬드 상속은 두 개 이상의 자식 클래스가 같은 부모 클래스를 상속하고, 그 자식 클래스들을 또 다른 클래스가 모두 상속할 때 발생하는 다중 상속 구조를 말합니다. 구조가 다이아몬드 모양처럼 생겨서 붙은 이름입니다.\n"
   ]
  },
  {
   "cell_type": "code",
   "execution_count": null,
   "id": "20ca8909",
   "metadata": {},
   "outputs": [
    {
     "name": "stdout",
     "output_type": "stream",
     "text": [
      "D 생성자 호출\n",
      "B 생성자 호출\n",
      "C 생성자 호출\n",
      "A 생성자 호출\n",
      "(<class '__main__.D'>, <class '__main__.B'>, <class '__main__.C'>, <class '__main__.A'>, <class 'object'>)\n",
      "True\n",
      "True\n",
      "True\n"
     ]
    }
   ],
   "source": [
    "class A:\n",
    "  def __init__(self):\n",
    "    print('A 생성자 호출')\n",
    "\n",
    "class B(A):    # A를 상속받음\n",
    "  def __init__(self):\n",
    "    print('B 생성자 호출')\n",
    "    super().__init__()  # 부모 생성자 호출하기\n",
    "    # A.__init__(self)  # ⛔️ 이렇게 하지 말라는 것 / 하지만 지금 버전에서는 해도됩니다.\n",
    "\n",
    "class C(A):   # B를 상속받음\n",
    "  def __init__(self):\n",
    "    print('C 생성자 호출')\n",
    "    super().__init__()  # 부모 생성자 호출하기\n",
    "    # A.__init__(self)  # ⛔️ 이렇게 하지 말라는 것 / 하지만 지금 버전에서는 해도됩니다.\n",
    "\n",
    "class D(B,C):   # B하고 C를 둘 다 받으면서 결과적으로 A가 2번 상속된다.\n",
    "  def __init__(self):\n",
    "    print('D 생성자 호출')\n",
    "    super().__init__()  # 부모 생성자 호출하기\n",
    "\n",
    "d = D() #객체 생성 - MRO규칙을 따라간다.\n",
    "\n",
    "# mro 규칙 확인하기\n",
    "print(D.__mro__)\n",
    "\n",
    "\n",
    "# ----------------------------------------------------------\n",
    "# 🟢 isinstance(객체, 클래스) 이 객체가 클래스의 인스턴스인지 확인해주는 함수\n",
    "print(isinstance(d, A))\n",
    "print(isinstance(d, B))\n",
    "print(isinstance(d, C))\n",
    "print(isinstance(d, object))\n",
    "print(isinstance(d, str))\n",
    "\n",
    "# ----------------------------------------------------------\n",
    "# 🟢 object - 모든 클래스의 base 클래스이다. 무조건 상속을 받는다.\n",
    "a = object()\n",
    "print(a.__class__)\n",
    "\n",
    "\n",
    "\n"
   ]
  },
  {
   "cell_type": "markdown",
   "id": "2fe29a50",
   "metadata": {},
   "source": [
    "### 🟡  \\__mro__ 내장변수\n",
    "- 시스템이 제공하는 내장변수 중에 \\__mro__ 가 있는데. \n",
    "- \\__mro__ : 상속받은 관계에 따라서 작동한다. \n",
    "  - print(D.__mro__)\n",
    "  - (<class '__main__.D'>, <class '__main__.B'>, <class '__main__.C'>, <class '__main__.A'>, <class 'object'>)\n",
    "\n",
    "    - 먼저 Duck이 최우선이라는 의미이다."
   ]
  }
 ],
 "metadata": {
  "kernelspec": {
   "display_name": "aiBootCamp",
   "language": "python",
   "name": "python3"
  },
  "language_info": {
   "codemirror_mode": {
    "name": "ipython",
    "version": 3
   },
   "file_extension": ".py",
   "mimetype": "text/x-python",
   "name": "python",
   "nbconvert_exporter": "python",
   "pygments_lexer": "ipython3",
   "version": "3.10.16"
  }
 },
 "nbformat": 4,
 "nbformat_minor": 5
}
