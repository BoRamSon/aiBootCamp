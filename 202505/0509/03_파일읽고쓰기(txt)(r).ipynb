{
 "cells": [
  {
   "cell_type": "markdown",
   "metadata": {},
   "source": [
    "# 🟩 파일 읽고 쓰기 / open()\n",
    "\n",
    "https://wikidocs.net/26\n",
    "\n",
    "- 컴퓨터는 모든 것을 파일로 봅니다. 키보드나 마우스도 파일입니다.\n",
    "- 회귀선을 그을 때, 계산을 통해 최적을 찾는데, 이 때 그래픽카드로 계산을 하게 되는데, 애초에 그래픽카드(hardware)부터 공부를 해야합니다."
   ]
  },
  {
   "cell_type": "markdown",
   "metadata": {},
   "source": [
    "## 🟢 Practice 5 - 이번에는 읽기(r)\n",
    "\n",
    "- 파일을 열때는 파일이 반드시 존재해야합니다.\n",
    "\n",
    "```python\n",
    "\n",
    "```"
   ]
  },
  {
   "cell_type": "code",
   "execution_count": 10,
   "metadata": {},
   "outputs": [
    {
     "name": "stdout",
     "output_type": "stream",
     "text": [
      "Hello\n"
     ]
    }
   ],
   "source": [
    "f = open(\"데이터파일.txt\", 'r')\n",
    "\n",
    "data = f.read()   #파일을 통으로 읽는다.\n",
    "\n",
    "print(data)\n",
    "\n",
    "f.close()\n"
   ]
  },
  {
   "cell_type": "code",
   "execution_count": null,
   "metadata": {},
   "outputs": [
    {
     "name": "stdout",
     "output_type": "stream",
     "text": [
      "<class 'list'>\n",
      "['Hello']\n"
     ]
    }
   ],
   "source": [
    "f = open(\"데이터파일.txt\", 'r')\n",
    "\n",
    "# data = f.read()   #파일을 통으로 읽는다.\n",
    "data = f.readlines()    # 🔥 모든 라인들을 읽습니다. / 얘는 반환값이 list타입이다.\n",
    "print(type(data))       # 타입 확인해보기!!!\n",
    "\n",
    "print(data)\n",
    "\n",
    "f.close()\n"
   ]
  },
  {
   "cell_type": "code",
   "execution_count": null,
   "metadata": {},
   "outputs": [
    {
     "name": "stdout",
     "output_type": "stream",
     "text": [
      "<class 'str'>\n",
      "i=1\n",
      "\n"
     ]
    }
   ],
   "source": [
    "f = open(\"데이터파일2.txt\", 'r')\n",
    "\n",
    "line = f.readline()    # 🔥 readline = 줄 하나만 읽습니다.\n",
    "print(type(line))       # 타입 확인해보기!!!\n",
    "\n",
    "print(line)\n",
    "\n",
    "f.close()\n"
   ]
  },
  {
   "cell_type": "code",
   "execution_count": null,
   "metadata": {},
   "outputs": [
    {
     "name": "stdout",
     "output_type": "stream",
     "text": [
      "<class 'str'>\n",
      "i=1\n",
      "\n",
      "<class 'str'>\n",
      "i=2\n",
      "\n",
      "<class 'str'>\n",
      "i=3\n",
      "\n",
      "<class 'str'>\n",
      "i=4\n",
      "\n",
      "<class 'str'>\n",
      "i=5\n",
      "\n",
      "<class 'str'>\n",
      "i=6\n",
      "\n",
      "<class 'str'>\n",
      "i=7\n",
      "\n",
      "<class 'str'>\n",
      "i=8\n",
      "\n",
      "<class 'str'>\n",
      "i=9\n",
      "\n",
      "<class 'str'>\n",
      "i=10\n",
      "\n"
     ]
    }
   ],
   "source": [
    "f = open(\"데이터파일2.txt\", 'r')\n",
    "\n",
    "line = f.readline() \n",
    "\n",
    "while line !=\"\":      # readline만 사용할 때에는 이렇게 반복문으로 출력한다.\n",
    "  print(type(line)) \n",
    "  print(line)\n",
    "  line = f.readline()\n",
    "\n",
    "f.close()\n"
   ]
  }
 ],
 "metadata": {
  "kernelspec": {
   "display_name": "aiBootCamp",
   "language": "python",
   "name": "python3"
  },
  "language_info": {
   "codemirror_mode": {
    "name": "ipython",
    "version": 3
   },
   "file_extension": ".py",
   "mimetype": "text/x-python",
   "name": "python",
   "nbconvert_exporter": "python",
   "pygments_lexer": "ipython3",
   "version": "3.10.16"
  }
 },
 "nbformat": 4,
 "nbformat_minor": 2
}
