{
 "cells": [
  {
   "cell_type": "markdown",
   "metadata": {},
   "source": [
    "# 🟩 문제\n",
    "\n",
    "- 해당 데이터가 txt 파일로 존재한다.\n",
    "- 이것은 성적에 대한 데이터이다.\n",
    "- 이름, 국어, 영어, 수학 이다.\n",
    "  > 홍길동,100,90,90  \n",
    "    임꺽정,80,80,90  \n",
    "    조승연,100,100,100  \n",
    "    강형구,80,90,70  \n",
    "    김정현,100,100,90  \n",
    "    이정숙,90,80,60  \n",
    "\n"
   ]
  },
  {
   "cell_type": "code",
   "execution_count": null,
   "metadata": {},
   "outputs": [
    {
     "name": "stdout",
     "output_type": "stream",
     "text": [
      "1. 파일 데이터 추출\n",
      "2. 계산\n",
      "3. 출력\n",
      "0. 종료\n",
      "None\n",
      "추출 완료: [{'name': '홍길동', 'kor': 100, 'eng': 90, 'mat': 90}, {'name': '임꺽정', 'kor': 80, 'eng': 80, 'mat': 90}, {'name': '조승연', 'kor': 100, 'eng': 100, 'mat': 100}, {'name': '강형구', 'kor': 80, 'eng': 90, 'mat': 70}, {'name': '김정현', 'kor': 100, 'eng': 100, 'mat': 90}, {'name': '이정숙', 'kor': 90, 'eng': 80, 'mat': 60}]\n",
      "계산 완료: [{'name': '홍길동', 'kor': 100, 'eng': 90, 'mat': 90, 'sum_result': 280, 'aver_result': 93.33333333333333}, {'name': '임꺽정', 'kor': 80, 'eng': 80, 'mat': 90, 'sum_result': 250, 'aver_result': 83.33333333333333}, {'name': '조승연', 'kor': 100, 'eng': 100, 'mat': 100, 'sum_result': 300, 'aver_result': 100.0}, {'name': '강형구', 'kor': 80, 'eng': 90, 'mat': 70, 'sum_result': 240, 'aver_result': 80.0}, {'name': '김정현', 'kor': 100, 'eng': 100, 'mat': 90, 'sum_result': 290, 'aver_result': 96.66666666666667}, {'name': '이정숙', 'kor': 90, 'eng': 80, 'mat': 60, 'sum_result': 230, 'aver_result': 76.66666666666667}]\n",
      "'홍길동'님의 점수는 국어: 100 | 영어: 90 | 수학: 90 | 합계: 280 | 평균: 93.3\n",
      "'임꺽정'님의 점수는 국어: 80 | 영어: 80 | 수학: 90 | 합계: 250 | 평균: 83.3\n",
      "'조승연'님의 점수는 국어: 100 | 영어: 100 | 수학: 100 | 합계: 300 | 평균: 100.0\n",
      "'강형구'님의 점수는 국어: 80 | 영어: 90 | 수학: 70 | 합계: 240 | 평균: 80.0\n",
      "'김정현'님의 점수는 국어: 100 | 영어: 100 | 수학: 90 | 합계: 290 | 평균: 96.7\n",
      "'이정숙'님의 점수는 국어: 90 | 영어: 80 | 수학: 60 | 합계: 230 | 평균: 76.7\n"
     ]
    }
   ],
   "source": [
    "# 어떤 데이터를 가지고 나오는지 확인한다.\n",
    "# f = open(\"datas/score.txt\", 'r')\n",
    "# lines = f.readlines()\n",
    "# print(lines)\n",
    "# f.close()\n",
    "\n",
    "\n",
    "class ReadFileAndPrint:\n",
    "  def __init__(self):\n",
    "    self.score_dict_list = []\n",
    "\n",
    "  def read_file(self):\n",
    "    f = open(\"datas/score.txt\", 'r')\n",
    "    lines = f.readlines()   # 다 읽어와서 list로 만듭니다.\n",
    "    for i in lines:\n",
    "      score_dict = {}\n",
    "      seperator = i.split(',')\n",
    "      score_dict['name'] = seperator[0]\n",
    "      score_dict['kor'] = int(seperator[1])\n",
    "      score_dict['eng'] = int(seperator[2])\n",
    "      score_dict['mat'] = int(seperator[3])\n",
    "      self.score_dict_list.append(score_dict)\n",
    "    f.close()\n",
    "    print(f\"추출 완료: {self.score_dict_list}\")  \n",
    "\n",
    "  def calcul_score(self):\n",
    "    for i in self.score_dict_list:\n",
    "      i['sum_result'] = i['kor'] + i['eng'] + i['mat']\n",
    "      i['aver_result'] = i['sum_result'] / 3\n",
    "    print(f\"계산 완료: {self.score_dict_list}\")  \n",
    "\n",
    "  def output(self):\n",
    "    for i in self.score_dict_list:\n",
    "      print(\n",
    "        f\"\\'{i['name']}\\'님의 점수는 국어: {i['kor']} | 영어: {i['eng']} | 수학: {i['mat']} | 합계: {i['sum_result']} | 평균: {i['aver_result']:.1f}\"\n",
    "      )\n",
    "\n",
    "  def menu(self):\n",
    "    print(f\"1. 파일 데이터 추출\")\n",
    "    print(f\"2. 계산\")\n",
    "    print(f\"3. 출력\")\n",
    "    print(f\"0. 종료\")\n",
    "\n",
    "  def start(self):\n",
    "    print(self.menu())\n",
    "    while True:\n",
    "      sel = input('메뉴 번호를 입력하세요. : ')\n",
    "      if sel == '1':\n",
    "        self.read_file()      \n",
    "      if sel == '2':\n",
    "        self.calcul_score()\n",
    "      if sel == '3':      \n",
    "        self.output()\n",
    "      if sel == '0':\n",
    "        return print('정상적으로 종료되었습니다.')\n",
    "\n",
    "r = ReadFileAndPrint()\n",
    "r.start()\n",
    "\n",
    "\n",
    "\n"
   ]
  },
  {
   "cell_type": "markdown",
   "metadata": {},
   "source": [
    "### 🟡 같이 풀어보기"
   ]
  },
  {
   "cell_type": "code",
   "execution_count": null,
   "metadata": {},
   "outputs": [],
   "source": [
    "\n",
    "words = line.split(,)\n",
    "\n",
    "name = words[0]\n",
    "kor = int(words[1])\n",
    "eng = int(words[2])\n",
    "mat = int(words[3])\n",
    "total = kor + eng + mat\n",
    "avg = total + 3\n",
    "\n",
    "print(name, kor, eng, mat, total, avg)"
   ]
  }
 ],
 "metadata": {
  "kernelspec": {
   "display_name": "aiBootCamp",
   "language": "python",
   "name": "python3"
  },
  "language_info": {
   "codemirror_mode": {
    "name": "ipython",
    "version": 3
   },
   "file_extension": ".py",
   "mimetype": "text/x-python",
   "name": "python",
   "nbconvert_exporter": "python",
   "pygments_lexer": "ipython3",
   "version": "3.10.16"
  }
 },
 "nbformat": 4,
 "nbformat_minor": 2
}
