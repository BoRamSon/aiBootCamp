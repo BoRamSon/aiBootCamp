{
 "cells": [
  {
   "cell_type": "markdown",
   "metadata": {},
   "source": [
    "- console이라는 것은 키보드와 모니터를 의미합니다.\n",
    "\n",
    "- 하드웨어에 직접 접근하면 굉장히 복잡하고 어렵다. \n",
    "  - 그래서 OS를 통해서 접근한다. \n",
    "    - 그 OS 위해서 파이썬(앱, 소프트웨어)를 사용하는 것이다.\n",
    "  \n",
    "- kernel : 프로그램이 가동되도록 도와주는 것\n",
    "\n",
    "- shell : 명령 해석기 : 컴퓨터랑 대화할 수 있도록 해주는 것입니다.\n",
    "\n",
    "- OS의 양대산맥은 Windows, Linux, Unix (Mac은 끼지도 못합니다.)\n",
    "  - Linux는 shell의 종류가 많습니다. \n",
    "  - Windows는 다른 OS Shell에 대응하기 위해서 Linux 명령어도 먹히고, 보안이 더 강화된 powershell을 만들었다.\n",
    "\n",
    "\n",
    "\n"
   ]
  }
 ],
 "metadata": {
  "language_info": {
   "name": "python"
  }
 },
 "nbformat": 4,
 "nbformat_minor": 2
}
