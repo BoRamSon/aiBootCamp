{
 "cells": [
  {
   "cell_type": "markdown",
   "metadata": {},
   "source": [
    "# 🟩 for문 중첩 - 별찍기\n",
    "\n",
    "의외로 신입사원 문제에 잘나옵니다."
   ]
  },
  {
   "cell_type": "markdown",
   "metadata": {},
   "source": [
    "## 🟢 별 찍는 법 배우기"
   ]
  },
  {
   "cell_type": "code",
   "execution_count": 1,
   "metadata": {},
   "outputs": [
    {
     "name": "stdout",
     "output_type": "stream",
     "text": [
      "\n",
      "*\n",
      "**\n",
      "***\n",
      "****\n",
      "*****\n",
      "******\n",
      "*******\n",
      "********\n",
      "*********\n"
     ]
    }
   ],
   "source": [
    "for i in range(0, 10):\n",
    "  for j in range(0, i):   # 🔥 여기 range 종료를 i로 쓴다는 것이 핵심입니다.\n",
    "    print('*', end='')\n",
    "  print()"
   ]
  },
  {
   "cell_type": "code",
   "execution_count": 2,
   "metadata": {},
   "outputs": [
    {
     "name": "stdout",
     "output_type": "stream",
     "text": [
      "\n",
      "*\n",
      "**\n",
      "***\n",
      "****\n",
      "*****\n",
      "******\n",
      "*******\n",
      "********\n",
      "*********\n"
     ]
    }
   ],
   "source": [
    "for i in range(0, 10):\n",
    "  print('*' * i)     # 🔥 파이썬은 이렇게 유연하게 할 수 있습니다."
   ]
  },
  {
   "cell_type": "markdown",
   "metadata": {},
   "source": [
    "\n",
    "---\n",
    "## 🟢 문제1. 별로 다이아몬드 형태를 만들어보세요"
   ]
  },
  {
   "cell_type": "markdown",
   "metadata": {},
   "source": [
    "### 🟡 나에게는 아직 너무나 어려웠다. (실패)"
   ]
  },
  {
   "cell_type": "code",
   "execution_count": 7,
   "metadata": {},
   "outputs": [
    {
     "name": "stdout",
     "output_type": "stream",
     "text": [
      "    \n",
      "   *\n",
      "  **\n",
      " ***\n",
      " ****\n",
      " *****\n",
      " ******\n"
     ]
    }
   ],
   "source": [
    "# 가운데가 7개이다. 처음에 3칸을 띄워야 한다.\n",
    "\n",
    "space = 3\n",
    "recent_count = 0\n",
    "\n",
    "for i in range(0, 7):\n",
    "  print(' ' * space, '*' * i)\n",
    "  space -= 1\n",
    "  recent_count += 1\n",
    "  if recent_count == 3:\n",
    "    space += 1\n",
    "    \n",
    "  \n",
    "  "
   ]
  },
  {
   "cell_type": "markdown",
   "metadata": {},
   "source": [
    "### 🟡 하드코딩..."
   ]
  },
  {
   "cell_type": "code",
   "execution_count": 8,
   "metadata": {},
   "outputs": [
    {
     "name": "stdout",
     "output_type": "stream",
     "text": [
      "    *\n",
      "   ***\n",
      "  *****\n",
      " *******\n",
      "  *****\n",
      "   ***\n",
      "    *\n"
     ]
    }
   ],
   "source": [
    "# 가운데가 7개이다. 처음에 3칸을 띄워야 한다.\n",
    "\n",
    "space = [3,2,1,0,1,2,3]\n",
    "recent_count = [1,3,5,7,5,3,1]\n",
    "\n",
    "for i in range(0, 7):\n",
    "  print(' ' * space[i], '*' * recent_count[i])\n",
    "  "
   ]
  },
  {
   "cell_type": "markdown",
   "metadata": {},
   "source": [
    "### 🟡 배우기"
   ]
  },
  {
   "cell_type": "code",
   "execution_count": 9,
   "metadata": {},
   "outputs": [
    {
     "name": "stdout",
     "output_type": "stream",
     "text": [
      "   *   \n",
      "  ***  \n",
      " ***** \n",
      "*******\n",
      " ***** \n",
      "  ***  \n",
      "   *   \n"
     ]
    }
   ],
   "source": [
    "# 여기에서는 center를 썼습니다. space에 대해서 \n",
    "\n",
    "n = 4  # 가운데 줄의 별 개수를 정하는 숫자 (4 -> 가운데 7개)\n",
    "\n",
    "# 위쪽 피라미드 (1, 3, 5, 7개)\n",
    "for i in range(n):\n",
    "    stars = '*' * (2 * i + 1)\n",
    "    print(stars.center(2 * n - 1))\n",
    "\n",
    "# 아래쪽 피라미드 (5, 3, 1개)\n",
    "for i in range(n - 2, -1, -1):\n",
    "    stars = '*' * (2 * i + 1)\n",
    "    print(stars.center(2 * n - 1))\n"
   ]
  },
  {
   "cell_type": "markdown",
   "metadata": {},
   "source": [
    "### 🟡 🔥 배우고 나서 직접 해보기\n",
    "\n",
    "위, 아래 반반씩 만들어야합니다."
   ]
  },
  {
   "cell_type": "code",
   "execution_count": 37,
   "metadata": {},
   "outputs": [
    {
     "name": "stdout",
     "output_type": "stream",
     "text": [
      "   *   \n",
      "  ***  \n",
      " ***** \n",
      "*******\n",
      " ***** \n",
      "  ***  \n",
      "   *   \n"
     ]
    }
   ],
   "source": [
    "maximum_stars_num = 7\n",
    "n = 4\n",
    "\n",
    "for i in range(1, maximum_stars_num, 2):\n",
    "  stars = '*' * i\n",
    "  print(stars.center(2 * n - 1))           # 🔥 이 .center()가 중요합니다.\n",
    "\n",
    "for i in range(maximum_stars_num, 0, -2):\n",
    "  stars = '*' * i\n",
    "  print(stars.center(2 * n - 1))\n"
   ]
  },
  {
   "cell_type": "markdown",
   "metadata": {},
   "source": [
    "## 🟢 같이 풀어보기"
   ]
  },
  {
   "cell_type": "code",
   "execution_count": 32,
   "metadata": {},
   "outputs": [
    {
     "name": "stdout",
     "output_type": "stream",
     "text": [
      "   *\n",
      "  ***\n",
      " *****\n",
      "*******\n"
     ]
    }
   ],
   "source": [
    "\n",
    "\n",
    "LINES = 4  # 1. 내가 원하는 다이아몬드 상부의 높이로 보면 됩니다.\n",
    "\n",
    "for i in range(1, LINES+1):  # 2. +1은 \n",
    "  print(' ' * (LINES-i), end='')\n",
    "  print(\"*\" * (2 * i - 1))\n",
    "\n",
    "\n",
    "\n"
   ]
  },
  {
   "cell_type": "code",
   "execution_count": 35,
   "metadata": {},
   "outputs": [
    {
     "name": "stdout",
     "output_type": "stream",
     "text": [
      "      *\n",
      "     ***\n",
      "    *****\n",
      "   *******\n",
      "  *********\n",
      " ***********\n",
      "*************\n",
      "*************\n",
      " ***********\n",
      "  *********\n",
      "   *******\n",
      "    *****\n",
      "     ***\n",
      "      *\n"
     ]
    }
   ],
   "source": [
    "# for문 중첩을 쓰고 싶다면 ~ ~\n",
    "\n",
    "LINES = 7  # 1. 내가 원하는 다이아몬드 상부의 높이로 보면 됩니다.\n",
    "\n",
    "# 상부\n",
    "for i in range(1, LINES+1):  # 2. +1은 \n",
    "  for j in range(0, (LINES-i)):\n",
    "    print(' ', end='')\n",
    "  for j in range(0, 2 * i - 1):\n",
    "    print(\"*\", end='')\n",
    "  print()\n",
    "\n",
    "\n",
    "\n",
    "# 하부\n",
    "LINES = LINES-1\n",
    "for i in range(0, LINES+1):\n",
    "  for j in range(0, i):\n",
    "    print(' ', end='')\n",
    "  for j in range(0, (LINES-i) * 2 + 1):\n",
    "      print('*', end='')\n",
    "  print()\n",
    "\n"
   ]
  }
 ],
 "metadata": {
  "kernelspec": {
   "display_name": "aiBootCamp",
   "language": "python",
   "name": "python3"
  },
  "language_info": {
   "codemirror_mode": {
    "name": "ipython",
    "version": 3
   },
   "file_extension": ".py",
   "mimetype": "text/x-python",
   "name": "python",
   "nbconvert_exporter": "python",
   "pygments_lexer": "ipython3",
   "version": "3.10.16"
  }
 },
 "nbformat": 4,
 "nbformat_minor": 2
}
