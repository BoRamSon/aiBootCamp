{
 "cells": [
  {
   "cell_type": "markdown",
   "metadata": {},
   "source": [
    "# 🟩 문제 또 품\n",
    "\n",
    "지방 노동청에 신고가 들어옴 회사가 성별간 임금차별 성별과 연봉이 들어온다.  \n",
    "직원 전체 10명이고, 성별하고 연봉 입력 받아서 남자 평균, 여자 평균 구하기."
   ]
  },
  {
   "cell_type": "code",
   "execution_count": null,
   "metadata": {},
   "outputs": [
    {
     "name": "stdout",
     "output_type": "stream",
     "text": [
      "남자 평균 연봉: 10.0 / 여자 평균 연봉: 10.0\n"
     ]
    }
   ],
   "source": [
    "employees_num = 10\n",
    "pay_dict = []\n",
    "\n",
    "# ----------------------------------------\n",
    "# 입력\n",
    "for i in range(0, employees_num):\n",
    "  gender = input('성별 :')\n",
    "  annual_income = int(input('연봉 :'))\n",
    "\n",
    "  pay_dict.append({'gender': gender, 'annual_income': annual_income})\n",
    "\n",
    "\n",
    "# ----------------------------------------\n",
    "# 계산\n",
    "man_annual_income = []\n",
    "woman_annual_income = []\n",
    "\n",
    "for info in pay_dict:\n",
    "  if info['gender'] == '남자':\n",
    "    man_annual_income.append(info['annual_income'])\n",
    "  else:\n",
    "    woman_annual_income.append(info['annual_income'])\n",
    "\n",
    "man_annual_income_average = sum(man_annual_income) / len(man_annual_income)\n",
    "woman_annual_income_average = sum(woman_annual_income) / len(woman_annual_income)\n",
    "\n",
    "\n",
    "# ----------------------------------------\n",
    "# 출력\n",
    "print(f\"남자 평균 연봉: {man_annual_income_average} | 여자 평균 연봉: {woman_annual_income_average}\")\n"
   ]
  },
  {
   "cell_type": "markdown",
   "metadata": {},
   "source": [
    "\n",
    "---\n",
    "## 🟢 같이 풀어보기 (이렇게 더 쉽게 풀 수 있습니다.)"
   ]
  },
  {
   "cell_type": "code",
   "execution_count": 6,
   "metadata": {},
   "outputs": [
    {
     "ename": "ValueError",
     "evalue": "invalid literal for int() with base 10: ''",
     "output_type": "error",
     "traceback": [
      "\u001b[0;31m---------------------------------------------------------------------------\u001b[0m",
      "\u001b[0;31mValueError\u001b[0m                                Traceback (most recent call last)",
      "Cell \u001b[0;32mIn[6], line 8\u001b[0m\n\u001b[1;32m      6\u001b[0m \u001b[38;5;28;01mfor\u001b[39;00m i \u001b[38;5;129;01min\u001b[39;00m \u001b[38;5;28mrange\u001b[39m(\u001b[38;5;241m0\u001b[39m, employees_num):\n\u001b[1;32m      7\u001b[0m   gender \u001b[38;5;241m=\u001b[39m \u001b[38;5;28minput\u001b[39m(\u001b[38;5;124m'\u001b[39m\u001b[38;5;124m성별 :\u001b[39m\u001b[38;5;124m'\u001b[39m)\n\u001b[0;32m----> 8\u001b[0m   annual_income \u001b[38;5;241m=\u001b[39m \u001b[38;5;28;43mint\u001b[39;49m\u001b[43m(\u001b[49m\u001b[38;5;28;43minput\u001b[39;49m\u001b[43m(\u001b[49m\u001b[38;5;124;43m'\u001b[39;49m\u001b[38;5;124;43m연봉 :\u001b[39;49m\u001b[38;5;124;43m'\u001b[39;49m\u001b[43m)\u001b[49m\u001b[43m)\u001b[49m\n\u001b[1;32m     10\u001b[0m   pay_dict\u001b[38;5;241m.\u001b[39mappend({\u001b[38;5;124m'\u001b[39m\u001b[38;5;124mgender\u001b[39m\u001b[38;5;124m'\u001b[39m: gender, \u001b[38;5;124m'\u001b[39m\u001b[38;5;124mannual_income\u001b[39m\u001b[38;5;124m'\u001b[39m: annual_income})\n\u001b[1;32m     13\u001b[0m \u001b[38;5;66;03m# ----------------------------------------\u001b[39;00m\n\u001b[1;32m     14\u001b[0m \u001b[38;5;66;03m# 계산\u001b[39;00m\n",
      "\u001b[0;31mValueError\u001b[0m: invalid literal for int() with base 10: ''"
     ]
    }
   ],
   "source": [
    "employees_num = 10\n",
    "pay_dict = []\n",
    "\n",
    "# ----------------------------------------\n",
    "# 입력\n",
    "for i in range(0, employees_num):\n",
    "  gender = input('성별 :')\n",
    "  annual_income = int(input('연봉 :'))\n",
    "\n",
    "  pay_dict.append({'gender': gender, 'annual_income': annual_income})\n",
    "\n",
    "\n",
    "# ----------------------------------------\n",
    "# 계산\n",
    "male_count = 0\n",
    "male_sum = 0\n",
    "female_count = 0\n",
    "female_sum = 0\n",
    "\n",
    "for info in pay_dict:\n",
    "  if info['gender'] == '남자':\n",
    "    male_count += 1\n",
    "    male_sum += info['annual_income']\n",
    "  else:\n",
    "    female_count += 1\n",
    "    female_sum += info['annual_income']\n",
    "\n",
    "# ----------------------------------------\n",
    "# 출력\n",
    "if male_count > 0:\n",
    "  print(f\"남자 평균 : {male_sum/male_count}\", end='\\t')\n",
    "\n",
    "if male_count > 0:\n",
    "  print(f\"여자 평균 : {female_sum/female_count}\")\n"
   ]
  }
 ],
 "metadata": {
  "kernelspec": {
   "display_name": "aiBootCamp",
   "language": "python",
   "name": "python3"
  },
  "language_info": {
   "codemirror_mode": {
    "name": "ipython",
    "version": 3
   },
   "file_extension": ".py",
   "mimetype": "text/x-python",
   "name": "python",
   "nbconvert_exporter": "python",
   "pygments_lexer": "ipython3",
   "version": "3.10.16"
  }
 },
 "nbformat": 4,
 "nbformat_minor": 2
}
