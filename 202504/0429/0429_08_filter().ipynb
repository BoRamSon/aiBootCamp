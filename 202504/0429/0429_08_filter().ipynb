{
 "cells": [
  {
   "cell_type": "markdown",
   "metadata": {},
   "source": [
    "# 🟩 filter()\n",
    "뭔가 쓰기가 쉬운 것 같아서 좋아보임"
   ]
  },
  {
   "cell_type": "markdown",
   "metadata": {},
   "source": [
    "### 🟡 형태\n",
    "```python\n",
    "filter(함수, 반복가능한_객체)\n",
    "```\n",
    "\n",
    "### 🟡 특징\n",
    "- 파이썬의 내장함수\n",
    "- 함수: 각 요소에 적용될 True/False를 반환하는 함수\n",
    "- 반복 가능한 객체: 리스트, 튜플, 문자열 등\n",
    "- 앞에 함수 , 두번째 인자에 iterable 변수가 옴\n",
    "  - 이렇게 iterable한 존재는 자동으로 for문인 듯 함수에 하나씩 들어갑니다.\n",
    "- 반환값은 filter 객체 → list()로 감싸야 출력됨\n",
    "- 특정 조건에 부합하는 데이터의 iterable 타입을 반환\n",
    "- 주로 lambda하고 간편하게 같이 쓰입니다.\n",
    "- lambda도 한번쓰고 버리는 것이였는데, filter도 한번 쓰고 버리는 느낌입니다.\n",
    "\n",
    "### 🟡 작동방식\n",
    "\n",
    "```python\n",
    "words = [\"hi\", \"hello\", \"yes\", \"python\"]\n",
    "\n",
    "# 1. filter가 iterable한 것을 함수에 하나씩 넣어서 뽑아내면, \n",
    "# 2. 결과들을 long_words는 filter라는 타입으로 값들을 저장하고 있음.\n",
    "long_words = filter(lambda x: len(x) >= 3, words)\n",
    "print(type(long_words))\n",
    "\n",
    "# 3. 그래서 여기서 type을 list로 바꿔준 것입니다.\n",
    "# (특히, 리스트로 형변환을 하지 않으면 값을 볼 수 없습니다.)\n",
    "# filter객체는 메모리에 모든 값을 저장하지 않고, 필요할 때 하나씩 꺼내는 \"게으른 평가 (lazy evaluation)\"방식.\n",
    "print(list(long_words))     # ['hello', 'yes', 'python']\n",
    "print(list(long_words), '다시 출력하면 빈 리스트이다. 이미 소모되어버림')     # 🔥 다시 출력하면 빈 리스트 → 이미 소모됨\n",
    "\n",
    "# 4. 애초에 이렇게 list로 감싸서 사용한다면 애초에 리스트에 저장해서 주기 때문에 날라가는 filter형이 아닌 list형으로 저장해버립니다.\n",
    "long_words2 = list(filter(lambda x: len(x) >= 3, words))    # 🔥 사라지지 않습니다. no lazy!\n",
    "print(list(long_words))     # ['hello', 'yes', 'python']\n",
    "print(list(long_words))     # 사라지지 않고 잘 출력될 것입니다.\n",
    "\n",
    "# 5. for문을 쓰는 경우\n",
    "# 🔥 여기서 알 수 있는 사실은 filter형이라도 list형 하나하나씩 for문 들어가는 것처럼 filter형도 할 수 있음.\n",
    "# 즉 filter형도 iterable이기 때문에 filter가 계산이 다 끝나고 하나씩 for문으로 집어넣는다.\n",
    "for person in filter(lambda e : e[\"name\"] == keyname , person_list) :\n",
    "    print(f\"이름 : {person[\"name\"]}\\t나이 : {person[\"age\"]}\\t연락처 : {person[\"phone\"]}\\t \")\n",
    "# 어차피 iterable한 filter가 for문에 잘 들어가기 때문에 여기서는 list로 감싸주지 않아도 값을 충분히 볼 수 있음.\n",
    "\n",
    "# 6. 만약 이렇게 한다면 list형으로 이렇게 잘 감싸줘서 애초부터 잘 볼 수 있게합니다.\n",
    "find_list = (list(filter(lambda e : e[\"name\"] == keyname , person_list)))\n",
    "print(find_list)\n",
    "\n",
    "```"
   ]
  },
  {
   "cell_type": "markdown",
   "metadata": {},
   "source": [
    "| 항목      | 설명                                        | 예시                                 |\n",
    "|-----------|---------------------------------------------|--------------------------------------|\n",
    "| 함수명    | `filter()`                                   | `filter(lambda x: 조건, 리스트)`     |\n",
    "| 기능      | 조건을 만족하는 요소만 걸러냄                | `x % 2 == 0` → 짝수만 반환           |\n",
    "| 반환값    | filter 객체 (반복 가능)                      | 🔥 `list(filter(...))` 로 변환 필요     |\n",
    "| 자주 사용 | `lambda`, `list`, 조건 검증                  | `filter(lambda x: x > 0, nums)`      |\n",
    "\n",
    "\n",
    "<br>\n",
    "\n",
    "| 방식                | 결과                  | 재사용 가능 여부      |\n",
    "|---------------------|------------------------|------------------------|\n",
    "| `filter(...)`       | 이터레이터 (1회용)     | ❌ (한 번만 사용)      |\n",
    "| `list(filter(...))` | 리스트 (고정 값)       | ✅ (여러 번 사용 가능) |\n"
   ]
  },
  {
   "cell_type": "code",
   "execution_count": 2,
   "metadata": {},
   "outputs": [
    {
     "name": "stdout",
     "output_type": "stream",
     "text": [
      "[2, 4, 6]\n"
     ]
    }
   ],
   "source": [
    "numbers = [1, 2, 3, 4, 5, 6]\n",
    "even_numbers = filter(lambda x: x % 2 == 0, numbers)\n",
    "print(list(even_numbers))  # [2, 4, 6]"
   ]
  },
  {
   "cell_type": "code",
   "execution_count": 13,
   "metadata": {},
   "outputs": [
    {
     "name": "stdout",
     "output_type": "stream",
     "text": [
      "<class 'filter'>\n",
      "['hello', 'yes', 'python']\n",
      "[] 다시 출력하면 빈 리스트이다. 이미 소모되어버림\n"
     ]
    }
   ],
   "source": [
    "words = [\"hi\", \"hello\", \"yes\", \"python\"]\n",
    "\n",
    "long_words = filter(lambda x: len(x) >= 3, words)\n",
    "print(type(long_words))\n",
    "\n",
    "print(list(long_words))     \n",
    "print(list(long_words), '다시 출력하면 빈 리스트이다. 이미 소모되어버림')     "
   ]
  },
  {
   "cell_type": "markdown",
   "metadata": {},
   "source": [
    "- for 문하고 사용되지 않으면 의미가 없음...????  없다고 할 수는 없지만, for문과 함께 사용하면 매우 편하겠죠!"
   ]
  },
  {
   "cell_type": "code",
   "execution_count": 1,
   "metadata": {},
   "outputs": [
    {
     "name": "stdout",
     "output_type": "stream",
     "text": [
      "2\n",
      "4\n",
      "6\n",
      "8\n",
      "10\n",
      "2\n",
      "4\n",
      "6\n",
      "8\n",
      "10\n"
     ]
    }
   ],
   "source": [
    "a = [1,2,3,4,5,6,7,8,9,10]\n",
    "\n",
    "\n",
    "# 🟡 일반적인 함수를 사용했을 경우\n",
    "def isEven(n) :\n",
    "    return n % 2 == 0\n",
    "\n",
    "for i in filter(isEven,a) :                 # 함수를 매개변수로 주었을 때\n",
    "    print(i)\n",
    "\n",
    "\n",
    "# 🟡 🔥🔥🔥🔥🔥 lambda를 사용했을 경우\n",
    "for i in filter(lambda x : x % 2 == 0,a) :  # 람다를 사용하여 한줄짜리 함수를 만들었을 때\n",
    "    print(i)"
   ]
  },
  {
   "cell_type": "code",
   "execution_count": 12,
   "metadata": {},
   "outputs": [
    {
     "name": "stdout",
     "output_type": "stream",
     "text": [
      "이름 : 서희\t나이 : 75\t연락처 : 010-0000-0001\t \n",
      "[{'name': '서희', 'age': 75, 'phone': '010-0000-0001'}]\n",
      "이름 : 정발산\t나이 : 70\t연락처 : 010-0000-0005\t \n",
      "이름 : 강감찬\t나이 : 54\t연락처 : 010-0000-0003\t \n",
      "이름 : 장영실\t나이 : 66\t연락처 : 010-0000-0006\t \n",
      "이름 : 서희\t나이 : 75\t연락처 : 010-0000-0001\t \n",
      "이름 : 곽재우\t나이 : 41\t연락처 : 010-0000-0009\t \n",
      "[{'name': '정발산', 'age': 70, 'phone': '010-0000-0005'}, {'name': '강감찬', 'age': 54, 'phone': '010-0000-0003'}, {'name': '장영실', 'age': 66, 'phone': '010-0000-0006'}, {'name': '서희', 'age': 75, 'phone': '010-0000-0001'}, {'name': '곽재우', 'age': 41, 'phone': '010-0000-0009'}]\n"
     ]
    }
   ],
   "source": [
    "person_list = [\n",
    "    {\"name\" : \"홍길동\" , \"age\" : 34 , \"phone\" : \"010-0000-0001\"},\n",
    "    {\"name\" : \"정발산\" , \"age\" : 70 , \"phone\" : \"010-0000-0005\"},\n",
    "    {\"name\" : \"강감찬\" , \"age\" : 54 , \"phone\" : \"010-0000-0003\"},\n",
    "    {\"name\" : \"이순신\" , \"age\" : 30 , \"phone\" : \"010-0000-0002\"},\n",
    "    {\"name\" : \"김종서\" , \"age\" : 27 , \"phone\" : \"010-0000-0008\"},\n",
    "    {\"name\" : \"장영실\" , \"age\" : 66 , \"phone\" : \"010-0000-0006\"},\n",
    "    {\"name\" : \"서희\"   , \"age\" : 75 , \"phone\" : \"010-0000-0001\"},\n",
    "    {\"name\" : \"곽재우\" , \"age\" : 41 , \"phone\" : \"010-0000-0009\"}\n",
    "]\n",
    "\n",
    "# 이름이 \"서희\" 인 사람의 정보를 가져오고 싶음\n",
    "# filter 가 person_list 의 데이터를 가져갔으니깐 lambda 의 매개변수도 person_list 안의 dict 객체 이에 반환값도 dict 객체이다. 즉, 반환값은 매개변수의 타입을 따라감\n",
    "\n",
    "# keyname 에 입력된 사람의 이름과 같은 사람에 대한 정보만 출력\n",
    "\n",
    "keyname = \"서희\"\n",
    "\n",
    "for person in filter(lambda e : e[\"name\"] == keyname , person_list) :\n",
    "    print(f\"이름 : {person['name']}\\t나이 : {person['age']}\\t연락처 : {person['phone']}\\t \")\n",
    "\n",
    "# filter 를 감싸고 있는 list 가 filter 를 동작시키고 결과들을 list 로 만들어서 반환함\n",
    "find_list = (list(filter(lambda e : e[\"name\"] == keyname , person_list)))\n",
    "print(find_list)\n",
    "\n",
    "# 40세 이상인 사람만 찾아서 출력\n",
    "for person in filter(lambda e : e[\"age\"] >= 40 , person_list) :\n",
    "    print(f\"이름 : {person['name']}\\t나이 : {person['age']}\\t연락처 : {person['phone']}\\t \")\n",
    "    \n",
    "find_list = (list(filter(lambda e : e[\"age\"] >= 40 , person_list)))\n",
    "print(find_list)\n",
    "\n",
    "# map 함수 - 연산을 수행하는 함수 / 연산 후에 연산이 끝난 값을 반환\n",
    "# 매개변수는 한 개이며 , 값 하나를 반환하는 함수 , 리턴값이 존재해야함"
   ]
  },
  {
   "cell_type": "markdown",
   "metadata": {},
   "source": [
    "\n",
    "---\n",
    "## 🟢 map과의 비교\n",
    "\n",
    "| 항목             | `map()`                                    | `filter()`                                       |\n",
    "|------------------|---------------------------------------------|--------------------------------------------------|\n",
    "| **목적**         | 모든 요소에 함수를 적용해 **변형**          | 조건을 만족하는 요소만 **선택(필터링)**         |\n",
    "| **결과**         | 모든 요소가 **변형된 값**으로 반환됨        | 조건을 만족한 일부 요소만 반환됨                |\n",
    "| **함수 반환값**  | 새 값 (`x * 2`, `x.upper()` 등)             | `True` 또는 `False`                             |\n",
    "| **함수의 용도**  | 데이터를 **변형(transform)**                | 데이터를 **선별(select)**                        |\n",
    "| **반환 객체**    | `map` 객체 (반복자)                         | `filter` 객체 (반복자)                          |\n",
    "| **예시**         | `map(lambda x: x * 2, [1, 2, 3])` → `[2, 4, 6]` | `filter(lambda x: x % 2 == 0, [1, 2, 3])` → `[2]` |\n"
   ]
  }
 ],
 "metadata": {
  "kernelspec": {
   "display_name": "aiBootCamp",
   "language": "python",
   "name": "python3"
  },
  "language_info": {
   "codemirror_mode": {
    "name": "ipython",
    "version": 3
   },
   "file_extension": ".py",
   "mimetype": "text/x-python",
   "name": "python",
   "nbconvert_exporter": "python",
   "pygments_lexer": "ipython3",
   "version": "3.10.16"
  }
 },
 "nbformat": 4,
 "nbformat_minor": 2
}
