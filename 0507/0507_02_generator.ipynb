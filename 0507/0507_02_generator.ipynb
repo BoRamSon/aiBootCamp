{
 "cells": [
  {
   "cell_type": "markdown",
   "metadata": {},
   "source": [
    "# 🟩 python function 'Generator'\n",
    "\n",
    "- Generator (개념만 알아두기)\n",
    "  - 우리가 막 만들어 써야 하는 것은 아니고, 용어 자체가 중요함\n",
    "  - 값을 하나씩 생성해서 순회할 수 있는 함수나 객체, range나 filter가 해당된다.\n",
    "\n",
    "- 이쯤에서 알아두는 iterator 종류들\n",
    "\n",
    "| 구분               | iterator 여부                                 | 예시                                      |\n",
    "|--------------------|-----------------------------------------------|-------------------------------------------|\n",
    "| list, tuple, dict, set | ❌ iterable (반복은 되지만 next 안됨)         | `iter()` 필요                             |\n",
    "| generator          | ✅                                            | `yield`, generator 표현식                  |\n",
    "| map, filter, zip   | ✅                                            | `map(str, [1,2])`, `zip(a, b)`             |\n",
    "| enumerate, reversed| ✅                                            | `enumerate(['a'])`                         |\n",
    "| file object        | ✅                                            | `open('file.txt')`                         |\n",
    "| 사용자 정의 클래스    | ✅                                            | `__iter__`, `__next__` 구현                 |\n",
    "\n",
    "\n",
    "- 왜 generator가 필요할까?\n",
    "  - 메모리에 한꺼번에 큰 리스트를 올리면 부담이 큼\n",
    "  - 처리해야 할 데이터가 매우 크거나 무한할 수 있음\n",
    "  - 제너레이터는 필요할 때만 값을 생성해서 메모리를 거의 사용하지 않음\n",
    "\n",
    "- 제너레이터 함수의 경우 값을 반환하려면 yield(얄드)를 사용합니다.\n",
    "  - return 은 값을 반환하면서 함수를 바로 종료시켜버림.\n",
    "  - 🔥 yield 는 값을 반환하는데 함수를 종료하지 않고 대기상태에 들어감.\n",
    "  \n"
   ]
  },
  {
   "cell_type": "code",
   "execution_count": null,
   "metadata": {},
   "outputs": [],
   "source": [
    "# 🟢 일반 함수\n",
    "\n",
    "def get_numbers():\n",
    "    return [1, 2, 3]\n",
    "\n",
    "print(get_numbers())  # [1, 2, 3]\n"
   ]
  },
  {
   "cell_type": "code",
   "execution_count": null,
   "metadata": {},
   "outputs": [],
   "source": [
    "# 🟢 제너레이터 함수\n",
    "\n",
    "def get_numbers():\n",
    "    yield 1\n",
    "    yield 2\n",
    "    yield 3\n",
    "\n",
    "g = get_numbers()\n",
    "print(next(g))  # 1  이렇게 하나하고 멈추고,\n",
    "print(next(g))  # 2  이렇게 하나하고 멈추고,\n",
    "print(next(g))  # 3  \n"
   ]
  },
  {
   "cell_type": "code",
   "execution_count": null,
   "metadata": {},
   "outputs": [],
   "source": [
    "# \n",
    "\n",
    "# 1. range() 내장 함수가 이렇게 만들어 진 것입니다.\n",
    "  # 직접 range() 를 만들어보면서 generator yield를 이해해보겠습니다.\n",
    "\n",
    "def myrange(start=1, end=5):\n",
    "  i = start\n",
    "  while i <= end:\n",
    "    yield i     # 이 구문을 만나는 순간 값을 하나 반환하고 멈춘다. (대기 상태) \n",
    "                # 즉, while문에 끝날 때 끝나게 되는 존재\n",
    "    i = i + 1\n",
    "\n",
    "\n",
    "gen = myrange()   # 함수를 호출해서 저장해놓고, \n",
    "                  # gen은 myrange() 함수 호출에 의해 생성된 제너레이터 객체의 메모리 주소를 참조합니다. \n",
    "                  # 이 객체는 값을 직접 저장하지 않고, yield를 통해 값을 하나씩 생성할 수 있는 itorator입니다.\n",
    "\n",
    "# 실행은 next나 for문으로 실행해야 합니다.\n",
    "print(next(gen))\n",
    "print(next(gen))\n",
    "print(next(gen))\n",
    "print(next(gen))\n",
    "print(next(gen))\n",
    "# = 이것이 바로 generator라고 합니다.\n"
   ]
  },
  {
   "cell_type": "code",
   "execution_count": null,
   "metadata": {},
   "outputs": [],
   "source": [
    "# 직접 만든 myrange 함수를 사용해보겠습니다.\n",
    "\n",
    "for i in myrange(1, 10):\n",
    "  print(i)"
   ]
  },
  {
   "cell_type": "markdown",
   "metadata": {},
   "source": [
    "- 사용성\n",
    "  1. 데이터가 너무 커서 한방에 생성할 수 없을 때\n",
    "  1. 무한한 작업이 필요할 때\n",
    "  1. 파일을 계속 읽어서 처리하고자 할 때"
   ]
  },
  {
   "cell_type": "markdown",
   "metadata": {},
   "source": [
    "\n",
    "---\n",
    "## 🟢 유용한 예제\n",
    "파일 한 줄씩 읽기"
   ]
  },
  {
   "cell_type": "code",
   "execution_count": null,
   "metadata": {},
   "outputs": [],
   "source": [
    "def read_lines(filename):\n",
    "    with open(filename, 'r') as f:\n",
    "        for line in f:\n",
    "            yield line.strip()\n",
    "\n",
    "for line in read_lines('bigfile.txt'):\n",
    "    print(line)\n"
   ]
  }
 ],
 "metadata": {
  "kernelspec": {
   "display_name": "aiBootCamp",
   "language": "python",
   "name": "python3"
  },
  "language_info": {
   "name": "python",
   "version": "3.10.16"
  }
 },
 "nbformat": 4,
 "nbformat_minor": 2
}
