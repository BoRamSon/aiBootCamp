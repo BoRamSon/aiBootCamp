{
 "cells": [
  {
   "cell_type": "markdown",
   "id": "7e1ee59a",
   "metadata": {},
   "source": [
    "# 🟩 직렬화 및 역직렬화"
   ]
  },
  {
   "cell_type": "markdown",
   "id": "cf406c33",
   "metadata": {},
   "source": [
    "### 🟡 pickle이 무엇인가?\n",
    "- Python 표준 라이브러리입니다. (설치 필요 없음)\n",
    "- 직렬화(serialize), **역직렬화(deserialize)**를 위한 모듈입니다.\n",
    "- 거의 모든 파이썬 객체를 저장하고 복원할 수 있습니다.\n"
   ]
  },
  {
   "cell_type": "markdown",
   "id": "99eee79a",
   "metadata": {},
   "source": [
    "### 🟡 .bin 파일이란?\n",
    "- .bin은 binary(이진) 형식의 데이터 파일입니다.\n",
    "- 사람이 읽는 **텍스트(.txt)**와 달리, 기계가 읽는 이진 데이터입니다.\n",
    "- 확장자 .bin은 **관례(convention)**일 뿐, 꼭 써야 하는 건 아닙니다. \n",
    "  - .pkl, .dat, .model처럼 써도 됩니다."
   ]
  },
  {
   "cell_type": "markdown",
   "id": "5901e084",
   "metadata": {},
   "source": [
    "## 🟢 직렬화\n",
    "  - 상자를 포장하는 것\n",
    "  객체 자체를 파일이나 네트워크로 메모리 그대로 저장한다.\n"
   ]
  },
  {
   "cell_type": "code",
   "execution_count": null,
   "id": "a24910e9",
   "metadata": {},
   "outputs": [],
   "source": [
    "import pickle\n",
    "\n",
    "data = {\n",
    "  'name' : '홍길동', \n",
    "  'age' : 23,\n",
    "  'phone' : [\"010-0000-0001\", \"010-0000-0002\"]\n",
    "  }   # 🔥 딕셔너리 person을 파일로 저장\n",
    "\n",
    "# 직렬화\n",
    "with open('datas/datas.bin', 'wb') as f:    # 🔥 wb: write binary (바이너리 파일로 저장)\n",
    "  pickle.dump(data, f)\n",
    "\n"
   ]
  },
  {
   "cell_type": "markdown",
   "id": "42a4f2e9",
   "metadata": {},
   "source": [
    "## 🟢 역직렬화\n",
    "  - 상자를 열고 다시 꺼내는 것"
   ]
  },
  {
   "cell_type": "code",
   "execution_count": null,
   "id": "a96ef331",
   "metadata": {},
   "outputs": [
    {
     "name": "stdout",
     "output_type": "stream",
     "text": [
      "{'name': '홍길동', 'age': 23, 'phone': ['010-0000-0001', '010-0000-0002']}\n"
     ]
    }
   ],
   "source": [
    "import pickle\n",
    "\n",
    "data = {\n",
    "  'name' : '홍길동', \n",
    "  'age' : 23,\n",
    "  'phone' : [\"010-0000-0001\", \"010-0000-0002\"]\n",
    "  }\n",
    "\n",
    "# 역직렬화\n",
    "with open('datas/datas.bin', 'rb') as f:   # 🔥 rb: read binary\n",
    "  data2 = pickle.load(f)\n",
    "\n",
    "print(data2)"
   ]
  }
 ],
 "metadata": {
  "kernelspec": {
   "display_name": "aiBootCamp",
   "language": "python",
   "name": "python3"
  },
  "language_info": {
   "codemirror_mode": {
    "name": "ipython",
    "version": 3
   },
   "file_extension": ".py",
   "mimetype": "text/x-python",
   "name": "python",
   "nbconvert_exporter": "python",
   "pygments_lexer": "ipython3",
   "version": "3.10.16"
  }
 },
 "nbformat": 4,
 "nbformat_minor": 5
}
