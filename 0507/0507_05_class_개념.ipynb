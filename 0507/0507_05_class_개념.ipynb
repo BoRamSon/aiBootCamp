{
 "cells": [
  {
   "cell_type": "markdown",
   "metadata": {},
   "source": [
    "# 🟩 class 개념 이해하고 넘어가기"
   ]
  },
  {
   "cell_type": "code",
   "execution_count": null,
   "metadata": {},
   "outputs": [],
   "source": [
    "class Book:\n",
    "  title = '채식주의자'\n",
    "\n",
    "b = Book()  # 객체가 만들어진다.count\n",
    "# title이라는 클래스 내부 변수에 접근하려면 접근연산자로 (.)도트를 사용\n",
    "print(b.title)\n",
    "\n",
    "b2 = Book()\n",
    "print(b2.title)\n",
    "\n",
    "b3 = Book()\n",
    "print(b3.title)\n",
    "# 이렇게 3개의 객체를 만들면 title이 각각 3개가 만들어져야한다고 생각이 되지만 그렇지 않다.\n",
    "# = 클래스가 공유되기 때문에 title은 본체 하나만 보고 있습니다.\n",
    "\n",
    "# 🔥 그래서 각자 주기 위해서 생성자를 사용하는 것입니다.\n"
   ]
  },
  {
   "cell_type": "markdown",
   "metadata": {},
   "source": [
    "## 🟢 생성자 사용 / self가 뭐지?"
   ]
  },
  {
   "cell_type": "code",
   "execution_count": null,
   "metadata": {},
   "outputs": [
    {
     "name": "stdout",
     "output_type": "stream",
     "text": [
      "쌍갑포차\n"
     ]
    },
    {
     "ename": "AttributeError",
     "evalue": "'Book' object has no attribute 'price'",
     "output_type": "error",
     "traceback": [
      "\u001b[0;31m---------------------------------------------------------------------------\u001b[0m",
      "\u001b[0;31mAttributeError\u001b[0m                            Traceback (most recent call last)",
      "Cell \u001b[0;32mIn[2], line 13\u001b[0m\n\u001b[1;32m     11\u001b[0m \u001b[38;5;66;03m# title이라는 클래스 내부 변수에 접근하려면 접근연산자로 (.)도트를 사용\u001b[39;00m\n\u001b[1;32m     12\u001b[0m \u001b[38;5;28mprint\u001b[39m(b\u001b[38;5;241m.\u001b[39mtitle)\n\u001b[0;32m---> 13\u001b[0m \u001b[38;5;28mprint\u001b[39m(\u001b[43mb\u001b[49m\u001b[38;5;241;43m.\u001b[39;49m\u001b[43mprice\u001b[49m)\n\u001b[1;32m     15\u001b[0m b2 \u001b[38;5;241m=\u001b[39m Book()\n\u001b[1;32m     16\u001b[0m \u001b[38;5;28mprint\u001b[39m(b2\u001b[38;5;241m.\u001b[39mtitle)\n",
      "\u001b[0;31mAttributeError\u001b[0m: 'Book' object has no attribute 'price'"
     ]
    }
   ],
   "source": [
    "class Book:\n",
    "  # title = '쌍갑포차'  # 1. 이 때는 하나를 공유했지만.\n",
    "  def __init__(self, title = '쌍갑포차',  paramprice=10000):\n",
    "    self.title = title\n",
    "    # price = paramprice   # 이렇게 되면 지역변수 입니다.\n",
    "    self.price = paramprice \n",
    "    self.count = 10\n",
    "    self.process()\n",
    "\n",
    "  # 2. 생성자를 통해 self 다 자꾸 그러는데 이게 바로 자기 자신 것으로 가지겠다고 하는 의미입니다.\n",
    "\n",
    "\n",
    "b = Book()  # 객체가 만들어진다.count\n",
    "# title이라는 클래스 내부 변수에 접근하려면 접근연산자로 (.)도트를 사용\n",
    "print(b.title)\n",
    "print(b.price)\n",
    "\n",
    "b2 = Book()\n",
    "print(b2.title)\n",
    "\n",
    "b3 = Book()\n",
    "print(b3.title)\n",
    "# 이렇게 3개의 객체를 만들면 title이 각각 3개가 만들어져야한다고 생각이 되지만 그렇지 않다.\n",
    "# = 클래스가 공유되기 때문에 title은 본체 하나만 보고 있습니다.\n",
    "\n",
    "\n"
   ]
  },
  {
   "cell_type": "markdown",
   "metadata": {},
   "source": [
    "#### process 추가"
   ]
  },
  {
   "cell_type": "code",
   "execution_count": null,
   "metadata": {},
   "outputs": [],
   "source": [
    "class Book:\n",
    "  # title = '쌍갑포차'  # 1. 이 때는 하나를 공유했지만.\n",
    "  def __init__(self, title = '쌍갑포차',  paramprice=10000):\n",
    "    self.title = title\n",
    "    # price = paramprice   # 이렇게 되면 지역변수 입니다.\n",
    "    self.price = paramprice \n",
    "    self.count = 10\n",
    "    self.process()\n",
    "\n",
    "  # 2. 생성자를 통해 self 다 자꾸 그러는데 이게 바로 자기 자신 것으로 가지겠다고 하는 의미입니다.\n",
    "\n",
    "  def process(self):\n",
    "    self.total_price = self.price * self.count\n",
    "\n",
    "\n",
    "b = Book()  # 객체가 만들어진다.count\n",
    "# title이라는 클래스 내부 변수에 접근하려면 접근연산자로 (.)도트를 사용\n",
    "print(b.title)\n",
    "print(b.price)\n",
    "\n",
    "b2 = Book()\n",
    "print(b2.title)\n",
    "\n",
    "b3 = Book()\n",
    "print(b3.title)\n",
    "# 이렇게 3개의 객체를 만들면 title이 각각 3개가 만들어져야한다고 생각이 되지만 그렇지 않다.\n",
    "# = 클래스가 공유되기 때문에 title은 본체 하나만 보고 있습니다.\n",
    "\n",
    "\n"
   ]
  },
  {
   "cell_type": "markdown",
   "metadata": {},
   "source": [
    "#### output 추가"
   ]
  },
  {
   "cell_type": "code",
   "execution_count": null,
   "metadata": {},
   "outputs": [
    {
     "name": "stdout",
     "output_type": "stream",
     "text": [
      "쌍갑포차\n",
      "10000\n",
      "아 지갑놓고 나왔다\n",
      "뽀짜툰\n",
      "30000\n"
     ]
    }
   ],
   "source": [
    "class Book:\n",
    "  # title = '쌍갑포차'  # 1. 이 때는 하나를 공유했지만.\n",
    "  def __init__(self, title = '쌍갑포차',  paramprice=10000):\n",
    "    self.title = title\n",
    "    # price = paramprice   # 이렇게 되면 지역변수 입니다.\n",
    "    self.price = paramprice  \n",
    "    self.count = 10\n",
    "    self.process()\n",
    "\n",
    "  # 2. 생성자를 통해 self 다 자꾸 그러는데 이게 바로 자기 자신 것으로 가지겠다고 하는 의미입니다.\n",
    "\n",
    "  def process(self):\n",
    "    self.total_price = self.price * self.count\n",
    "\n",
    "  def output(self):\n",
    "    print(f\"{self.title} {self.price} {self.count} {self.total_price}\")\n",
    "\n",
    "\n",
    "b = Book()  # 객체가 만들어진다.count\n",
    "# title이라는 클래스 내부 변수에 접근하려면 접근연산자로 (.)도트를 사용\n",
    "print(b.title) # default 나온다\n",
    "print(b.price) # default 나온다\n",
    "\n",
    "b2 = Book('아 지갑놓고 나왔다')\n",
    "print(b2.title) # title만 변경됨\n",
    "\n",
    "b3 = Book('뽀짜툰', 30000) # 모든 매개변수 변경\n",
    "print(b3.title)\n",
    "print(b3.price)\n",
    "# 이렇게 3개의 객체를 만들면 title이 각각 3개가 만들어져야한다고 생각이 되지만 그렇지 않다.\n",
    "# = 클래스가 공유되기 때문에 title은 본체 하나만 보고 있습니다.\n",
    "\n",
    "\n"
   ]
  },
  {
   "cell_type": "markdown",
   "metadata": {},
   "source": [
    "\n",
    "---\n",
    "## 🟢 메모리\n",
    "\n",
    "변수는 따로따로 메모리를 갖지만,\n",
    "\n",
    "함수는 일을 하는 놈이다. 클래스나 모듈에서 정의되면, 메모리에 한 번만 올라간다."
   ]
  },
  {
   "cell_type": "code",
   "execution_count": null,
   "metadata": {},
   "outputs": [
    {
     "name": "stdout",
     "output_type": "stream",
     "text": [
      "self <__main__.Book object at 0x10708b1c0>\n",
      "<__main__.Book object at 0x10708b1c0>\n",
      "self <__main__.Book object at 0x107088c10>\n",
      "<__main__.Book object at 0x107088c10>\n",
      "self <__main__.Book object at 0x107088e20>\n",
      "<__main__.Book object at 0x107088e20>\n"
     ]
    }
   ],
   "source": [
    "class Book:\n",
    "  def __init__(self, title = '쌍갑포차',  paramprice=10000):\n",
    "    print('self', self)  # 객체 주소를 받아오는 놈 (실제 주소를 받아오지는 않으며, 계속 바뀐다.)\n",
    "    self.title = title\n",
    "    self.price = paramprice\n",
    "    self.count = 10\n",
    "    self.process()\n",
    "\n",
    "  def process(self):\n",
    "    self.total_price = self.price * self.count\n",
    "\n",
    "  def output(self):\n",
    "    print(f\"{self.title} {self.price} {self.count} {self.total_price}\")\n",
    "\n",
    "\n",
    "b = Book() \n",
    "print(b)\n",
    "\n",
    "b2 = Book('아 지갑놓고 나왔다')\n",
    "print(b2)\n",
    "\n",
    "b3 = Book('뽀짜툰', 30000) # 모든 매개변수 변경\n",
    "print(b3)\n",
    "\n",
    "\n",
    "class Book:\n",
    "  def __init__(self, title = '쌍갑포차',  paramprice=10000):\n",
    "    print('self', self)  # 객체 주소를 받아오는 놈 (실제 주소를 받아오지는 않으며, 계속 바뀐다.)\n",
    "    self.title = title\n",
    "    self.price = paramprice\n",
    "    self.count = 10\n",
    "    self.process()\n",
    "\n",
    "  def process(self):\n",
    "    self.total_price = self.price * self.count\n",
    "\n",
    "  def output(self):\n",
    "    print(f\"{self.title} {self.price} {self.count} {self.total_price}\")\n",
    "\n",
    "\n",
    "b = Book() \n",
    "print(b)\n",
    "\n",
    "b2 = Book('아 지갑놓고 나왔다')\n",
    "print(b2)\n",
    "\n",
    "b3 = Book('뽀짜툰', 30000) # 모든 매개변수 변경\n",
    "print(b3)\n",
    "\n",
    "\n",
    "\n",
    "class Book:\n",
    "  def __init__(self, title = '쌍갑포차',  paramprice=10000):\n",
    "    print('self', self)  # 객체 주소를 받아오는 놈 (실제 주소를 받아오지는 않으며, 계속 바뀐다.)\n",
    "    self.title = title\n",
    "    self.price = paramprice\n",
    "    self.count = 10\n",
    "    self.process()\n",
    "\n",
    "  def process(self):\n",
    "    self.total_price = self.price * self.count\n",
    "\n",
    "  def output(self):\n",
    "    print(f\"{self.title} {self.price} {self.count} {self.total_price}\")\n",
    "\n",
    "\n",
    "# ----------------------------------------------------\n",
    "b = Book() \n",
    "print(b)\n",
    "\n",
    "b2 = Book('아 지갑놓고 나왔다')\n",
    "print(b2)\n",
    "\n",
    "b3 = Book('뽀짜툰', 30000) # 모든 매개변수 변경\n",
    "print(b3)\n",
    "\n",
    "# ----------------------------------------------------\n",
    "# 결과\n",
    "# self <__main__.Book object at 0x10708b1c0>\n",
    "# <__main__.Book object at 0x10708b1c0>\n",
    "# self <__main__.Book object at 0x107088c10>\n",
    "# <__main__.Book object at 0x107088c10>\n",
    "# self <__main__.Book object at 0x107088e20>\n",
    "# <__main__.Book object at 0x107088e20>\n",
    "\n",
    "\n",
    "\n"
   ]
  }
 ],
 "metadata": {
  "kernelspec": {
   "display_name": "aiBootCamp",
   "language": "python",
   "name": "python3"
  },
  "language_info": {
   "codemirror_mode": {
    "name": "ipython",
    "version": 3
   },
   "file_extension": ".py",
   "mimetype": "text/x-python",
   "name": "python",
   "nbconvert_exporter": "python",
   "pygments_lexer": "ipython3",
   "version": "3.10.16"
  }
 },
 "nbformat": 4,
 "nbformat_minor": 2
}
