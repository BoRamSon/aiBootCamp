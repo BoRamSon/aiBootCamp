{
 "cells": [
  {
   "cell_type": "markdown",
   "id": "ed5a7e6d",
   "metadata": {},
   "source": [
    "# 🟩 문제 - mpg.csv 파일로 문제 풀기\n",
    "\n",
    "- seaborn 사이트에서 dataset을 다운로드 받겠습니다.\n",
    "- seaborn 사이트에서 search \"load_dataset\"\n",
    "- 위 쪽에 있는 것 클릭\n",
    "- 깃허브로 접속\n",
    "  - https://github.com/mwaskom/seaborn-data\n",
    "  - mpg.csv 파일을 다운로드\n",
    "\n",
    "- 문제\n",
    "  - 실린더개수 8, 6, 4, 5 종류별로 카운트 하기\n",
    "\n"
   ]
  },
  {
   "cell_type": "code",
   "execution_count": 7,
   "id": "ca8cdcd1",
   "metadata": {},
   "outputs": [
    {
     "name": "stdout",
     "output_type": "stream",
     "text": [
      "1. 파일 데이터 추출\n",
      "2. 계산\n",
      "3. 출력\n",
      "0. 종료\n",
      "None\n",
      "실린더 배열의 길이 : 399\n",
      "결과 : 8은 103개 | 6은 84개 | 5는 3개 | 4는 204개 | 3은 5개가 있습니다.\n",
      "실제 출력된 것들으리 합 : 399\n",
      " 👋 정상적으로 종료되었습니다.\n"
     ]
    }
   ],
   "source": [
    "# 어떤 데이터를 가지고 나오는지 확인한다.\n",
    "# f = open(\"datas/mpg.csv\", 'r')\n",
    "# for i in range(0, 10):\n",
    "#   line = f.readline()\n",
    "#   print(line)\n",
    "# f.close()\n",
    "\n",
    "\n",
    "class ReadFileAndPrint:\n",
    "  def __init__(self):\n",
    "    self.cylinders = []\n",
    "    self.count_eight = 0\n",
    "    self.count_six = 0\n",
    "    self.count_five = 0\n",
    "    self.count_four = 0\n",
    "    self.count_three = 0\n",
    "\n",
    "  def read_file(self):\n",
    "    f = open(\"datas/mpg.csv\", 'r')\n",
    "    lines = f.readlines() \n",
    "    for i in lines:\n",
    "      seperator = i.split(',')\n",
    "      self.cylinders.append(seperator[1])\n",
    "    f.close()\n",
    "\n",
    "  def calcul_count_number(self):\n",
    "    for i in self.cylinders:\n",
    "      if i == '8':\n",
    "        self.count_eight += 1\n",
    "      elif i == '6':\n",
    "        self.count_six += 1\n",
    "      elif i == '5':\n",
    "        self.count_five += 1\n",
    "      elif i == '4':\n",
    "        self.count_four += 1\n",
    "      else:\n",
    "        self.count_three += 1\n",
    "      \n",
    "  def output(self):\n",
    "    print(f\"실린더 배열의 길이 : {len(self.cylinders)}\")\n",
    "    print(f\"결과 : 8은 {self.count_eight}개 | 6은 {self.count_six}개 | 5는 {self.count_five}개 | 4는 {self.count_four}개 | 3은 {self.count_three}개가 있습니다.\")\n",
    "    print(f\"실제 출력된 것들으리 합 : {self.count_eight + self.count_six + self.count_five + self.count_four + self.count_three}\")\n",
    "\n",
    "  def menu(self):\n",
    "    print(f\"1. 파일 데이터 추출\")\n",
    "    print(f\"2. 계산\")\n",
    "    print(f\"3. 출력\")\n",
    "    print(f\"0. 종료\")\n",
    "\n",
    "  def start(self):\n",
    "    print(self.menu())\n",
    "    while True:\n",
    "      sel = input('메뉴 번호를 입력하세요. : ')\n",
    "      if sel == '1':\n",
    "        self.read_file()      \n",
    "      if sel == '2':\n",
    "        self.calcul_count_number()\n",
    "      if sel == '3':\n",
    "        self.output()\n",
    "      if sel == '0':\n",
    "        return print(' 👋 정상적으로 종료되었습니다.')\n",
    "\n",
    "r = ReadFileAndPrint()\n",
    "r.start()\n",
    "\n",
    "\n",
    "\n"
   ]
  },
  {
   "cell_type": "markdown",
   "id": "1ebd802a",
   "metadata": {},
   "source": [
    "### 🟡 같이 풀어보기\n",
    "\n",
    "```python\n",
    "\n",
    "```"
   ]
  },
  {
   "cell_type": "code",
   "execution_count": 6,
   "id": "8ac5ef70",
   "metadata": {},
   "outputs": [
    {
     "name": "stdout",
     "output_type": "stream",
     "text": [
      "['18.0,8,307.0,130.0,3504,12.0,70,usa,chevrolet chevelle malibu\\n', '15.0,8,350.0,165.0,3693,11.5,70,usa,buick skylark 320\\n', '18.0,8,318.0,150.0,3436,11.0,70,usa,plymouth satellite\\n', '16.0,8,304.0,150.0,3433,12.0,70,usa,amc rebel sst\\n']\n",
      "{'8': 103, '4': 204, '6': 84, '3': 4, '5': 3}\n"
     ]
    }
   ],
   "source": [
    "f = open('datas/mpg.csv', 'r')\n",
    "lines = f.readlines()\n",
    "f.close()\n",
    "\n",
    "lines = lines[1:]  # 🔥 1번 리스트부터 끝까지 복사해서 다시 덮어쓴다.\n",
    "print(lines[:4]) # 0번째 이름들 잘 날라간 것을 확인함.\n",
    "\n",
    "cylinder_count = {}\n",
    "\n",
    "for line in lines:\n",
    "  line = line[:len(line)-1]   # 마지막에 있는 \\n 지우기\n",
    "  values = line.split(',')\n",
    "  if values[1] in cylinder_count.keys():\n",
    "    cylinder_count[values[1]] += 1\n",
    "  else:\n",
    "    cylinder_count[values[1]] = 1\n",
    "\n",
    "print(cylinder_count)\n"
   ]
  }
 ],
 "metadata": {
  "kernelspec": {
   "display_name": "aiBootCamp",
   "language": "python",
   "name": "python3"
  },
  "language_info": {
   "codemirror_mode": {
    "name": "ipython",
    "version": 3
   },
   "file_extension": ".py",
   "mimetype": "text/x-python",
   "name": "python",
   "nbconvert_exporter": "python",
   "pygments_lexer": "ipython3",
   "version": "3.10.16"
  }
 },
 "nbformat": 4,
 "nbformat_minor": 5
}
