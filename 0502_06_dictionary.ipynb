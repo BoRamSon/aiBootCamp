{
 "cells": [
  {
   "cell_type": "markdown",
   "metadata": {},
   "source": [
    "# 🟩 dictionary 복습하기"
   ]
  },
  {
   "cell_type": "code",
   "execution_count": null,
   "metadata": {},
   "outputs": [
    {
     "name": "stdout",
     "output_type": "stream",
     "text": [
      "{'name': '홍길동', 'age': 23, 'phone': '010-0000-0001'}\n",
      "{'name': '장길사', 'age': 21, 'phone': '010-0000-0002'}\n",
      "name 홍길동\n",
      "age 23\n",
      "phone 010-0000-0001\n",
      "name 장길사\n",
      "age 21\n",
      "phone 010-0000-0002\n",
      "홍길동\n",
      "23\n",
      "010-0000-0001\n",
      "장길사\n",
      "21\n",
      "010-0000-0002\n",
      "('name', '홍길동')\n",
      "('age', 23)\n",
      "('phone', '010-0000-0001')\n",
      "name 장길사\n",
      "age 21\n",
      "phone 010-0000-0002\n",
      "-------------------\n",
      "0 name 장길사\n",
      "1 age 21\n",
      "2 phone 010-0000-0002\n"
     ]
    }
   ],
   "source": [
    "# =============================================================  \n",
    "# 🟡 1. 예시 1 \n",
    "person = dict()\n",
    "\n",
    "person['name'] = '홍길동'\n",
    "person['age'] = 23\n",
    "person['phone'] = '010-0000-0001'\n",
    "print(person)\n",
    "\n",
    "# 🟡 2. 예시 2\n",
    "person2 = {'name' : '장길사', 'age' : 21, 'phone' : '010-0000-0002'}\n",
    "print(person2)\n",
    "\n",
    "\n",
    "\n",
    "# =============================================================  \n",
    "print('-------------------')\n",
    "# 🟡 키값으로 찾기 \n",
    "for key in person.keys():\n",
    "  print(key, person[key])\n",
    "\n",
    "for key in person2.keys():\n",
    "  print(key, person2[key])\n",
    "\n",
    "# 🟡 값으로 찾기\n",
    "for value in person.values():\n",
    "  print(value)\n",
    "\n",
    "for value in person2.values():\n",
    "  print(value)\n",
    "\n",
    "# 🟡 키와 값으로 쌍으로 찾기\n",
    "for item in person.items():\n",
    "  print(item)\n",
    "\n",
    "for key, value in person2.items(): # 튜플로된 items를 가지고 오면 tuple이 나눠지면서 key, value 형태로 가져오게 됩니다.\n",
    "  print(key, value)\n",
    "\n",
    "\n",
    "# =============================================================  \n",
    "# 🟡 🔥🔥🔥🔥🔥 enumerate\n",
    "print('-------------------')\n",
    "# 이것은 앞에 enumerate를 붙여서 인덱스와 함께 가져오는 방법입니다.\n",
    "for i, key in enumerate(person2.keys()):\n",
    "  print(i, key, person2[key])"
   ]
  },
  {
   "cell_type": "markdown",
   "metadata": {},
   "source": [
    "### 🟡 파이썬의 경우 연산자 중복 기능 (할 필요 없다)\n",
    "s1 == 'hello' : 완전히 새로운 데이터타입을 만들 거나 아니면 우리가 새로운 언어 번역기를 만들 때 필요하다. 그 밖에는 필요 없다.\n",
    "\n",
    "java의 경우, 문자열 비교  s1.euquals('hello')"
   ]
  },
  {
   "cell_type": "code",
   "execution_count": null,
   "metadata": {},
   "outputs": [
    {
     "name": "stdout",
     "output_type": "stream",
     "text": [
      "그런 색은 없습니다.\n"
     ]
    }
   ],
   "source": [
    "mydic = {}  #mydic = dict()\n",
    "mydic['color'] = '색'\n",
    "mydic['red'] = '빨강색'\n",
    "mydic['green'] = '초록색'\n",
    "mydic['blue'] = '파랑색'\n",
    "mydic['cyan'] = '청록색'\n",
    "mydic['black'] = '검정색'\n",
    "mydic['yellow'] = '노랑색'\n",
    "\n",
    "color = input(\"알고 싶은 색? : \")\n",
    "if color in mydic.keys():\n",
    "  print(mydic[color])\n",
    "else:\n",
    "  print(\"그런 색은 없습니다.\")\n",
    "\n",
    "\n"
   ]
  },
  {
   "cell_type": "code",
   "execution_count": null,
   "metadata": {},
   "outputs": [],
   "source": []
  }
 ],
 "metadata": {
  "kernelspec": {
   "display_name": "aiBootCamp",
   "language": "python",
   "name": "python3"
  },
  "language_info": {
   "codemirror_mode": {
    "name": "ipython",
    "version": 3
   },
   "file_extension": ".py",
   "mimetype": "text/x-python",
   "name": "python",
   "nbconvert_exporter": "python",
   "pygments_lexer": "ipython3",
   "version": "3.10.16"
  }
 },
 "nbformat": 4,
 "nbformat_minor": 2
}
