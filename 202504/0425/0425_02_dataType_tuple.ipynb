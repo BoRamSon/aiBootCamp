{
 "cells": [
  {
   "cell_type": "markdown",
   "metadata": {},
   "source": [
    "# 🟩 Tuple\n",
    "\n",
    "### 설명\n",
    "튜플은 다른 언어에 아직 없는 타입이였다. 최근에 추가되고 있다.\n",
    "우리가 점심 때 플리마켓에 놀러갔다. 여러가지를 샀다. "
   ]
  },
  {
   "cell_type": "code",
   "execution_count": null,
   "metadata": {},
   "outputs": [
    {
     "name": "stdout",
     "output_type": "stream",
     "text": [
      "이름: 홍길동 나이: 45\n",
      "(1, 2, 3, 4, 5, 6, 7, 8, 9, 10) <class 'tuple'>\n",
      "5 10 9\n"
     ]
    }
   ],
   "source": [
    "print('이름: %s 나이: %d' % ('홍길동', 45))\n",
    "\n",
    "testTupleType = (1,2,3,4,5,6,7,8,9,10)\n",
    "print(testTupleType, type(testTupleType))\n",
    "\n"
   ]
  },
  {
   "cell_type": "code",
   "execution_count": null,
   "metadata": {},
   "outputs": [],
   "source": [
    "# 어기가 없지만, 이게 Tuple의 대표적인 형태입니다.\n",
    "\n",
    "# 낱개\n",
    "a = 5\n",
    "b = 10\n",
    "c = 9\n",
    "\n",
    "# 봉지에 넣기\n",
    "a, b, c = 5, 10, 9  # 🔥 이런 형태의 변수 선언도 가능합니다.\n",
    "\n",
    "# 봉지 확인하기\n",
    "print(a, b, c)\n",
    "\n",
    "\n",
    "\n"
   ]
  },
  {
   "cell_type": "code",
   "execution_count": 7,
   "metadata": {},
   "outputs": [
    {
     "name": "stdout",
     "output_type": "stream",
     "text": [
      "<class 'tuple'>\n",
      "4 7 88\n"
     ]
    }
   ],
   "source": [
    "# 지금은 안배웠지만, def에서 값을 1개 이상 리턴할 때도 tuple로 return이 됩니다. \n",
    "# 우리가 이걸 몰랐을 뿐이다.\n",
    "\n",
    "def myfunc():\n",
    "    return 4, 7, 88\n",
    "\n",
    "a = myfunc() # a는 tuple이 됩니다.\n",
    "print(type(a))  # 확인 결과 <class 'tuple'> \n",
    "\n",
    "# tuple을 분해하기\n",
    "b, c, d = a\n",
    "print(b, c, d)\n",
    "\n"
   ]
  },
  {
   "cell_type": "code",
   "execution_count": null,
   "metadata": {},
   "outputs": [
    {
     "name": "stdout",
     "output_type": "stream",
     "text": [
      "aa= 나는bb bb= 나는aa\n"
     ]
    }
   ],
   "source": [
    "# 2개의 변수값을 서로 exchange, swap 하는 방법\n",
    "\n",
    "aa = '나는aa'\n",
    "bb = '나는bb'\n",
    "\n",
    "# 🟡 practice 1 - 원래 이렇게 복잡하게 바꿨었다면~\n",
    "# cc = aa\n",
    "# aa = bb\n",
    "# bb = cc\n",
    "\n",
    "# print(\"A=\",aa, 'bb=',bb)\n",
    "\n",
    "# 🟡 practice 2 - tuple 사용\n",
    "bb, aa = aa, bb\n",
    "print(\"aa=\",aa, 'bb=',bb)"
   ]
  },
  {
   "cell_type": "markdown",
   "metadata": {},
   "source": [
    "\n",
    "---\n",
    "## 🟢 Tuple - slicing"
   ]
  },
  {
   "cell_type": "code",
   "execution_count": null,
   "metadata": {},
   "outputs": [],
   "source": [
    "testSlicingTuple = (1,2,3,4,5)\n",
    "\n",
    "print(testSlicingTuple[:5])\n",
    "print(testSlicingTuple[2:5])\n",
    "print(testSlicingTuple[::-1])\n",
    "\n",
    "# 연속으로 변수에 저장 및 출력할 수도 있음\n",
    "print(testSlicingTuple + testSlicingTuple)\n",
    "\n",
    "# 연속으로 변수에 저장 및 출력할 수도 있음\n",
    "print(testSlicingTuple * 3)\n"
   ]
  }
 ],
 "metadata": {
  "kernelspec": {
   "display_name": "aiBootCamp",
   "language": "python",
   "name": "python3"
  },
  "language_info": {
   "codemirror_mode": {
    "name": "ipython",
    "version": 3
   },
   "file_extension": ".py",
   "mimetype": "text/x-python",
   "name": "python",
   "nbconvert_exporter": "python",
   "pygments_lexer": "ipython3",
   "version": "3.10.16"
  }
 },
 "nbformat": 4,
 "nbformat_minor": 2
}
