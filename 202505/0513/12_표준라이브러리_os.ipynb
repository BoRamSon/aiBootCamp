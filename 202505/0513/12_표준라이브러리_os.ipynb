{
 "cells": [
  {
   "cell_type": "markdown",
   "id": "e424abca",
   "metadata": {},
   "source": [
    "# 🟩 표준라이브러리 (os)\n",
    "\n",
    "- os 모듈은 운영체제와 상호작용할 수 있도록 해주는 표준 라이브러리입니다.\n",
    "  - 리눅스 터미널에서 사용하는 것처럼 할 수 있도록 만들어주는 것입니다.\n",
    "  - 여기서는 조건에 따라 명령어가 자동으로 실행될 수 있도록 할 수 있겠습니다.\n",
    "- 파일/디렉토리 관리, 환경 변수 접근, 프로세스 제어, 경로 조작 등 다양한 기능을 제공합니다."
   ]
  },
  {
   "cell_type": "markdown",
   "id": "dca62253",
   "metadata": {
    "vscode": {
     "languageId": "plaintext"
    }
   },
   "source": [
    "## 🧩 주요 기능 (카테고리별 정리)\n",
    "\n",
    "### 📁 1. 파일/디렉토리 관련\n",
    "\n",
    "| 함수                    | 설명                        |\n",
    "| --------------------- | ------------------------- |\n",
    "| `os.getcwd()`         | 현재 작업 디렉터리 반환             |\n",
    "| `os.chdir(path)`      | 작업 디렉터리 변경                |\n",
    "| `os.listdir(path)`    | 지정한 디렉토리 내의 파일/디렉터리 목록 반환 |\n",
    "| `os.mkdir(path)`      | 디렉토리 생성                   |\n",
    "| `os.makedirs(path)`   | 중첩된 디렉토리까지 생성             |\n",
    "| `os.remove(path)`     | 파일 삭제                     |\n",
    "| `os.rmdir(path)`      | 디렉토리 삭제 (비어있을 경우)         |\n",
    "| `os.removedirs(path)` | 상위 디렉토리까지 모두 삭제           |\n",
    "| `os.rename(src, dst)` | 파일/디렉토리 이름 변경             |\n",
    "\n",
    "\n",
    "### 🧾 2. 경로(path) 관련\n",
    "- os.path 하위 모듈을 함께 사용\n",
    "\n",
    "| 함수                       | 설명             |\n",
    "| ------------------------ | -------------- |\n",
    "| `os.path.exists(path)`   | 경로가 존재하는지 확인   |\n",
    "| `os.path.isdir(path)`    | 디렉토리인지 확인      |\n",
    "| `os.path.isfile(path)`   | 파일인지 확인        |\n",
    "| `os.path.abspath(path)`  | 절대 경로로 변환      |\n",
    "| `os.path.basename(path)` | 파일 이름만 추출      |\n",
    "| `os.path.dirname(path)`  | 디렉토리 경로만 추출    |\n",
    "| `os.path.join(a, b)`     | 경로를 OS에 맞게 결합  |\n",
    "| `os.path.split(path)`    | 디렉토리와 파일 이름 분리 |\n",
    "\n",
    "\n",
    "### 🧪 3. 환경변수\n",
    "| 함수                      | 설명         |\n",
    "| ----------------------- | ---------- |\n",
    "| `os.environ`            | 환경 변수 딕셔너리 |\n",
    "| `os.getenv(key)`        | 환경 변수 조회   |\n",
    "| `os.putenv(key, value)` | 환경 변수 설정   |\n",
    "\n",
    "\n",
    "### 🧵 4. 시스템 명령어 & 프로세스 관련\n",
    "| 함수                   | 설명                                     |\n",
    "| -------------------- | -------------------------------------- |\n",
    "| `os.system(command)` | 터미널 명령어 실행 (`리눅스/mac: ls`, `윈도우: dir`) |\n",
    "| `os.startfile(path)` | 파일 실행 (Windows 전용)                     |\n",
    "| `os.exit()`          | 프로그램 강제 종료                             |\n",
    "\n",
    "\n",
    "### 🛠️ 5. 기타\n",
    "| 함수               | 설명                      |\n",
    "| ---------------- | ----------------------- |\n",
    "| `os.name`        | OS 이름 (`posix`, `nt` 등) |\n",
    "| `os.sep`         | 경로 구분자 (`/`, `\\`)       |\n",
    "| `os.cpu_count()` | 사용 가능한 CPU 수            |\n",
    "| `os.getlogin()`  | 로그인한 사용자 이름             |\n",
    "\n",
    "\n"
   ]
  },
  {
   "cell_type": "code",
   "execution_count": null,
   "id": "f3eb04a4",
   "metadata": {},
   "outputs": [],
   "source": [
    "import os\n",
    "\n",
    "# 현재 경로 출력\n",
    "print(\"현재 작업 디렉토리:\", os.getcwd())\n",
    "\n",
    "# 파일 목록 출력\n",
    "print(\"파일 목록:\", os.listdir(\".\"))\n",
    "\n",
    "# 디렉토리 생성 및 제거\n",
    "os.mkdir(\"test_dir\")\n",
    "os.rmdir(\"test_dir\")\n",
    "\n",
    "# 경로 확인\n",
    "file_path = \"example.txt\"\n",
    "if os.path.exists(file_path):\n",
    "    print(\"파일이 존재합니다.\")\n",
    "else:\n",
    "    print(\"파일이 없습니다.\")\n"
   ]
  },
  {
   "cell_type": "code",
   "execution_count": 8,
   "id": "3d6c4fe5",
   "metadata": {},
   "outputs": [
    {
     "name": "stdout",
     "output_type": "stream",
     "text": [
      "---------------------------\n",
      "environ({'ANDROID_HOME': '/Users/hacker/Library/Android/sdk', 'COMMAND_MODE': 'unix2003', 'CONDA_DEFAULT_ENV': 'aiBootCamp', 'CONDA_EXE': '/Users/hacker/Applications/anaconda3/bin/conda', 'CONDA_PREFIX': '/Users/hacker/Applications/anaconda3/envs/aiBootCamp', 'CONDA_PROMPT_MODIFIER': '(aiBootCamp) ', 'CONDA_PYTHON_EXE': '/Users/hacker/Applications/anaconda3/bin/python', 'CONDA_SHLVL': '2', 'CPPFLAGS': '-I/opt/homebrew/opt/openssl@1.1/include', 'GEM_HOME': '/Users/hacker/.rbenv/versions/2.7.6/lib/ruby/gems/2.7.0', 'GEM_PATH': '/Users/hacker/.rbenv/versions/2.7.6/lib/ruby/gems/2.7.0', 'GSETTINGS_SCHEMA_DIR': '/Users/hacker/Applications/anaconda3/share/glib-2.0/schemas', 'HF_HOME': '/Users/hacker/ppp/ai/cache_hf', 'HOME': '/Users/hacker', 'HOMEBREW_CELLAR': '/opt/homebrew/Cellar', 'HOMEBREW_PREFIX': '/opt/homebrew', 'HOMEBREW_REPOSITORY': '/opt/homebrew', 'INFOPATH': '/opt/homebrew/share/info:/opt/homebrew/share/info:', 'JAVA_HOME': '/Library/Java/JavaVirtualMachines/zulu-17.jdk/Contents/Home', 'LDFLAGS': '-L/opt/homebrew/opt/openssl@1.1/lib', 'LOGNAME': 'hacker', 'MallocNanoZone': '0', 'NVM_BIN': '/Users/hacker/.nvm/versions/node/v20.17.0/bin', 'NVM_CD_FLAGS': '-q', 'NVM_DIR': '/Users/hacker/.nvm', 'NVM_INC': '/Users/hacker/.nvm/versions/node/v20.17.0/include/node', 'OLDPWD': '/', 'ORIGINAL_XDG_CURRENT_DESKTOP': 'undefined', 'PATH': '/Users/hacker/Applications/anaconda3/envs/aiBootCamp/bin:/Users/hacker/.gem/ruby/2.7.0/bin:/Users/hacker/.rbenv/versions/2.7.6/lib/ruby/gems/2.7.0/bin:/opt/homebrew/opt/openssl@1.1/bin:/Users/hacker/.rbenv/shims:/Users/hacker/.rbenv/bin:/Library/Java/JavaVirtualMachines/zulu-17.jdk/Contents/Home/bin:/Users/hacker/.nvm/versions/node/v20.17.0/bin:/opt/homebrew/bin:/opt/homebrew/bin:/opt/homebrew/sbin:/Users/hacker/anaconda3/bin:/Users/hacker/Applications/anaconda3/envs/aiBootCamp/bin:/Users/hacker/Applications/anaconda3/condabin:/Library/Frameworks/Python.framework/Versions/3.12/bin:/usr/local/bin:/System/Cryptexes/App/usr/bin:/usr/bin:/bin:/usr/sbin:/sbin:/var/run/com.apple.security.cryptexd/codex.system/bootstrap/usr/local/bin:/var/run/com.apple.security.cryptexd/codex.system/bootstrap/usr/bin:/var/run/com.apple.security.cryptexd/codex.system/bootstrap/usr/appleinternal/bin:/Library/Apple/usr/bin:/Applications/VMware Fusion.app/Contents/Public:/Users/hacker/.rbenv/versions/2.7.6/lib/ruby/gems/2.7.0/bin:/Users/hacker/Library/Android/sdk:/Users/hacker/Library/Android/sdk/emulator:/Users/hacker/Library/Android/sdk/tools:/Users/hacker/Library/Android/sdk/tools/bin:/Users/hacker/Library/Android/sdk/platform-tools', 'PKG_CONFIG_PATH': '/opt/homebrew/opt/openssl@1.1/lib/pkgconfig', 'PWD': '/', 'RBENV_SHELL': 'zsh', 'RUBY_CONFIGURE_OPTS': '--with-openssl-dir=/opt/homebrew/opt/openssl@1.1 --with-readline-dir=/opt/homebrew/opt/readline --with-/Users/hacker/.zshrclibyaml-dir=/opt/homebrew/opt/libyaml', 'SHELL': '/bin/zsh', 'SHLVL': '2', 'SSH_AUTH_SOCK': '/private/tmp/com.apple.launchd.CAOC0M6M8S/Listeners', 'TMPDIR': '/var/folders/l3/zkvvqfcn05l34bb6xs5d3px40000gp/T/', 'USER': 'hacker', 'VSCODE_CODE_CACHE_PATH': '/Users/hacker/Library/Application Support/Code/CachedData/19e0f9e681ecb8e5c09d8784acaa601316ca4571', 'VSCODE_CRASH_REPORTER_PROCESS_TYPE': 'extensionHost', 'VSCODE_CWD': '/', 'VSCODE_ESM_ENTRYPOINT': 'vs/workbench/api/node/extensionHostProcess', 'VSCODE_HANDLES_UNCAUGHT_ERRORS': 'true', 'VSCODE_IPC_HOOK': '/Users/hacker/Library/Application Support/Code/1.10-main.sock', 'VSCODE_NLS_CONFIG': '{\"userLocale\":\"en-us\",\"osLocale\":\"en-kr\",\"resolvedLanguage\":\"en\",\"defaultMessagesFile\":\"/Applications/Visual Studio Code.app/Contents/Resources/app/out/nls.messages.json\",\"locale\":\"en-us\",\"availableLanguages\":{}}', 'VSCODE_PID': '64108', 'XPC_FLAGS': '0x0', 'XPC_SERVICE_NAME': '0', '_': '/Users/hacker/Applications/anaconda3/envs/aiBootCamp/bin/python', '__CFBundleIdentifier': 'com.microsoft.VSCode', '__CF_USER_TEXT_ENCODING': '0x1F6:0x0:0x0', 'ELECTRON_RUN_AS_NODE': '1', 'VSCODE_L10N_BUNDLE_LOCATION': '', 'PYTHONUNBUFFERED': '1', 'PYTHONIOENCODING': 'utf-8', '_CE_CONDA': '', 'CONDA_PREFIX_1': '/Users/hacker/Applications/anaconda3', 'CONDA_ROOT': '/Users/hacker/Applications/anaconda3', '_CE_M': '', 'LC_CTYPE': 'C.UTF-8', 'PYDEVD_IPYTHON_COMPATIBLE_DEBUGGING': '1', 'PYTHON_FROZEN_MODULES': 'on', 'PYDEVD_USE_FRAME_EVAL': 'NO', 'TERM': 'xterm-color', 'CLICOLOR': '1', 'FORCE_COLOR': '1', 'CLICOLOR_FORCE': '1', 'PAGER': 'cat', 'GIT_PAGER': 'cat', 'MPLBACKEND': 'module://matplotlib_inline.backend_inline'})\n",
      "\n",
      "---------------------------\n",
      "<built-in function getcwd>\n",
      "\n",
      "---------------------------\n"
     ]
    },
    {
     "name": "stderr",
     "output_type": "stream",
     "text": [
      "sh: dir/w: No such file or directory\n"
     ]
    },
    {
     "data": {
      "text/plain": [
       "32512"
      ]
     },
     "execution_count": 8,
     "metadata": {},
     "output_type": "execute_result"
    }
   ],
   "source": [
    "import os\n",
    "\n",
    "print('---------------------------')\n",
    "print(os.environ)\n",
    "print()\n",
    "\n",
    "\n",
    "\n",
    "print('---------------------------')\n",
    "print(os.getcwd)\n",
    "print()\n",
    "\n",
    "\n",
    "\n",
    "# 파이썬에서 os명령어를 쓰고 싶을 떄\n",
    "print('---------------------------')\n",
    "os.system('dir/w')"
   ]
  },
  {
   "cell_type": "markdown",
   "id": "ab4f9ca5",
   "metadata": {},
   "source": [
    "### ⛳ 보너스: macOS vs Windows 차이\n",
    "\n",
    "| 구분        | macOS / Linux (`posix`) | Windows (`nt`)       |\n",
    "| --------- | ----------------------- | -------------------- |\n",
    "| `os.name` | `'posix'`               | `'nt'`               |\n",
    "| `os.sep`  | `'/'`                   | `'\\\\'`               |\n",
    "| 명령어 예     | `ls`, `rm`, `touch`     | `dir`, `del`, `copy` |\n"
   ]
  }
 ],
 "metadata": {
  "kernelspec": {
   "display_name": "Python [conda env:aiBootCamp]",
   "language": "python",
   "name": "conda-env-aiBootCamp-py"
  },
  "language_info": {
   "codemirror_mode": {
    "name": "ipython",
    "version": 3
   },
   "file_extension": ".py",
   "mimetype": "text/x-python",
   "name": "python",
   "nbconvert_exporter": "python",
   "pygments_lexer": "ipython3",
   "version": "3.10.13"
  }
 },
 "nbformat": 4,
 "nbformat_minor": 5
}
