{
 "cells": [
  {
   "cell_type": "markdown",
   "metadata": {},
   "source": [
    "# 🟩 거스름돈 문제 풀기 with for문"
   ]
  },
  {
   "cell_type": "markdown",
   "metadata": {},
   "source": [
    "### 🟡 문제\n",
    "\n",
    "<거스름돈 계산하기>\n",
    "\n",
    "10만원 짜리 넣고 거스름돈 받기  \n",
    "물건값이 총 : 27,560원  \n",
    "거스름돈 : 72,440원  \n",
    "\n",
    "50000 -- 1장  \n",
    "10000 -- 2장  \n",
    "5000 -- 0장  \n",
    "1000 -- 4장  \n",
    "500 -- 0개  \n",
    "100 -- 4개  \n",
    "50 -- 0개  \n",
    "10 -- 4개  \n",
    "\n"
   ]
  },
  {
   "cell_type": "code",
   "execution_count": null,
   "metadata": {},
   "outputs": [],
   "source": [
    "\n",
    "input_price = 100000\n",
    "# total_price = input('total 금액을 입력하세요 : ')\n",
    "total_price = 27560\n",
    "\n",
    "# change = input_price - total_price\n",
    "change = 72440\n",
    "\n",
    "money = [50000, 10000, 5000, 1000, 500, 100, 50, 10]\n",
    "\n",
    "# ---------------------------------\n",
    "# 계산\n",
    "\n",
    "for i in money:\n",
    "\n",
    "\n",
    "\n",
    "# ---------------------------------\n",
    "# 출력\n"
   ]
  }
 ],
 "metadata": {
  "kernelspec": {
   "display_name": "aiBootCamp",
   "language": "python",
   "name": "python3"
  },
  "language_info": {
   "name": "python",
   "version": "3.10.16"
  }
 },
 "nbformat": 4,
 "nbformat_minor": 2
}
