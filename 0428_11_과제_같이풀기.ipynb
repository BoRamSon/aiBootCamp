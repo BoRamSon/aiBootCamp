{
 "cells": [
  {
   "cell_type": "markdown",
   "metadata": {},
   "source": [
    "# 🟩 def() - 과제 같이 풀기"
   ]
  },
  {
   "cell_type": "markdown",
   "metadata": {},
   "source": [
    "\n",
    "---\n",
    "## 🟢 [과제 1] 정수를 받아서 짝수인지 홀수인지 확인하는 함수"
   ]
  },
  {
   "cell_type": "code",
   "execution_count": null,
   "metadata": {},
   "outputs": [
    {
     "name": "stdout",
     "output_type": "stream",
     "text": [
      "1 = False\n",
      "2 = True\n",
      "3 = False\n",
      "4 = True\n",
      "5 = False\n",
      "6 = True\n",
      "7 = False\n",
      "8 = True\n",
      "9 = False\n",
      "10 = True\n"
     ]
    }
   ],
   "source": [
    "# 1. \n",
    "def isEven(n) :\n",
    "    if n % 2 == 0 :\n",
    "        return True\n",
    "    return False\n",
    "\n",
    "# 2. for문으로 원하는 것들 넣기\n",
    "for i in range(1, 11) :\n",
    "    print(f\"{i} = {isEven(i)}\")"
   ]
  },
  {
   "cell_type": "markdown",
   "metadata": {},
   "source": [
    "\n",
    "--- \n",
    "## 🟢 [과제 2] 그레고리력 기준으로 윤년을 확인하는 함수\n",
    "4년마다 윤년 , 단 100 으로 나누어지지만 400 으로 안 나누어지면 윤년이 아님\n"
   ]
  },
  {
   "cell_type": "code",
   "execution_count": null,
   "metadata": {},
   "outputs": [],
   "source": [
    "# 1. \n",
    "def isLeap(year) :\n",
    "    if (year % 4 == 0 and year % 100 != 0) or year % 400 == 0 :  # 🔥 수식 이해하기\n",
    "        return True\n",
    "    return False\n",
    "\n",
    "# 2. 윤년 확인 출력\n",
    "for i in range(2000,2026) :\n",
    "    print(f\"{i} = {isLeap(i)}\")"
   ]
  }
 ],
 "metadata": {
  "kernelspec": {
   "display_name": "aiBootCamp",
   "language": "python",
   "name": "python3"
  },
  "language_info": {
   "codemirror_mode": {
    "name": "ipython",
    "version": 3
   },
   "file_extension": ".py",
   "mimetype": "text/x-python",
   "name": "python",
   "nbconvert_exporter": "python",
   "pygments_lexer": "ipython3",
   "version": "3.10.16"
  }
 },
 "nbformat": 4,
 "nbformat_minor": 2
}
