{
 "cells": [
  {
   "cell_type": "markdown",
   "metadata": {},
   "source": [
    "# 🟩 for문 중첩\n",
    "\n",
    "- for문 안에서 또 for문 작동하는 경우다.  \n",
    "- 외부의 루프가 m번 돌고, 내부 루프가 n번 돌면 m * n번 수행을 한다.\n",
    "- 가급적 2중 for문까지만 동작하게끔 한다."
   ]
  },
  {
   "cell_type": "code",
   "execution_count": 1,
   "metadata": {},
   "outputs": [
    {
     "name": "stdout",
     "output_type": "stream",
     "text": [
      "i=1 j=1\n",
      "i=1 j=2\n",
      "i=1 j=3\n",
      "i=1 j=4\n",
      "i=1 j=5\n",
      "i=2 j=1\n",
      "i=2 j=2\n",
      "i=2 j=3\n",
      "i=2 j=4\n",
      "i=2 j=5\n",
      "i=3 j=1\n",
      "i=3 j=2\n",
      "i=3 j=3\n",
      "i=3 j=4\n",
      "i=3 j=5\n",
      "i=4 j=1\n",
      "i=4 j=2\n",
      "i=4 j=3\n",
      "i=4 j=4\n",
      "i=4 j=5\n",
      "i=5 j=1\n",
      "i=5 j=2\n",
      "i=5 j=3\n",
      "i=5 j=4\n",
      "i=5 j=5\n"
     ]
    }
   ],
   "source": [
    "for i in range(1, 6):\n",
    "  for j in range(1, 6):\n",
    "    print(f'i={i} j={j}')"
   ]
  },
  {
   "cell_type": "markdown",
   "metadata": {},
   "source": [
    "\n",
    "---\n",
    "## 🟢 문제1. 이중 for문 \n",
    "\n",
    "이중 for문 사용해서 1~100까지 출력 한줄에 10개씩 출력하기"
   ]
  },
  {
   "cell_type": "code",
   "execution_count": 13,
   "metadata": {},
   "outputs": [
    {
     "name": "stdout",
     "output_type": "stream",
     "text": [
      "1\t2\t3\t4\t5\t6\t7\t8\t9\t10\t\n",
      "11\t12\t13\t14\t15\t16\t17\t18\t19\t20\t\n",
      "21\t22\t23\t24\t25\t26\t27\t28\t29\t30\t\n",
      "31\t32\t33\t34\t35\t36\t37\t38\t39\t40\t\n",
      "41\t42\t43\t44\t45\t46\t47\t48\t49\t50\t\n",
      "51\t52\t53\t54\t55\t56\t57\t58\t59\t60\t\n",
      "61\t62\t63\t64\t65\t66\t67\t68\t69\t70\t\n",
      "71\t72\t73\t74\t75\t76\t77\t78\t79\t80\t\n",
      "81\t82\t83\t84\t85\t86\t87\t88\t89\t90\t\n",
      "91\t92\t93\t94\t95\t96\t97\t98\t99\t100\t\n"
     ]
    }
   ],
   "source": [
    "number = 1\n",
    "count = 10\n",
    "recently_count = 0\n",
    "\n",
    "for i in range(1, 101):\n",
    "  print(number, end='\\t')\n",
    "  number += 1\n",
    "  recently_count += 1\n",
    "  if count <= recently_count:\n",
    "    print()\n",
    "    recently_count = 0\n",
    "\n",
    "# 중첩 예제와 맞지 않음."
   ]
  },
  {
   "cell_type": "markdown",
   "metadata": {},
   "source": [
    "## 🟢 🔥 같이 풀어보기\n",
    "이게 정답입니다. "
   ]
  },
  {
   "cell_type": "code",
   "execution_count": null,
   "metadata": {},
   "outputs": [
    {
     "name": "stdout",
     "output_type": "stream",
     "text": [
      "1\t2\t3\t4\t5\t6\t7\t8\t9\t10\t\n",
      "11\t12\t13\t14\t15\t16\t17\t18\t19\t20\t\n",
      "21\t22\t23\t24\t25\t26\t27\t28\t29\t30\t\n",
      "31\t32\t33\t34\t35\t36\t37\t38\t39\t40\t\n",
      "41\t42\t43\t44\t45\t46\t47\t48\t49\t50\t\n",
      "51\t52\t53\t54\t55\t56\t57\t58\t59\t60\t\n",
      "61\t62\t63\t64\t65\t66\t67\t68\t69\t70\t\n",
      "71\t72\t73\t74\t75\t76\t77\t78\t79\t80\t\n",
      "81\t82\t83\t84\t85\t86\t87\t88\t89\t90\t\n",
      "91\t92\t93\t94\t95\t96\t97\t98\t99\t100\t\n"
     ]
    }
   ],
   "source": [
    "k = 1\n",
    "\n",
    "for i in range(0, 10): # 10줄을 출력하겠다.\n",
    "  for j in range(0, 10): # 1줄에 10개가 나오겠다.\n",
    "    print(f\"{k}\", end='\\t')\n",
    "    k += 1\n",
    "  print() #줄마다 1줄 for(j)물 끝날 때마다 줄바꿈을 함!!!\n",
    "\n",
    "# easy"
   ]
  },
  {
   "cell_type": "markdown",
   "metadata": {},
   "source": [
    "\n",
    "---\n",
    "## 🟢 문제2. 이중 for문 \n",
    "\n",
    "1 = 1  \n",
    "1 + 2 = 3  \n",
    "1 + 2 + 3 = 6  \n",
    "1 + 2 + 3 + 4 = 10  \n",
    "1 + 2 + 3 + 4 + 5 = 15  \n",
    "1 + 2 + 3 + 4 + 5 + 6 = 21  \n",
    "1 + 2 + 3 + 4 + 5 + 6 + 7 = 28  \n",
    "1 + 2 + 3 + 4 + 5 + 6 + 7 + 8 = 36  \n",
    "1 + 2 + 3 + 4 + 5 + 6 + 7 + 8 + 9 = 45  \n",
    "1 + 2 + 3 + 4 + 5 + 6 + 7 + 8 + 9 + 10 = 55  \n",
    "\n",
    "이런 형태로 출력하시오!"
   ]
  },
  {
   "cell_type": "code",
   "execution_count": null,
   "metadata": {},
   "outputs": [
    {
     "name": "stdout",
     "output_type": "stream",
     "text": [
      "1\n",
      "11\n",
      "11\n",
      "21\n"
     ]
    }
   ],
   "source": [
    "# k = 1\n",
    "# l = 0\n",
    "\n",
    "# for i in range(0, 11):\n",
    "#   # print(f\"{k} + {l} = {k+l}\")\n",
    "#   print(k)\n",
    "#   k += i\n",
    "\n",
    "for i in (0, 10): # 10번을 하겠다.\n",
    "  for j in (1, 11): #\n",
    "    print(i + j)\n",
    "  \n",
    "\n",
    "# 🆘 실패\n"
   ]
  },
  {
   "cell_type": "markdown",
   "metadata": {},
   "source": [
    "## 🟢 같이 풀어보기 (🔥 본인 스스로 풀지 못함)"
   ]
  },
  {
   "cell_type": "code",
   "execution_count": 25,
   "metadata": {},
   "outputs": [
    {
     "name": "stdout",
     "output_type": "stream",
     "text": [
      "1 = 1\n",
      "1 + 2 = 3\n",
      "1 + 2 + 3 = 6\n",
      "1 + 2 + 3 + 4 = 10\n",
      "1 + 2 + 3 + 4 + 5 = 15\n",
      "1 + 2 + 3 + 4 + 5 + 6 = 21\n",
      "1 + 2 + 3 + 4 + 5 + 6 + 7 = 28\n",
      "1 + 2 + 3 + 4 + 5 + 6 + 7 + 8 = 36\n",
      "1 + 2 + 3 + 4 + 5 + 6 + 7 + 8 + 9 = 45\n",
      "1 + 2 + 3 + 4 + 5 + 6 + 7 + 8 + 9 + 10 = 55\n"
     ]
    }
   ],
   "source": [
    "  \n",
    "for i in range(1, 11):\n",
    "  sum = 0\n",
    "  for j in range(1, i+1):  # 이 부분을 생각하지 못했다..\n",
    "    if j < i:\n",
    "      print(j, end=\" + \")\n",
    "    else:\n",
    "      print(j, end=' = ')\n",
    "    \n",
    "    sum += j\n",
    "\n",
    "  print(f'{sum}')"
   ]
  }
 ],
 "metadata": {
  "kernelspec": {
   "display_name": "aiBootCamp",
   "language": "python",
   "name": "python3"
  },
  "language_info": {
   "codemirror_mode": {
    "name": "ipython",
    "version": 3
   },
   "file_extension": ".py",
   "mimetype": "text/x-python",
   "name": "python",
   "nbconvert_exporter": "python",
   "pygments_lexer": "ipython3",
   "version": "3.10.16"
  }
 },
 "nbformat": 4,
 "nbformat_minor": 2
}
