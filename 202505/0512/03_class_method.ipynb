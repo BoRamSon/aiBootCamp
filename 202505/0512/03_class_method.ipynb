{
 "cells": [
  {
   "cell_type": "code",
   "execution_count": null,
   "id": "6c278fbd",
   "metadata": {},
   "outputs": [
    {
     "name": "stdout",
     "output_type": "stream",
     "text": [
      "1\n",
      "2\n",
      "2\n"
     ]
    }
   ],
   "source": [
    "class MyClass:\n",
    "  # 클래스 변수의 영역이다.\n",
    "  # 객체를 만들던 말던 한번만 만든다.\n",
    "  # 생성자에서 이 부분을 건드리면 안된다.\n",
    "\n",
    "  count = 0  # 객체가 만드어질 때만다 몇개 만들어졌는지 확을 하고 싶다.\n",
    "\n",
    "  # @staticmethod\n",
    "  # def add_count():\n",
    "  #   count += 1\n",
    "  #   print(count)\n",
    "\n",
    "  @classmethod\n",
    "  def increase(cls):   # cls는 class를 의미함\n",
    "    cls.count += 1\n",
    "    print(cls.count)\n",
    "\n",
    "# m1 = MyClass()\n",
    "# print(m1.increase())\n",
    "\n",
    "# ---------------------------------\n",
    "# @staticmethod 출력해보기\n",
    "\n",
    "# print(MyClass.add_count()) # Error\n",
    "# UnboundLocalError: local variable 'count' referenced before assignment\n",
    "# 매개변수를 쓸 수 없기 때문에 count변수에 접근을 못합니다. 함수 내부 것만 사용할 수 있음. 외부 것 못 사용.\n",
    "\n",
    "# ---------------------------------\n",
    "# @classmethod 출력해보기\n",
    "\n",
    "MyClass.increase()\n",
    "MyClass.increase()\n",
    "print(MyClass.count)\n",
    "\n",
    "\n"
   ]
  },
  {
   "cell_type": "markdown",
   "id": "7648fa9e",
   "metadata": {},
   "source": [
    "객체를 만들 때 객체의 개수를 카운트하거나 제한하는 클래스를 만들고자 할 때 classmethod를 사용한다."
   ]
  },
  {
   "cell_type": "markdown",
   "id": "81a4e008",
   "metadata": {},
   "source": [
    "\n",
    "---\n",
    "## 🟢 private ( __(언버바 2개) )\n",
    "\n"
   ]
  },
  {
   "cell_type": "code",
   "execution_count": 17,
   "id": "34625a11",
   "metadata": {},
   "outputs": [
    {
     "name": "stdout",
     "output_type": "stream",
     "text": [
      "1\n",
      "1\n",
      "2\n",
      "2\n",
      "3\n",
      "3\n",
      "4\n"
     ]
    }
   ],
   "source": [
    "class SelfCount:\n",
    "  # 🔥 private\n",
    "  # 변수에 __(언더바 2개)를 붙이면 외부에서 접근이 불가능하다.\n",
    "  __count = 0   # 클래스변수를 선언한다.\n",
    "  \n",
    "  # 생성자에서 값 증가하기\n",
    "  def __init__(self):\n",
    "    SelfCount.__count += 1\n",
    "    print(SelfCount.__count)\n",
    "\n",
    "  @classmethod\n",
    "  def count_output(cls):\n",
    "    print(cls.__count)\n",
    "\n",
    "\n",
    "# print( SelfCount.__count )  # 1. \"이 속성을 볼 수 없다.\"라는 \"에러메세지\"가 나옵니다.\n",
    "\n",
    "\n",
    "s1 = SelfCount()         # 2. \n",
    "SelfCount.count_output()\n",
    "s1 = SelfCount()\n",
    "SelfCount.count_output()\n",
    "s1 = SelfCount()\n",
    "SelfCount.count_output()\n",
    "s1 = SelfCount()\n",
    "\n"
   ]
  }
 ],
 "metadata": {
  "kernelspec": {
   "display_name": "aiBootCamp",
   "language": "python",
   "name": "python3"
  },
  "language_info": {
   "codemirror_mode": {
    "name": "ipython",
    "version": 3
   },
   "file_extension": ".py",
   "mimetype": "text/x-python",
   "name": "python",
   "nbconvert_exporter": "python",
   "pygments_lexer": "ipython3",
   "version": "3.10.16"
  }
 },
 "nbformat": 4,
 "nbformat_minor": 5
}
