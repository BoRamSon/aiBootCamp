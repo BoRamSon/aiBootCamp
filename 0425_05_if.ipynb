{
 "cells": [
  {
   "cell_type": "markdown",
   "metadata": {},
   "source": [
    "# 🟩 if문"
   ]
  },
  {
   "cell_type": "markdown",
   "metadata": {},
   "source": [
    "\n",
    "\n",
    "---\n",
    "## 🟢 제어구조 \n",
    "\n",
    " - 순차구조 : 일직선으로 처리하는 방법 \n",
    " - 분기구조 : 조건에 따라 처리가 달라진다. "
   ]
  },
  {
   "cell_type": "markdown",
   "metadata": {},
   "source": [
    "\n",
    "---\n",
    "## 🟢 형태, 생김새\n",
    "```python\n",
    "if 조건문 :\n",
    "   ....\n",
    "   ....\n",
    ".....  들여쓰기가 끝났을때 if문이 종료함을 안다  \n",
    " 조건문은 수행결과가 기본적으로 boolean타입이어야 한다. True 또는 False가 오는 수식이다. \n",
    "\n",
    "# ------------------------------\n",
    "\n",
    " if  조건식:  (콜론 꼭 필요하다)\n",
    "    .....\n",
    "    .....\n",
    "\n",
    " if 조건식:\n",
    "    ...\n",
    " else:\n",
    "    ....\n",
    "\n",
    "# ------------------------------\n",
    "\n",
    "if 조건문:\n",
    "    ....\n",
    "elif 조건문2:\n",
    "    ...\n",
    "elif 조건문3:\n",
    "    ...\n",
    "elif 조건문4:\n",
    "    ...\n",
    "else:\n",
    "    ...\n",
    "```"
   ]
  },
  {
   "cell_type": "markdown",
   "metadata": {},
   "source": [
    "\n",
    "---\n",
    "## 🟢 쉬운 예제로 이해하기"
   ]
  },
  {
   "cell_type": "code",
   "execution_count": null,
   "metadata": {},
   "outputs": [
    {
     "name": "stdout",
     "output_type": "stream",
     "text": [
      "10\n"
     ]
    }
   ],
   "source": [
    "# 🟡 \n",
    "\n",
    "n = int(input('정수 = '))\n",
    "\n",
    "if n > 0 :\n",
    "  n = n*5\n",
    "\n",
    "print(n)"
   ]
  },
  {
   "cell_type": "code",
   "execution_count": null,
   "metadata": {},
   "outputs": [
    {
     "name": "stdout",
     "output_type": "stream",
     "text": [
      "양수\n",
      "3\n"
     ]
    }
   ],
   "source": [
    "# 🟡 양수인지, 음수인지 판단하고 출력하기\n",
    "\n",
    "testValue = 3\n",
    "print(testValue)\n",
    "\n",
    "if testValue > 0 :\n",
    "  print('양수')\n",
    "else:\n",
    "  print('음수')\n",
    "\n"
   ]
  },
  {
   "cell_type": "code",
   "execution_count": null,
   "metadata": {},
   "outputs": [
    {
     "name": "stdout",
     "output_type": "stream",
     "text": [
      "0\n",
      "0\n"
     ]
    }
   ],
   "source": [
    "# 🟡 양수이면 양수 / 0이면 0 / 음수이면 음수라고 출력하여라~\n",
    "\n",
    "testValue2 = 0\n",
    "# print(testValue2)\n",
    "\n",
    "if testValue2 > 0:\n",
    "  print('양수')\n",
    "elif testValue2==0:\n",
    "  print('0')\n",
    "else:\n",
    "  print('음수')\n",
    "\n",
    "\n",
    "\n"
   ]
  },
  {
   "cell_type": "markdown",
   "metadata": {},
   "source": [
    "\n",
    "---\n",
    "## 🟢 예제"
   ]
  },
  {
   "cell_type": "markdown",
   "metadata": {},
   "source": [
    "#### 문제 1\n",
    "\n",
    "- 주급계산하기 \n",
    "  - 입력 : 이름, 근무시간, 시간당급여액을 토대로 주급을 계산하려고 한다.\n",
    "  - 조건 : 추가수당: 근무시간이 20시간을 초과하면 시간당급여액에 50%를 가산한다.\n",
    "  - 출력 : 이름, 근무시간, 시간당급여, 기본금액, 수당, 총액\n",
    "\n",
    "#### 🔥 코드가 커지든 [ 입력 - 계산 - 출력 ] 틀에서는 벗어나지 않는다. 순서대로 잘 해라~\n"
   ]
  },
  {
   "cell_type": "code",
   "execution_count": null,
   "metadata": {},
   "outputs": [
    {
     "name": "stdout",
     "output_type": "stream",
     "text": [
      " 이름   근무시간  시간당급여     기본금액        수당          총액\n",
      "홍길동   30시간   10000원    450000.0원    150000.0    600000.0\n"
     ]
    }
   ],
   "source": [
    "# -------------------------------------------\n",
    "# 입력\n",
    "\n",
    "# your_name = input(\"이름을 입력하시오 = \")\n",
    "your_name = '홍길동'\n",
    "\n",
    "# work_time = int(input(\"근무시간을 입력하시오 = \"))\n",
    "work_time = 30\n",
    "\n",
    "# per_payment = int(input(\"시간당 급여액 입력하시오 = \"))\n",
    "per_payment = 10000\n",
    "\n",
    "# -------------------------------------------\n",
    "# 계산\n",
    "\n",
    "basic_price = per_payment * work_time\n",
    "\n",
    "add_price = 0\n",
    "\n",
    "if work_time > 20 :\n",
    "  add_price = basic_price / 2\n",
    "  basic_price = basic_price + add_price\n",
    "  \n",
    "total_price = basic_price + add_price \n",
    "\n",
    "# -------------------------------------------\n",
    "# 출력\n",
    "\n",
    "print(' 이름   근무시간  시간당급여     기본금액        수당          총액')\n",
    "print(f'{your_name}   {work_time}시간   {per_payment}원    {basic_price}원    {add_price}    {total_price}')"
   ]
  },
  {
   "cell_type": "markdown",
   "metadata": {},
   "source": [
    "#### 문제 2\n",
    "\n",
    "  - 입력 : 이름, 필기(400점), 워드(200점), 스프레드시트(200점), 프리젠테이션(200점)\n",
    "  - 계산(조건) : \n",
    "    - 등급 800이상 A \n",
    "    - 800 미만 ~ 600이상 B \n",
    "    - 600미만 400이상 C\n",
    "    - 400미만 D ('재시험 요망' 문구 오른쪽에 같이 출력)\n",
    "  - 출력 : 총점과 등급\n"
   ]
  },
  {
   "cell_type": "code",
   "execution_count": 46,
   "metadata": {},
   "outputs": [
    {
     "name": "stdout",
     "output_type": "stream",
     "text": [
      "총점: 800 / 등급: A\n"
     ]
    }
   ],
   "source": [
    "# -------------------------------------------\n",
    "# 입력\n",
    "\n",
    "# your_name = input(\"이름을 입력하시오 = \")\n",
    "your_name = '홍길동'\n",
    "\n",
    "# writting_exam = int(input(\"필기시험 점수를 입력하시오 = \"))\n",
    "writting_exam = 800\n",
    "\n",
    "# word_exam = int(input(\"시간당 급여액 입력하시오 = \"))\n",
    "word_exam = 0\n",
    "\n",
    "# word_exam = int(input(\"시간당 급여액 입력하시오 = \"))\n",
    "spredsheet_exam = 0\n",
    "\n",
    "# word_exam = int(input(\"시간당 급여액 입력하시오 = \"))\n",
    "pregentation_exam = 0\n",
    "\n",
    "# -------------------------------------------\n",
    "# 계산\n",
    "\n",
    "total_score = writting_exam + word_exam + spredsheet_exam + pregentation_exam\n",
    "\n",
    "if total_score >= 800 :\n",
    "  print(f'총점: {total_score} / 등급: A')\n",
    "elif 800 > total_score >= 600 :\n",
    "  print(f'총점: {total_score} / 등급: B')\n",
    "elif 600 > total_score >= 400 :\n",
    "  print(f'총점: {total_score} / 등급: C')\n",
    "else :\n",
    "  print(f'{your_name}님의 점수는 총점: {total_score} / 등급: D (재시험 요망)')\n",
    "\n",
    "\n",
    "# -------------------------------------------\n",
    "# 출력\n"
   ]
  }
 ],
 "metadata": {
  "kernelspec": {
   "display_name": "aiBootCamp",
   "language": "python",
   "name": "python3"
  },
  "language_info": {
   "codemirror_mode": {
    "name": "ipython",
    "version": 3
   },
   "file_extension": ".py",
   "mimetype": "text/x-python",
   "name": "python",
   "nbconvert_exporter": "python",
   "pygments_lexer": "ipython3",
   "version": "3.10.16"
  }
 },
 "nbformat": 4,
 "nbformat_minor": 2
}
