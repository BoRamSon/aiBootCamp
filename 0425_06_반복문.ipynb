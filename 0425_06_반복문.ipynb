{
 "cells": [
  {
   "cell_type": "markdown",
   "metadata": {},
   "source": [
    "🟩 반복문\n",
    "\n",
    "- for문\n",
    "  - 정해진 횟수만큼 반복할 때\n",
    "\n",
    "- while문\n",
    "  - 반복을 하긴 하는데 몇 번할지 모른다.\n",
    "  - 특정조건을 만족할 때만 \n",
    "  - 한번도 수행을 안할 수도 있다.\n"
   ]
  },
  {
   "cell_type": "code",
   "execution_count": null,
   "metadata": {},
   "outputs": [],
   "source": []
  }
 ],
 "metadata": {
  "language_info": {
   "name": "python"
  }
 },
 "nbformat": 4,
 "nbformat_minor": 2
}
