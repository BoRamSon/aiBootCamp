{
 "cells": [
  {
   "cell_type": "markdown",
   "metadata": {},
   "source": [
    "# 🟩 zip() 함수"
   ]
  },
  {
   "cell_type": "markdown",
   "metadata": {},
   "source": [
    "### 🟡 정의\n",
    "- 각 iterable의 동일한 인덱스 요소들을 묶어 tuple로 반환합니다.\n",
    "- zip() 객체는 이터레이터이므로, 한 번 순회하면 소모됩니다. \n",
    "  - (filter, map 들과 같은 iterator)\n",
    "  - type zip <class 'zip'>\n",
    "  - list(zip()) 이렇게 되어야 결과물을 볼 수 있습니다.\n",
    "\n",
    "#### ❓ 궁금증: zip()과 extend하고 어떻게 다를까???\n",
    "| 항목        | `zip()`                                       | `extend()`                          |\n",
    "|-------------|-----------------------------------------------|-------------------------------------|\n",
    "| 목적        | 여러 iterable의 요소들을 **묶어서 튜플로 반환** | 리스트에 다른 iterable을 **풀어서 추가** |\n",
    "| 반환 값     | zip 객체 (이터레이터)                         | 반환값 없음 (`None`)                |\n",
    "| 사용 대상   | 반복 가능한 자료형 여러 개                     | 리스트 하나 + 반복 가능한 자료형    |\n",
    "| 결과 형태   | 튜플의 이터러블                               | 리스트가 길어짐 (in-place 수정)     |\n",
    "| 대표 예시   | `zip([1,2], ['a','b']) → [(1,'a'),(2,'b')]`    | `[1,2].extend([3,4]) → [1,2,3,4]`   |\n",
    "\n",
    "<br><br><br>\n",
    "\n",
    "### 🟡 형태\n",
    "```python\n",
    "# 1\n",
    "zip(iter1, iter2, ...)\n",
    "\n",
    "# 2\n",
    "zip(반복가능한 객체1, 반복가능한 객체2, ...)\n",
    "```\n",
    "\n",
    "```python\n",
    "z = zip([1, 2, 3], ['a', 'b', 'c'])\n",
    "print(type(z))  # <class 'zip'>   # iterator\n",
    "print(list(z))  # [(1, 'a'), (2, 'b'), (3, 'c')]\n",
    "```\n",
    "\n",
    "\n",
    "### 🟡 특징\n",
    "- 가장 짧은 iterable의 길이에 맞춰 동작합니다.\n",
    "- 유일하게 파이썬에서만 제공해주는 함수\n",
    "- 이것은 <class 'zip'>이라는 타입입니다. list로 변환하기 전까지는 결과를 볼 수 있습니다.\n",
    "\n",
    "- 리스트가 2 개 이상 있을 때, 2 개의 리스트를 조합해서 새로운 형태로 만들고 싶을 때 사용\n",
    "- a = [1,2,3,4,5]\n",
    "- b = [\"a\",\"b\",\"c\",\"d\",\"e\"]\n",
    "- == [(\"a,1\"),(\"b,2\"),(\"c,3\"),(\"d,4\"),(\"e,5\")]\n"
   ]
  },
  {
   "cell_type": "markdown",
   "metadata": {},
   "source": [
    "\n",
    "---\n",
    "## 🟢 예제"
   ]
  },
  {
   "cell_type": "code",
   "execution_count": 1,
   "metadata": {},
   "outputs": [
    {
     "name": "stdout",
     "output_type": "stream",
     "text": [
      "홍길동의 점수는 90점입니다.\n",
      "김철수의 점수는 85점입니다.\n",
      "이영희의 점수는 88점입니다.\n"
     ]
    }
   ],
   "source": [
    "names = ['홍길동', '김철수', '이영희']\n",
    "scores = [90, 85, 88]\n",
    "\n",
    "for name, score in zip(names, scores):\n",
    "    print(f\"{name}의 점수는 {score}점입니다.\")\n"
   ]
  },
  {
   "cell_type": "code",
   "execution_count": 2,
   "metadata": {},
   "outputs": [
    {
     "name": "stdout",
     "output_type": "stream",
     "text": [
      "<class 'zip'>\n",
      "[(1, 'a'), (2, 'b'), (3, 'c')]\n"
     ]
    }
   ],
   "source": [
    "z = zip([1, 2, 3], ['a', 'b', 'c'])\n",
    "print(type(z))  # <class 'zip'>\n",
    "print(list(z))  # [(1, 'a'), (2, 'b'), (3, 'c')]\n"
   ]
  },
  {
   "cell_type": "code",
   "execution_count": null,
   "metadata": {},
   "outputs": [
    {
     "name": "stdout",
     "output_type": "stream",
     "text": [
      "(1, 'a', 1)\n",
      "(2, 'b', 2)\n",
      "(3, 'c', 3)\n",
      "(4, 'd', 4)\n",
      "(5, 'e', 5)\n",
      "[(1, 'a'), (2, 'b'), (3, 'c'), (4, 'd'), (5, 'e')]\n"
     ]
    }
   ],
   "source": [
    "a = [1,2,3,4,5]\n",
    "b = [\"a\",\"b\",\"c\",\"d\",\"e\"]\n",
    "\n",
    "for item in zip (a,b,a) :  # 만들어진 tuple list가 for문에 하나씩 넣어지면서 출력됨\n",
    "    print(item)\n",
    "    \n",
    "ab_list = list(zip(a,b))  # 단순히 2개 묶었음.\n",
    "print(ab_list)"
   ]
  },
  {
   "cell_type": "code",
   "execution_count": null,
   "metadata": {},
   "outputs": [],
   "source": [
    "# 🟡 길이가 다를 경우, 자동으로 짧은 쪽을 기준으로 반환을 합니다.\n",
    "\n",
    "a = [1, 2, 3]\n",
    "b = ['a', 'b']\n",
    "print(list(zip(a, b)))  # [(1, 'a'), (2, 'b')] → 더 짧은 쪽 기준\n"
   ]
  },
  {
   "cell_type": "code",
   "execution_count": null,
   "metadata": {},
   "outputs": [],
   "source": [
    "# 🟡 packing / unpacking\n",
    "\n",
    "# ---------------------------------------------------------\n",
    "# zip()으로 두 리스트의 각 인덱스 요소를 묶어서 튜플의 리스트로 만듦\n",
    "zipped = list(zip([1, 2], ['a', 'b']))  \n",
    "# => [(1, 'a'), (2, 'b')] : 숫자 1과 문자 'a', 숫자 2와 문자 'b'가 각각 짝을 이룸\n",
    "print(zipped)  # [(1, 'a'), (2, 'b')]\n",
    "\n",
    "# ---------------------------------------------------------\n",
    "# * 연산자 (언패킹)를 이용해서 각 튜플의 요소를 같은 인덱스끼리 다시 모음\n",
    "# zip(*zipped)는 zip((1, 'a'), (2, 'b')) 와 같으며,\n",
    "# → 첫 번째 요소들만 모아 (1, 2), 두 번째 요소들만 모아 ('a', 'b') 생성\n",
    "a, b = zip(*zipped)\n",
    "\n",
    "# 결과 확인\n",
    "print(a)  # (1, 2) : 첫 번째 요소들만 모임\n",
    "print(b)  # ('a', 'b') : 두 번째 요소들만 모임\n"
   ]
  },
  {
   "cell_type": "code",
   "execution_count": null,
   "metadata": {},
   "outputs": [],
   "source": [
    "# 🟡 dictionary 만들기\n",
    "\n",
    "# 딕셔너리는 이런 식으로 존재하면 만들 수 있다. 그런데 zip이 이런 식으로 만들어주니깐 zip과 밀접한 관련이 있습니다.\n",
    "# pairs = [('name', 'Alice'), ('age', 30)]\n",
    "# d = dict(pairs)\n",
    "# print(d)\n",
    "# {'name': 'Alice', 'age': 30}\n",
    "\n",
    "\n",
    "keys = ['name', 'age', 'city']\n",
    "values = ['Alice', 25, 'Seoul']\n",
    "\n",
    "dict_result = dict(zip(keys, values))\n",
    "print(dict_result)\n",
    "# {'name': 'Alice', 'age': 25, 'city': 'Seoul'}\n"
   ]
  }
 ],
 "metadata": {
  "kernelspec": {
   "display_name": "aiBootCamp",
   "language": "python",
   "name": "python3"
  },
  "language_info": {
   "codemirror_mode": {
    "name": "ipython",
    "version": 3
   },
   "file_extension": ".py",
   "mimetype": "text/x-python",
   "name": "python",
   "nbconvert_exporter": "python",
   "pygments_lexer": "ipython3",
   "version": "3.10.16"
  }
 },
 "nbformat": 4,
 "nbformat_minor": 2
}
