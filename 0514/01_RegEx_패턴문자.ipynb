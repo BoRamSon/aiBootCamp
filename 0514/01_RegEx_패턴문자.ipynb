{
 "cells": [
  {
   "cell_type": "markdown",
   "metadata": {},
   "source": [
    "# 🟩 정규표현식 - 패턴 문자"
   ]
  },
  {
   "cell_type": "markdown",
   "metadata": {},
   "source": [
    "\n",
    "---\n",
    "## 🟢 [Pattern] 메타문자 `., ^, $`"
   ]
  },
  {
   "cell_type": "code",
   "execution_count": 1,
   "metadata": {},
   "outputs": [
    {
     "name": "stdout",
     "output_type": "stream",
     "text": [
      "abc - O\n",
      "abcd - X\n",
      "abc15dabc - O\n",
      " - X\n",
      "s - X\n",
      "I love kabcde - X\n"
     ]
    }
   ],
   "source": [
    "import re\n",
    "\n",
    "pattern = r'^abc'\n",
    "pattern = r'.abc'\n",
    "pattern = r'abc$'\n",
    "\n",
    "text = [\"abc\", \"abcd\", \"abc15\" \"dabc\", \"\", \"s\", \"I love kabcde\"]\n",
    "repettern = re.compile(pattern)\n",
    "\n",
    "for item in text:\n",
    "  result = repettern.search(item)\n",
    "  if result:\n",
    "    print(item, \"- O\")\n",
    "  else:\n",
    "    print(item, \"- X\")"
   ]
  },
  {
   "cell_type": "markdown",
   "metadata": {},
   "source": [
    "\n",
    "---\n",
    "## 🟢 [Pattern] 메타문자 `[]` (~중 하나여도)\n",
    "\n"
   ]
  },
  {
   "cell_type": "code",
   "execution_count": 1,
   "metadata": {},
   "outputs": [
    {
     "name": "stdout",
     "output_type": "stream",
     "text": [
      "python - O\n",
      "Python - O\n",
      "PYTHON - X\n",
      "12python - O\n",
      "python3 - O\n"
     ]
    }
   ],
   "source": [
    "import re\n",
    "\n",
    "pattern = r\"[p|P]ython\" #문장중에 python또는 Python \n",
    "text = [\"python\", \"Python\", \"PYTHON\", \"12python\", \"python3\"]\n",
    "repattern = re.compile(pattern)\n",
    "\n",
    "for item in text:\n",
    "    result = repattern.search(item) \n",
    "    #match함수는 첫 시작만을 보기때문에 적용안됨\n",
    "    if result:\n",
    "        print(item, \"- O\" )\n",
    "    else:\n",
    "        print(item, \"- X\" )\n",
    "\n"
   ]
  },
  {
   "cell_type": "code",
   "execution_count": 2,
   "metadata": {},
   "outputs": [
    {
     "name": "stdout",
     "output_type": "stream",
     "text": [
      "python - X\n",
      "Python - O\n",
      "PYTHON - O\n",
      "korea - X\n",
      "KOREA - O\n",
      "Korea - O\n"
     ]
    }
   ],
   "source": [
    "pattern = r\"[A-Z]\" #대문자가 하나라도 포함되면 \n",
    "text = [\"python\", \"Python\", \"PYTHON\", \"korea\", \"KOREA\", \"Korea\"]\n",
    "repattern = re.compile(pattern)\n",
    "\n",
    "for item in text:\n",
    "    result = repattern.search(item) \n",
    "    #match함수는 첫 시작만을 보기때문에 적용안됨\n",
    "    if result:\n",
    "        print(item, \"- O\" )\n",
    "    else:\n",
    "        print(item, \"- X\" )"
   ]
  },
  {
   "cell_type": "markdown",
   "metadata": {},
   "source": [
    "\n",
    "---\n",
    "## 🟢 [Pattern] 메타문자 = *, +, ?\n",
    "\n",
    "| 메타문자 | 의미 | 예제 | 설명 |\n",
    "|----------|------|------|-------|\n",
    "| `*`      | 0개 이상의 반복 | `ab*` | a 뒤에 0개 이상의 b |\n",
    "| `+`      | 1개 이상의 반복 | `ab+` | a 뒤에 1개 이상의 b |\n",
    "| `?`      | 0개 또는 1개 반복 | `ab?` | a 뒤에 b가 0개 또는 1개 |\n",
    "\n",
    "```python\n",
    "\n",
    "```\n"
   ]
  },
  {
   "cell_type": "code",
   "execution_count": null,
   "metadata": {},
   "outputs": [],
   "source": [
    "import re\n",
    "# ? - 없거나 하나만 있거나 \n",
    "# + - 패턴이 하나이상 반복\n",
    "# * - 없거나 하나이상 반복 \n",
    "\n",
    "patterns=[r\"\\d?\", r\"\\d+\", r\"\\d*\"]\n",
    "text = [\"abc\", \"1abc\", \"12abc\", \"123\", \"aa12ab\"]\n",
    "\n",
    "for pattern in patterns:\n",
    "    resultList=[]\n",
    "    for item in text:\n",
    "        result = re.search(pattern, item)\n",
    "        if result == None:\n",
    "            resultList.append(item+\"-X\")\n",
    "        else:\n",
    "            resultList.append(item+\"-O\")\n",
    "\n",
    "    print(resultList)"
   ]
  },
  {
   "cell_type": "markdown",
   "metadata": {},
   "source": [
    "\n",
    "---\n",
    "## 🟢 [Pattern] 메타문자 - 그룹 `()`\n",
    "\n",
    "```python\n",
    "\n",
    "```\n"
   ]
  },
  {
   "cell_type": "code",
   "execution_count": 8,
   "metadata": {},
   "outputs": [
    {
     "name": "stdout",
     "output_type": "stream",
     "text": [
      "010-1234-6789\n"
     ]
    }
   ],
   "source": [
    "import re\n",
    "\n",
    "#그룹핑\n",
    "\n",
    "contents = \"\"\"\n",
    "  문의사항이 있으면 010-1234-6789으로 연락주시기 바랍니다.\n",
    "  담당자 02-333-4444\n",
    "  국장 02-333-4445\n",
    "\"\"\"\n",
    "\n",
    "pattern = r\"\\b(\\d{2,3})-(\\d{3,4})-(\\d{4})\" # 여기를 수정했습니다.\n",
    "regex = re.compile(pattern)\n",
    "result = regex.search(contents)\n",
    "\n",
    "if result != None:\n",
    "  phone1 = result.group(1)  # 010\n",
    "  phone2 = result.group(2)  # 1234\n",
    "  phone3 = result.group(3)  # 6789\n",
    "  print(phone1, end='-')\n",
    "  print(phone2, end='-')\n",
    "  print(phone3)\n",
    "else:\n",
    "  print('전화번호가 없습니다.')\n"
   ]
  },
  {
   "cell_type": "markdown",
   "metadata": {},
   "source": [
    "\n",
    "---\n",
    "## 🟢 문제 풀어보기\n",
    "\n",
    "- 앞 3자리 - 관할세무서 번호\n",
    "- 가운데 2자리 - 사업자의 성경을 나타냄 (개인사업자 : 90~99)\n",
    "- 마지막 5자리 - 사업자용 4자리 + 검증용 1자리\n",
    "\n",
    "- 다음 데이터들로 부터 사업자 번호들을 추출하고 그 중에 개인 면세 사업자에 해단하는 사업자 번호만 출력하기 바랍니다.\n",
    "\n",
    "\n"
   ]
  },
  {
   "cell_type": "code",
   "execution_count": 24,
   "metadata": {},
   "outputs": [
    {
     "name": "stdout",
     "output_type": "stream",
     "text": [
      "['우리커피숍 100-90-12345', '영풍문고 101-91-12121', '영미청과 102-92-23451', '우리문구 104-91-24689']\n",
      "<class 'list'>\n",
      "우리커피숍 100-90-12345\n",
      "영풍문고 101-91-12121\n",
      "영미청과 102-92-23451\n",
      "우리문구 104-91-24689\n"
     ]
    }
   ],
   "source": [
    "import re\n",
    "\n",
    "contents = \"\"\"\n",
    "  우리커피숍 100-90-12345\n",
    "  영풍문고 101-91-12121\n",
    "  영미청과 102-92-23451\n",
    "  황금코인 103-89-13579\n",
    "  우리문구 104-91-24689\n",
    "  옆집회사 105-82-12345\n",
    "\"\"\"\n",
    "\n",
    "# pattern = r\"([가-힣]{4,5}) (\\d{3})-9[0-9]-(\\d{5})\"  # 내가 생각한 패턴\n",
    "pattern = r\"[a-zA-Z가-힣]+ \\d{3}-9[0-9]-\\d{5}\"   # 다른 사람이 알려준 패턴\n",
    "dict_list_result = re.findall(pattern, contents)\n",
    "\n",
    "print(dict_list_result)\n",
    "print(type(dict_list_result))\n",
    "\n",
    "for i in dict_list_result:\n",
    "  # print(type(i))\n",
    "  print(i)\n"
   ]
  },
  {
   "cell_type": "markdown",
   "metadata": {},
   "source": [
    "### 🟡 문제 같이풀어보기"
   ]
  },
  {
   "cell_type": "code",
   "execution_count": 3,
   "metadata": {},
   "outputs": [
    {
     "name": "stdout",
     "output_type": "stream",
     "text": [
      "\n",
      "100-90-12345\n",
      "101-91-12121\n",
      "102-92-23451\n",
      "104-91-24689\n",
      "\n"
     ]
    }
   ],
   "source": [
    "import re\n",
    " \n",
    "contents = \"\"\"\n",
    "    우리커피숍 100-90-12345\n",
    "    영풍문고 101-91-12121\n",
    "    영미청과 102-92-23451\n",
    "    황금코인 103-89-13579\n",
    "    우리문구 104-91-24689\n",
    "    옆집회사 105-82-12345\n",
    "\"\"\"\n",
    "\n",
    "pattern = r'\\b(\\d{3})-(\\d{2})-(\\d{5})\\b'\n",
    "regex = re.compile(pattern)\n",
    "result = regex.finditer(contents)\n",
    "print()\n",
    "for item in result:\n",
    "    if int(item.group(2))>=90 and int(item.group(2))<=99:\n",
    "        print( item.group() )\n",
    " \n",
    "print()"
   ]
  },
  {
   "cell_type": "markdown",
   "metadata": {},
   "source": [
    "### 🟡 그런데 .group()은 왜 사용하는 것입니까???\n",
    "\n",
    "pattern = r'\\b(\\d{3})-(\\d{2})-(\\d{5})\\b'   \n",
    "위 패턴은 () 그룹 메타문자를 사요하였습니다.  \n",
    "위 패턴을 통해 어떤 특정값을 찾았을 때 그것을  \n",
    "패턴 내에서 첫 번째 (), 두 번째 (), ..., N번째 ()로 묶인 부분과 일치하는 문자열을 반환합니다.  \n",
    "즉, () 그룹 메타문자를 썼지 때문에 해당 내용의 특정값만 반환할 때 사용합니다.\n",
    "\n",
    "<like this>  \n",
    "print(f\"그룹 1 (group(1)): {item.group(1)}\")               # \"100\"  \n",
    "print(f\"그룹 2 (group(2)): {item.group(2)}\")               # \"90\"  \n",
    "print(f\"그룹 3 (group(3)): {item.group(3)}\")               # \"12345\"  "
   ]
  }
 ],
 "metadata": {
  "kernelspec": {
   "display_name": "aiBootCamp1",
   "language": "python",
   "name": "python3"
  },
  "language_info": {
   "codemirror_mode": {
    "name": "ipython",
    "version": 3
   },
   "file_extension": ".py",
   "mimetype": "text/x-python",
   "name": "python",
   "nbconvert_exporter": "python",
   "pygments_lexer": "ipython3",
   "version": "3.8.19"
  }
 },
 "nbformat": 4,
 "nbformat_minor": 2
}
