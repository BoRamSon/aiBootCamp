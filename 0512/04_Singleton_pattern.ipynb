{
 "cells": [
  {
   "cell_type": "markdown",
   "id": "c896f4d1",
   "metadata": {},
   "source": [
    "# 🟩 Singleton Pattern\n",
    "\n",
    "### 🟡 객체를 하나만 만들 수 있는 클래스 (싱글톤패턴)\n",
    "- 왜 객체를 하나만 만들어야 할까?\n",
    "- 디비커넥션 풀을 만들어 사용할 때 db가 연결-읽고쓰기-연결끊기\n",
    "  - 위 과정에서 읽거나 쓰기보다는 연결과 연결 끊기가 더 많은 시간 소요.\n",
    "  - 그래서 미리 연결자를 많이 만들어놓고 연결자를 돌려쓴다.\n",
    "- 이런 기법을 풀기법이라고 한다. 이 풀은 객체 하나만 만들게 해야한다.\n",
    "\n",
    "### 🟡 왜 쓰나요?\n",
    "- 설정 정보, 데이터베이스 연결, 로깅 같은 공통 리소스는 여러 개 만들면 낭비입니다.\n",
    "- 그래서 하나만 만들고, 공유해서 사용하도록 합니다.\n",
    "\n",
    "\n",
    "```python\n",
    "\n",
    "```"
   ]
  },
  {
   "cell_type": "code",
   "execution_count": 7,
   "id": "bbfbb69e",
   "metadata": {},
   "outputs": [
    {
     "name": "stdout",
     "output_type": "stream",
     "text": [
      "*************\n",
      "*************\n"
     ]
    }
   ],
   "source": [
    "class Singleton:\n",
    "  # 객체를 하나만 만들어야 한다.\n",
    "  __instance = None   # 객체를 만들라고 하면 None이 아닐때만 객채를 만들고 \n",
    "                      # None이면 있던 객체를 반환\n",
    "\n",
    "\n",
    "  @classmethod\n",
    "  def getInstance(cls):\n",
    "    if cls.__instance == None:\n",
    "      cls.__instance = cls.__new__(cls)\n",
    "                        # 클래스를 이용해 인스턴스 만들기\n",
    "    return cls.__instance\n",
    "\n",
    "  # - 클래스 외부에서 객체를 만드는 것들 파이썬이 막을 방법이 없다.\n",
    "  # - 다른 언어들은 생성자한테도 접근권한이 있어서 이걸 private로 만들면 외부에서 객체 생성을 못한다.\n",
    "  # - 파이썬 생성자에 이미 __붙어있어서 별도로 접근 권한을 건드릴 수 없다.\n",
    "  # - 편법을 써야 한다. 데이터 말고 일을 하는 클래스들을 만들 때 좋다.\n",
    "  # - 쓸 때 없이 객체가 만들어졌다 없어쪘다 하는 걸 방지할 수 있다.\n",
    "\n",
    "  def display(self):\n",
    "    print(\"*************\")\n",
    "\n",
    "  def __init__(self):\n",
    "    # 이미 객체가 존재하면 강제 에러를 발생시킨다.\n",
    "    if Singleton.__instance is not None:\n",
    "      raise Exception(\"이 클래스는 반드시 getInstance로만 객체 생성이 가능합니다.\")\n",
    "\n",
    "\n",
    "s1 = Singleton()\n",
    "s1.display()\n",
    "s1.display()\n",
    "\n",
    "\n",
    "\n"
   ]
  },
  {
   "cell_type": "markdown",
   "id": "e4ed311e",
   "metadata": {},
   "source": [
    "- 클래스 외부에서 객체를 만드는 것들 파이썬이 막을 방법이 없다.\n",
    "- 다른 언어들은 생성자한테도 접근권한이 있어서 이걸 private로 만들면 외부에서 객체 생성을 못한다.\n",
    "- 파이썬 생성자에 이미 __붙어있어서 별도로 접근 권한을 건드릴 수 없다.\n",
    "- 편법을 써야 한다. 데이터 말고 일을 하는 클래스들을 만들 때 좋다.\n",
    "- 쓸 때 없이 객체가 만들어졌다 없어쪘다 하는 걸 방지할 수 있다."
   ]
  }
 ],
 "metadata": {
  "kernelspec": {
   "display_name": "aiBootCamp",
   "language": "python",
   "name": "python3"
  },
  "language_info": {
   "codemirror_mode": {
    "name": "ipython",
    "version": 3
   },
   "file_extension": ".py",
   "mimetype": "text/x-python",
   "name": "python",
   "nbconvert_exporter": "python",
   "pygments_lexer": "ipython3",
   "version": "3.10.16"
  }
 },
 "nbformat": 4,
 "nbformat_minor": 5
}
