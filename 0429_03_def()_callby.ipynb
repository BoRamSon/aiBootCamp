{
 "cells": [
  {
   "cell_type": "markdown",
   "metadata": {},
   "source": [
    "# 🟩 Call by Value / Call by Reference"
   ]
  },
  {
   "cell_type": "markdown",
   "metadata": {},
   "source": [
    "\n",
    "---\n",
    "## 🟢 함수 - call by value\n",
    "- 함수에 **값을 복사해서 전달**\n",
    "- 함수 내부 변경 → **원본에 영향 없음**\n",
    "- `int`, `float`, `str` 같은 **immutable 타입**"
   ]
  },
  {
   "cell_type": "code",
   "execution_count": 1,
   "metadata": {},
   "outputs": [
    {
     "name": "stdout",
     "output_type": "stream",
     "text": [
      "10\n"
     ]
    }
   ],
   "source": [
    "def toDouble(x) :   # x 라는 매개변수를 이용해서 a 에 값을 전달함\n",
    "    x = x * 2       # x 값이 2배가 되었는데 함수 외부로 값이 전달이 되는가(?)\n",
    "#    return x        # 값을 받으려면 return 코드를 사용하면 됨\n",
    "\n",
    "a = 10              # a 라는 변수와 toDouble(x) 에서의 x 변수는 서로 다른 공간\n",
    "toDouble(a)         # x 라는 변수에 값을 복사해서 함수를 수행하면서 수정된 x 값은 함수 외부에 있는 a 와는 아무런 관계가 없음 ( = call by value : 함수를 값 복사로 호출함)\n",
    "print(a)"
   ]
  },
  {
   "cell_type": "markdown",
   "metadata": {},
   "source": [
    "\n",
    "---\n",
    "## 🟢 함수 - call by referance\n",
    "\n",
    "- 함수에 **객체 참조(주소)를 전달**\n",
    "- 함수 내부 변경 → **원본에도 영향 있음**\n",
    "- `list`, `dict`, `set` 같은 **mutable 타입**\n",
    "\n",
    "- call by referance  = 함수에 값 복사가 아닌 값이 저장된 주소를 불러와 호출함\n",
    "- 리스트 타입 , 딕 타입 , 클래스 타입의 변수들은 함수에서 호출 시 call by value 가 아닌 call by referance 로 자동으로 실행되어 값이 변경됨\n",
    "- 상기 타입들은 내부 구조가 다르기에 함수 내에서 값 변환이 가능(함수에 값을 복사하여 전달하는 것이 아니고 값이 저장된 주소를 전달하기 때문에 가능)"
   ]
  },
  {
   "cell_type": "code",
   "execution_count": 1,
   "metadata": {},
   "outputs": [
    {
     "name": "stdout",
     "output_type": "stream",
     "text": [
      "{'x': 2, 'y': 4}\n"
     ]
    }
   ],
   "source": [
    "def toDouble(mydic) :\n",
    "    mydic[\"x\"] *= 2\n",
    "    mydic[\"y\"] *= 2\n",
    "    \n",
    "mydic = {\"x\" : 1 , \"y\" : 2}\n",
    "toDouble(mydic)\n",
    "print(mydic)"
   ]
  }
 ],
 "metadata": {
  "kernelspec": {
   "display_name": "aiBootCamp",
   "language": "python",
   "name": "python3"
  },
  "language_info": {
   "codemirror_mode": {
    "name": "ipython",
    "version": 3
   },
   "file_extension": ".py",
   "mimetype": "text/x-python",
   "name": "python",
   "nbconvert_exporter": "python",
   "pygments_lexer": "ipython3",
   "version": "3.10.16"
  }
 },
 "nbformat": 4,
 "nbformat_minor": 2
}
