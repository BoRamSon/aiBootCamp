{
 "cells": [
  {
   "cell_type": "markdown",
   "id": "821b9b00",
   "metadata": {},
   "source": [
    "# 🟩 표준 라이브러리 (datatime)"
   ]
  },
  {
   "cell_type": "markdown",
   "id": "debc185e",
   "metadata": {},
   "source": [
    "### 🟡 표준 라이브러리 목록\n",
    "\n",
    "| 분야         | 모듈명                            | 설명                    |\n",
    "| ---------- | ------------------------------ | --------------------- |\n",
    "| **수학**     | `math`                         | 수학 함수 (제곱근, 삼각함수 등)   |\n",
    "|            | `random`                       | 난수 생성                 |\n",
    "|            | `statistics`                   | 평균, 분산 등 통계 함수        |\n",
    "| **날짜/시간**  | `datetime`                     | 날짜와 시간 처리             |\n",
    "|            | `time`                         | 시간 측정 및 sleep 기능      |\n",
    "| **파일/OS**  | `os`                           | 운영체제 기능 사용 (폴더 생성 등)  |\n",
    "|            | `sys`                          | 파이썬 인터프리터 제어 (argv 등) |\n",
    "|            | `shutil`                       | 고수준 파일 작업 (복사, 삭제 등)  |\n",
    "| **문자열**    | `re`                           | 정규표현식                 |\n",
    "|            | `string`                       | 문자열 관련 상수/함수          |\n",
    "| **데이터 처리** | `json`                         | JSON 인코딩/디코딩          |\n",
    "|            | `csv`                          | CSV 파일 읽고 쓰기          |\n",
    "|            | `collections`                  | 리스트/딕트보다 강력한 자료구조     |\n",
    "| **압축**     | `zipfile`                      | zip 파일 압축/해제          |\n",
    "|            | `gzip`, `tarfile`              | 기타 압축 형식 지원           |\n",
    "| **웹**      | `urllib`, `http.client`        | 웹 요청 및 응답 처리          |\n",
    "| **디버깅**    | `logging`                      | 로그 출력                 |\n",
    "|            | `traceback`                    | 예외 트레이스 정보 출력         |\n",
    "| **복사**     | `copy`                         | 얕은 복사 / 깊은 복사         |\n",
    "| **병렬처리**   | `threading`, `multiprocessing` | 병렬 실행 처리              |\n",
    "| **기타**     | `functools`                    | 고차함수 관련 기능            |\n",
    "|            | `itertools`                    | 반복자 관련 유틸             |\n",
    "|            | `enum`                         | 열거형 상수 사용             |\n",
    "|            | `math`, `decimal`, `fractions` | 숫자 정밀도 계산             |\n"
   ]
  },
  {
   "cell_type": "markdown",
   "id": "971d963a",
   "metadata": {},
   "source": [
    "## 🟢 datatime 들어가기\n",
    "\n",
    "```python\n",
    "\n",
    "```"
   ]
  },
  {
   "cell_type": "code",
   "execution_count": null,
   "id": "ba1728d7",
   "metadata": {},
   "outputs": [
    {
     "name": "stdout",
     "output_type": "stream",
     "text": [
      "477 days, 0:00:00\n",
      "477\n",
      "18 days, 0:00:00\n",
      "18\n"
     ]
    }
   ],
   "source": [
    "import datetime\n",
    "day1 = datetime.date(2021, 12, 14)\n",
    "day2 = datetime.date(2023, 4, 5)\n",
    "\n",
    "\n",
    "diff = day2 - day1  # timedelta 객체로 바뀌고 날짜를 갖고 있다.\n",
    "print(diff)  # tuple로 반환한다.\n",
    "print(diff.days)\n",
    "\n"
   ]
  },
  {
   "cell_type": "markdown",
   "id": "53eb22e7",
   "metadata": {},
   "source": [
    "#### 🟡 깨알 문제 - 오늘부터 말일까지 몇일 남았는가.\n",
    "\n",
    "```python\n",
    "\n",
    "```\n"
   ]
  },
  {
   "cell_type": "code",
   "execution_count": null,
   "id": "096a1196",
   "metadata": {},
   "outputs": [],
   "source": [
    "# 깨알 문제 - 말일까지 몇일 남았는가.\n",
    "day3= datetime.date(2025, 5, 13)\n",
    "day4 = datetime.date(2025, 5, 31)\n",
    "\n",
    "diff2 = day4 - day3  # timedelta 객체로 바뀌고 날짜를 갖고 있다.\n",
    "print(diff2)  # tuple로 반환한다.\n",
    "print(diff2.days)\n"
   ]
  },
  {
   "cell_type": "markdown",
   "id": "181810eb",
   "metadata": {},
   "source": [
    "#### 🟡 깨알 문제 같이 풀어보기 - 오늘부터 말일까지 몇일 남았는가.\n",
    "\n",
    "```python\n",
    "\n",
    "```\n"
   ]
  },
  {
   "cell_type": "code",
   "execution_count": null,
   "id": "73b705e4",
   "metadata": {},
   "outputs": [
    {
     "name": "stdout",
     "output_type": "stream",
     "text": [
      "31\n",
      "18\n"
     ]
    }
   ],
   "source": [
    "import calendar\n",
    "from datetime import date\n",
    "\n",
    "# \n",
    "today = date.today()\n",
    "year = today.year\n",
    "month = today.month\n",
    "\n",
    "# tuple 해당 월의 첫째날과 마지막날\n",
    "last_day = calendar.monthrange(year, month)[1]  # index로 2번째 꺼인 마지막날만 가져옴\n",
    "print(last_day)\n",
    "\n",
    "# 완성된 2025년 5월 31일에서 오늘을 빼면 남은 일수를 확인할 수 있습니다.\n",
    "day1 = datetime.date(year, month, last_day)\n",
    "print( (day1 - today).days )"
   ]
  },
  {
   "cell_type": "markdown",
   "id": "21c273d5",
   "metadata": {},
   "source": [
    "\n",
    "---\n",
    "## 🟢 문제 풀기 - 오늘은 무슨 요일인지\n",
    "\n",
    "- 0,1,2,3,4,5,6  월,화,수,목,금,토,일\n",
    "- 날짜를 입력을 받아서 그날이 무슨 요일인지 반환하는 함수 만들기\n",
    "\n",
    "```python\n",
    "print(today)\n",
    "print(type(today.weekday()), end='  ')\n",
    "print('오늘은 무슨 요일? =', today.weekday())  # 이걸 사용하면 |||0,1,2,3,4,5,6 | 월,화,수,목,금,토,일||| 이런식으로 번호로 출력합니다. 이걸 받아서 지정해주면 됩니다.\n",
    "```"
   ]
  },
  {
   "cell_type": "code",
   "execution_count": null,
   "id": "d46d9477",
   "metadata": {},
   "outputs": [
    {
     "name": "stdout",
     "output_type": "stream",
     "text": [
      "<class 'int'>  오늘은 무슨 요일? = 1\n",
      "화요일\n"
     ]
    }
   ],
   "source": [
    "from datetime import datetime\n",
    "\n",
    "def is_week(date):\n",
    "  week_list = ['월요일', '화요일', '수요일', '목요일', '금요일', '토요일', '일요일']\n",
    "  date_result = datetime.strptime(date, '%Y-%m-%d')  \n",
    "  return week_list[date_result.weekday()]\n",
    "\n",
    "# input_date_string = input('날짜를 입력해주세요 (ex. 2025-05-13) : ')\n",
    "input_date_string = '2025-05-13'\n",
    "\n",
    "print(is_week(input_date_string))\n",
    "\n"
   ]
  },
  {
   "cell_type": "markdown",
   "id": "196afc76",
   "metadata": {},
   "source": [
    "#### 🟡 [공부] datetime.strptime(date_string, format)\n",
    "\n",
    "- 매개변수 2개는 반드시 써야하며, 포맷도 정확하게 맞게 입력해야합니다.\n",
    "  - like this  =>  datetime.strptime(\"2025-05-13\", \"%Y-%m-%d\")\n",
    "\n",
    "##### ⚫️ data_string\n",
    "| 문자열 예시           | format 문자열      | 설명            |\n",
    "| ---------------- | --------------- | ------------- |\n",
    "| `\"2025-05-13\"`   | `\"%Y-%m-%d\"`    | ISO 형식 날짜     |\n",
    "| `\"13/05/2025\"`   | `\"%d/%m/%Y\"`    | 유럽식 형식        |\n",
    "| `\"05-13-2025\"`   | `\"%m-%d-%Y\"`    | 미국식 형식        |\n",
    "| `\"2025년 5월 13일\"` | `\"%Y년 %m월 %d일\"` | 한글 날짜 형식      |\n",
    "| `\"13 May 2025\"`  | `\"%d %B %Y\"`    | 영어 월 전체 이름 사용 |\n",
    "| `\"13 May, 25\"`   | `\"%d %B, %y\"`   | 2자리 연도 사용     |\n",
    "\n",
    "##### ⚫️ format\n",
    "| 코드   | 의미         | 예시       |\n",
    "| ---- | ---------- | -------- |\n",
    "| `%Y` | 연도 (4자리)   | 2025     |\n",
    "| `%y` | 연도 (2자리)   | 25       |\n",
    "| `%m` | 월 (2자리)    | 01 \\~ 12 |\n",
    "| `%d` | 일 (2자리)    | 01 \\~ 31 |\n",
    "| `%H` | 시간 (24시간제) | 00 \\~ 23 |\n",
    "| `%M` | 분          | 00 \\~ 59 |\n",
    "| `%S` | 초          | 00 \\~ 59 |\n"
   ]
  }
 ],
 "metadata": {
  "kernelspec": {
   "display_name": "aiBootCamp",
   "language": "python",
   "name": "python3"
  },
  "language_info": {
   "codemirror_mode": {
    "name": "ipython",
    "version": 3
   },
   "file_extension": ".py",
   "mimetype": "text/x-python",
   "name": "python",
   "nbconvert_exporter": "python",
   "pygments_lexer": "ipython3",
   "version": "3.10.16"
  }
 },
 "nbformat": 4,
 "nbformat_minor": 5
}
