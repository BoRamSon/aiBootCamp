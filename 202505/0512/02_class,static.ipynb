{
 "cells": [
  {
   "cell_type": "markdown",
   "id": "cb777fcd",
   "metadata": {},
   "source": [
    "# 🟩 class method와 static method 에 대해서"
   ]
  },
  {
   "cell_type": "markdown",
   "id": "3effba4b",
   "metadata": {},
   "source": [
    "\n",
    "---\n",
    "## 🟢 class method"
   ]
  },
  {
   "cell_type": "code",
   "execution_count": null,
   "id": "ed13fef3",
   "metadata": {},
   "outputs": [],
   "source": [
    "class Book:\n",
    "  total_books = 0  # 클래스 변수\n",
    "\n",
    "  def __init__(self, title, price):\n",
    "    self.title = title\n",
    "    self.price = price\n",
    "    Book.total_books += 1\n",
    "\n",
    "  @staticmethod\n",
    "  def calculate_discount_price(price, rate):\n",
    "    \"\"\"정적 메서드: 단순 계산 로직, 클래스/인스턴스와 무관\"\"\"\n",
    "    return price * (1 - rate)\n",
    "\n",
    "  @classmethod\n",
    "  def get_total_books(cls):\n",
    "    \"\"\"클래스 메서드: 클래스 변수 접근\"\"\"\n",
    "    return cls.total_books\n",
    "\n",
    "\n",
    "# 인스턴스 생성\n",
    "book1 = Book(\"Python Basics\", 15000)\n",
    "book2 = Book(\"Advanced Python\", 20000)\n",
    "\n",
    "# 정적 메서드 사용 (할인 가격 계산)\n",
    "discounted = Book.calculate_discount_price(20000, 0.1)\n",
    "print(f\"할인가: {discounted}원\")  # 할인가: 18000.0원\n",
    "\n",
    "# 클래스 메서드 사용 (책 수 세기)\n",
    "print(f\"총 책 수: {Book.get_total_books()}권\")  # 총 책 수: 2권"
   ]
  },
  {
   "cell_type": "code",
   "execution_count": null,
   "id": "72eea57d",
   "metadata": {},
   "outputs": [
    {
     "name": "stdout",
     "output_type": "stream",
     "text": [
      "9\n",
      "-1\n"
     ]
    }
   ],
   "source": [
    "# 사칙연산 관련 class를 만들어보자\n",
    "# 공통 데이터 공간을 두고\n",
    "\n",
    "class Calculator:\n",
    "  def __init__(self, x=0, y=0):\n",
    "    self.x = x  \n",
    "    self.y = y  \n",
    "\n",
    "  def add(self):\n",
    "    return self.x + self.y\n",
    "\n",
    "  def sub(self):\n",
    "    return self.x - self.y\n",
    "\n",
    "c1 = Calculator(4, 5)\n",
    "print(c1.add())\n",
    "print(c1.sub())\n",
    "\n"
   ]
  },
  {
   "cell_type": "code",
   "execution_count": null,
   "id": "9be602dd",
   "metadata": {},
   "outputs": [
    {
     "name": "stdout",
     "output_type": "stream",
     "text": [
      "7\n",
      "-2\n"
     ]
    }
   ],
   "source": [
    "# 사칙연산 관련 class를 만들어보자\n",
    "# 공통 데이터 없이\n",
    "\n",
    "class Calculator2:\n",
    "  # def __init__(self, x=0, y=0):   # 이걸 안쓰고\n",
    "  #   self.x = x  \n",
    "  #   self.y = y  \n",
    "\n",
    "  def add(self, x, y):   # 🔥 쓸 때 없이 self를 넣어야 하는게 그지 같다.\n",
    "    return x + y\n",
    "\n",
    "  def sub(self, x, y):\n",
    "    return x - y\n",
    "\n",
    "c2 = Calculator2()\n",
    "print(c2.add(3, 4))\n",
    "print(c2.sub(3, 5))\n",
    "\n"
   ]
  },
  {
   "cell_type": "markdown",
   "id": "3516a80d",
   "metadata": {},
   "source": [
    "\n",
    "---\n",
    "## 🟢 static method"
   ]
  },
  {
   "cell_type": "markdown",
   "id": "23de5be2",
   "metadata": {},
   "source": [
    "\n",
    "- 데코레이터라고 하며 staticmethod 데코레이터라고 부른다.\n",
    "- staticmethod는 객체와 아무런 관계가 없다.\n",
    "- self도 매개변수로 갖지 못한다.\n",
    "- 사용목적: 객체 안만들고 특정메서드를 사용하고 싶다.\n",
    "\n",
    "- 장점\n",
    "  - self를 쓸 필요가 없다.\n",
    "\n",
    "- math가 수학함수들 갖고 있음.. cosin, sin, round....\n",
    "- 웹개발을 할 때 게시글 : <h1>Hi Hello</h1>\n",
    "\n",
    "#### 디비에 접근해야하는 코드를 각각의 클래스가 소유할 경우 문제점\n",
    "  1. 디비 아이피 바뀌었을 때, 아이디 패스워드 바뀌면 모든 클래스를 다 바꾸는 문제가 발생, 보안도 걸린다. 패스워드가 드러나게하면 안된다.\n",
    "  2. static method나 class method로 구성된 클래스를 만들어서 사용하는 것이 바람직하다. \n",
    "  3. static method 단점이 클래스 변수를 못 건드린다는 것 그래서 class method를 사용해야한다.\n",
    "  4. static method는 함수들간에 기능적 유기성은 있지만, 데이터가 필요없을 때 유용하다.\n",
    "  5. class method는 매개변수 cls를 갖고 다닌다.\n",
    "  6. class 변수에 접근 가능하다.\n"
   ]
  },
  {
   "cell_type": "code",
   "execution_count": null,
   "id": "50dd2e33",
   "metadata": {},
   "outputs": [
    {
     "name": "stdout",
     "output_type": "stream",
     "text": [
      "9\n",
      "-1\n",
      "20\n"
     ]
    }
   ],
   "source": [
    "class Calculator3:\n",
    "  @staticmethod  # 자바에서는 어노테이션이라고 부르지만, 파이썬은 데코레이터라고 부른다.\n",
    "  def add(x, y):\n",
    "    return x + y\n",
    "\n",
    "  @staticmethod\n",
    "  def sub(x, y):\n",
    "    return x - y\n",
    "  \n",
    "  # 🔥 classmethod는 첫번째 매개변수가 무조건 cls입니다.\n",
    "  # cls를 사용하던 말던 매개변수로 전달은 반드시 필요하다.\n",
    "  @classmethod\n",
    "  def mul(cls, x, y):  \n",
    "    return x * y\n",
    "\n",
    "# c3 = Calculator3()   # static메서드는 이렇게 접근하지 않는다.\n",
    "# print(c3.add(3, 4))\n",
    "# print(c3.sub(3, 5))\n",
    "\n",
    "print(Calculator3.add(4, 5))   # 이런식으로 간편하게 접근하기 위해 사용합니다.\n",
    "print(Calculator3.sub(4, 5))\n",
    "print(Calculator3.mul(4, 5))\n",
    "\n",
    "\n"
   ]
  },
  {
   "cell_type": "code",
   "execution_count": null,
   "id": "f402440c",
   "metadata": {},
   "outputs": [],
   "source": [
    "class TemperatureConverter:\n",
    "    \"\"\"섭씨 <-> 화씨 변환: 클래스나 인스턴스 상태와 무관\"\"\"\n",
    "\n",
    "    @staticmethod\n",
    "    def celsius_to_fahrenheit(celsius):\n",
    "        return celsius * 9/5 + 32\n",
    "\n",
    "    @staticmethod\n",
    "    def fahrenheit_to_celsius(fahrenheit):\n",
    "        return (fahrenheit - 32) * 5/9\n",
    "\n",
    "\n",
    "# 사용 예시\n",
    "print(\"=== staticmethod 예시 ===\")\n",
    "print(\"섭씨 25도 -> 화씨:\", TemperatureConverter.celsius_to_fahrenheit(25))\n",
    "print(\"화씨 77도 -> 섭씨:\", TemperatureConverter.fahrenheit_to_celsius(77))"
   ]
  },
  {
   "cell_type": "code",
   "execution_count": 8,
   "id": "e0515195",
   "metadata": {},
   "outputs": [
    {
     "name": "stdout",
     "output_type": "stream",
     "text": [
      "<class '__main__.Test'>\n",
      "None\n"
     ]
    }
   ],
   "source": [
    "class Test:\n",
    "    @classmethod\n",
    "    def hello(cls):\n",
    "        print(cls)\n",
    "\n",
    "print(Test.hello())        \n"
   ]
  }
 ],
 "metadata": {
  "kernelspec": {
   "display_name": "aiBootCamp",
   "language": "python",
   "name": "python3"
  },
  "language_info": {
   "codemirror_mode": {
    "name": "ipython",
    "version": 3
   },
   "file_extension": ".py",
   "mimetype": "text/x-python",
   "name": "python",
   "nbconvert_exporter": "python",
   "pygments_lexer": "ipython3",
   "version": "3.10.16"
  }
 },
 "nbformat": 4,
 "nbformat_minor": 5
}
