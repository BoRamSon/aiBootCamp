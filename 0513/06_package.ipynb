{
 "cells": [
  {
   "cell_type": "markdown",
   "id": "a34febe5",
   "metadata": {},
   "source": [
    "# 🟩 Package"
   ]
  },
  {
   "cell_type": "markdown",
   "id": "d0fc033b",
   "metadata": {},
   "source": [
    "- package 폴더를 하나 만듭니다. (mypackage1)\n",
    "- 만들었던 module 파일(use mymodel})을\n",
    "- \\__init__.py 를 만들고,\n",
    "  - print(\"여기가 패키지 시작입니다.\") 라는 print도 만듭니다."
   ]
  },
  {
   "cell_type": "code",
   "execution_count": null,
   "id": "f1c60cad",
   "metadata": {},
   "outputs": [],
   "source": [
    "from mypackage1.mymodule2 import isEven, to_upper\n",
    "print(isEven(10))\n",
    "print(to_upper('korea'))"
   ]
  },
  {
   "cell_type": "markdown",
   "id": "32460edd",
   "metadata": {},
   "source": [
    "## 🟢 \\__init__.py 의 용도\n",
    "\n",
    "```markdown\n",
    "mypackage/\n",
    "│\n",
    "├── \\__init__.py\n",
    "├── module1.py\n",
    "└── module2.py\n",
    "\n",
    "```\n",
    "\n",
    "- \\__init__.py는 파이썬 패키지의 초기화 파일로, 특정 디렉토리를 패키지로 인식시키기 위해 사용됩니다.\n",
    "- 이 파일은 해당 디렉토리가 \"패키지\"라는 신호를 파이썬에게 줍니다.\n"
   ]
  }
 ],
 "metadata": {
  "kernelspec": {
   "display_name": "aiBootCamp",
   "language": "python",
   "name": "python3"
  },
  "language_info": {
   "name": "python",
   "version": "3.10.16"
  }
 },
 "nbformat": 4,
 "nbformat_minor": 5
}
