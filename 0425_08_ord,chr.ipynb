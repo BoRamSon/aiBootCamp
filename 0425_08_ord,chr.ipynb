{
 "cells": [
  {
   "cell_type": "markdown",
   "metadata": {},
   "source": [
    "\n",
    "\n",
    "---\n",
    "## 🟢 ord()\n",
    "\n",
    "문자(한 글자)를 넣으면 해당 문자의 **유니코드 정수값(아스키코드 포함)**을 반환합니다.\n",
    "문자 >> 숫자"
   ]
  },
  {
   "cell_type": "code",
   "execution_count": 6,
   "metadata": {},
   "outputs": [
    {
     "name": "stdout",
     "output_type": "stream",
     "text": [
      "65\n",
      "66\n",
      "97\n",
      "48\n",
      "49\n"
     ]
    }
   ],
   "source": [
    "print(ord('A'))\n",
    "print(ord('B'))\n",
    "print(ord('a'))\n",
    "print(ord('0'))\n",
    "print(ord('1'))"
   ]
  },
  {
   "cell_type": "markdown",
   "metadata": {},
   "source": [
    "\n",
    "---\n",
    "## 🟢 chr()\n",
    "\n",
    "정수값을 넣으면 해당 유니코드 번호에 해당하는 문자를 반환합니다.\n",
    "숫자 >> 문자"
   ]
  },
  {
   "cell_type": "code",
   "execution_count": 5,
   "metadata": {},
   "outputs": [
    {
     "name": "stdout",
     "output_type": "stream",
     "text": [
      "1\n",
      "A\n"
     ]
    }
   ],
   "source": [
    "print(chr(49))\n",
    "print(chr(65))\n"
   ]
  },
  {
   "cell_type": "markdown",
   "metadata": {},
   "source": [
    "\n",
    "---\n",
    "## 🟢 문제 \n",
    "아스키코드를 통해 대문자 A~Z를 출력하시오!"
   ]
  },
  {
   "cell_type": "code",
   "execution_count": 4,
   "metadata": {},
   "outputs": [
    {
     "name": "stdout",
     "output_type": "stream",
     "text": [
      "A B C D E F G H I J K L M N O P Q R S T U V W X Y Z "
     ]
    }
   ],
   "source": [
    "for i in range(65, 91):\n",
    "  print(chr(i), end=' ')\n"
   ]
  },
  {
   "cell_type": "code",
   "execution_count": null,
   "metadata": {},
   "outputs": [],
   "source": [
    "# <정답>\n",
    "\n",
    "for i in range(ord('A'), ord('Z')+1):\n",
    "  print()\n"
   ]
  },
  {
   "cell_type": "markdown",
   "metadata": {},
   "source": [
    "\n",
    "---\n",
    "## 🟢 어려운 문제 1"
   ]
  },
  {
   "cell_type": "code",
   "execution_count": null,
   "metadata": {},
   "outputs": [
    {
     "name": "stdout",
     "output_type": "stream",
     "text": [
      "a는 3개\n",
      "a는 3개\n",
      "a는 3개\n",
      "A는 2개\n",
      "A는 2개\n",
      "b는 2개\n",
      "b는 2개\n",
      "c는 3개\n",
      "c는 3개\n",
      "c는 3개\n",
      "d는 2개\n",
      "d는 2개\n"
     ]
    }
   ],
   "source": [
    "# 🟡 첫 시도 \n",
    "\n",
    "inputString = 'aaaAAbbcccdd'\n",
    "\n",
    "# def same(i,x):\n",
    "#   for it\n",
    "#     if i == x:\n",
    "#       return True\n",
    "\n",
    "for i in inputString:\n",
    "  # check_list = []\n",
    "  # if same(i, check_list):\n",
    "  #   continue\n",
    "  # else:\n",
    "  #   check_list.append(i)\n",
    "    \n",
    "  nums = inputString.count(i)\n",
    "  print(f'{i}는 {nums}개')\n",
    "  \n"
   ]
  },
  {
   "cell_type": "code",
   "execution_count": null,
   "metadata": {},
   "outputs": [],
   "source": [
    "# 🟡 같이 풀어보기 1\n",
    "\n",
    "#키보드로부터 문장을 입력받아서  각 문자의 개수 \n",
    "#  A  ===> 5       대소문자 구분하지 않고 \n",
    "#  B  ===> 0   조건식 and 조건식   조건식 or 조건식 \n",
    "\n",
    "count =[0,0,0,0,0, 0,0,0,0,0,\n",
    "        0,0,0,0,0, 0,0,0,0,0,\n",
    "        0,0,0,0,0,0]\n",
    "\n",
    "# sentence = input(\"문장 : \")\n",
    "sentence = 'aaaAAbbcccdd'\n",
    "\n",
    "for i in sentence: #한글자씩 가져온다\n",
    "    if ord(i)>=ord('A') and ord(i)<=ord('Z'):\n",
    "        count[ord(i)-ord('A')]+=1 \n",
    "    elif ord(i)>=ord('a') and ord(i)<=ord('z'):\n",
    "        count[ord(i)-ord('a')]+=1\n",
    "    \n",
    "for i in range(0,len(count)):\n",
    "    print( chr(i+ord('A')), \"===>\" , count[i])\n",
    "print() \n",
    "\n",
    "\n"
   ]
  },
  {
   "cell_type": "code",
   "execution_count": null,
   "metadata": {},
   "outputs": [],
   "source": [
    "# 🟡 같이 풀어보기 2\n",
    "# dict 타입 - 'A'존재 안하면 하나 만들고 1 존재하면 +1\n",
    "\n",
    "sentence = 'aaaAAbbcccdd'\n",
    "\n",
    "result = {}  # result = dict()\n",
    "for i in sentence.lower():\n",
    "  if i in result.keys():\n",
    "    result[i] += 1\n",
    "  else:\n",
    "    result[i] = 1\n",
    "\n",
    "for item in result.items():\n",
    "  print(item)\n"
   ]
  }
 ],
 "metadata": {
  "kernelspec": {
   "display_name": "aiBootCamp",
   "language": "python",
   "name": "python3"
  },
  "language_info": {
   "codemirror_mode": {
    "name": "ipython",
    "version": 3
   },
   "file_extension": ".py",
   "mimetype": "text/x-python",
   "name": "python",
   "nbconvert_exporter": "python",
   "pygments_lexer": "ipython3",
   "version": "3.10.16"
  }
 },
 "nbformat": 4,
 "nbformat_minor": 2
}
