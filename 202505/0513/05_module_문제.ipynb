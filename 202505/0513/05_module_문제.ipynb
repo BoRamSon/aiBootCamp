{
 "cells": [
  {
   "cell_type": "markdown",
   "id": "c4f62443",
   "metadata": {},
   "source": [
    "## 🟢 문제\n",
    "- isEven(4) 를 통해 짝수면 True 홀수면 False 반환\n",
    "- toUpper('asteisk')  대문자로 반환 -> ASTERRISK"
   ]
  },
  {
   "cell_type": "code",
   "execution_count": null,
   "id": "d3910a60",
   "metadata": {},
   "outputs": [
    {
     "name": "stdout",
     "output_type": "stream",
     "text": [
      "True\n"
     ]
    },
    {
     "data": {
      "text/plain": [
       "'ASTERISK'"
      ]
     },
     "execution_count": 9,
     "metadata": {},
     "output_type": "execute_result"
    }
   ],
   "source": [
    "def isEven(a):\n",
    "  if a % 2 == 0:\n",
    "    return \n",
    "  return False\n",
    "\n",
    "print(isEven(4))\n",
    "\n",
    "\n",
    "def to_upper(a):\n",
    "  return a.upper()\n",
    "\n",
    "to_upper('asterisk')"
   ]
  },
  {
   "cell_type": "code",
   "execution_count": null,
   "id": "8fa5bf18",
   "metadata": {},
   "outputs": [
    {
     "data": {
      "text/plain": [
       "'ASTERISK'"
      ]
     },
     "execution_count": 17,
     "metadata": {},
     "output_type": "execute_result"
    }
   ],
   "source": [
    "# 노가다로 구현하시라구요.\n",
    "\n",
    "def to_upper2(a):\n",
    "  for i in a:\n",
    "    # ord('a') - ord('A')  # 97 - 65 = 32 만큼의 차이가 있습니다.\n",
    "    print(chr(ord(i) - 32), end='')\n",
    "\n",
    "# to_upper2('asterisk')\n",
    "\n",
    "\n",
    "# 소문자만 들어온다는 정해진 룰이 없잖아요.\n",
    "def to_upper3(a):\n",
    "  temp = \"\"\n",
    "  for i in a:\n",
    "    if ord(i) >= ord('a') and ord(i) <= ord('z'):  # 소문자 안에 포함될 때 / 즉 소문자 일 때\n",
    "        i = chr(ord(i)-32)\n",
    "    temp = temp + i   # 바로바로 출력하지 않고, temp에 함께 모아서 출력한다.\n",
    "  return temp\n",
    "  \n",
    "to_upper3('asterISk')  # 소문자 대문자 섞어서 넣기"
   ]
  },
  {
   "cell_type": "markdown",
   "id": "4cba59ac",
   "metadata": {},
   "source": [
    "#### 🟡 위에 구현한 함수를 새로운 파일을 만들어서 module 형태로 사용해보기!!!"
   ]
  },
  {
   "cell_type": "code",
   "execution_count": null,
   "id": "80cd462c",
   "metadata": {},
   "outputs": [
    {
     "name": "stdout",
     "output_type": "stream",
     "text": [
      "True\n",
      "False\n",
      "ASTERTISK\n",
      "LIFT IS EGG\n"
     ]
    }
   ],
   "source": [
    "# ✅ useModule2.py 파일을 하나 만든다.\n",
    "# ✅ import 문제 풀던 py 파일\n",
    "\n",
    "print( isEven(4))\n",
    "print( isEven(7))\n",
    "\n",
    "print( to_upper3(\"astertisK\"))\n",
    "print( to_upper3(\"Lift is egg\"))\n"
   ]
  }
 ],
 "metadata": {
  "kernelspec": {
   "display_name": "aiBootCamp",
   "language": "python",
   "name": "python3"
  },
  "language_info": {
   "codemirror_mode": {
    "name": "ipython",
    "version": 3
   },
   "file_extension": ".py",
   "mimetype": "text/x-python",
   "name": "python",
   "nbconvert_exporter": "python",
   "pygments_lexer": "ipython3",
   "version": "3.10.16"
  }
 },
 "nbformat": 4,
 "nbformat_minor": 5
}
