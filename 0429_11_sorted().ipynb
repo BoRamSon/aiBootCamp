{
 "cells": [
  {
   "cell_type": "markdown",
   "metadata": {},
   "source": [
    "# 🟩 sorted()"
   ]
  },
  {
   "cell_type": "markdown",
   "metadata": {},
   "source": [
    "| 항목       | `list.sort()`                         | `sorted()`                                 |\n",
    "|------------|----------------------------------------|---------------------------------------------|\n",
    "| 적용 대상  | 리스트만 가능                          | 반복 가능한 모든 자료형 (`list`, `tuple`, ...) |\n",
    "| 결과       | 원본을 직접 정렬 (in-place)            | 새로운 정렬된 리스트를 반환                 |\n",
    "| 리턴값     | `None`                                | 정렬된 새 리스트                             |\n"
   ]
  },
  {
   "cell_type": "markdown",
   "metadata": {},
   "source": [
    "\n",
    "### 🟡 정의\n",
    "- sorted()는 반복 가능한(iterable) 객체를 정렬된 리스트로 반환하는 내장 함수입니다.\n",
    "- 원본을 변경하지 않고, 새로운 리스트를 반환합니다.\n",
    "\n",
    "\n",
    "### 🟡 기본 구조 (형태)\n",
    "```python\n",
    "sorted(iterable, *, key=None, reverse=False)\n",
    "```\n",
    "| 인자      | 설명                                                         |\n",
    "|-----------|--------------------------------------------------------------|\n",
    "| `iterable` | 리스트, 튜플, 문자열, 딕셔너리 등 반복 가능한 자료형           |\n",
    "| `key`     | 정렬 기준 함수 (`lambda`, `len`, `str.lower` 등)              |\n",
    "| `reverse` | `True`면 내림차순, 기본은 `False` (오름차순)                  |\n"
   ]
  },
  {
   "cell_type": "markdown",
   "metadata": {},
   "source": [
    "\n",
    "---\n",
    "## 🟢 예제"
   ]
  },
  {
   "cell_type": "code",
   "execution_count": null,
   "metadata": {},
   "outputs": [],
   "source": [
    "# 🟡 원본을 바꾸지 않는다. 바꾼 값을 따로 저장한다. 즉 return이 있다.\n",
    "nums = [5, 2, 9, 1]\n",
    "sorted_nums = sorted(nums)\n",
    "print(sorted_nums)  # [1, 2, 5, 9]\n",
    "print(nums)         # [5, 2, 9, 1] (원본 유지)\n"
   ]
  },
  {
   "cell_type": "code",
   "execution_count": null,
   "metadata": {},
   "outputs": [],
   "source": [
    "# 🟡 문자열 리스트 정렬\n",
    "words1 = ['banana', 'apple', 'cherry']\n",
    "print(sorted(words1))  # ['apple', 'banana', 'cherry']\n"
   ]
  },
  {
   "cell_type": "code",
   "execution_count": null,
   "metadata": {},
   "outputs": [],
   "source": [
    "# 🟡 단순 reverse=True\n",
    "words2 = ['banana', 'apple', 'cherry']\n",
    "print(sorted(words2, reverse=True))  # ['cherry', 'banana', 'apple']\n"
   ]
  },
  {
   "cell_type": "code",
   "execution_count": null,
   "metadata": {},
   "outputs": [],
   "source": [
    "# 🟡 문자열 길이 기준 정렬 (key 사용)\n",
    "words3 = ['banana', 'apple', 'cherry']\n",
    "print(sorted(words3, key=len))  # ['apple', 'banana', 'cherry']\n"
   ]
  },
  {
   "cell_type": "code",
   "execution_count": null,
   "metadata": {},
   "outputs": [],
   "source": [
    "# 🟡 문자열, 튜플에도 사용 가능\n",
    "\n",
    "print(sorted(\"python\"))    # ['h', 'n', 'o', 'p', 't', 'y']\n",
    "print(sorted((3, 1, 2)))    # [1, 2, 3]"
   ]
  },
  {
   "cell_type": "code",
   "execution_count": null,
   "metadata": {},
   "outputs": [],
   "source": [
    "# 🟡 딕셔너리 해보기\n",
    "\n",
    "d = {'b': 2, 'c': 3, 'a': 1}\n",
    "\n",
    "# 키 기준\n",
    "print(sorted(d.items()))  \n",
    "# [('a', 1), ('b', 2), ('c', 3)]\n",
    "\n",
    "# 값 기준\n",
    "print(sorted(d.items(), key=lambda x: x[1]))\n",
    "# [('a', 1), ('b', 2), ('c', 3)]\n"
   ]
  },
  {
   "cell_type": "code",
   "execution_count": null,
   "metadata": {},
   "outputs": [],
   "source": [
    "# 🟡 사용자 정의 객체 정렬 (딕셔너리 리스트 등)\n",
    "\n",
    "students = [\n",
    "  {\"name\": \"홍길동\", \"age\": 23},\n",
    "  {\"name\": \"김철수\", \"age\": 21},\n",
    "  {\"name\": \"이영희\", \"age\": 25}\n",
    "]\n",
    "\n",
    "# 나이 기준 정렬\n",
    "sorted_students = sorted(students, key=lambda x: x[\"age\"])\n"
   ]
  },
  {
   "cell_type": "code",
   "execution_count": null,
   "metadata": {},
   "outputs": [
    {
     "name": "stdout",
     "output_type": "stream",
     "text": [
      "[{'name': '홍길동', 'age': 34, 'phone': '010-0000-0001'}, {'name': '정발산', 'age': 70, 'phone': '010-0000-0005'}, {'name': '강감찬', 'age': 54, 'phone': '010-0000-0003'}, {'name': '이순신', 'age': 30, 'phone': '010-0000-0002'}, {'name': '김종서', 'age': 27, 'phone': '010-0000-0008'}, {'name': '장영실', 'age': 66, 'phone': '010-0000-0006'}, {'name': '서희', 'age': 75, 'phone': '010-0000-0001'}, {'name': '곽재우', 'age': 41, 'phone': '010-0000-0009'}]\n",
      "[{'name': '강감찬', 'age': 54, 'phone': '010-0000-0003'}, {'name': '곽재우', 'age': 41, 'phone': '010-0000-0009'}, {'name': '김종서', 'age': 27, 'phone': '010-0000-0008'}, {'name': '서희', 'age': 75, 'phone': '010-0000-0001'}, {'name': '이순신', 'age': 30, 'phone': '010-0000-0002'}, {'name': '장영실', 'age': 66, 'phone': '010-0000-0006'}, {'name': '정발산', 'age': 70, 'phone': '010-0000-0005'}, {'name': '홍길동', 'age': 34, 'phone': '010-0000-0001'}]\n"
     ]
    }
   ],
   "source": [
    "# 🟡 dict list 정렬\n",
    "person_list = [\n",
    "    {\"name\" : \"홍길동\" , \"age\" : 34 , \"phone\" : \"010-0000-0001\"},\n",
    "    {\"name\" : \"정발산\" , \"age\" : 70 , \"phone\" : \"010-0000-0005\"},\n",
    "    {\"name\" : \"강감찬\" , \"age\" : 54 , \"phone\" : \"010-0000-0003\"},\n",
    "    {\"name\" : \"이순신\" , \"age\" : 30 , \"phone\" : \"010-0000-0002\"},\n",
    "    {\"name\" : \"김종서\" , \"age\" : 27 , \"phone\" : \"010-0000-0008\"},\n",
    "    {\"name\" : \"장영실\" , \"age\" : 66 , \"phone\" : \"010-0000-0006\"},\n",
    "    {\"name\" : \"서희\"   , \"age\" : 75 , \"phone\" : \"010-0000-0001\"},\n",
    "    {\"name\" : \"곽재우\" , \"age\" : 41 , \"phone\" : \"010-0000-0009\"}\n",
    "]\n",
    "\n",
    "print(person_list)  # 그냥 단순 출력\n",
    "\n",
    "# --------------------------------------------\n",
    "# 새로운 리스트를 만듭니다.\n",
    "person_list_2 = sorted(person_list , key = lambda e : e[\"name\"])\n",
    "\n",
    "print(person_list_2)  # 정렬된 리스트를 출력"
   ]
  }
 ],
 "metadata": {
  "kernelspec": {
   "display_name": "aiBootCamp",
   "language": "python",
   "name": "python3"
  },
  "language_info": {
   "codemirror_mode": {
    "name": "ipython",
    "version": 3
   },
   "file_extension": ".py",
   "mimetype": "text/x-python",
   "name": "python",
   "nbconvert_exporter": "python",
   "pygments_lexer": "ipython3",
   "version": "3.10.16"
  }
 },
 "nbformat": 4,
 "nbformat_minor": 2
}
