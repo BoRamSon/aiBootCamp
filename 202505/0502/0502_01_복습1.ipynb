{
 "cells": [
  {
   "cell_type": "markdown",
   "metadata": {},
   "source": [
    "# 🟩 복습\n",
    "\n",
    "\n"
   ]
  },
  {
   "cell_type": "markdown",
   "metadata": {},
   "source": [
    "## 🟢 파이썬은 인간다운 언어\n",
    "\n",
    "\n",
    "- 저급언어\n",
    "  - \n",
    "\n",
    "- 고급언어\n",
    "  - 고급 python\n",
    "\n",
    "- 직관적이다.\n",
    "- 문법이 쉬워 빠르게 배울 수 있다.\n",
    "\n",
    "- 무료이지만 강력하다.\n",
    "  - 파이썬은 오픈 소스(open source)이며 무료 소프트웨어이다. 사용료 걱정 없이 언제 어디서든 파이썬을 내려받아 사용할 수 있다.\n",
    "  - 오픈 소스란 저작권자가 소스 코드를 공개하여 누구나 별다른 제한 없이 자유롭게 사용·복제 ·배포·수정할 수 있는 소프트웨어를 말한다.\n",
    "  - '파이썬과 C는 찰떡궁합'이라는 말이 있다. 프로그램의 전반적인 뼈대는 파이썬으로 만들고 빠른 실행 속도가 필요한 부분은 C로 만들어서 파이썬 프로그램 안에 포함시킬 수 있기 때문\n",
    "\n",
    "\n",
    "\n",
    "\n",
    "- Python으로 할 수 있는 일\n",
    "  - Web Programming\n",
    "  - 인공지능과 Machine Learning\n",
    "  - 수치 연산 프로그래밍\n",
    "  - Data 분석\n",
    "  - Database Programming\n",
    "  - 시스템 유틸리티 제작하기\n",
    "  - GUI(graphic user interface) Programming\n",
    "  - C / C++와 결합하기\n",
    "  - 사물 인터넷\n",
    "\n",
    "- 파이썬으로 할 수 없는 일\n",
    "  - 시스템과 밀접한 프로그래밍 영역 (모바일 절대 불가)\n",
    "  - 모바일 프로그래밍\n",
    "\n",
    "\n",
    "\n",
    "\n"
   ]
  },
  {
   "cell_type": "markdown",
   "metadata": {},
   "source": [
    "\n",
    "---\n",
    "## 🟢 google colab 사용해보기"
   ]
  },
  {
   "cell_type": "markdown",
   "metadata": {},
   "source": [
    "!ls \n",
    "위의 것은  ! 리눅스 명령어 - 서버 명령어 실행하라는 의미입니다."
   ]
  },
  {
   "cell_type": "markdown",
   "metadata": {},
   "source": [
    "\n",
    "---\n",
    "## 🟢 자료형 (int)\n",
    "\n",
    "- 정수\n",
    "\n",
    "- 실수"
   ]
  },
  {
   "cell_type": "code",
   "execution_count": 6,
   "metadata": {},
   "outputs": [
    {
     "name": "stdout",
     "output_type": "stream",
     "text": [
      "10 + 3 = 13\n",
      "10 - 3 = 7\n",
      "10 * 3 = 30\n",
      "10 / 3 = 3.3333333333333335\n",
      "10 // 3 = 3 이라는 몫을 구합니다.\n",
      "10 % 3 = 1 이라는 나머지를 구합니다.\n",
      "10 ** 3 = 1000 | 10을 3번 거듭제곱 했습니다.\n"
     ]
    }
   ],
   "source": [
    "# 사칙 연산\n",
    "a = 10 \n",
    "b = 3\n",
    "print(f\"{a} + {b} = {a+b}\")\n",
    "print(f\"{a} - {b} = {a-b}\")\n",
    "print(f\"{a} * {b} = {a*b}\")\n",
    "print(f\"{a} / {b} = {a/b}\")\n",
    "print(f\"{a} // {b} = {a//b} 이라는 몫을 구합니다.\")\n",
    "print(f\"{a} % {b} = {a%b} 이라는 나머지를 구합니다.\")\n",
    "print(f\"{a} ** {b} = {a**b} | 10을 3번 거듭제곱 했습니다.\")\n"
   ]
  },
  {
   "cell_type": "markdown",
   "metadata": {},
   "source": [
    "### 🟡 진수 변환하는 방법\n",
    "\n",
    "아래 숫자(10진수)를 각각 2진수 / 8진수 / 16진수 로 변환해보시오!\n",
    "\n",
    "\n",
    "15 -> \n",
    "\n",
    "27 ->\n",
    "\n",
    "68 ->\n",
    "\n",
    "127 ->\n",
    "\n",
    "356 -> \n"
   ]
  },
  {
   "cell_type": "markdown",
   "metadata": {},
   "source": [
    "| 10진수 (Decimal) | 2진수 (Binary) | 8진수 (Octal) | 16진수 (Hex) |\n",
    "|------------------|----------------|----------------|---------------|\n",
    "| 15               | 0b1111         | 0o17           | 0xf           |\n",
    "| 27               | 0b11011        | 0o33           | 0x1b          |\n",
    "| 68               | 0b1000100      | 0o104          | 0x44          |\n",
    "| 127              | 0b1111111      | 0o177          | 0x7f          |\n",
    "| 356              | 0b101100100    | 0o544          | 0x164         |\n"
   ]
  },
  {
   "cell_type": "markdown",
   "metadata": {},
   "source": [
    "\n",
    "---\n",
    "## 🟢 자료형 (string)"
   ]
  },
  {
   "cell_type": "code",
   "execution_count": null,
   "metadata": {},
   "outputs": [
    {
     "name": "stdout",
     "output_type": "stream",
     "text": [
      "Life is too short, you need python\n",
      "Life\n",
      "too\n"
     ]
    }
   ],
   "source": [
    "\n",
    "# string\n",
    "s = 'Life is too short, you need python'\n",
    "print(s)\n",
    "\n",
    "# slicing\n",
    "print(s[:4])\n",
    "print(s[8:11])\n",
    "print(s[0]) # 문자열은 인덱싱은 데이터 수정이 불가능하다.\n",
    "print(s[1]) # \n",
    "\n",
    "# replace\n",
    "s = s.replace('short', 'long')  # 바꾼 데이터를 return 한다.\n",
    "print(s)\n",
    "\n",
    "\n"
   ]
  },
  {
   "cell_type": "markdown",
   "metadata": {},
   "source": [
    "\n",
    "### 🟡 🔥 주석으로 된 data를 가지고 데이터화 시키기"
   ]
  },
  {
   "cell_type": "code",
   "execution_count": null,
   "metadata": {},
   "outputs": [
    {
     "name": "stdout",
     "output_type": "stream",
     "text": [
      "['', '홍길동,90,90,80', '임꺽정,80,80,80', '장길산,100,100,90', '']\n",
      "['홍길동,90,90,80', '임꺽정,80,80,80', '장길산,100,100,90']\n",
      "['홍길동', '90', '90', '80']\n",
      "['임꺽정', '80', '80', '80']\n",
      "['장길산', '100', '100', '90']\n"
     ]
    }
   ],
   "source": [
    "data = \"\"\"\n",
    "홍길동,90,90,80\n",
    "임꺽정,80,80,80\n",
    "장길산,100,100,90\n",
    "\"\"\"\n",
    "\n",
    "lines = data.split('\\n')\n",
    "print(lines)\n",
    "# 출력되는 결과를 보니 ['', '홍길동,90,90,80', '임꺽정,80,80,80', '장길산,100,100,90', '']\n",
    "# 이렇게 되있는 것을 양쪽의 공백을 없애보겠다.\n",
    "\n",
    "# 🟡 양쪽의 공백을 없애는 방법 slicing을 활용해보았습니다.\n",
    "lines = lines[1:len(lines)-1]\n",
    "print(lines)\n",
    "# ['홍길동,90,90,80', '임꺽정,80,80,80', '장길산,100,100,90']\n",
    "\n",
    "\n",
    "# 🟡 이제는 각 줄을 ,로 나누어 보겠습니다.\n",
    "for line in lines:\n",
    "  words = line.split(',')\n",
    "  print(words)\n",
    "\n",
    "\n"
   ]
  },
  {
   "cell_type": "markdown",
   "metadata": {},
   "source": [
    "\n",
    "### 🟡 🔥 주석으로 된 data를 가지고 데이터화 시키기 (내가 직접 풀어보는 문제)\n",
    "- dictionary에 넣어보세요!!\n",
    "- (애초에 그냥 위에 상황에서 dict.append 만 해줬으면 되는 것이었다.)"
   ]
  },
  {
   "cell_type": "code",
   "execution_count": null,
   "metadata": {},
   "outputs": [
    {
     "name": "stdout",
     "output_type": "stream",
     "text": [
      "['', '홍길동,90,90,80', '임꺽정,80,80,80', '장길산,100,100,90', '']\n",
      "['홍길동,90,90,80', '임꺽정,80,80,80', '장길산,100,100,90']\n",
      "[{'name': '홍길동', 'kor': 90, 'eng': 90, 'math': 80}, {'name': '임꺽정', 'kor': 80, 'eng': 80, 'math': 80}, {'name': '장길산', 'kor': 100, 'eng': 100, 'math': 90}]\n"
     ]
    }
   ],
   "source": [
    "dict_house = []\n",
    "\n",
    "data = \"\"\"\n",
    "홍길동,90,90,80\n",
    "임꺽정,80,80,80\n",
    "장길산,100,100,90\n",
    "\"\"\"\n",
    "\n",
    "lines = data.split('\\n')\n",
    "print(lines)\n",
    "\n",
    "lines = lines[1:len(lines)-1]\n",
    "print(lines)\n",
    "\n",
    "for i in lines:\n",
    "  seperated_element = i.split(',')\n",
    "  dict_house.append({'name' : seperated_element[0], 'kor' : int(seperated_element[1]), 'eng' : int(seperated_element[2]), 'math' : int(seperated_element[3])})\n",
    "\n",
    "print(dict_house)\n"
   ]
  },
  {
   "cell_type": "markdown",
   "metadata": {},
   "source": [
    "\n",
    "### 🟡 .format "
   ]
  },
  {
   "cell_type": "code",
   "execution_count": null,
   "metadata": {},
   "outputs": [
    {
     "name": "stdout",
     "output_type": "stream",
     "text": [
      "홍길동 20 90 90 80\n",
      "홍길동 20 90 90 80\n",
      "홍길동 20 90 90 80\n"
     ]
    }
   ],
   "source": [
    "name = '홍길동'\n",
    "age = 20\n",
    "kor = 90\n",
    "eng = 90 \n",
    "mat = 80\n",
    "total = kor + eng + mat\n",
    "avg = total / 3\n",
    "\n",
    "# 아주 옛날 버전\n",
    "print(\"%s %d %s %d %d\" % (name, age, kor, eng, mat))\n",
    "\n",
    "# 3.6 이전 버전까지 섰던 것\n",
    "print(\"{} {} {} {} {}\".format(name, age, kor, eng, mat))\n",
    "\n",
    "# 3.6 이후 버전부터 사용가능한 것 (현재 가장 많이 사용함)\n",
    "print(f\"{name} {age} {kor} {eng} {mat}\") # f-string\n"
   ]
  },
  {
   "cell_type": "markdown",
   "metadata": {},
   "source": [
    "\n",
    "---\n",
    "## 🟢 자료형 (list)\n",
    "\n",
    "- 배열 - 프로그램 수행 전에 반드시 메모리를 확보해야함\n",
    "- index를 통해 읽고 쓴다. 수행 도중에 크기 변화 불가\n",
    "- 연속된 Memory 공간  =>  Python의 list는 배열구조가 아님\n",
    "- 인덱싱과 슬라이싱을 써서 접근한다는 부분만 배열구조와 일치한다.\n"
   ]
  },
  {
   "cell_type": "code",
   "execution_count": 32,
   "metadata": {},
   "outputs": [
    {
     "name": "stdout",
     "output_type": "stream",
     "text": [
      "1\n",
      "4\n",
      "5\n",
      "[1, 2, 3, 4, 5]\n",
      "[3]\n",
      "[1, 2, 3, 4, 5, 6, 7, 8, 9, 10]\n",
      "[1, 2, 3, 4, 5, 6, 7, 8, 9, 10, 11, 12, 10, 20, 30, 40]\n",
      "[10, 10]\n"
     ]
    }
   ],
   "source": [
    "list1 = [1, 2, 3, 4, 5, 6, 7, 8, 9, 10]\n",
    "print(list1[0])\n",
    "print(list1[3])\n",
    "print(list1[4])\n",
    "\n",
    "# 🟡 slicing\n",
    "print(list1[:5])\n",
    "print(list1[2:3])\n",
    "\n",
    "# list1[1:6] = 8   # 이건 안됩니다.\n",
    "print(list1)\n",
    "\n",
    "\n",
    "# 🟡 데이터 추가\n",
    "list1.append(11)\n",
    "list1.append(12)\n",
    "list1.extend([10, 20, 30, 40])\n",
    "print(list1)\n",
    "\n",
    "\n",
    "# 🟡 데이터 모두 삭제하고 몇번쨰 자리에 넣기\n",
    "list1.clear()  # 모든 데이터를 삭제합니다.\n",
    "list1.insert(0, 10)\n",
    "list1.insert(1, 10)\n",
    "print(list1)\n",
    "\n"
   ]
  },
  {
   "cell_type": "markdown",
   "metadata": {},
   "source": [
    "#### 🟡 쉬운 문제 풀어보기"
   ]
  },
  {
   "cell_type": "code",
   "execution_count": 35,
   "metadata": {},
   "outputs": [
    {
     "name": "stdout",
     "output_type": "stream",
     "text": [
      "[5]\n",
      "[5, 10]\n",
      "[5, 10, 15]\n",
      "[5, 10, 15, 20]\n",
      "[5, 10, 15, 20, 25]\n",
      "[5, 10, 15, 20, 25, 30]\n",
      "[5, 10, 15, 20, 25, 30, 35]\n",
      "[5, 10, 15, 20, 25, 30, 35, 40]\n",
      "[5, 10, 15, 20, 25, 30, 35, 40, 45]\n",
      "[5, 10, 15, 20, 25, 30, 35, 40, 45, 50]\n"
     ]
    }
   ],
   "source": [
    "# 1. 리스트에 5의 배수를 10개 채우기\n",
    "\n",
    "multiple_five_list = []\n",
    "\n",
    "for i in range(1, 11):\n",
    "    multiple_five_list.append(i * 5)\n",
    "    print(multiple_five_list)"
   ]
  },
  {
   "cell_type": "code",
   "execution_count": 33,
   "metadata": {},
   "outputs": [
    {
     "name": "stdout",
     "output_type": "stream",
     "text": [
      "100\n",
      "90\n",
      "80\n",
      "70\n",
      "60\n",
      "50\n",
      "40\n",
      "30\n",
      "20\n",
      "10\n"
     ]
    }
   ],
   "source": [
    "# 2. 리스트에 100부터 90, 80, 70 역순\n",
    "\n",
    "for i in range(100, 9, -10):\n",
    "  print(i)"
   ]
  },
  {
   "cell_type": "markdown",
   "metadata": {},
   "source": [
    "\n",
    "#### 🔵 중복관련 처리 방법\n",
    "\n",
    "| 방법                        | 순서 유지 | 속도      | 설명                        |\n",
    "|---------------------------|-----------|-----------|-----------------------------|\n",
    "| set()                     | ❌        | 빠름      | 간단하지만 순서 없어짐     |\n",
    "| dict.fromkeys()           | ✅        | 빠름      | 순서 유지하면서 중복 제거  |\n",
    "| 반복문 + 조건문            | ✅        | 느림      | 원리 이해용                |\n",
    "| 리스트 컴프리헨션 + set   | ✅        | 중간~빠름 | 성능과 순서 모두 만족      |\n"
   ]
  },
  {
   "cell_type": "code",
   "execution_count": 38,
   "metadata": {},
   "outputs": [
    {
     "name": "stdout",
     "output_type": "stream",
     "text": [
      "[1, 2, 3, 4, 5]\n",
      "[1]\n",
      "[1, 2]\n",
      "[1, 2, 3]\n",
      "[1, 2, 3]\n",
      "[1, 2, 3, 4]\n",
      "[1, 2, 3, 4]\n",
      "[1, 2, 3, 4, 5]\n",
      "[1, 2, 3, 4, 5]\n"
     ]
    }
   ],
   "source": [
    "# 🔥 3. 중복된 값이 포함된 리스트 \n",
    "# a = [1,2,3,2,4,3,5,1] 가 있습니다.\n",
    "# 중복을 제거하고 정렬된 리스트를 출력해보세요.\n",
    "\n",
    "# 중복제거와 sort를 사용해야합니다. 저는 해본 적이 없습니다.\n",
    "\n",
    "a = [1,2,3,2,4,3,5,1]\n",
    "a = list(set(a)) # 중복제거\n",
    "a.sort() # 정렬\n",
    "print(a) # [1, 2, 3, 4, 5]\n",
    "\n",
    "\n",
    "\n",
    "# -----------------------------------\n",
    "# 🟡 같이 풀어보기\n",
    "a = [1,2,3,2,4,3,5,1]\n",
    "b = []\n",
    "for i in a:\n",
    "  if i not in b:\n",
    "    b.append(i)\n",
    "  print(b)\n",
    "\n"
   ]
  },
  {
   "cell_type": "code",
   "execution_count": null,
   "metadata": {},
   "outputs": [
    {
     "name": "stdout",
     "output_type": "stream",
     "text": [
      "[95, 100]\n"
     ]
    }
   ],
   "source": [
    "# 4. \n",
    "# score = [80, 95, 70, 100, 85]\n",
    "# 평균 점수보다 높은 점수만 골라 새로운 리스트로 만들고 출력해보세요.\n",
    "\n",
    "score = [80, 95, 70, 100, 85]\n",
    "\n",
    "score_avg = sum(score) / len(score)\n",
    "\n",
    "score_then_avg = []\n",
    "\n",
    "for i in score:\n",
    "  if i > score_avg:\n",
    "    score_then_avg.append(i)\n",
    "    \n",
    "print(score_then_avg)\n"
   ]
  },
  {
   "cell_type": "markdown",
   "metadata": {},
   "source": [
    "\n",
    "---\n",
    "## 🟢 이차원 배열\n",
    "이차원 : 본래 의미의 배열이 아니다.\n",
    "list if list로 표현해야 한다."
   ]
  },
  {
   "cell_type": "code",
   "execution_count": null,
   "metadata": {},
   "outputs": [
    {
     "name": "stdout",
     "output_type": "stream",
     "text": [
      "[1, 2, 3, 4, 5]\n",
      "[6, 7, 8, 9, 10]\n",
      "[11, 12, 13, 14, 15]\n",
      "\n",
      "[1, 2, 3, 4, 5]\n",
      "\n",
      "1\n"
     ]
    }
   ],
   "source": [
    "a = [[1,2,3,4,5], \n",
    "     [6,7,8,9,10], \n",
    "     [11,12,13,14,15]]\n",
    "\n",
    "# 출력해보기\n",
    "for i in a:\n",
    "  print(i)\n",
    "\n",
    "print()\n",
    "\n",
    "print(a[0])\n",
    "\n",
    "print()\n",
    "print(a[0][0])\n",
    "\n"
   ]
  }
 ],
 "metadata": {
  "kernelspec": {
   "display_name": "aiBootCamp",
   "language": "python",
   "name": "python3"
  },
  "language_info": {
   "codemirror_mode": {
    "name": "ipython",
    "version": 3
   },
   "file_extension": ".py",
   "mimetype": "text/x-python",
   "name": "python",
   "nbconvert_exporter": "python",
   "pygments_lexer": "ipython3",
   "version": "3.10.16"
  }
 },
 "nbformat": 4,
 "nbformat_minor": 2
}
