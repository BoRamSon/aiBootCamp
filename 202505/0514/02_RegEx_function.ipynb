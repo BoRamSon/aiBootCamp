{
 "cells": [
  {
   "cell_type": "markdown",
   "metadata": {},
   "source": [
    "# 🟩 정규표현식 - 패턴 매칭 함수"
   ]
  },
  {
   "cell_type": "markdown",
   "metadata": {},
   "source": [
    "\n",
    "---\n",
    "## 🟢 단순히 split와 join을 통해서만 데이터를 가공해보겠습니다.\n"
   ]
  },
  {
   "cell_type": "code",
   "execution_count": 1,
   "metadata": {},
   "outputs": [
    {
     "name": "stdout",
     "output_type": "stream",
     "text": [
      "\n",
      "park 800905-1049118  park@hanmail.com\n",
      "kim  700905-1059119  kim@naver.com\n",
      "Life is egg \n",
      "kim  700906-1059118  kim9999@naver.com\n",
      "park 800905-1049118\n",
      "kim  700905-1059119\n",
      "\n",
      "\n",
      "park\n",
      "800905-1049118\n",
      "\n",
      "park@hanmail.com\n",
      "kim\n",
      "\n",
      "700905-1059119\n",
      "\n",
      "kim@naver.com\n",
      "Life\n",
      "is\n",
      "egg\n",
      "\n",
      "kim\n",
      "\n",
      "700906-1059118\n",
      "\n",
      "kim9999@naver.com\n",
      "park\n",
      "800905-1049118\n",
      "kim\n",
      "\n",
      "700905-1059119\n",
      "\n"
     ]
    }
   ],
   "source": [
    "data = \"\"\"\n",
    "    park 800905-1049118  park@hanmail.com\n",
    "    kim  700905-1059119  kim@naver.com\n",
    "    Life is egg \n",
    "    kim  700906-1059118  kim9999@naver.com\n",
    "    park 800905-1049118\n",
    "    kim  700905-1059119\n",
    "\"\"\"\n",
    "\n",
    "# <단순 확인>\n",
    "# for line in data.split(\"\\n\"):\n",
    "#     print(line)\n",
    "\n",
    "result = []\n",
    "\n",
    "for line in data.split(\"\\n\"):  # 1. 우선 라인단위로 나눈다\n",
    "    word_result = []\n",
    "    for word in line.split(\" \"): # 2. 띄어쓰기로 다시 나눠서 리스트를 만듭니다.\n",
    "        print( word ) # 확인\n",
    "        # len(word) -문자열의 길이가 14자 \n",
    "        #- 앞의 6자리가 숫자여야 한다. word[:6] 0~5번방까지 전체 숫자로만 구성되어 있느냐 \n",
    "        #- 뒤의 7자리가 숫자여야 한다. word[7:] 7번부터 마자막까지 전체 숫자로만 구성되어 있느냐 \n",
    "        #. word[6]=='-'  조건을 추가할 수 도 있다\n",
    "        if len(word) == 14 and word[:6].isdigit() and word[7:].isdigit(): # 3. 주민번호 패턴이 맞다고 한다면 \n",
    "            word = word[:6] + \"-\" + \"*******\" \n",
    "            #앞자리 6자리  + - + *******\n",
    "        word_result.append(word) #같은 라인에 여러개의 주민 번호가 있을 수 있음\n",
    "\n",
    "    result.append(\" \".join(word_result)) #같은 라인 주민번호를  공백으로 연결시켜 리스트에 더함 "
   ]
  },
  {
   "cell_type": "code",
   "execution_count": 2,
   "metadata": {},
   "outputs": [
    {
     "name": "stdout",
     "output_type": "stream",
     "text": [
      "\n",
      "park 800905-*******\n",
      "kim  700905-*******\n",
      "\n",
      "\n",
      "park 800905-*******\n",
      "kim  700905-*******\n",
      "\n"
     ]
    }
   ],
   "source": [
    "data = \"\"\"\n",
    "park 800905-1049118\n",
    "kim  700905-1059119\n",
    "\"\"\"\n",
    "\n",
    "result = []\n",
    "for line in data.split(\"\\n\"):  #우선 라인단위로 나눈다\n",
    "    word_result = []\n",
    "    for word in line.split(\" \"):#공백으로 나눈다 \n",
    "        if len(word) == 14 and word[:6].isdigit() and word[7:].isdigit():\n",
    "            word = word[:6] + \"-\" + \"*******\"\n",
    "        word_result.append(word)\n",
    "    result.append(\" \".join(word_result))\n",
    "print(\"\\n\".join(result))\n",
    "\n",
    "\n",
    "import re \n",
    "\n",
    "data = \"\"\"\n",
    "park 800905-1049118\n",
    "kim  700905-1059119\n",
    "\"\"\"\n",
    "#서식이 맞는 것만 찾는다\n",
    "pat = re.compile(\"(\\d{6})[-]\\d{7}\")\n",
    "print(pat.sub(\"\\g<1>-*******\", data)) #그룹1의 내용을 바꾼다 "
   ]
  },
  {
   "cell_type": "markdown",
   "metadata": {},
   "source": [
    "\n",
    "---\n",
    "## 🟢 [Function] 맛보기\n",
    "\n"
   ]
  },
  {
   "cell_type": "code",
   "execution_count": 1,
   "metadata": {},
   "outputs": [
    {
     "name": "stdout",
     "output_type": "stream",
     "text": [
      "['비', '비', '비']\n"
     ]
    }
   ],
   "source": [
    "import re\n",
    "\n",
    "pattern = r\"비\"  #패턴은 문자역 \\  -  이건 기본적으로 escape로 사용을 한다. 패턴에서는 문자열로 써야한다.\n",
    "                  # \\ 의 escape기능을 무력화 해야한다.\n",
    "                  # 패턴문자열 앞에 r을 붙여야한다.abs\n",
    "\n",
    "text = \"\"\"\n",
    "  하늘에 비가 오고 있습니다. 어제도 비가 왔고 오늘도 비가 오고 있습니다.\n",
    "\"\"\"\n",
    "\n",
    "regex = re.compile(pattern)\n",
    "result = regex.findall(text)\n",
    "print(result)"
   ]
  },
  {
   "cell_type": "markdown",
   "metadata": {},
   "source": [
    "\n",
    "---\n",
    "## 🟢 [Function] 주요 함수 (문자열) 사용"
   ]
  },
  {
   "cell_type": "markdown",
   "metadata": {},
   "source": [
    "### 🟡 re.compoile(pattern) 예제\n"
   ]
  },
  {
   "cell_type": "code",
   "execution_count": 3,
   "metadata": {},
   "outputs": [
    {
     "name": "stdout",
     "output_type": "stream",
     "text": [
      "형식이 일치합니다.\n"
     ]
    }
   ],
   "source": [
    "import re\n",
    "\n",
    "zipcode = input('우편번호를 입력하세요. : ')\n",
    "pattern = r'\\d{5}$' # 숫자가 5자리가 아니라면   /  $는 문자열이 앞에 것들로 끝나는 것에 대해서\n",
    "regex2 = re.compile(pattern)\n",
    "result = regex2.match(zipcode)  # 일치 안하면 None 반환 일치하면 match객체 반환\n",
    "if result != None:\n",
    "  print(\"형식이 일치합니다.\")\n",
    "else:\n",
    "  print(\"잘 못된 형식입니다.\")"
   ]
  },
  {
   "cell_type": "markdown",
   "metadata": {},
   "source": [
    "### 🟡 match 예제\n",
    "문자열의 **시작**에서 패턴을 찾습니다."
   ]
  },
  {
   "cell_type": "code",
   "execution_count": 6,
   "metadata": {},
   "outputs": [
    {
     "name": "stdout",
     "output_type": "stream",
     "text": [
      "None\n",
      "<re.Match object; span=(0, 4), match='star'>\n",
      "\n",
      "star\n",
      "0\n",
      "4\n",
      "(0, 4)\n",
      "st\n"
     ]
    }
   ],
   "source": [
    "import re\n",
    "\n",
    "text1 = \"I like star\"\n",
    "text2 = \"starship is beautiful\"\n",
    "\n",
    "pattern = \"star\"\n",
    "\n",
    "# text1에서는 문자열 시작에 \"star\"가 없으므로 None이 반환됨\n",
    "print(re.match(pattern, text1))\n",
    "# 출력: None\n",
    "\n",
    "# text2에서는 문자열 시작에 \"star\"가 있으므로 Match 객체가 반환됨\n",
    "print(re.match(pattern, text2))\n",
    "# 출력 예시: <re.Match object; span=(0, 4), match='star'>\n",
    "print()\n",
    "\n",
    "# ================================================================\n",
    "\n",
    "# matchObj 변수에 re.match 결과를 저장\n",
    "matchObj = re.match(pattern, text2)\n",
    "\n",
    "# matchObj가 None이 아닌 경우에만 메소드 호출 (안정성 추가)\n",
    "if matchObj:\n",
    "    # 변수 이름 오타 수정: machObj -> matchObj\n",
    "    print(matchObj.group())  # 일치하는 부분 문자열 (\"star\")\n",
    "    print(matchObj.start())  # 일치하는 부분의 시작 인덱스 (0)\n",
    "    print(matchObj.end())    # 일치하는 부분의 끝 인덱스 + 1 (4)\n",
    "    print(matchObj.span())   # 일치하는 부분의 (시작, 끝+1) 튜플 ((0, 4))\n",
    "\n",
    "# 정의되지 않은 변수 'text' 대신 'text2' 사용 (예시)\n",
    "# 이 부분은 예시로 text2의 처음 2글자를 출력하는 것으로 수정\n",
    "print(text2[:2])\n",
    "# 출력: st"
   ]
  },
  {
   "cell_type": "markdown",
   "metadata": {},
   "source": [
    "### 🟡 search 예제\n",
    "문자열 **전체**에서 첫 번째 패턴을 찾습니다."
   ]
  },
  {
   "cell_type": "code",
   "execution_count": 3,
   "metadata": {},
   "outputs": [
    {
     "name": "stdout",
     "output_type": "stream",
     "text": [
      "\n",
      "<re.Match object; span=(7, 11), match='star'>\n",
      "<re.Match object; span=(0, 4), match='star'>\n",
      "star\n",
      "7\n",
      "11\n",
      "(7, 11)\n",
      "star\n",
      "0\n",
      "4\n",
      "(0, 4)\n",
      "\n"
     ]
    }
   ],
   "source": [
    "import re\n",
    "\n",
    "text1 = \"I like stars, red star, yellow star\"\n",
    "text2 = \"star is beautiful\"\n",
    "\n",
    "print()\n",
    "pattern = \"star\"\n",
    "print (re.search( pattern, text1))\n",
    "print (re.search( pattern, text2))\n",
    "\n",
    "matchObj = re.search( pattern, text1)\n",
    "print(matchObj.group() )\n",
    "print(matchObj.start() )\n",
    "print(matchObj.end() )\n",
    "print(matchObj.span() )\n",
    "\n",
    "matchObj = re.search( pattern, text2)\n",
    "print(matchObj.group() )\n",
    "print(matchObj.start() )\n",
    "print(matchObj.end() )\n",
    "print(matchObj.span() )\n",
    "print()\n"
   ]
  },
  {
   "cell_type": "markdown",
   "metadata": {},
   "source": [
    "### 🟡 findall 예제\n",
    "- re.findall(pattern, string)\n",
    "- 문자열에서 모든 패턴을 리스트로 반환."
   ]
  },
  {
   "cell_type": "code",
   "execution_count": 18,
   "metadata": {},
   "outputs": [
    {
     "name": "stdout",
     "output_type": "stream",
     "text": [
      "\n",
      "--- 전화번호 추출하기 ---\n",
      "(확인용) = <class 'list'>\n",
      "010-1234-5678\n",
      "010-9876-5432\n",
      "010-5555-1212\n",
      "010-2424-7878\n"
     ]
    }
   ],
   "source": [
    "# 데이터 내 전화번호만 추출하기\n",
    "\n",
    "import re\n",
    "\n",
    "\n",
    "text77 = \"\"\"\n",
    "  phone: 010-1234-5678, email: user1@example.com\n",
    "  phone: 010-9876-5432, email: user2@example.com\n",
    "  phone: 010-5555-1212, email: user3@example.com\n",
    "  phone: 010-2424-7878, email: user4@example.com\n",
    "\"\"\"\n",
    "\n",
    "print()\n",
    "print(\"--- 전화번호 추출하기 ---\")\n",
    "phone_pattern = r\"\\d{3}-\\d{3,4}-\\d{4}\"   # 이 정규식은 쉽다. \n",
    "\n",
    "matchObj = re.findall(phone_pattern, text77)\n",
    "print(f\"(확인용) = {type(matchObj)}\")\n",
    "\n",
    "for item in matchObj:\n",
    "  print(item)\n",
    "\n"
   ]
  },
  {
   "cell_type": "code",
   "execution_count": 15,
   "metadata": {},
   "outputs": [
    {
     "name": "stdout",
     "output_type": "stream",
     "text": [
      "\n",
      "--- 이메일 추출하기 ---\n",
      "(확인용) = <class 'list'>\n",
      "user1@example.com\n",
      "user2@example.com\n",
      "user3@example.com\n",
      "user4@example.com\n"
     ]
    }
   ],
   "source": [
    "# 데이터 내 이메일만 추출하기\n",
    "\n",
    "import re\n",
    "\n",
    "text78 = \"\"\"\n",
    "  phone: 010-1234-5678, email: user1@example.com\n",
    "  phone: 010-9876-5432, email: user2@example.com\n",
    "  phone: 010-5555-1212, email: user3@example.com\n",
    "  phone: 010-2424-7878, email: user4@example.com\n",
    "\"\"\"\n",
    "\n",
    "print()\n",
    "print(\"--- 이메일 추출하기 ---\")\n",
    "\n",
    "email_pattern = r\"\\b[a-zA-Z0-9._%+-]+@[a-zA-Z0-9.-]+\\.[a-zA-Z]{2,4}\\b\"\n",
    "# r\"[a-zA-Z0-9._%+-]+@[a-zA-Z0-9.-]+\\.[a-zA-Z]{2,4}\"\n",
    "# r\"^[a-zA-Z0-9._%+-]+@[a-zA-Z0-9.-]+\\.[a-zA-Z]{2,4}$\"\n",
    "# r\"\\b[a-zA-Z0-9._%+-]+@[a-zA-Z0-9.-]+\\.[a-zA-Z]{2,4}\\b\"\n",
    "# '\\b' 는 특정 위치가 단어의 시작 또는 끝임을 의미하며, 다음과 같은 경우에 일치\n",
    "\n",
    "matchObj = re.findall(email_pattern, text78)\n",
    "print(f\"(확인용) = {type(matchObj)}\")\n",
    "\n",
    "for item in matchObj:\n",
    "  print(item)\n"
   ]
  },
  {
   "cell_type": "markdown",
   "metadata": {},
   "source": [
    "### 🟡 finiter 예제\n",
    "- re.finditer\n",
    "- "
   ]
  },
  {
   "cell_type": "code",
   "execution_count": 22,
   "metadata": {},
   "outputs": [
    {
     "name": "stdout",
     "output_type": "stream",
     "text": [
      "\n",
      "--- 이메일 추출하기 ---\n",
      "(확인용) = <class 'callable_iterator'>\n",
      "\n",
      "<re.Match object; span=(32, 49), match='user1@example.com'>\n",
      "<built-in method group of re.Match object at 0x7a24dec095c0>\n",
      "<built-in method span of re.Match object at 0x7a24dec095c0>\n",
      "\n",
      "<re.Match object; span=(81, 98), match='user2@example.com'>\n",
      "<built-in method group of re.Match object at 0x7a24dec09540>\n",
      "<built-in method span of re.Match object at 0x7a24dec09540>\n",
      "\n",
      "<re.Match object; span=(130, 147), match='user3@example.com'>\n",
      "<built-in method group of re.Match object at 0x7a24dec089c0>\n",
      "<built-in method span of re.Match object at 0x7a24dec089c0>\n",
      "\n",
      "<re.Match object; span=(179, 196), match='user4@example.com'>\n",
      "<built-in method group of re.Match object at 0x7a24dec09540>\n",
      "<built-in method span of re.Match object at 0x7a24dec09540>\n"
     ]
    }
   ],
   "source": [
    "# 데이터 내 이메일만 추출하기 finiter\n",
    "\n",
    "import re\n",
    "\n",
    "text78 = \"\"\"\n",
    "  phone: 010-1234-5678, email: user1@example.com\n",
    "  phone: 010-9876-5432, email: user2@example.com\n",
    "  phone: 010-5555-1212, email: user3@example.com\n",
    "  phone: 010-2424-7878, email: user4@example.com\n",
    "\"\"\"\n",
    "\n",
    "print()\n",
    "print(\"--- 이메일 추출하기 ---\")\n",
    "\n",
    "email_pattern = r\"\\b[a-zA-Z0-9._%+-]+@[a-zA-Z0-9.-]+\\.[a-zA-Z]{2,4}\\b\"\n",
    "# r\"[a-zA-Z0-9._%+-]+@[a-zA-Z0-9.-]+\\.[a-zA-Z]{2,4}\"\n",
    "# r\"^[a-zA-Z0-9._%+-]+@[a-zA-Z0-9.-]+\\.[a-zA-Z]{2,4}$\"\n",
    "# r\"\\b[a-zA-Z0-9._%+-]+@[a-zA-Z0-9.-]+\\.[a-zA-Z]{2,4}\\b\"\n",
    "# '\\b' 는 특정 위치가 단어의 시작 또는 끝임을 의미하며, 다음과 같은 경우에 일치\n",
    "\n",
    "matchObj = re.finditer(email_pattern, text78)   # 위 예제에서 여기만 바꿨습니다.\n",
    "print(f\"(확인용) = {type(matchObj)}\")\n",
    "\n",
    "for item in matchObj:\n",
    "  print()\n",
    "  print(item)\n",
    "  print(item.group)\n",
    "  print(item.span)\n"
   ]
  },
  {
   "cell_type": "markdown",
   "metadata": {},
   "source": [
    "### 🟡 sub 예제\n",
    "- re.sub(pattern, repl(변경대상), target_string, count=2)\n",
    "- 패턴을 `repl`로 치환(변경)한 결과 문자열 반환.\n",
    "- 마지막 count 매개변수가 있습니다."
   ]
  },
  {
   "cell_type": "code",
   "execution_count": 23,
   "metadata": {},
   "outputs": [
    {
     "name": "stdout",
     "output_type": "stream",
     "text": [
      "I have oranges.\n"
     ]
    }
   ],
   "source": [
    "import re\n",
    "result = re.sub(r\"apples\", \"oranges\", \"I have apples.\")\n",
    "print(result)  # I have oranges.\n"
   ]
  },
  {
   "cell_type": "code",
   "execution_count": 24,
   "metadata": {},
   "outputs": [
    {
     "name": "stdout",
     "output_type": "stream",
     "text": [
      "\n",
      "I like moons, red moon, yellow moon\n",
      "I like moons, red moon, yellow star\n",
      "\n"
     ]
    }
   ],
   "source": [
    "import re\n",
    "\n",
    "text1 = \"I like stars, red star, yellow star\"\n",
    "\n",
    "print()\n",
    "pattern = \"star\"\n",
    "result = re.sub( pattern, \"moon\", text1)\n",
    "print(result)\n",
    "\n",
    "result2 = re.sub( pattern, \"moon\", text1, count=2)  # 마지막 카운트 매개변수는 \n",
    "print(result2)\n",
    "print()"
   ]
  }
 ],
 "metadata": {
  "kernelspec": {
   "display_name": "aiBootCamp1",
   "language": "python",
   "name": "python3"
  },
  "language_info": {
   "codemirror_mode": {
    "name": "ipython",
    "version": 3
   },
   "file_extension": ".py",
   "mimetype": "text/x-python",
   "name": "python",
   "nbconvert_exporter": "python",
   "pygments_lexer": "ipython3",
   "version": "3.8.19"
  }
 },
 "nbformat": 4,
 "nbformat_minor": 2
}
