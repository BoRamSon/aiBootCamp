{
 "cells": [
  {
   "cell_type": "markdown",
   "metadata": {},
   "source": [
    "\n",
    "---\n",
    "# 🟩 문자열 포메팅 (결국 f-string 사용)\n",
    "\n",
    "2025.04.24."
   ]
  },
  {
   "cell_type": "markdown",
   "metadata": {},
   "source": [
    "# Python 문자열 포맷 지정자 (Format Specifiers)\n",
    "\n",
    "| 지정자 | 설명 | 예시 |\n",
    "|--------|------|------|\n",
    "| `%s` | 문자열(String) | `\"이름: %s\" % \"홍길동\"` → `\"이름: 홍길동\"` |\n",
    "| `%c` | 문자 1개(Character) | `\"첫글자: %c\" % \"A\"` → `\"첫글자: A\"` |\n",
    "| `%d` | 정수(Integer) | `\"나이: %d\" % 25` → `\"나이: 25\"` |\n",
    "| `%f` | 부동소수(Floating-point) | `\"키: %f\" % 175.5` → `\"키: 175.500000\"` |\n",
    "| `%o` | 8진수(Octal) | `\"8진수: %o\" % 10` → `\"8진수: 12\"` |\n",
    "| `%x` | 16진수(Hexadecimal) | `\"16진수: %x\" % 10` → `\"16진수: a\"` |\n",
    "| `%%` | Literal % (문자 `%` 자체) | `\"할인율: %%\" % ()` → `\"할인율: %\"` |"
   ]
  },
  {
   "cell_type": "code",
   "execution_count": 9,
   "metadata": {},
   "outputs": [
    {
     "name": "stdout",
     "output_type": "stream",
     "text": [
      "홍길동의 나이는 34 입니다. 그리고 키는 175.68 입니다.\n",
      "8진수 45\n",
      "16진수 25\n"
     ]
    }
   ],
   "source": [
    "name = '홍길동'\n",
    "age = 34\n",
    "height = 175.68\n",
    "# %s - string의 약자\n",
    "# %d - decimal의 약자\n",
    "# %자릿수 형식      %10d      f의 경우는 %전체 자리수.소수점이하\n",
    "\n",
    "s = \"%s의 나이는 %d 입니다. 그리고 키는 %.2f 입니다.\" % (name, age, height)\n",
    "print(s)\n",
    "\n",
    "a = 37\n",
    "print(\"8진수 %o\" %a)\n",
    "print(\"16진수 %x\" %a)\n",
    "\n"
   ]
  },
  {
   "cell_type": "code",
   "execution_count": 8,
   "metadata": {},
   "outputs": [
    {
     "name": "stdout",
     "output_type": "stream",
     "text": [
      "        hi      hello\n",
      "hi         hello     \n"
     ]
    }
   ],
   "source": [
    "print(\"%10s %10s\" % (\"hi\", \"hello\"))  #        hi      hello   뒷쪽부터 채운다.\n",
    "print(\"%-10s %-10s\" % (\"hi\", \"hello\")) #hi         hello   앞쪽부터 채운다."
   ]
  },
  {
   "cell_type": "code",
   "execution_count": 10,
   "metadata": {},
   "outputs": [
    {
     "name": "stdout",
     "output_type": "stream",
     "text": [
      "3.141592\n",
      "3.14\n",
      "   3.14\n"
     ]
    }
   ],
   "source": [
    "a = 3.141592\n",
    "print( \"%f\" %a)\n",
    "print( \"%.2f\" %a)\n",
    "print( \"%7.2f\" %a)"
   ]
  },
  {
   "cell_type": "markdown",
   "metadata": {},
   "source": [
    "\n",
    "---\n",
    "## 🟢 format 함수를 사용한 포매팅\n",
    "### 이거 print에 가야만 할 것 같은 느낌이 들지만, 문자열 자료형이다."
   ]
  },
  {
   "cell_type": "code",
   "execution_count": 16,
   "metadata": {},
   "outputs": [
    {
     "name": "stdout",
     "output_type": "stream",
     "text": [
      "이름 : 홍길동 | 나이 : 34 \n",
      "이름 : 홍길동 | 나이 : 34 홍길동 홍길동 34 \n"
     ]
    }
   ],
   "source": [
    "print(\"이름 : {0} | 나이 : {1} \".format(name,age))\n",
    "print(\"이름 : {0} | 나이 : {1} {0} {0} {1} \".format(name,age))"
   ]
  },
  {
   "cell_type": "code",
   "execution_count": 18,
   "metadata": {},
   "outputs": [
    {
     "name": "stdout",
     "output_type": "stream",
     "text": [
      "이름은 Alice이고 나이는 30살입니다.\n"
     ]
    }
   ],
   "source": [
    "name4 = \"Alice\"\n",
    "age4 = 30\n",
    "print(\"이름은 {}이고 나이는 {}살입니다.\".format(name4, age4))\n",
    "\n"
   ]
  },
  {
   "cell_type": "markdown",
   "metadata": {},
   "source": [
    "\n",
    "---\n",
    "## 🟢 이름으로 넣기\n"
   ]
  },
  {
   "cell_type": "code",
   "execution_count": 19,
   "metadata": {},
   "outputs": [
    {
     "name": "stdout",
     "output_type": "stream",
     "text": [
      "이름: Tom, 나이: 25\n"
     ]
    }
   ],
   "source": [
    "print(\"이름: {name}, 나이: {age}\".format(name=\"Tom\", age=25))\n"
   ]
  },
  {
   "cell_type": "markdown",
   "metadata": {},
   "source": [
    "\n",
    "---\n",
    "## 🟢 f-sting\n",
    "#### 하지만 우리는 마지막으로 만들어진 가장 쉬운 f-string을 사용합니다."
   ]
  },
  {
   "cell_type": "code",
   "execution_count": 20,
   "metadata": {},
   "outputs": [
    {
     "name": "stdout",
     "output_type": "stream",
     "text": [
      "안녕하세요, 제 이름은 홍길동입니다.\n",
      "저는 25세이고, 키는 175.6cm입니다.\n",
      "학생 여부: True\n",
      "5년 후 나이: 30세\n",
      "키(소수점 1자리): 175.6cm\n",
      "이름(우측 정렬, 10칸): '       홍길동'\n",
      "이름(좌측 정렬, 10칸): '홍길동       '\n",
      "이름(가운데 정렬, 10칸): '   홍길동    '\n",
      "내 통장 잔고: 1,000,000원\n",
      "42의 16진수 표현: 0x2a\n",
      "42의 2진수 표현: 0b101010\n"
     ]
    }
   ],
   "source": [
    "# 기본 변수 정의\n",
    "name = \"홍길동\"\n",
    "age = 25\n",
    "height = 175.6\n",
    "is_student = True\n",
    "\n",
    "# f-string을 사용한 다양한 예제\n",
    "print(f\"안녕하세요, 제 이름은 {name}입니다.\")\n",
    "print(f\"저는 {age}세이고, 키는 {height}cm입니다.\")\n",
    "print(f\"학생 여부: {is_student}\")\n",
    "\n",
    "# 수식 사용\n",
    "print(f\"5년 후 나이: {age + 5}세\")\n",
    "\n",
    "# 소수점 자릿수 지정\n",
    "print(f\"키(소수점 1자리): {height:.1f}cm\")\n",
    "\n",
    "# 너비 지정 및 정렬\n",
    "print(f\"이름(우측 정렬, 10칸): '{name:>10}'\")\n",
    "print(f\"이름(좌측 정렬, 10칸): '{name:<10}'\")\n",
    "print(f\"이름(가운데 정렬, 10칸): '{name:^10}'\")\n",
    "\n",
    "# 숫자 형식 지정\n",
    "money = 1000000\n",
    "print(f\"내 통장 잔고: {money:,}원\")\n",
    "\n",
    "# 16진수, 2진수 표현\n",
    "num = 42\n",
    "print(f\"42의 16진수 표현: {num:#x}\")\n",
    "print(f\"42의 2진수 표현: {num:#b}\")"
   ]
  },
  {
   "cell_type": "markdown",
   "metadata": {},
   "source": [
    "\n",
    "---\n",
    "## 🟢 .format 정렬"
   ]
  },
  {
   "cell_type": "code",
   "execution_count": 24,
   "metadata": {},
   "outputs": [
    {
     "name": "stdout",
     "output_type": "stream",
     "text": [
      "hi        \n",
      "        hi\n",
      "    hi    \n"
     ]
    }
   ],
   "source": [
    "# 왼쪽 정렬\n",
    "print(\"{0:<10}\".format(\"hi\"))\n",
    "\n",
    "# 오른쪽 정렬\n",
    "print(\"{0:>10}\".format(\"hi\"))\n",
    "\n",
    "# 가운데 정렬\n",
    "print(\"{0:^10}\".format(\"hi\"))\n"
   ]
  },
  {
   "cell_type": "code",
   "execution_count": null,
   "metadata": {},
   "outputs": [
    {
     "ename": "",
     "evalue": "",
     "output_type": "error",
     "traceback": [
      "\u001b[1;31mRunning cells with 'aiBootCamp (Python 3.10.16)' requires the ipykernel package.\n",
      "\u001b[1;31mRun the following command to install 'ipykernel' into the Python environment. \n",
      "\u001b[1;31mCommand: 'conda install -n aiBootCamp ipykernel --update-deps --force-reinstall'"
     ]
    }
   ],
   "source": [
    "# 실수\n",
    "\n",
    "print( \"{0:.4f}\".format(3.141592))\n",
    "\n",
    "'''\n",
    "< 🟡의미 >\n",
    "\"{0:.4f}\".format(3.141592)\n",
    "\n",
    "  - {0}: 첫 번째 위치 인덱스를 가리킵니다. format()에 전달된 첫 번째 인자(여기서는 3.141592)를 참조합니다.\n",
    "\n",
    "  - :.4f: 부동소수점 숫자의 형식을 지정합니다.\n",
    "    - .4: 소수점 이하 4자리까지 표시\n",
    "    - f: 부동소수점 형식을 의미\n",
    "\n",
    "따라서 print(\"{0:.4f}\".format(3.141592))는 3.141592 값을 소수점 이하 4자리까지만 표시하여 출력합니다.\n",
    "'''"
   ]
  },
  {
   "cell_type": "code",
   "execution_count": null,
   "metadata": {},
   "outputs": [
    {
     "name": "stdout",
     "output_type": "stream",
     "text": [
      "1 + 2 = 3\n"
     ]
    }
   ],
   "source": [
    "# f-string으로 쓰는 대표적인 예시하고 합니다. ㄷㄷ\n",
    "\n",
    "x = int(input(\"x= \"))\n",
    "y = int(input(\"y= \"))\n",
    "\n",
    "print(f\"{x} + {y} = {x+y}\")"
   ]
  }
 ],
 "metadata": {
  "kernelspec": {
   "display_name": "aiBootCamp",
   "language": "python",
   "name": "python3"
  },
  "language_info": {
   "codemirror_mode": {
    "name": "ipython",
    "version": 3
   },
   "file_extension": ".py",
   "mimetype": "text/x-python",
   "name": "python",
   "nbconvert_exporter": "python",
   "pygments_lexer": "ipython3",
   "version": "3.10.16"
  }
 },
 "nbformat": 4,
 "nbformat_minor": 2
}
