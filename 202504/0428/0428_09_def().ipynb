{
 "cells": [
  {
   "cell_type": "markdown",
   "metadata": {},
   "source": [
    "# 🟩 define\n",
    "\n",
    "- 함수란? 특정 기능끼리 묶어놓은 코드\n",
    "  - 아주 옛날에 프로그램을 스파게티 코드(결과만 나오면 좋다.)라고 합니다.\n",
    "  - 결과만 나오면 좋다.  =>  \n",
    "  - 모듈 (일을 작게 나누어서 처리하자 나눈 일의 단위) => 기능별로 나눠서 \n",
    "    - 프로시저 : 일이 끝나고 값을 반환하지 않는다.\n",
    "    - 함수 : 일을 끝내고 값을 반환한다.\n",
    "      - 파이썬은 프로시저나 함수를 구분하지 않습니다.\n",
    "      - C언어가 프로시저와 함수를 합쳐서 함수라고 부른다.\n",
    "    \n",
    "  - 파일에 저장하는게 아니라, 데이터베이스에 저장을 한다.\n",
    "    - MySQL을 주로 사용하는 이유는 공짜이기 때문이고, oracle이 가장 좋습니다.()\n",
    "\n",
    "  - 함수는 기본적으로 15줄을 넘기면 안됩니다. A4용지 한장을 넘기면 안된다.\n",
    "\n",
    "- 파이썬의 경우는 def키워드로 시작해서 \n",
    "  ```python\n",
    "  def 함수이름(매개변수들):\n",
    "    ......\n",
    "    ......\n",
    "    return 값 원칙이 값 하나만 리턴한다. 파이썬도 값을 하나만 보낸다.\n",
    "            만일 여러개 보내면 tuple타입으로 묶어서 전달한다.\n",
    "    # 튜플 예시 : return value1, value2\n",
    "  ```\n",
    "\n",
    "- 장점 : 유지보수가 편해진다.\n",
    "  - 반복적인 일을 처리하고자 할 때 함수를 만들면 간결하게 처리할 수 있다.\n",
    "  - 구조적 프로그래밍(C언어), 객체지향 프로그램에서 필수다.\n",
    "\n",
    "  "
   ]
  },
  {
   "cell_type": "markdown",
   "metadata": {},
   "source": [
    "## 🟢 기본적인 함수의 형태"
   ]
  },
  {
   "cell_type": "code",
   "execution_count": 6,
   "metadata": {},
   "outputs": [
    {
     "name": "stdout",
     "output_type": "stream",
     "text": [
      "||||||||||||||||||||||||||||||\n",
      "None\n"
     ]
    }
   ],
   "source": [
    "def print_line():\n",
    "  # pass # 기본적으로 함수 내 코드 1줄이 있어야 하는데 아직 넣고 싶지 않을 경우, \n",
    "        # 나 아직 뭘 써야할지 모르겠어 할 때 pass를 넣어주면 에러가 발생하지 않습니다.\n",
    "  print('|' * 30)\n",
    "\n",
    "\n",
    "# print_line()  # 이렇게 함수를 호출해야 함수를 작동 시킬 수 있습니다.\n",
    "# # pass이기 때문에 아무 일도 일어나지 않습니다.\n",
    "# print_line()\n",
    "# print_line()\n",
    "# print_line()\n",
    "# print_line()\n",
    "\n",
    "print(print_line())"
   ]
  },
  {
   "cell_type": "markdown",
   "metadata": {},
   "source": [
    "## 🟢 기초 예제"
   ]
  },
  {
   "cell_type": "code",
   "execution_count": 12,
   "metadata": {},
   "outputs": [
    {
     "data": {
      "text/plain": [
       "55"
      ]
     },
     "execution_count": 12,
     "metadata": {},
     "output_type": "execute_result"
    }
   ],
   "source": [
    "def sigma():  # 작은 프로그램 단위\n",
    "  s = 0\n",
    "  for i in range(1, 11):\n",
    "    s += i\n",
    "  return s\n",
    "  \n",
    "sigma()"
   ]
  },
  {
   "cell_type": "code",
   "execution_count": 13,
   "metadata": {},
   "outputs": [
    {
     "data": {
      "text/plain": [
       "55"
      ]
     },
     "execution_count": 13,
     "metadata": {},
     "output_type": "execute_result"
    }
   ],
   "source": [
    "def sigma(limit):   # 여기에 들어간 것이 매개변수 입니다.\n",
    "  s = 0\n",
    "  for i in range(1, limit+1):\n",
    "    s += i\n",
    "  return s\n",
    "  \n",
    "sigma(10)  # 매개변수를 통해서 \n",
    "sigma(100)\n",
    "sigma(1000)"
   ]
  },
  {
   "cell_type": "markdown",
   "metadata": {},
   "source": []
  }
 ],
 "metadata": {
  "kernelspec": {
   "display_name": "aiBootCamp",
   "language": "python",
   "name": "python3"
  },
  "language_info": {
   "codemirror_mode": {
    "name": "ipython",
    "version": 3
   },
   "file_extension": ".py",
   "mimetype": "text/x-python",
   "name": "python",
   "nbconvert_exporter": "python",
   "pygments_lexer": "ipython3",
   "version": "3.10.16"
  }
 },
 "nbformat": 4,
 "nbformat_minor": 2
}
