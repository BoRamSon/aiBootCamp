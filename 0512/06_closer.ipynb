{
 "cells": [
  {
   "cell_type": "markdown",
   "id": "1212e800",
   "metadata": {},
   "source": [
    "# 🟩 Closer (클로저)\n",
    "\n",
    "- 함수 안에 함수가 있고, 그 안쪽 함수가 바깥 함수의 변수를 참조하고 있을 때 발생하는 개념입니다."
   ]
  },
  {
   "cell_type": "markdown",
   "id": "ad8af47d",
   "metadata": {},
   "source": [
    "## 🟢 클로저의 기본 구조"
   ]
  },
  {
   "cell_type": "code",
   "execution_count": null,
   "id": "05d034cf",
   "metadata": {},
   "outputs": [],
   "source": [
    "def outer(x):       # 외부 함수\n",
    "    def inner(y):   # 내부 함수\n",
    "        return x + y\n",
    "    return inner    # 내부 함수를 반환\n",
    "\n",
    "closure_func = outer(10)  # outer는 끝났지만,\n",
    "print(closure_func(5))    # inner는 x=10 기억하고 있음 → 결과: 15\n"
   ]
  }
 ],
 "metadata": {
  "kernelspec": {
   "display_name": "aiBootCamp",
   "language": "python",
   "name": "python3"
  },
  "language_info": {
   "name": "python",
   "version": "3.10.16"
  }
 },
 "nbformat": 4,
 "nbformat_minor": 5
}
