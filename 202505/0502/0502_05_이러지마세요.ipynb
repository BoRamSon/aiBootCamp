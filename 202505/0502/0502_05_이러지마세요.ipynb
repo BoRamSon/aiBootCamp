{
 "cells": [
  {
   "cell_type": "markdown",
   "metadata": {},
   "source": [
    "# 🟩 이런 식의 코드는 쓰면 안됩니다."
   ]
  },
  {
   "cell_type": "code",
   "execution_count": null,
   "metadata": {},
   "outputs": [
    {
     "name": "stdout",
     "output_type": "stream",
     "text": [
      "call me\n",
      "<class 'tuple'> (6, 8, 10)\n",
      "6\n",
      "8\n",
      "10\n",
      "\n",
      "call me\n",
      "12\n",
      "call me\n",
      "14\n",
      "call me\n",
      "16\n"
     ]
    }
   ],
   "source": [
    "def add(x,y,z):\n",
    "  print('call me')\n",
    "  return x*2, y*2, z*2\n",
    "\n",
    "a = add(3,4,5)\n",
    "print(type(a), a)\n",
    "\n",
    "print(a[0])\n",
    "print(a[1])\n",
    "print(a[2])\n",
    "\n",
    "print()\n",
    "\n",
    "# 이런 식의 코드는 쓰지 맙시다!\n",
    "print(add(6,7,8)[0]) # 이렇게 써도 똑같습니다.\n",
    "print(add(6,7,8)[1]) # 근데 이렇게 쓰면 너무 비효율적이다.\n",
    "print(add(6,7,8)[2]) # 함수가 3번이나 호출되고 있다.\n",
    "\n",
    "\n",
    "\n"
   ]
  }
 ],
 "metadata": {
  "kernelspec": {
   "display_name": "aiBootCamp",
   "language": "python",
   "name": "python3"
  },
  "language_info": {
   "codemirror_mode": {
    "name": "ipython",
    "version": 3
   },
   "file_extension": ".py",
   "mimetype": "text/x-python",
   "name": "python",
   "nbconvert_exporter": "python",
   "pygments_lexer": "ipython3",
   "version": "3.10.16"
  }
 },
 "nbformat": 4,
 "nbformat_minor": 2
}
