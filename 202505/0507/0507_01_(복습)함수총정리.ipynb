{
 "cells": [
  {
   "cell_type": "markdown",
   "metadata": {},
   "source": [
    "# 🟩 함수 총 정리"
   ]
  },
  {
   "cell_type": "markdown",
   "metadata": {},
   "source": [
    "## 🟢 세대 정리\n",
    "\n",
    "- 1세대\n",
    "\n",
    "\n",
    "- 2세대\n",
    "  - 고급언어(사람의 말과 유사한), 코볼, 포트란, 범용 언어(다목적용 언어를 못 만들음)\n",
    "    - 코볼 - 데이터 처리 전문(시장은 끝났다.). \n",
    "    - 포트란 - 과학기술계산용(물리학과, 원자력발전소)\n",
    "    - 스파게티 코드 - 대충 의식의 흐름대로 프로그램을 함\n",
    "    - goto문 - 아무데로나 막 점프한다. 현재는 시스템프로그램 분야 외에는 거의 안쓰는 걸로....\n",
    "  \n",
    "- 3세대 \n",
    "  - C, algol, pascal 등등...\n",
    "    - 스파게티 코드에 대한 반성이 시작됨 그러면서 구조적 프로그래밍이라는 단어가 등장함\n",
    "    - 구조적 프로그래밍 특징\n",
    "      - 1. top -> down 설계방식 : 기본부터 -> 아래로 내려가는 방식\n",
    "      - 2. 설계라는 개념을 처음 시도를 한다.\n",
    "      - 3. 순서도\n",
    "      - 4. 모듈화 (함수와 프로시저로 프로그램을 작은 단위로 나누어서 프로그램을 한다.)\n",
    "      - 5. 주석을 열심히\n",
    "      - 6. 소프트웨어 공학\n",
    "\n",
    "- 4세대 \n",
    "  - 객체지향 프로그래밍, 3세대의 반성\n",
    "    - 1. bottom -> up : 3세대의 경험을 바탕으로 부품화 (부품들을 모으면 하나의 제품이 되더라)\n",
    "    - 2. 객체지향\n",
    "      - 1) 추상화: 내부의 상세한 내용을 몰라도 사용에 아무 제한사항이 없는 성격을 말합니다. 추상화가 극대화 될 수록 사용자가 편해집니다.\n",
    "        - ex. list, tuple, dict, map, filter 등등의 내부구조를 몰라도 된다.\n",
    "      - 2) 은닉성: 데이터를 감춥니다.\n",
    "        - 컴퓨터의 case가 없으면 오염으로부터 취약하다.\n",
    "        - 데이터를 보호하자.\n",
    "        - 접근 권한을 만들어서 외부로 접근을 막는다.\n",
    "        - 최근에는 이 성격이 약화되고 있다.\n",
    "        - 특히 파이썬의 경우 전부 사용가능하다.\n",
    "      - 3) 상속성 : 코드의 재활용도를 높인다. 프레임워크\n",
    "        - 코드를 처음부터 짜는게 아니라 이미 만들어놓은 클래스들 중에서 유사한거 골라서 상속 받아서 만든다.\n",
    "      - 4) 다형성 : 이름은 같은데 형태가 여러개\n",
    "        - overloading(자바), 매개변수 기본값(파이썬)\n",
    "        - overriding(상속) - 상속 받아서 다시 정의할 때 사용\n",
    "\n",
    "\n",
    "\n",
    "\n",
    "\n"
   ]
  },
  {
   "cell_type": "markdown",
   "metadata": {},
   "source": [
    "## 🟢 함수의 규칙 (복습)\n",
    "\n",
    "```python\n",
    "def 함수이름():\n",
    "  ....\n",
    "  ....\n",
    "```\n",
    "\n",
    "- 함수이름 규칙은 변수 규칙과 동일하다.\n",
    "  1. 영문자로 시작하고 _ 가능\n",
    "  1. 대소문자 구분\n",
    "  1. 예약어 안됨\n",
    "  1. (암묵적으로) 소문자로 시작한다.\n",
    "  1. (암묵적으로) 스네이크 표기법을 사용한다.\n"
   ]
  },
  {
   "cell_type": "markdown",
   "metadata": {},
   "source": [
    "### 🟡 전역변수, 지역변수 (복습)\n",
    "\n",
    "| 구분       | 전역 변수 (Global Variable)               | 지역 변수 (Local Variable)               |\n",
    "|------------|-------------------------------------------|-------------------------------------------|\n",
    "| 정의 위치  | 함수 밖                                    | 함수 안                                   |\n",
    "| 사용 범위  | 파일 전체 또는 모듈 전체                  | 해당 함수 안에서만 사용 가능             |\n",
    "| 선언 방식  | 그냥 변수 선언                             | 함수 내부에서 변수 선언                  |\n",
    "| 수정 방법  | 함수 안에서 수정하려면 `global` 키워드 필요 | 함수 안에서 직접 수정 가능               |\n",
    "\n",
    "\n",
    "- 전역변수 (global)\n",
    "  - 함수 안에서 변수를 사용하면 값을 읽는게 아니고 값을 할당하면, 외부에 있는 전역변수를 가려버린다.\n",
    "\n",
    "```python\n",
    "\n",
    "```"
   ]
  },
  {
   "cell_type": "code",
   "execution_count": 6,
   "metadata": {},
   "outputs": [
    {
     "name": "stdout",
     "output_type": "stream",
     "text": [
      "30 20\n",
      "30\n"
     ]
    }
   ],
   "source": [
    "global_x = 10 # 1. 함수 외부에 변수를 선언함\n",
    "\n",
    "def myfunc1():\n",
    "  global global_x  # 6. 🔥 예외적으로 외부 변수를 같이 사용하고 싶다면 global을 앞에 붙인다.\n",
    "  global_x = 30  # 2. 현재 이 친구는 함수 내부에만 존재하는 지역변수\n",
    "      # 3. 함수 내부에서 변수에 값을 할당하는 순간 변도의 변수가 만들어진다.\n",
    "      \n",
    "  y = 20\n",
    "  print(global_x, y)\n",
    "\n",
    "global_x = 100\n",
    "myfunc1()  # 4. 지역변수를 우선적으로 가져오는 것을 볼 수 있습니다.\n",
    "print(global_x)  # 5. 얘는 가장 마지막에 있는 global_x 변수를 가져오겠죠.\n",
    "                # 7. 함수 내부의 변수가 global이 붙으니, 전역변수로 변했다!!"
   ]
  },
  {
   "cell_type": "markdown",
   "metadata": {},
   "source": [
    "### 🟡 함수의 매개변수 기본값 (복습)\n",
    "\n",
    "```python\n",
    "\n",
    "```"
   ]
  },
  {
   "cell_type": "code",
   "execution_count": 10,
   "metadata": {},
   "outputs": [
    {
     "name": "stdout",
     "output_type": "stream",
     "text": [
      "홍길동\n",
      "21\n",
      "010-0000-0000\n",
      "임꺽정\n",
      "123\n",
      "010-0000-0000\n",
      "둘리\n",
      "21\n",
      "010-0000-0000\n",
      "홍길동\n",
      "23\n",
      "010-0000-0000\n"
     ]
    }
   ],
   "source": [
    "def myfunc2(name = '홍길동', age = '21', phone = '010-0000-0000'):\n",
    "  print(name)\n",
    "  print(age)\n",
    "  print(phone)\n",
    "\n",
    "myfunc2()  # default value가 그대로 나옵니다.\n",
    "myfunc2('임꺽정', 123)  # name과 age만 변경해보았습니다.\n",
    "myfunc2(name = '둘리')  # 이렇게도 매개변수를 줄 수 있습니다.\n",
    "myfunc2(age = 23)  # 이렇게도 매개변수를 줄 수 있습니다.\n",
    "myfunc2(phone='8-4833')  # \n",
    "\n",
    "# 정적결정: 함수를 미리 만들어놓고 호출하는 것\n",
    "# 동적결정: 실행될 때 함수가 결정되는 것\n",
    "# 컴파일시간에 결정되면 '정적할당'\n",
    "# 실행시간에 결정되면 '동적할당'이라고 합니다.\n",
    "# Java는 컴파일러임에도 불구하고 동적할당, \n",
    "# 파이썬은 모든 것이 실행시간에 결정된다. 불나방 같이 실행할 때 결정됨.\n"
   ]
  },
  {
   "cell_type": "markdown",
   "metadata": {},
   "source": [
    "### 🟡 python function 'Generator'\n",
    "\n",
    "- 제너레이터\n",
    "  - (개념만 알아두기)\n",
    "  - 우리가 막 만들어 써야 하는 것은 아니고, 용어 자체가 중요함\n",
    "  - 값을 하나씩 생성해서 순회할 수 있는 함수나 객체, range나 filter가 해당된다.\n",
    "\n",
    "- 함수 안에서 값을 반환하려면 return과 yield(얄드)가 있다.\n",
    "  - return 은 값을 반환하면서 함수를 바로 종료시켜버림.\n",
    "  - yield 는 값을 반환하는데 함수를 종료하지 않고 대기상태에 들어감.\n",
    "  \n",
    "```python\n",
    "\n",
    "```"
   ]
  },
  {
   "cell_type": "code",
   "execution_count": null,
   "metadata": {},
   "outputs": [],
   "source": [
    "print(range(1,6)) # range라는 함수는 for문 안에 호출하면 데이터 한개씩 만들어서 던져준다.\n",
    "\n",
    "for i in range(1,6):\n",
    "  print(i)"
   ]
  },
  {
   "cell_type": "code",
   "execution_count": 15,
   "metadata": {},
   "outputs": [
    {
     "name": "stdout",
     "output_type": "stream",
     "text": [
      "1\n",
      "2\n",
      "3\n",
      "4\n",
      "5\n"
     ]
    }
   ],
   "source": [
    "# range() 내장 함수가 이렇게 만들어 진 것입니다.\n",
    "\n",
    "def myrange(start=1, end=5):\n",
    "  i=start\n",
    "  while i <= end:\n",
    "    yield i  # 이 구문을 만나는 순간 값을 하나 반환하고 멈춘다. (대기 상태) \n",
    "              # 즉, while문에 끝날 때 끝나게 되는 존재\n",
    "    i = i + 1\n",
    "\n",
    "\n",
    "gen = myrange()  # 함수를 호출해서 저장해놓고, \n",
    "                  # gen은 myrange() 함수 호출에 의해 생성된 제너레이터 객체의 메모리 주소를 참조합니다. \n",
    "                  # 이 객체는 값을 직접 저장하지 않고, yield를 통해 값을 하나씩 생성할 수 있는 이터레이터입니다.\n",
    "# 실행은 next나 for문으로 실행해야 합니다.\n",
    "print(next(gen))\n",
    "print(next(gen))\n",
    "print(next(gen))\n",
    "print(next(gen))\n",
    "print(next(gen))\n",
    "# = 이것이 바로 generator라고 합니다.\n",
    "\n"
   ]
  },
  {
   "cell_type": "code",
   "execution_count": null,
   "metadata": {},
   "outputs": [
    {
     "name": "stdout",
     "output_type": "stream",
     "text": [
      "1\n",
      "2\n",
      "3\n",
      "4\n",
      "5\n",
      "6\n",
      "7\n",
      "8\n",
      "9\n",
      "10\n"
     ]
    }
   ],
   "source": [
    "# 직접 만든 myrange 함수를 사용해보겠습니다.\n",
    "\n",
    "for i in myrange(1, 10):\n",
    "  print(i)"
   ]
  },
  {
   "cell_type": "markdown",
   "metadata": {},
   "source": [
    "- 사용성\n",
    "  1. 데이터가 너무 커서 한방에 생성할 수 없을 때\n",
    "  1. 무한한 작업이 필요할 때\n",
    "  1. 파일을 계속 읽어서 처리하고자 할 때"
   ]
  }
 ],
 "metadata": {
  "kernelspec": {
   "display_name": "aiBootCamp",
   "language": "python",
   "name": "python3"
  },
  "language_info": {
   "codemirror_mode": {
    "name": "ipython",
    "version": 3
   },
   "file_extension": ".py",
   "mimetype": "text/x-python",
   "name": "python",
   "nbconvert_exporter": "python",
   "pygments_lexer": "ipython3",
   "version": "3.10.16"
  }
 },
 "nbformat": 4,
 "nbformat_minor": 2
}
