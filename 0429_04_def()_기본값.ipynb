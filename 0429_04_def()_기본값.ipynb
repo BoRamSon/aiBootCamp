{
 "cells": [
  {
   "cell_type": "markdown",
   "metadata": {},
   "source": [
    "# 🟩 def() - 매개변수 default value \n",
    "### (기본값 정해놓기)"
   ]
  },
  {
   "cell_type": "markdown",
   "metadata": {},
   "source": [
    "## 🟢 오버로딩\n",
    "파이썬의 경우는 오버로딩을 지원하지 않음\n",
    "오버로딩 - 동일한 이름의 함수인데 매개변수 등의 개수나 타입등을 이용해서 동일한 이름의 함수를 여러개 만드는 것\n",
    "오버로딩의 장점 : 사용자가 편함\n",
    "\n",
    "파이썬에서는 상기 오버로딩을 지원하지 않음 , 왜냐하면 변수에 특정한 타입을 지정해서 사용하지 않기 때문에 매개변수의 개수나 타입으로 호출할 함수의 구분이 안됨\n",
    "하지만 매개변수에 기본값을 줄 수 있어서 마치 오버로딩과 같은 효과를 줄 수 있음\n",
    "\n",
    "매개 변수 기본값 설정"
   ]
  },
  {
   "cell_type": "code",
   "execution_count": null,
   "metadata": {},
   "outputs": [],
   "source": [
    "def myadd(x = 0 , y = 0 , z = 0) :  # 함수의 매개 변수에 기본 값을 주면 값을 전달하지 않으면 기본값이 적용됨\n",
    "    return x + y + z\n",
    "\n",
    "result = myadd(1,2,3)   # 매개변수를 넣었을 때\n",
    "print(result)\n",
    "\n",
    "result = myadd()        # 매개변수를 안 넣었을 때 - 오류 발생(함수의 매개변수에 기본 값이 적용되어 있지 않으면)\n",
    "print(result)           # 매개변수를 안 넣었을 때 - 기본 값으로 출력(함수의 매개변수에 기본 값이 적용되어 있으면)\n",
    "\n",
    "# 함수의 매개변수에 기본값이 설정되어 있기에 매개변수를 생략하거나 적게 넣을 수 있어서 오버로딩과 같은 효과를 볼 수 있음\n",
    "print(myadd())\n",
    "print(myadd(1))\n",
    "print(myadd(1,2))\n",
    "print(myadd(1,2,3))"
   ]
  },
  {
   "cell_type": "markdown",
   "metadata": {},
   "source": [
    "#### 🟡 주의할 점\n",
    "모든 매개변수에 기본값을 주어야하는 것은 아니지만, 기본값을 주기 시작한 부분부터 나머지 매개변수도 다 기본값을 주어야 한다."
   ]
  },
  {
   "cell_type": "code",
   "execution_count": null,
   "metadata": {},
   "outputs": [],
   "source": [
    "def myfunction(a , b , c = 0 , d = 0) : # 해당 함수는 오류 미발생(단, 호출시 최소한 2개의 매개 변수는 주어야함, 그래야 오류가 뜨지 않음)\n",
    "    return a + b + c + d\n",
    "\n",
    "print(myfunction(1,2))                  # 호출 시 최소 2개의 매개변수를 주지 않으면 호출 오류 발생됨\n",
    "\n",
    "def myfunction_2(a = 0 , b , c , d) :  # 해당 함수는 오류 발생 , 기본값을 주기 시작한 부분부터 끝까지 매개변수가 설정되어있지 않음\n",
    "    return a + b + c + d"
   ]
  },
  {
   "cell_type": "markdown",
   "metadata": {},
   "source": [
    "#### 🟡 매개변수 기본값 예제"
   ]
  },
  {
   "cell_type": "code",
   "execution_count": null,
   "metadata": {},
   "outputs": [],
   "source": [
    "def sigma(limit = 10) :\n",
    "    sum = 0\n",
    "    for i in range(0,limit) :\n",
    "        sum += i\n",
    "    return sum\n",
    "\n",
    "print(sigma())\n",
    "print(sigma(5))\n",
    "print(sigma(100))"
   ]
  },
  {
   "cell_type": "code",
   "execution_count": null,
   "metadata": {},
   "outputs": [],
   "source": []
  }
 ],
 "metadata": {
  "kernelspec": {
   "display_name": "aiBootCamp",
   "language": "python",
   "name": "python3"
  },
  "language_info": {
   "name": "python",
   "version": "3.10.16"
  }
 },
 "nbformat": 4,
 "nbformat_minor": 2
}
