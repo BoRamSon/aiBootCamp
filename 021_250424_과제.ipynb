{
 "cells": [
  {
   "cell_type": "markdown",
   "metadata": {},
   "source": [
    "# 🟩 2025.04.24. 오늘의 과제"
   ]
  },
  {
   "cell_type": "markdown",
   "metadata": {
    "vscode": {
     "languageId": "plaintext"
    }
   },
   "source": [
    "# 문제5 문자열 연습하기\n",
    "\n",
    "5-1. 변수에 값 \"홍길동, 임꺽정, 장길산, 최영, 윤관, 강감찬, 서희, 이순신, 남이\"\n",
    "5-2. => list 타입으로 전환\n",
    "5-3. => '서희' 가 몇번쨰에 있는지\n",
    "5-4. '이순신', '장영실' 존재여부 확인\n",
    "5-5. 추가할 사람 : '정도전', '정약용', '최지원' ....\n",
    "5-6. '서희' => '김종서'로 바꾸기\n",
    "5-7. 장길산 => 김길산 첫글자만 바꾸기"
   ]
  },
  {
   "cell_type": "code",
   "execution_count": null,
   "metadata": {},
   "outputs": [
    {
     "name": "stdout",
     "output_type": "stream",
     "text": [
      "5-1. 변수 people = 홍길동, 임꺽정, 장길산, 최영, 윤관, 강감찬, 서희, 이순신, 남이\n",
      "5-2. ['홍길동', ' 임꺽정', ' 장길산', ' 최영', ' 윤관', ' 강감찬', ' 서희', ' 이순신', ' 남이']\n",
      "5-3. 리스트 내에 7번째에 존재합니다.\n",
      "5-4. 이순신은 리스트 내에 존재합니다.\n",
      "5-4. 장영실은 리스트 내에 존재하지 않습니다.\n",
      "5-5. ['홍길동', '임꺽정', '장길산', '최영', '윤관', '강감찬', '서희', '이순신', '남이', '정도전', '정약욕', '최지원']\n",
      "5-6. ['홍길동', '임꺽정', '장길산', '최영', '윤관', '강감찬', '김종서', '이순신', '남이', '정도전', '정약욕', '최지원']\n",
      "5-7. ['홍길동', '임꺽정', '김길산', '최영', '윤관', '강감찬', '김종서', '이순신', '남이', '정도전', '정약욕', '최지원']\n"
     ]
    }
   ],
   "source": [
    "# 5-1\n",
    "people = \"홍길동, 임꺽정, 장길산, 최영, 윤관, 강감찬, 서희, 이순신, 남이\"\n",
    "print('5-1. 변수 people =', people)\n",
    "\n",
    "# 5-2\n",
    "convert_list = people.split(',')\n",
    "print('5-2.', convert_list)\n",
    "\n",
    "# 5-3\n",
    "remove_space = []\n",
    "for i in convert_list :\n",
    "  remove_space.append(i.strip())\n",
    "# print('5-3.', remove_space)\n",
    "# print(len(remove_space))\n",
    "\n",
    "where_person = remove_space.index('서희')\n",
    "print(f'5-3. 리스트 내에 {where_person + 1}번째에 존재합니다.')\n",
    "\n",
    "# 🔥 2. 정작 이게 def try except로 해야합니다.\n",
    "# if remove_space.index('서희') :\n",
    "#   where_person = remove_space.index('서희') + 1\n",
    "#   print(f'리스트 내에 {where_person}번째에 존재합니다.')\n",
    "# else :\n",
    "#   print('존재하지 않습니다.')\n",
    "\n",
    "\n",
    "# 5-4. 🔥 1. 이거는 사실 in을 사용해야합니다.\n",
    "def is_person_in_list(name) : \n",
    "  try:\n",
    "    remove_space.index(name)\n",
    "    return print(f\"5-4. {name}은 리스트 내에 존재합니다.\")\n",
    "  except:\n",
    "    return print(f\"5-4. {name}은 리스트 내에 존재하지 않습니다.\")\n",
    "\n",
    "is_person_in_list('이순신')\n",
    "is_person_in_list('장영실')\n",
    "\n",
    "\n",
    "# 5-5. \n",
    "remove_space.append('정도전')\n",
    "remove_space.append('정약욕')\n",
    "remove_space.append('최지원')\n",
    "print(f'5-5. {remove_space}')\n",
    "\n",
    "\n",
    "# 5-6. \n",
    "change_name = remove_space[where_person] = '김종서'\n",
    "# print(f'{change_name}')\n",
    "print(f'5-6. {remove_space}')\n",
    "  \n",
    "  \n",
    "# 5-7. 장길산 => 김길산 첫글자만 바꾸기 / replace\n",
    "what_index_number = remove_space.index('장길산')\n",
    "change_first_name_result = remove_space[what_index_number].replace('장길산', '김길산')\n",
    "# print(f'5-7. {change_first_name_result}')\n",
    "\n",
    "remove_space[what_index_number] = '김길산'\n",
    "print(f'5-7. {remove_space}')\n"
   ]
  }
 ],
 "metadata": {
  "kernelspec": {
   "display_name": "aiBootCamp",
   "language": "python",
   "name": "python3"
  },
  "language_info": {
   "codemirror_mode": {
    "name": "ipython",
    "version": 3
   },
   "file_extension": ".py",
   "mimetype": "text/x-python",
   "name": "python",
   "nbconvert_exporter": "python",
   "pygments_lexer": "ipython3",
   "version": "3.10.16"
  }
 },
 "nbformat": 4,
 "nbformat_minor": 2
}
