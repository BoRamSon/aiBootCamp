{
 "cells": [
  {
   "cell_type": "markdown",
   "metadata": {},
   "source": [
    "# 🟩 class"
   ]
  },
  {
   "cell_type": "markdown",
   "metadata": {},
   "source": [
    "### class 설명\n",
    "  - 사용자가 정의하는 데이터 타입이다.\n",
    "  - 객체를 만들기 위한 설계도라고 한다.\n",
    "    - 예시: 붕어빵틀 = 클래스 / 붕어빵 = 객체\n",
    "\n",
    "  - 관련 있는 데이터와 함수들의 집합니다.\n",
    "  - 때로는  데이터만 존재하는 클래스도 있고\n",
    "  - 때로는 함수만 존재하는 클래스도 있다.\n",
    "  - 그리고 대부분의 경우에는 데이터와 함수가 같이 존재한다.\n",
    "\n",
    "  - 클래스는 데이터 타입이다. 타입은 메모리가 없다.\n",
    "  - 객체를 만들어야 비로소 메모리가 확보된다.\n",
    "  \n",
    "\n",
    "\n",
    "  ```python\n",
    "\n",
    "  ```"
   ]
  },
  {
   "cell_type": "markdown",
   "metadata": {},
   "source": [
    "#### 🟡 클래스는 불러오는 방법"
   ]
  },
  {
   "cell_type": "code",
   "execution_count": 4,
   "metadata": {},
   "outputs": [
    {
     "name": "stdout",
     "output_type": "stream",
     "text": [
      "생성자 호출\n",
      "홍길동\n",
      "12\n",
      "홍길동\n",
      "12\n",
      "생성자 호출\n",
      "홍길동\n",
      "12\n"
     ]
    }
   ],
   "source": [
    "class Person:   # 클래스는 첫글자를 대문로 시작한다. 문법이 아니고, 암묵적인 것이다.\n",
    "  name = '홍길동'  # name이라는 클래스 변수가 있다.\n",
    "  age = 12       # age라는 클래스 변수가 있다.\n",
    "\n",
    "  # 클래스는 데이터 타입이다. 타입은 메모리가 없다.\n",
    "  # 객체를 만들어야 비로소 메모리가 확보된다.\n",
    "\n",
    "\n",
    "p1 = Person()  # 객체 또는 개체\n",
    "print(p1.name)\n",
    "print(p1.age)\n",
    "\n",
    "# 이것도 에러가 안나고 잘 출력이 되고 있다....\n",
    "# 🔥 왜 잘 나오는 것인가??? 이건 말이 안되는데??\n",
    "print(Person.name)\n",
    "print(Person.age)\n",
    "# = 만약 name이라는 객체 하나만 생성시켜서 썼다면 모든 class의 애들이 메모리에 다 잡혀버리는 문제가 있다.\n",
    "# <정리>\n",
    "  #  → p1.name = ...을 하면 클래스 변수를 덮어쓰지 않고, p1 객체에 자기만의 name을 새로 만듦.\n",
    "  #  하지만 반대로, 클래스 변수 자체를 수정하면 모든 인스턴스에 영향이 생깁니다.\n",
    "\n",
    "p2 = Person()\n",
    "print(p2.name)\n",
    "print(p2.age)\n",
    "\n",
    "p2.name = '임꺽정'  # 이 때 별도의 메모리 공간이 만들어진다.\n",
    "\n"
   ]
  },
  {
   "cell_type": "markdown",
   "metadata": {},
   "source": [
    "#### 🟡 클래스 생성자 \\__init__(self)"
   ]
  },
  {
   "cell_type": "code",
   "execution_count": null,
   "metadata": {},
   "outputs": [],
   "source": [
    "class Person:   # 클래스는 첫글자를 대문로 시작한다. 문법이 아니고, 암묵적인 것이다.\n",
    "  name = '홍길동'  # name이라는 클래스 변수가 있다.\n",
    "  age = 12       # age라는 클래스 변수가 있다.\n",
    "  # 객체 만들 때마다 호출되는 영역이 아니고 클래스 처음에 딱 한번 호출되는 영역\n",
    "  # 변수는 생성자에서 만들어야 한다.\n",
    "  # 생성자는 객체가 생성될 때마다 호출되는 함수\n",
    "    # 객체가 생성 될 때마다 준비작업을 진행한다.\n",
    "    # 생성자의 호출자는 시스템이다.\n",
    "     # 파이썬의 생성자는 __init__() 입니다. (절대 못바꿈.. 정해짐)\n",
    "    # 첫번째 매개변수는 무조건 self / self가 객체 주소를 전달한다.\n",
    "    # 자바에서는 this에 해당하는 요소가 self이다.\n",
    "\n",
    "  # 클래스는 데이터 타입이다. 타입은 메모리가 없다.\n",
    "  # 객체를 만들어야 비로소 메모리가 확보된다.\n",
    "\n",
    "  def __init__(self):\n",
    "    print('생성자 호출')   # 이 때 p1 = Person() 그냥 바로 호출되는 친구\n",
    "\n",
    "\n",
    "p1 = Person()  # 객체 또는 개체\n",
    "print(p1.name)\n",
    "print(p1.age)\n",
    "\n",
    "# 이것도 에러가 안나고 잘 출력이 되고 있다....\n",
    "# 🔥 왜 잘 나오는 것인가??? 이건 말이 안되는데??\n",
    "print(Person.name)\n",
    "print(Person.age)\n",
    "# = 만약 name이라는 객체 하나만 생성시켜서 썼다면 모든 class의 애들이 메모리에 다 잡혀버리는 문제가 있다.\n",
    "# <정리>\n",
    "  #  → p1.name = ...을 하면 클래스 변수를 덮어쓰지 않고, p1 객체에 자기만의 name을 새로 만듦.\n",
    "  #  하지만 반대로, 클래스 변수 자체를 수정하면 모든 인스턴스에 영향이 생깁니다.\n",
    "\n",
    "p2 = Person()\n",
    "print(p2.name)\n",
    "print(p2.age)\n",
    "\n",
    "p2.name = '임꺽정'  # 이 때 별도의 메모리 공간이 만들어진다.\n",
    "\n"
   ]
  }
 ],
 "metadata": {
  "kernelspec": {
   "display_name": "aiBootCamp",
   "language": "python",
   "name": "python3"
  },
  "language_info": {
   "codemirror_mode": {
    "name": "ipython",
    "version": 3
   },
   "file_extension": ".py",
   "mimetype": "text/x-python",
   "name": "python",
   "nbconvert_exporter": "python",
   "pygments_lexer": "ipython3",
   "version": "3.10.16"
  }
 },
 "nbformat": 4,
 "nbformat_minor": 2
}
