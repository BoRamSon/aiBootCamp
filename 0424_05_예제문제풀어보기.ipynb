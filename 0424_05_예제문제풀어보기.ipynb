{
 "cells": [
  {
   "cell_type": "markdown",
   "metadata": {},
   "source": [
    "# 🟩 문제 풀기\n",
    "\n",
    "2025년 04월 24일"
   ]
  },
  {
   "cell_type": "markdown",
   "metadata": {},
   "source": [
    "### 🟡 문제 1 \n",
    "m를 km와 m로 전환하기  \n",
    "2300미터는 2km와 300m 입니다.\n",
    "미터를 입력받아서 각각 km와 m로 전환해서 출력하세요.  \n",
    "(힌트 - 몫 구하는 연산자 //  ,  나머지를 구하는 연산자 % )\n"
   ]
  },
  {
   "cell_type": "code",
   "execution_count": null,
   "metadata": {},
   "outputs": [
    {
     "name": "stdout",
     "output_type": "stream",
     "text": [
      "2\n",
      "300\n",
      "2km와 300m 입니다.\n"
     ]
    }
   ],
   "source": [
    "input_meter = int(input('m 값을 입력하시오 : '))\n",
    "\n",
    "kilo_meter_value = input_meter // 1000\n",
    "print(kilo_meter_value)\n",
    "\n",
    "again_convert_to_meter = input_meter - (kilo_meter_value * 1000)\n",
    "print(again_convert_to_meter)\n",
    "\n",
    "print(f\"{kilo_meter_value}km와 {again_convert_to_meter}m 입니다.\")\n",
    "\n",
    "\n",
    "# 🔥 이렇게 몫과 나머지를 구하라는 의미인지 전혀 몰랐었다.\n"
   ]
  },
  {
   "cell_type": "code",
   "execution_count": 8,
   "metadata": {},
   "outputs": [
    {
     "name": "stdout",
     "output_type": "stream",
     "text": [
      "2300는 2km와 300m 입니다.\n"
     ]
    }
   ],
   "source": [
    "meter = int(input(\"미터는? \"))\n",
    "\n",
    "km = meter // 1000\n",
    "m = meter % 1000\n",
    "\n",
    "print(f\"{meter}는 {km}km와 {m}m 입니다.\")"
   ]
  },
  {
   "cell_type": "markdown",
   "metadata": {},
   "source": [
    "### 🟡 문제 2\n",
    "사다리꼴 면적 구하기  \n",
    "힌트 - 사다리꼴 면적 : (윗변 + 아랫변) * 높이 / 2 "
   ]
  },
  {
   "cell_type": "code",
   "execution_count": null,
   "metadata": {},
   "outputs": [],
   "source": [
    "upper_edge = int(input('윗변을 입력해주세요 : '))\n",
    "\n",
    "lower_edge = int(input('아랫변을 입력해주세요 : '))\n",
    "\n",
    "trapezoid_result = (upper_edge + lower_edge) / 2\n",
    "\n",
    "print(trapezoid_result)"
   ]
  },
  {
   "cell_type": "markdown",
   "metadata": {},
   "source": [
    "### 🟡 문제 3\n",
    "철수가 식료품점에 가서 과일을 샀다 사과와 배를 샀는데   \n",
    "사과는 1개에 5,000원이고 배는 10,000원이다.  \n",
    "각각 사과와 배의 개수를 입력받아서 총 금액을 구하는 프로그램을 작성하시오."
   ]
  },
  {
   "cell_type": "code",
   "execution_count": null,
   "metadata": {},
   "outputs": [
    {
     "name": "stdout",
     "output_type": "stream",
     "text": [
      "총 금액은 45000입니다.\n"
     ]
    }
   ],
   "source": [
    "apple_price = 5000\n",
    "apple_count = int(input('사과의 갯수를 입력해주세요 : '))\n",
    "\n",
    "pear_price = 10000\n",
    "pear_count = int(input('배의 갯수를 입력해주세요 : '))\n",
    "\n",
    "apple_result = apple_count * apple_price\n",
    "pear_result = pear_count * pear_price\n",
    "\n",
    "total_price = apple_result + pear_result\n",
    "\n",
    "print(f\"총 금액은 {total_price}원 입니다.\")"
   ]
  },
  {
   "cell_type": "markdown",
   "metadata": {},
   "source": [
    "### 🟡 문제 4  \n",
    "### (🔥🔥🔥🔥🔥 나는 바보였다... 나누기도 제대로 할 줄 모르는 사람이였다. ㄷㄷ)\n",
    "\n",
    "거스름돈 계산하기  \n",
    "10만원 짜리 넣고 거스름돈 받기  \n",
    "물건값이 총 : 27,560원  \n",
    "거스름돈 : 72,440원  \n",
    "\n",
    "50000 -- 1장  \n",
    "10000 -- 2장  \n",
    "5000 -- 0장  \n",
    "1000 -- 4장  \n",
    "500 -- 0개  \n",
    "100 -- 4개  \n",
    "50 -- 0개  \n",
    "10 -- 4개  \n",
    "\n"
   ]
  },
  {
   "cell_type": "code",
   "execution_count": null,
   "metadata": {},
   "outputs": [
    {
     "name": "stdout",
     "output_type": "stream",
     "text": [
      "거스름돈은 72440원입니다.\n",
      "5만원권 -- 1장\n",
      "1만원권 -- 2장\n",
      "5천원권 -- 0장\n",
      "1천원권 -- 2장\n",
      "500원 -- 0개\n",
      "100원 -- 4개\n",
      "50원 -- 0개\n",
      "10원 -- 4개\n"
     ]
    }
   ],
   "source": [
    "pay_money = 100000\n",
    "\n",
    "things_total_price = int(input('총 물건의 금액을 입력해주세요.'))\n",
    "\n",
    "change = pay_money - things_total_price\n",
    "\n",
    "print(f\"거스름돈은 {change}원입니다.\")\n",
    "\n",
    "fifty_thousand_won = change // 50000\n",
    "print(f\"5만원권 -- {fifty_thousand_won}장\")\n",
    "remain_money = change % 50000\n",
    "\n",
    "ten_thousand_won = remain_money // 10000\n",
    "print(f\"1만원권 -- {ten_thousand_won}장\")\n",
    "remain_money = remain_money % 10000\n",
    "\n",
    "five_thousand_won = remain_money // 5000\n",
    "print(f\"5천원권 -- {five_thousand_won}장\")\n",
    "remain_money = remain_money % 5000\n",
    "\n",
    "one_thousand_won = remain_money // 1000\n",
    "print(f\"1천원권 -- {one_thousand_won}장\")\n",
    "remain_money = remain_money % 1000\n",
    "\n",
    "five_hundred_won = remain_money // 500\n",
    "print(f\"500원 -- {five_hundred_won}개\")\n",
    "remain_money = remain_money % 500\n",
    "\n",
    "one_hundred_won = remain_money // 100\n",
    "print(f\"100원 -- {one_hundred_won}개\")\n",
    "remain_money = remain_money % 100\n",
    "\n",
    "fifty_won = remain_money // 50\n",
    "print(f\"50원 -- {fifty_won}개\")\n",
    "remain_money = remain_money % 50\n",
    "\n",
    "ten_won = remain_money // 10\n",
    "print(f\"10원 -- {ten_won}개\")"
   ]
  },
  {
   "cell_type": "code",
   "execution_count": null,
   "metadata": {},
   "outputs": [],
   "source": [
    "pay_money = 100000\n",
    "\n",
    "things_total_price = int(input('총 물건의 금액을 입력해주세요.'))\n",
    "\n",
    "change = pay_money - things_total_price\n",
    "\n",
    "temp = change\n",
    "\n",
    "fifty_thousand_won = temp // 50000\n",
    "temp = temp % 50000   # 🔥 temporary 임시의 변수라는 의미\n",
    "\n",
    "ten_thousand_won = temp // 10000\n",
    "temp = temp % 10000\n",
    "\n",
    "five_thousand_won = temp // 5000\n",
    "temp = temp % 5000\n",
    "\n",
    "one_thousand_won = temp // 1000\n",
    "temp = temp % 1000\n",
    "\n",
    "five_hundred_won = temp // 500\n",
    "temp = temp % 500\n",
    "\n",
    "one_hundred_won = temp // 100\n",
    "temp = temp % 100\n",
    "\n",
    "fifty_won = temp // 50\n",
    "temp = temp % 50\n",
    "\n",
    "ten_won = temp // 10\n",
    "\n",
    "\n",
    "# 🔥 이렇게 별도로 빼주는 것이 더 일관성 있습니다.\n",
    "print(f\"거스름돈은 {change}원입니다.\")\n",
    "print(f\"5만원권 ==> {fifty_thousand_won}장\")\n",
    "print(f\"1만원권 ==> {ten_thousand_won}장\")\n",
    "print(f\"5천원권 ==> {five_thousand_won}장\")\n",
    "print(f\"1천원권 ==> {one_thousand_won}장\")\n",
    "print(f\"500원 ==> {five_hundred_won}개\")\n",
    "print(f\"100원 ==> {one_hundred_won}개\")\n",
    "print(f\"50원 ==> {fifty_won}개\")\n",
    "print(f\"10원 ==> {ten_won}개\")"
   ]
  }
 ],
 "metadata": {
  "kernelspec": {
   "display_name": "learnAI",
   "language": "python",
   "name": "python3"
  },
  "language_info": {
   "codemirror_mode": {
    "name": "ipython",
    "version": 3
   },
   "file_extension": ".py",
   "mimetype": "text/x-python",
   "name": "python",
   "nbconvert_exporter": "python",
   "pygments_lexer": "ipython3",
   "version": "3.10.16"
  }
 },
 "nbformat": 4,
 "nbformat_minor": 2
}
