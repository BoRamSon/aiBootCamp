{
 "cells": [
  {
   "cell_type": "markdown",
   "metadata": {},
   "source": [
    "# 🟩 최댓값을 고르는 알고리즘!!!"
   ]
  },
  {
   "cell_type": "markdown",
   "metadata": {},
   "source": [
    "### 🟡 문제 - 함수, 최대값과 최대값 위치를 반환하는 함수\n",
    "a = [5,4,1,7,8,3,6]\n",
    "\n",
    "1. 첫번째 방의 데이터가 젤 크다고 가정을 한다. / max 라는 변수에 첫번째 방의 데이터를 저장해 놓는다.\n",
    "1. 두번째 방의 데이터를 비교해서 두번째 방의 값이 더 크면 값을 max의 값을 변경한다\n",
    "1. 세번째 방의 데이터를 비교해서 두번째 방의 값이 더 크면 값을 max의 값을 변경한다\n",
    "1. ....... 마지막 방까지 가고 나면 max저장된 값이 제일 크다\n",
    "\n"
   ]
  },
  {
   "cell_type": "code",
   "execution_count": null,
   "metadata": {},
   "outputs": [
    {
     "name": "stdout",
     "output_type": "stream",
     "text": [
      "8 4\n"
     ]
    }
   ],
   "source": [
    "a = [5,4,1,7,8,3,6]\n",
    "max = a[0]\n",
    "pos = 0   # 0번째 방이 제일 크다고 가정하자!\n",
    "\n",
    "# 🟡 방법 1\n",
    "# if max < a[1]:\n",
    "#   max = a[1]\n",
    "# if max < a[2]:\n",
    "#   max = a[2]\n",
    "\n",
    "# 🟡 방법 2\n",
    "for i in range(1, len(a)):\n",
    "  if max < a[i]:\n",
    "    max = a[i]\n",
    "    pos = i\n",
    "print(max, pos)"
   ]
  },
  {
   "cell_type": "code",
   "execution_count": 8,
   "metadata": {},
   "outputs": [
    {
     "name": "stdout",
     "output_type": "stream",
     "text": [
      "(8, 4)\n",
      "8 4\n"
     ]
    }
   ],
   "source": [
    "a = [5,4,1,7,8,3,6]\n",
    "\n",
    "def getMax(a):\n",
    "  max = a[0]\n",
    "  pos = 0   # 0번째 방이 제일 크다고 가정하자!\n",
    "\n",
    "  for i in range(1, len(a)):\n",
    "    if max < a[i]:\n",
    "      max = a[i]\n",
    "      pos = i\n",
    "  # print(max, pos)\n",
    "  return max, pos  # 다른 언어는 에러발생, 파이썬은 시스템이 알아서 tuple로 변환해줌\n",
    "\n",
    "print(getMax(a))\n",
    "\n",
    "# 🔥 return 값이 tuple로 나오기 때문에\n",
    "m, p = getMax(a) # 이렇게 변수에 저장이 가능합니다.\n",
    "print(m, p)\n"
   ]
  }
 ],
 "metadata": {
  "kernelspec": {
   "display_name": "aiBootCamp",
   "language": "python",
   "name": "python3"
  },
  "language_info": {
   "codemirror_mode": {
    "name": "ipython",
    "version": 3
   },
   "file_extension": ".py",
   "mimetype": "text/x-python",
   "name": "python",
   "nbconvert_exporter": "python",
   "pygments_lexer": "ipython3",
   "version": "3.10.16"
  }
 },
 "nbformat": 4,
 "nbformat_minor": 2
}
