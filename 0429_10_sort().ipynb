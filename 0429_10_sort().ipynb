{
 "cells": [
  {
   "cell_type": "markdown",
   "metadata": {},
   "source": [
    "# 🟩 sort()"
   ]
  },
  {
   "cell_type": "markdown",
   "metadata": {},
   "source": [
    "\n",
    "### 🟡 정의\n",
    "- 데이터 정렬 함수\n",
    "- sort()는 리스트 내부에서 직접 정렬을 수행하는 메서드입니다.\n",
    "- 리스트 타입: 타입 자체로 정렬을 지니고 있음\n",
    "- 즉, 원본 리스트를 정렬 상태로 변경(in-place) 합니다.\n",
    "- 정렬된 새로운 리스트를 반환하지 않으며, 반환값은 None입니다.\n",
    "\n",
    "\n",
    "### 🟡 기본 구조 (형태)\n",
    "```python\n",
    "list.sort(key=None, reverse=False)\n",
    "```\n",
    "- key (옵션): 정렬 기준이 되는 함수\n",
    "- reverse (옵션): True이면 내림차순, 기본은 False (오름차순)\n",
    "- list 형태에만 사용가능 (dict의 경우 list dict '[{}]'여야 가능)\n",
    "\n",
    "\n",
    "### 🟡 특징\n",
    "- sort 함수가 filter처럼 별도로 존재\n",
    "- sort내부에 key 라는 매개변수에 lambda 를 전달할 수도 있음.\n",
    "- dict 타입은 dict 타입끼리의 비교 연산자가 없어서 .sort() 를 사용할 수 없음 - 오류 발생\n",
    "- dict 타입은 대신 sort()함수 내부에 key 라고 하는 매개변수를 주고 lambda 를 사용해서 처리할 수 있습니다.\n",
    "- 이 때 제공하는 lambda 는 매개변수 하나고 반환값이 > 연산자가 지원되는 반환타입만 매개변수로 사용이 가능하다.\n",
    "- 오름차순이 기본값이며, reverse 값은 True 로 변경하면 내림차순으로 정렬함\n",
    "- list 타입에 속한 함수 sort 는 자신의 순서가 바뀜\n",
    "\n",
    "### 🟡 작동방식\n",
    "\n"
   ]
  },
  {
   "cell_type": "code",
   "execution_count": null,
   "metadata": {},
   "outputs": [],
   "source": [
    "nums = [5, 2, 9, 1]\n",
    "nums.sort()\n",
    "print(nums)  # [1, 2, 5, 9]"
   ]
  },
  {
   "cell_type": "code",
   "execution_count": null,
   "metadata": {},
   "outputs": [
    {
     "name": "stdout",
     "output_type": "stream",
     "text": [
      "[0, 1, 1, 3, 5, 8, 9, 78]\n"
     ]
    }
   ],
   "source": [
    "a = [9,3,5,1,78,1,8,0]\n",
    "a.sort() # 저 리스트는 리스트를 정렬해서 a 값으로 지정해버림!\n",
    "print(a)"
   ]
  },
  {
   "cell_type": "code",
   "execution_count": null,
   "metadata": {},
   "outputs": [],
   "source": [
    "# 🟡 reverse를 true로 설정했을 경우, 내림차순으로 정렬이 된다.\n",
    "# 이거말고 없습니다.\n",
    "\n",
    "nums.sort(reverse=True)\n",
    "print(nums)  # [9, 5, 2, 1]"
   ]
  },
  {
   "cell_type": "code",
   "execution_count": null,
   "metadata": {},
   "outputs": [],
   "source": [
    "# 🟡 key 값 사용해보기 1\n",
    "\n",
    "words = [\"apple\", \"banana\", \"cherry\", \"date\"]\n",
    "\n",
    "# 문자열 길이 기준으로 정렬\n",
    "words.sort(key=len)\n",
    "print(words)  # ['date', 'apple', 'banana', 'cherry']"
   ]
  },
  {
   "cell_type": "code",
   "execution_count": null,
   "metadata": {},
   "outputs": [],
   "source": [
    "# 🟡 key 값 사용해보기 2 (lambda)\n",
    "\n",
    "# dict list type\n",
    "people = [\n",
    "    {\"name\": \"홍길동\", \"age\": 25},\n",
    "    {\"name\": \"김철수\", \"age\": 20},\n",
    "    {\"name\": \"이영희\", \"age\": 30}\n",
    "]\n",
    "\n",
    "# 나이 기준 정렬\n",
    "people.sort(key=lambda person: person[\"age\"])\n"
   ]
  },
  {
   "cell_type": "code",
   "execution_count": 2,
   "metadata": {},
   "outputs": [
    {
     "name": "stdout",
     "output_type": "stream",
     "text": [
      "[{'name': '강감찬', 'age': 54, 'phone': '010-0000-0003'}, {'name': '곽재우', 'age': 41, 'phone': '010-0000-0009'}, {'name': '김종서', 'age': 27, 'phone': '010-0000-0008'}, {'name': '서희', 'age': 75, 'phone': '010-0000-0001'}, {'name': '이순신', 'age': 30, 'phone': '010-0000-0002'}, {'name': '장영실', 'age': 66, 'phone': '010-0000-0006'}, {'name': '정발산', 'age': 70, 'phone': '010-0000-0005'}, {'name': '홍길동', 'age': 34, 'phone': '010-0000-0001'}]\n",
      "[{'name': '홍길동', 'age': 34, 'phone': '010-0000-0001'}, {'name': '정발산', 'age': 70, 'phone': '010-0000-0005'}, {'name': '장영실', 'age': 66, 'phone': '010-0000-0006'}, {'name': '이순신', 'age': 30, 'phone': '010-0000-0002'}, {'name': '서희', 'age': 75, 'phone': '010-0000-0001'}, {'name': '김종서', 'age': 27, 'phone': '010-0000-0008'}, {'name': '곽재우', 'age': 41, 'phone': '010-0000-0009'}, {'name': '강감찬', 'age': 54, 'phone': '010-0000-0003'}]\n",
      "[{'name': '김종서', 'age': 27, 'phone': '010-0000-0008'}, {'name': '이순신', 'age': 30, 'phone': '010-0000-0002'}, {'name': '홍길동', 'age': 34, 'phone': '010-0000-0001'}, {'name': '곽재우', 'age': 41, 'phone': '010-0000-0009'}, {'name': '강감찬', 'age': 54, 'phone': '010-0000-0003'}, {'name': '장영실', 'age': 66, 'phone': '010-0000-0006'}, {'name': '정발산', 'age': 70, 'phone': '010-0000-0005'}, {'name': '서희', 'age': 75, 'phone': '010-0000-0001'}]\n",
      "a = [9, 3, 5, 1, 78, 1, 8, 0]\n",
      "b = [0, 1, 1, 3, 5, 8, 9, 78]\n"
     ]
    }
   ],
   "source": [
    "person_list = [\n",
    "    {\"name\" : \"홍길동\" , \"age\" : 34 , \"phone\" : \"010-0000-0001\"},\n",
    "    {\"name\" : \"정발산\" , \"age\" : 70 , \"phone\" : \"010-0000-0005\"},\n",
    "    {\"name\" : \"강감찬\" , \"age\" : 54 , \"phone\" : \"010-0000-0003\"},\n",
    "    {\"name\" : \"이순신\" , \"age\" : 30 , \"phone\" : \"010-0000-0002\"},\n",
    "    {\"name\" : \"김종서\" , \"age\" : 27 , \"phone\" : \"010-0000-0008\"},\n",
    "    {\"name\" : \"장영실\" , \"age\" : 66 , \"phone\" : \"010-0000-0006\"},\n",
    "    {\"name\" : \"서희\"   , \"age\" : 75 , \"phone\" : \"010-0000-0001\"},\n",
    "    {\"name\" : \"곽재우\" , \"age\" : 41 , \"phone\" : \"010-0000-0009\"}\n",
    "]\n",
    "\n",
    "person_list.sort(key = lambda e : e[\"name\"])\n",
    "print(person_list)\n",
    "\n",
    "person_list.sort(key = lambda e : e[\"name\"] , reverse = True)\n",
    "print(person_list)\n",
    "\n",
    "person_list.sort(key = lambda e : e[\"age\"])\n",
    "print(person_list)\n",
    "\n",
    "# sorted(iterable 데이터 , key , reverse) - 첫번째 매개변수로 전달된 데이터의 원래 순서를 안 바꾸고 바뀐 순서를 list 로 만들어 전달\n",
    "a = [9,3,5,1,78,1,8,0]\n",
    "b = sorted(a)\n",
    "print(\"a =\" ,a)\n",
    "print(\"b =\" ,b)"
   ]
  }
 ],
 "metadata": {
  "kernelspec": {
   "display_name": "aiBootCamp",
   "language": "python",
   "name": "python3"
  },
  "language_info": {
   "codemirror_mode": {
    "name": "ipython",
    "version": 3
   },
   "file_extension": ".py",
   "mimetype": "text/x-python",
   "name": "python",
   "nbconvert_exporter": "python",
   "pygments_lexer": "ipython3",
   "version": "3.10.16"
  }
 },
 "nbformat": 4,
 "nbformat_minor": 2
}
