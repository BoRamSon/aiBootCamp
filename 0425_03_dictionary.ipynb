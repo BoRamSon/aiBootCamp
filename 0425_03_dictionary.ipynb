{
 "cells": [
  {
   "cell_type": "markdown",
   "metadata": {},
   "source": [
    "# 🟩 Dictionary"
   ]
  },
  {
   "cell_type": "markdown",
   "metadata": {},
   "source": [
    "## 🟢 설명 및 특징\n",
    "- key:value 의 구성\n",
    "- key는 중복이 안되고, value는 중복이 된다.\n",
    "- key값을 호출하여 value에 접근이 가능합니다.\n",
    "- 비순차적 구조으로 리스트나 튜플과 다릅니다. 그래서 순차적으로 출력을 할 수 없습니다.\n",
    "- JS JSON과 구조가 같은데 내부는 다릅니다.\n",
    "- 인덱싱, 슬라이싱 불가\n",
    "\n",
    "\n",
    "## 🟢 정의\n",
    "Python Dictionary는 키(key)와 값(value)의 쌍으로 이루어진 데이터 구조입니다.  \n",
    "각 키는 고유하며, 값을 통해 데이터를 저장하고 검색할 수 있습니다.  \n",
    "\n",
    "## 🟢 사용법\n",
    "딕셔너리는 중괄호 {}를 사용하여 정의하며, 키와 값은 콜론(:)으로 구분됩니다.  \n",
    "dictionary = {key1:value1, key2:value2, ...}\n",
    "\n",
    "- ex)  공부(Key) : [명사] 학문이나 기술을 배우고 익힘(value)"
   ]
  },
  {
   "cell_type": "markdown",
   "metadata": {},
   "source": [
    "\n",
    "---\n",
    "## 🟢 쉬운 예제로 이해하기"
   ]
  },
  {
   "cell_type": "code",
   "execution_count": 1,
   "metadata": {},
   "outputs": [
    {
     "name": "stdout",
     "output_type": "stream",
     "text": [
      "20\n",
      "{'홍길동': 20, '김철수': 22, '이영희': 19, '박민수': 21}\n",
      "{'홍길동': 20, '이영희': 19, '박민수': 21}\n",
      "이름: 홍길동, 나이: 20\n",
      "이름: 이영희, 나이: 19\n",
      "이름: 박민수, 나이: 21\n"
     ]
    }
   ],
   "source": [
    "# 딕셔너리 (Dictionary)\n",
    "\n",
    "# 예제:\n",
    "# 학생들의 이름과 나이를 저장한 딕셔너리\n",
    "students = {\n",
    "  \"홍길동\": 20,\n",
    "  \"김철수\": 22,\n",
    "  \"이영희\": 19\n",
    "}\n",
    "\n",
    "# 딕셔너리에서 특정 키의 값을 가져오기\n",
    "print(students[\"홍길동\"])  # 출력: 20\n",
    "\n",
    "# 딕셔너리에 새로운 키-값 추가\n",
    "students[\"박민수\"] = 21\n",
    "print(students)\n",
    "\n",
    "# 딕셔너리에서 특정 키 삭제\n",
    "del students[\"김철수\"]\n",
    "print(students)\n",
    "\n",
    "# 딕셔너리의 모든 키와 값 출력\n",
    "for key, value in students.items():\n",
    "  print(f\"이름: {key}, 나이: {value}\")"
   ]
  },
  {
   "cell_type": "code",
   "execution_count": null,
   "metadata": {},
   "outputs": [
    {
     "name": "stdout",
     "output_type": "stream",
     "text": [
      "빨간색\n",
      "파란색\n",
      "초록색\n",
      "dict_keys(['red', 'blue', 'green'])\n"
     ]
    }
   ],
   "source": [
    "colors = {'red':'빨간색', 'blue':'파란색', 'green':'초록색'}\n",
    "\n",
    "print(colors['red'])\n",
    "print(colors['blue'])\n",
    "print(colors['green'])"
   ]
  },
  {
   "cell_type": "markdown",
   "metadata": {},
   "source": [
    "#### 🟡 items() / keys() / values()"
   ]
  },
  {
   "cell_type": "code",
   "execution_count": null,
   "metadata": {},
   "outputs": [
    {
     "name": "stdout",
     "output_type": "stream",
     "text": [
      "dict_items([('red', '빨간색'), ('blue', '파란색'), ('green', '초록색'), ('black', '검은색')])\n",
      "dict_keys(['red', 'blue', 'green', 'black'])\n",
      "dict_values(['빨간색', '파란색', '초록색', '검은색'])\n"
     ]
    }
   ],
   "source": [
    "print(colors.items()) # 키와 값의 목록을 보여주며, tuple 형태로 반환을 합니다.\n",
    "\n",
    "print(colors.keys()) # 키들의 목록을 보여준다.\n",
    "\n",
    "print(colors.values()) # 값들의 목록을 보여준다."
   ]
  },
  {
   "cell_type": "markdown",
   "metadata": {},
   "source": [
    "#### 🟡 add"
   ]
  },
  {
   "cell_type": "code",
   "execution_count": 11,
   "metadata": {},
   "outputs": [
    {
     "name": "stdout",
     "output_type": "stream",
     "text": [
      "{'red': '빨간색', 'blue': '파란색', 'green': '초록색', 'black': '검은색'}\n"
     ]
    }
   ],
   "source": [
    "colors2 = {'red':'빨간색', 'blue':'파란색', 'green':'초록색'}\n",
    "colors2['black'] = '검은색'\n",
    "\n",
    "print(colors2)"
   ]
  },
  {
   "cell_type": "markdown",
   "metadata": {},
   "source": [
    "#### 🟡 update"
   ]
  },
  {
   "cell_type": "code",
   "execution_count": 13,
   "metadata": {},
   "outputs": [
    {
     "name": "stdout",
     "output_type": "stream",
     "text": [
      "{'red': '적색', 'blue': '파란색', 'green': '초록색'}\n"
     ]
    }
   ],
   "source": [
    "colors3 = {'red':'빨간색', 'blue':'파란색', 'green':'초록색'}\n",
    "colors3['red'] = '적색'\n",
    "\n",
    "print(colors3)"
   ]
  },
  {
   "cell_type": "markdown",
   "metadata": {},
   "source": [
    "#### 🟡 없는 키갑의 경우 어떻게 동작하는지 보자"
   ]
  },
  {
   "cell_type": "code",
   "execution_count": null,
   "metadata": {},
   "outputs": [
    {
     "name": "stdout",
     "output_type": "stream",
     "text": [
      "pink is not exist\n"
     ]
    }
   ],
   "source": [
    "colors4 = {'red':'빨간색', 'blue':'파란색', 'green':'초록색'}\n",
    "\n",
    "# print(colors4['pink'])  # 이렇게만 하면 에러처리 뜹니다.\n",
    "\n",
    "if 'pink' in colors.keys():\n",
    "  print(colors4['pink'])\n",
    "else:  # 🔥🔥🔥🔥🔥 그냥 이렇게 에러 처리를 해버려도 된다.\n",
    "  print('pink is not exist')\n",
    "\n"
   ]
  },
  {
   "cell_type": "markdown",
   "metadata": {},
   "source": [
    "\n",
    "---\n",
    "## 🟢 제대로 해보기"
   ]
  },
  {
   "cell_type": "code",
   "execution_count": 9,
   "metadata": {},
   "outputs": [
    {
     "name": "stdout",
     "output_type": "stream",
     "text": [
      "이름: 홍길동\n",
      "나이: 20\n",
      "성별: 남자\n",
      "취미: ['독서', '영화 감상']\n",
      "직업: 학생\n",
      "홍길동\n",
      "20\n",
      "남자\n",
      "['독서', '영화 감상']\n",
      "학생\n",
      "홍길동\n",
      "20\n",
      "남자\n"
     ]
    }
   ],
   "source": [
    "person = {'이름': '홍길동', '나이': 20, '성별': '남자', '취미': ['독서', '영화 감상'], '직업': '학생'}\n",
    "\n",
    "# items() 메서드를 사용하여 딕셔너리의 모든 키-값 쌍을 출력\n",
    "for key, value in person.items():\n",
    "    print(f\"{key}: {value}\")\n",
    "\n",
    "\n",
    "# values() 메서드를 사용하여 딕셔너리의 모든 값만 출력\n",
    "for value in person.values():\n",
    "    print(value)\n",
    "\n",
    "\n",
    "print(person['이름'])  # 홍길동\n",
    "print(person['나이'])  # 20\n",
    "print(person['성별'])  # 남자"
   ]
  },
  {
   "cell_type": "code",
   "execution_count": null,
   "metadata": {},
   "outputs": [
    {
     "name": "stdout",
     "output_type": "stream",
     "text": [
      "{'이름': '홍길동', '나이': 30, '성별': '남자', '취미': ['독서', '영화 감상'], '직업': '학생'}\n"
     ]
    }
   ],
   "source": [
    "#### 🟡 change \n",
    "\n",
    "person['나이']=30 # 나이를 30으로 변경\n",
    "print(person)  "
   ]
  },
  {
   "cell_type": "code",
   "execution_count": null,
   "metadata": {},
   "outputs": [
    {
     "name": "stdout",
     "output_type": "stream",
     "text": [
      "{'이름': '김철수', '나이': 30, '성별': '여자', '취미': ['독서', '영화 감상'], '직업': '학생'}\n"
     ]
    }
   ],
   "source": [
    "#### 🟡 update\n",
    "\n",
    "person.update({'이름': '김철수', '성별': '여자'}) # 이름과 성별을 변경\n",
    "print(person)  # {'이름': '김철수', '나이': 30, '성별': '여자', '취미': ['독서', '영화 감상'], '직업': '학생'}"
   ]
  },
  {
   "cell_type": "code",
   "execution_count": null,
   "metadata": {},
   "outputs": [
    {
     "name": "stdout",
     "output_type": "stream",
     "text": [
      "{'이름': '김철수', '나이': 30, '성별': '여자', '취미': ['독서', '영화 감상']}\n"
     ]
    }
   ],
   "source": [
    "#### 🟡 pop - 특정 삭제\n",
    "\n",
    "person.pop('직업') # 직업을 삭제\n",
    "print(person)  # {'이름': '김철수', '나이': 30, '성별': '여자', '취미': ['독서', '영화 감상']}\n",
    "\n",
    "#### 🟡 popitem\n",
    "test_person_dict = {'이름': '홍길동', '나이': 20, '성별': '남자', '취미': ['독서', '영화 감상'], '직업': '학생'}  \n",
    "test_person_dict.popitem() # 마지막 키-값 쌍을 삭제\n",
    "print(test_person_dict)  # {'이름': '김철수', '나이': 30, '성별': '여자'}\n",
    "\n"
   ]
  },
  {
   "cell_type": "code",
   "execution_count": null,
   "metadata": {},
   "outputs": [
    {
     "name": "stdout",
     "output_type": "stream",
     "text": [
      "{}\n"
     ]
    }
   ],
   "source": [
    "#### 🟡 clear - 전체 삭제\n",
    "\n",
    "colors5 = {'red':'빨간색', 'blue':'파란색', 'green':'초록색'}\n",
    "\n",
    "colors5.clear() #전체 삭제\n",
    "\n",
    "print(colors5)\n"
   ]
  },
  {
   "cell_type": "code",
   "execution_count": null,
   "metadata": {},
   "outputs": [
    {
     "name": "stdout",
     "output_type": "stream",
     "text": [
      "{'이름': ['홍길동', 20, '남자'], '나이': ['홍길동', 20, '남자'], '성별': ['홍길동', 20, '남자']}\n"
     ]
    }
   ],
   "source": [
    "#### 🟡 fromkeys() 메서드를 사용하여 새로운 딕셔너리 생성\n",
    "\n",
    "# keys: 딕셔너리의 키 목록\n",
    "# value: 모든 키에 공통적으로 할당될 값 ← 중요!\n",
    "\n",
    "keys = ['이름', '나이', '성별']\n",
    "values = ['홍길동', 20, '남자']\n",
    "new_person = dict.fromkeys(keys, values)\n",
    "print(new_person)  # {'이름': ['홍길동', 20, '남자'], '나이': ['홍길동', 20, '남자'], '성별': ['홍길동', 20, '남자']}\n"
   ]
  },
  {
   "cell_type": "code",
   "execution_count": null,
   "metadata": {},
   "outputs": [
    {
     "name": "stdout",
     "output_type": "stream",
     "text": [
      "{'이름': '홍길동', '나이': 20, '성별': '남자'}\n"
     ]
    }
   ],
   "source": [
    "# zip() 함수를 사용하여 두 개의 리스트를 묶어 딕셔너리 생성\n",
    "\n",
    "keys2 = ['이름', '나이', '성별']\n",
    "values2 = ['홍길동', 20, '남자']\n",
    "new_person2 = dict(zip(keys2, values2))\n",
    "print(new_person2)  # {'이름': '홍길동', '나이': 20, '성별': '남자'}"
   ]
  },
  {
   "cell_type": "code",
   "execution_count": null,
   "metadata": {},
   "outputs": [],
   "source": [
    "# setdefault() 메서드를 사용하여 딕셔너리에 키-값 쌍 추가\n",
    "\n",
    "# setdefault(ket, value) 쌍을 추가하고, 만약 키가 이미 존재하면 기존 값을 반환\n",
    "\n",
    "person.setdefault('취미', ['독서', '영화 감상']) # 취미를 추가\n",
    "print(person)  # {'이름': '김철수', '나이': 30, '성별': '여자', '취미': ['독서', '영화 감상']}"
   ]
  }
 ],
 "metadata": {
  "kernelspec": {
   "display_name": "aiBootCamp",
   "language": "python",
   "name": "python3"
  },
  "language_info": {
   "codemirror_mode": {
    "name": "ipython",
    "version": 3
   },
   "file_extension": ".py",
   "mimetype": "text/x-python",
   "name": "python",
   "nbconvert_exporter": "python",
   "pygments_lexer": "ipython3",
   "version": "3.10.16"
  }
 },
 "nbformat": 4,
 "nbformat_minor": 2
}
