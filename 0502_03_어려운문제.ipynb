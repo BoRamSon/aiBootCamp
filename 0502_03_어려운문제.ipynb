{
 "cells": [
  {
   "cell_type": "markdown",
   "metadata": {},
   "source": [
    "# 🟩 복습2\n",
    "\n",
    "\n"
   ]
  },
  {
   "cell_type": "markdown",
   "metadata": {},
   "source": [
    "\n",
    "---\n",
    "## 🟢 1번 문제\n"
   ]
  },
  {
   "cell_type": "markdown",
   "metadata": {},
   "source": [
    "### 1번 문제 \n",
    "10 by 10  |  100개  |  1~100까지 채워서 출력하기\n"
   ]
  },
  {
   "cell_type": "markdown",
   "metadata": {},
   "source": [
    "## 🟡 같이 풀어보기"
   ]
  },
  {
   "cell_type": "code",
   "execution_count": null,
   "metadata": {},
   "outputs": [],
   "source": [
    "\n",
    "#10 by 10 100개 1~100까지 채워서 출력하기\n",
    "\n",
    "a = []\n",
    "a.append(1)\n",
    "a.append(2)\n",
    "a.append(3)\n",
    "a.append(4)\n",
    "a.append(5)\n",
    "a.append(6)\n",
    "a.append(7)\n",
    "a.append(8)\n",
    "a.append(9)\n",
    "a.append(10)  #a.append(i)\n",
    "print( a)\n",
    "\n",
    "totalList=[]\n",
    "for k in range(0,10):\n",
    "  a = []\n",
    "  for i in range(k*10+1, (k+1)*10+1):\n",
    "    a.append(i)\n",
    "  totalList.append(a)\n",
    "\n",
    "for i in range(0, 10):\n",
    "  for j in range(0, 10):\n",
    "    print(\"%4d\" % totalList[i][j], end=\"\" )\n",
    "  print()\n",
    "\n",
    "\n",
    "\n",
    "\n",
    "\n",
    "# 1 0 0  0 0 0 0 0 0 0\n",
    "# 2 3 0  0 0 0 0 0 0 0\n",
    "# 4 5 6  0 0 0 0 0 0 0\n",
    "# 7 8 9 10 0 0 0 0 0 0\n",
    "#  ..............."
   ]
  },
  {
   "cell_type": "markdown",
   "metadata": {},
   "source": [
    "\n",
    "---\n",
    "## 🟢 2번 문제\n",
    "\n",
    "### 2번 문제\n",
    "> 이렇게 만드시오!!!!  \n",
    "\n",
    "1 0 0 0 0 0 0 0 0 0  \n",
    "2 3 0 0 0 0 0 0 0 0  \n",
    "4 5 6 0 0 0 0 0 0 0  \n",
    "7 8 9 10 0 0 0 0 0 0  \n",
    ".......\n"
   ]
  },
  {
   "cell_type": "markdown",
   "metadata": {},
   "source": [
    "### 🔵 1차 시도"
   ]
  },
  {
   "cell_type": "code",
   "execution_count": 9,
   "metadata": {},
   "outputs": [
    {
     "name": "stdout",
     "output_type": "stream",
     "text": [
      "[1] 0 0 0 0 0 0 0 0 0 \n",
      "[1, 2] 0 0 0 0 0 0 0 0 \n",
      "[1, 2, 3] 0 0 0 0 0 0 0 \n",
      "[1, 2, 3, 4] 0 0 0 0 0 0 \n",
      "[1, 2, 3, 4, 5] 0 0 0 0 0 \n",
      "[1, 2, 3, 4, 5, 6] 0 0 0 0 \n",
      "[1, 2, 3, 4, 5, 6, 7] 0 0 0 \n",
      "[1, 2, 3, 4, 5, 6, 7, 8] 0 0 \n",
      "[1, 2, 3, 4, 5, 6, 7, 8, 9] 0 \n",
      "[1, 2, 3, 4, 5, 6, 7, 8, 9, 10] \n"
     ]
    }
   ],
   "source": [
    "go_list = []\n",
    "\n",
    "for i in range(1, 11):\n",
    "  for j in range(i, i+1):\n",
    "    go_list.append(j)    \n",
    "    print(go_list[:j], '0 ' * (10 - i))\n"
   ]
  },
  {
   "cell_type": "markdown",
   "metadata": {},
   "source": [
    "### 🔵 2차 시도"
   ]
  },
  {
   "cell_type": "code",
   "execution_count": null,
   "metadata": {},
   "outputs": [
    {
     "name": "stdout",
     "output_type": "stream",
     "text": [
      "1 0 0 0 0 0 0 0 0 0 \n",
      "1 0 0 0 0 0 0 0 0 \n",
      "2 0 0 0 0 0 0 0 0 \n",
      "1 0 0 0 0 0 0 0 \n",
      "2 0 0 0 0 0 0 0 \n",
      "3 0 0 0 0 0 0 0 \n",
      "1 0 0 0 0 0 0 \n",
      "2 0 0 0 0 0 0 \n",
      "3 0 0 0 0 0 0 \n",
      "4 0 0 0 0 0 0 \n",
      "1 0 0 0 0 0 \n",
      "2 0 0 0 0 0 \n",
      "3 0 0 0 0 0 \n",
      "4 0 0 0 0 0 \n",
      "5 0 0 0 0 0 \n",
      "1 0 0 0 0 \n",
      "2 0 0 0 0 \n",
      "3 0 0 0 0 \n",
      "4 0 0 0 0 \n",
      "5 0 0 0 0 \n",
      "6 0 0 0 0 \n",
      "1 0 0 0 \n",
      "2 0 0 0 \n",
      "3 0 0 0 \n",
      "4 0 0 0 \n",
      "5 0 0 0 \n",
      "6 0 0 0 \n",
      "7 0 0 0 \n",
      "1 0 0 \n",
      "2 0 0 \n",
      "3 0 0 \n",
      "4 0 0 \n",
      "5 0 0 \n",
      "6 0 0 \n",
      "7 0 0 \n",
      "8 0 0 \n",
      "1 0 \n",
      "2 0 \n",
      "3 0 \n",
      "4 0 \n",
      "5 0 \n",
      "6 0 \n",
      "7 0 \n",
      "8 0 \n",
      "9 0 \n",
      "1 \n",
      "2 \n",
      "3 \n",
      "4 \n",
      "5 \n",
      "6 \n",
      "7 \n",
      "8 \n",
      "9 \n",
      "10 \n"
     ]
    }
   ],
   "source": [
    "go_list = [1,2,3,4,5,6,7,8,9,10]\n",
    "\n",
    "for i in range(1, 11):\n",
    "  for j in range(0, i):    \n",
    "    print(go_list[j], '0 ' * (10 - i))\n"
   ]
  },
  {
   "cell_type": "markdown",
   "metadata": {},
   "source": [
    "### 🔵 3차 시도 (바보처럼 만들기)"
   ]
  },
  {
   "cell_type": "code",
   "execution_count": 38,
   "metadata": {},
   "outputs": [
    {
     "name": "stdout",
     "output_type": "stream",
     "text": [
      "[1, 0, 0, 0, 0, 0, 0, 0, 0, 0]\n",
      "[2, 3, 0, 0, 0, 0, 0, 0, 0, 0]\n",
      "[4, 5, 6, 0, 0, 0, 0, 0, 0, 0]\n",
      "[7, 8, 9, 10, 0, 0, 0, 0, 0, 0]\n"
     ]
    }
   ],
   "source": [
    "# 1 0 0 0 0 0 0 0 0 0  \n",
    "# 2 3 0 0 0 0 0 0 0 0  \n",
    "# 4 5 6 0 0 0 0 0 0 0  \n",
    "# 7 8 9 10 0 0 0 0 0 0  \n",
    "\n",
    "# p_list = []\n",
    "zero_list = [0, 0, 0, 0, 0, 0, 0, 0, 0, 0]\n",
    "\n",
    "for i in range(0, 10):\n",
    "  if i == 0:\n",
    "    zero_list[0] = i+1\n",
    "    print(zero_list)\n",
    "  if i == 1:\n",
    "    zero_list[0] = i+1\n",
    "    zero_list[1] = i+2\n",
    "    print(zero_list)\n",
    "  if i == 2:\n",
    "    zero_list[0] = i+2\n",
    "    zero_list[1] = i+3\n",
    "    zero_list[2] = i+4\n",
    "    print(zero_list)\n",
    "  if i == 3:\n",
    "    zero_list[0] = i+4\n",
    "    zero_list[1] = i+5\n",
    "    zero_list[2] = i+6\n",
    "    zero_list[3] = i+7\n",
    "    print(zero_list)\n",
    "\n",
    "\n"
   ]
  },
  {
   "cell_type": "markdown",
   "metadata": {},
   "source": [
    "\n",
    "## 🟡 같이 풀어보기"
   ]
  },
  {
   "cell_type": "code",
   "execution_count": 11,
   "metadata": {},
   "outputs": [
    {
     "name": "stdout",
     "output_type": "stream",
     "text": [
      "   1   0   0   0   0   0   0   0   0   0\n",
      "   2   3   0   0   0   0   0   0   0   0\n",
      "   4   5   6   0   0   0   0   0   0   0\n",
      "   7   8   9  10   0   0   0   0   0   0\n",
      "  11  12  13  14  15   0   0   0   0   0\n",
      "  16  17  18  19  20  21   0   0   0   0\n",
      "  22  23  24  25  26  27  28   0   0   0\n",
      "  29  30  31  32  33  34  35  36   0   0\n",
      "  37  38  39  40  41  42  43  44  45   0\n",
      "  46  47  48  49  50  51  52  53  54  55\n"
     ]
    }
   ],
   "source": [
    "totalList=[]\n",
    "kk=1\n",
    "for k in range(0,10):\n",
    "  a = []\n",
    "  for i in range(0, 10):\n",
    "    if i < (k+1):\n",
    "      a.append(kk)\n",
    "      kk+=1\n",
    "    else:\n",
    "      a.append(0)\n",
    "  totalList.append(a)\n",
    "\n",
    "for i in range(0, 10):\n",
    "  for j in range(0, 10):\n",
    "    print(\"%4d\" % totalList[i][j], end=\"\" )\n",
    "  print()\n",
    "\n"
   ]
  }
 ],
 "metadata": {
  "kernelspec": {
   "display_name": "aiBootCamp",
   "language": "python",
   "name": "python3"
  },
  "language_info": {
   "codemirror_mode": {
    "name": "ipython",
    "version": 3
   },
   "file_extension": ".py",
   "mimetype": "text/x-python",
   "name": "python",
   "nbconvert_exporter": "python",
   "pygments_lexer": "ipython3",
   "version": "3.10.16"
  }
 },
 "nbformat": 4,
 "nbformat_minor": 2
}
